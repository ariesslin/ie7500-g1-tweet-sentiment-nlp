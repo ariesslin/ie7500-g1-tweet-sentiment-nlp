{
  "cells": [
    {
      "cell_type": "markdown",
      "metadata": {
        "id": "view-in-github",
        "colab_type": "text"
      },
      "source": [
        "<a href=\"https://colab.research.google.com/github/ariesslin/ie7500-g1-tweet-sentiment-nlp/blob/main/scripts/3.%20Model%20Development.ipynb\" target=\"_parent\"><img src=\"https://colab.research.google.com/assets/colab-badge.svg\" alt=\"Open In Colab\"/></a>"
      ]
    },
    {
      "cell_type": "markdown",
      "source": [
        "## !!!! WIP !!!! dont use this!!!"
      ],
      "metadata": {
        "id": "0SvihQY6aJI1"
      },
      "id": "0SvihQY6aJI1"
    },
    {
      "cell_type": "markdown",
      "id": "10d67c03-2ae7-41f6-81d0-56fe632ece80",
      "metadata": {
        "id": "10d67c03-2ae7-41f6-81d0-56fe632ece80"
      },
      "source": [
        "<div style=\"background-color:#e6f2ff; border-left:8px solid #0059b3; padding:20px; margin:20px 0;\">\n",
        "  <h2 style=\"color:#003366;\"><strong>3. Model Development</strong></h2>\n",
        "  <p style=\"color:#333333;\">Model Selection and Preliminary Performance Testing</p>\n",
        "</div>"
      ]
    },
    {
      "cell_type": "markdown",
      "source": [
        "The selection of TF-IDF + Logistic Regression, LSTM, and BERT for sentiment analysis of tweets is grounded in both established research and best practices in natural language processing. TF-IDF combined with Logistic Regression provides a strong and interpretable baseline, particularly effective for sparse and high-dimensional text data like tweets (Ramos, 2003; Wang & Manning, 2012). It has been widely used in sentiment analysis tasks due to its simplicity and effectiveness in capturing word importance without sequence modeling. LSTM (Long Short-Term Memory) networks, introduced by Hochreiter & Schmidhuber (1997), are well-suited for handling the sequential nature of text and capturing long-term dependencies, which enhances performance on informal and context-sensitive content such as tweets (Zhou et al., 2016). BERT (Bidirectional Encoder Representations from Transformers) by Devlin et al. (2019) represents the state-of-the-art in many NLP tasks, including sentiment analysis, due to its deep contextual understanding and bidirectional attention mechanism, making it particularly effective for nuanced sentiment interpretation in short texts. This multi-model evaluation approach allows us to compare performance across lexical, sequential, and contextual modeling strategies. Only after testing all three will we select the best-performing model based on predefined evaluation metrics, followed by full-scale training and final evaluation, as recommended in model selection best practices (Sammut & Webb, 2017; Zhang et al., 2021). This ensures robustness, fairness, and optimal utilization of resources.\n",
        "\n",
        "**References:**\n",
        "\n",
        "* Ramos, J. (2003). Using TF-IDF to determine word relevance in document queries.\n",
        "* Wang, S., & Manning, C. D. (2012). Baselines and Bigrams: Simple, Good Sentiment and Topic Classification.\n",
        "* Hochreiter, S., & Schmidhuber, J. (1997). Long short-term memory. Neural Computation.\n",
        "* Zhou, P., et al. (2016). Attention-Based Bidirectional LSTM Networks for Relation Classification.\n",
        "* Devlin, J., et al. (2019). BERT: Pre-training of Deep Bidirectional Transformers for Language Understanding.\n",
        "* Sammut, C., & Webb, G. I. (2017). Encyclopedia of Machine Learning and Data Mining.\n",
        "* Zhang, Y., et al. (2021). A Comprehensive Review on Deep Learning for Text Classification.\n"
      ],
      "metadata": {
        "id": "bOElrufQWr4t"
      },
      "id": "bOElrufQWr4t"
    },
    {
      "cell_type": "markdown",
      "id": "5ad9fdb6-b723-469c-a345-f2bbed6055a6",
      "metadata": {
        "id": "5ad9fdb6-b723-469c-a345-f2bbed6055a6"
      },
      "source": [
        "## Model Development\n",
        "\n",
        "Following thorough exploratory data analysis and data preprocessing, we now move into the model development phase. The objective is to evaluate different machine learning and deep learning architectures to classify tweet sentiment effectively using the Sentiment140 dataset.\n",
        "\n",
        "Given the informal and brief nature of tweets, sentiment classification presents unique challenges: sparse context, slang, emojis, abbreviations, and inconsistent punctuation. To address these, we explore a spectrum of model complexities — from classical linear models to deep language models — to assess their performance, interpretability, and scalability.\n",
        "\n",
        "The following models will be implemented and compared:\n",
        "\n",
        "- **TF-IDF + Logistic Regression**: A classical baseline that leverages term frequency and inverse document frequency to convert text into numeric features before applying a simple, interpretable classifier.\n",
        "- **Bidirectional LSTM**: A recurrent neural network capable of capturing long-term dependencies and understanding contextual flow in short, noisy texts.\n",
        "- **DistilBERT**: A distilled transformer model pretrained on large corpora, providing state-of-the-art performance in many NLP tasks, including sentiment analysis.\n",
        "\n",
        "Each model will be trained using the preprocessed dataset, and evaluated on the validation and test sets. Evaluation metrics include:\n",
        "\n",
        "- **Accuracy**  \n",
        "- **Precision, Recall, F1-Score**  \n",
        "- **Confusion Matrix**  \n",
        "- **Training time and resource cost**\n",
        "\n",
        "This multi-model comparison aims to answer:\n",
        "\n",
        "- Which model best captures sentiment from tweets?\n",
        "- What are the trade-offs between speed, complexity, and accuracy?\n",
        "- Which model generalizes best to unseen real-world tweet data?\n",
        "\n",
        "The results will guide practical model selection for sentiment-sensitive applications in finance, customer experience monitoring, and public policy analysis.\n"
      ]
    },
    {
      "cell_type": "code",
      "execution_count": 1,
      "id": "iYXzu-fYlmTw",
      "metadata": {
        "id": "iYXzu-fYlmTw"
      },
      "outputs": [],
      "source": [
        "# importing all libraries here\n",
        "\n",
        "import pandas as pd\n",
        "import seaborn as sns\n",
        "import matplotlib.pyplot as plt\n",
        "from sklearn.model_selection import train_test_split\n",
        "from sklearn.feature_extraction.text import TfidfVectorizer\n",
        "from sklearn.linear_model import LogisticRegression\n",
        "from sklearn.metrics import accuracy_score, precision_score, recall_score, f1_score, confusion_matrix, roc_curve, auc\n",
        "import gdown\n",
        "import os\n",
        "from tensorflow.keras.callbacks import ReduceLROnPlateau\n",
        "import zipfile\n",
        "import requests\n",
        "import io"
      ]
    },
    {
      "cell_type": "code",
      "source": [
        "# GitHub raw link (valid after Git commit/push)\n",
        "zip_url = \"https://raw.githubusercontent.com/ariesslin/ie7500-g1-tweet-sentiment-nlp/main/processed_data/sentiment140_splits.zip\"\n",
        "\n",
        "# Download the zip\n",
        "response = requests.get(zip_url)\n",
        "if response.status_code != 200:\n",
        "    raise Exception(f\"Failed to download. Status code: {response.status_code}\")\n",
        "\n",
        "# Extract only training data\n",
        "with zipfile.ZipFile(io.BytesIO(response.content)) as zip_ref:\n",
        "    zip_ref.extract(\"train_dataset.csv\", path=\"processed_data\")\n",
        "    print(\"Extracted train_dataset.csv\")\n",
        "\n",
        "# Load into DataFrame\n",
        "train_df = pd.read_csv(\"processed_data/train_dataset.csv\")\n",
        "print(\"Train shape:\", train_df.shape)"
      ],
      "metadata": {
        "id": "S5wouQCxQ-MS",
        "outputId": "6d825909-67ac-4537-a67e-71564bf09c3e",
        "colab": {
          "base_uri": "https://localhost:8080/",
          "height": 211
        }
      },
      "id": "S5wouQCxQ-MS",
      "execution_count": 5,
      "outputs": [
        {
          "output_type": "error",
          "ename": "Exception",
          "evalue": "Failed to download. Status code: 404",
          "traceback": [
            "\u001b[0;31m---------------------------------------------------------------------------\u001b[0m",
            "\u001b[0;31mException\u001b[0m                                 Traceback (most recent call last)",
            "\u001b[0;32m/tmp/ipython-input-5-1865191527.py\u001b[0m in \u001b[0;36m<cell line: 0>\u001b[0;34m()\u001b[0m\n\u001b[1;32m      5\u001b[0m \u001b[0mresponse\u001b[0m \u001b[0;34m=\u001b[0m \u001b[0mrequests\u001b[0m\u001b[0;34m.\u001b[0m\u001b[0mget\u001b[0m\u001b[0;34m(\u001b[0m\u001b[0mzip_url\u001b[0m\u001b[0;34m)\u001b[0m\u001b[0;34m\u001b[0m\u001b[0;34m\u001b[0m\u001b[0m\n\u001b[1;32m      6\u001b[0m \u001b[0;32mif\u001b[0m \u001b[0mresponse\u001b[0m\u001b[0;34m.\u001b[0m\u001b[0mstatus_code\u001b[0m \u001b[0;34m!=\u001b[0m \u001b[0;36m200\u001b[0m\u001b[0;34m:\u001b[0m\u001b[0;34m\u001b[0m\u001b[0;34m\u001b[0m\u001b[0m\n\u001b[0;32m----> 7\u001b[0;31m     \u001b[0;32mraise\u001b[0m \u001b[0mException\u001b[0m\u001b[0;34m(\u001b[0m\u001b[0;34mf\"Failed to download. Status code: {response.status_code}\"\u001b[0m\u001b[0;34m)\u001b[0m\u001b[0;34m\u001b[0m\u001b[0;34m\u001b[0m\u001b[0m\n\u001b[0m\u001b[1;32m      8\u001b[0m \u001b[0;34m\u001b[0m\u001b[0m\n\u001b[1;32m      9\u001b[0m \u001b[0;31m# Extract only training data\u001b[0m\u001b[0;34m\u001b[0m\u001b[0;34m\u001b[0m\u001b[0m\n",
            "\u001b[0;31mException\u001b[0m: Failed to download. Status code: 404"
          ]
        }
      ]
    },
    {
      "cell_type": "code",
      "source": [
        "# GitHub raw URL to the zip file\n",
        "zip_url = \"https://raw.githubusercontent.com/ariesslin/ie7500-g1-tweet-sentiment-nlp/main/processed_data/train_dataset_comp.zip\"\n",
        "\n",
        "# Download the zip file from GitHub\n",
        "response = requests.get(zip_url)\n",
        "if response.status_code != 200:\n",
        "    raise Exception(f\" Failed to download zip file. Status code: {response.status_code}\")\n",
        "\n",
        "# Extract only 'train_dataset.csv'\n",
        "with zipfile.ZipFile(io.BytesIO(response.content)) as zip_ref:\n",
        "    if \"train_dataset.csv\" in zip_ref.namelist():\n",
        "        zip_ref.extract(\"train_dataset.csv\", path=\"processed_data\")\n",
        "        print(\"'train_dataset.csv' extracted successfully.\")\n",
        "    else:\n",
        "        raise FileNotFoundError(\"'train_dataset.csv' not found in the zip archive.\")\n",
        "\n",
        "# Load the dataset\n",
        "train_df = pd.read_csv(\"processed_data/train_dataset.csv\")\n",
        "print(f\"Loaded training data with shape: {train_df.shape}\")\n"
      ],
      "metadata": {
        "id": "fRsQ4RNcQLQ7",
        "outputId": "627426f2-4416-405c-a4b7-f145a6837b1a",
        "colab": {
          "base_uri": "https://localhost:8080/",
          "height": 211
        }
      },
      "id": "fRsQ4RNcQLQ7",
      "execution_count": 3,
      "outputs": [
        {
          "output_type": "error",
          "ename": "Exception",
          "evalue": " Failed to download zip file. Status code: 404",
          "traceback": [
            "\u001b[0;31m---------------------------------------------------------------------------\u001b[0m",
            "\u001b[0;31mException\u001b[0m                                 Traceback (most recent call last)",
            "\u001b[0;32m/tmp/ipython-input-3-108221560.py\u001b[0m in \u001b[0;36m<cell line: 0>\u001b[0;34m()\u001b[0m\n\u001b[1;32m      5\u001b[0m \u001b[0mresponse\u001b[0m \u001b[0;34m=\u001b[0m \u001b[0mrequests\u001b[0m\u001b[0;34m.\u001b[0m\u001b[0mget\u001b[0m\u001b[0;34m(\u001b[0m\u001b[0mzip_url\u001b[0m\u001b[0;34m)\u001b[0m\u001b[0;34m\u001b[0m\u001b[0;34m\u001b[0m\u001b[0m\n\u001b[1;32m      6\u001b[0m \u001b[0;32mif\u001b[0m \u001b[0mresponse\u001b[0m\u001b[0;34m.\u001b[0m\u001b[0mstatus_code\u001b[0m \u001b[0;34m!=\u001b[0m \u001b[0;36m200\u001b[0m\u001b[0;34m:\u001b[0m\u001b[0;34m\u001b[0m\u001b[0;34m\u001b[0m\u001b[0m\n\u001b[0;32m----> 7\u001b[0;31m     \u001b[0;32mraise\u001b[0m \u001b[0mException\u001b[0m\u001b[0;34m(\u001b[0m\u001b[0;34mf\" Failed to download zip file. Status code: {response.status_code}\"\u001b[0m\u001b[0;34m)\u001b[0m\u001b[0;34m\u001b[0m\u001b[0;34m\u001b[0m\u001b[0m\n\u001b[0m\u001b[1;32m      8\u001b[0m \u001b[0;34m\u001b[0m\u001b[0m\n\u001b[1;32m      9\u001b[0m \u001b[0;31m# Extract only 'train_dataset.csv'\u001b[0m\u001b[0;34m\u001b[0m\u001b[0;34m\u001b[0m\u001b[0m\n",
            "\u001b[0;31mException\u001b[0m:  Failed to download zip file. Status code: 404"
          ]
        }
      ]
    },
    {
      "cell_type": "code",
      "execution_count": null,
      "id": "f8f6a331-ac35-4764-b7a4-47f698522c51",
      "metadata": {
        "colab": {
          "base_uri": "https://localhost:8080/",
          "height": 107
        },
        "id": "f8f6a331-ac35-4764-b7a4-47f698522c51",
        "outputId": "baf15857-25fb-4054-afed-459bca873f74"
      },
      "outputs": [
        {
          "name": "stdout",
          "output_type": "stream",
          "text": [
            "Next, let's load the processed data saved in previous steps\n"
          ]
        }
      ],
      "source": [
        "# Here, we begin by loading the processed dataset\n",
        "\n",
        "# Unzip the dataset\n",
        "with zipfile.ZipFile(\"processed_data/sentiment140_splits.zip\", 'r') as zip_ref:\n",
        "    zip_ref.extractall(\"processed_data\")\n",
        "\n",
        "# Load the CSVs into DataFrames\n",
        "train_df = pd.read_csv(\"processed_data/train_dataset.csv\")\n",
        "val_df = pd.read_csv(\"processed_data/val_dataset.csv\")\n",
        "test_df = pd.read_csv(\"processed_data/test_dataset.csv\")\n",
        "\n",
        "print(\"Processed datasets successfully loaded.\")\n",
        "print(f\"Train shape: {train_df.shape}\")\n",
        "print(f\"Validation shape: {val_df.shape}\")\n",
        "print(f\"Test shape: {test_df.shape}\")\n"
      ]
    },
    {
      "cell_type": "code",
      "execution_count": null,
      "id": "2ba8da74-abb8-45b1-a637-e57386b02a33",
      "metadata": {
        "colab": {
          "base_uri": "https://localhost:8080/",
          "height": 242
        },
        "id": "2ba8da74-abb8-45b1-a637-e57386b02a33",
        "outputId": "749a9f6f-3289-4ef1-cb0e-94b6d7fb8cb2"
      },
      "outputs": [
        {
          "name": "stderr",
          "output_type": "stream",
          "text": [
            "/var/folders/5m/q16b86r92zgbmjpxpdx4ghfw0000gn/T/ipykernel_1799/2798388662.py:3: DtypeWarning: Columns (1) have mixed types. Specify dtype option on import or set low_memory=False.\n",
            "  Tweets = pd.read_csv(\"../processed_data/preprocessed_tweets.csv\", header=None, names=[\"text\", \"target\"])\n"
          ]
        },
        {
          "data": {
            "text/html": [
              "<div>\n",
              "<style scoped>\n",
              "    .dataframe tbody tr th:only-of-type {\n",
              "        vertical-align: middle;\n",
              "    }\n",
              "\n",
              "    .dataframe tbody tr th {\n",
              "        vertical-align: top;\n",
              "    }\n",
              "\n",
              "    .dataframe thead th {\n",
              "        text-align: right;\n",
              "    }\n",
              "</style>\n",
              "<table border=\"1\" class=\"dataframe\">\n",
              "  <thead>\n",
              "    <tr style=\"text-align: right;\">\n",
              "      <th></th>\n",
              "      <th>text</th>\n",
              "      <th>target</th>\n",
              "    </tr>\n",
              "  </thead>\n",
              "  <tbody>\n",
              "    <tr>\n",
              "      <th>0</th>\n",
              "      <td>text</td>\n",
              "      <td>target</td>\n",
              "    </tr>\n",
              "    <tr>\n",
              "      <th>1</th>\n",
              "      <td>mentionuser thats bummer shoulda got david car...</td>\n",
              "      <td>0</td>\n",
              "    </tr>\n",
              "    <tr>\n",
              "      <th>2</th>\n",
              "      <td>upset cant update facebook texting might cry r...</td>\n",
              "      <td>0</td>\n",
              "    </tr>\n",
              "    <tr>\n",
              "      <th>3</th>\n",
              "      <td>mentionuser dived many time ball managed save ...</td>\n",
              "      <td>0</td>\n",
              "    </tr>\n",
              "    <tr>\n",
              "      <th>4</th>\n",
              "      <td>whole body feel itchy like fire</td>\n",
              "      <td>0</td>\n",
              "    </tr>\n",
              "  </tbody>\n",
              "</table>\n",
              "</div>"
            ],
            "text/plain": [
              "                                                text  target\n",
              "0                                               text  target\n",
              "1  mentionuser thats bummer shoulda got david car...       0\n",
              "2  upset cant update facebook texting might cry r...       0\n",
              "3  mentionuser dived many time ball managed save ...       0\n",
              "4                    whole body feel itchy like fire       0"
            ]
          },
          "execution_count": 43,
          "metadata": {},
          "output_type": "execute_result"
        }
      ],
      "source": [
        "# Read the preprocessed tweet dataset and assign column names\n",
        "#Tweets = pd.read_csv(\"../data/preprocessed_tweets.csv\", header=None, names=[\"text\", \"target\"])\n",
        "Tweets = pd.read_csv(\"../processed_data/preprocessed_tweets.csv\", header=None, names=[\"text\", \"target\"])\n",
        "\n",
        "# Drop any rows where 'text' or 'target' is null\n",
        "Tweets = Tweets.dropna(subset=[\"text\", \"target\"])\n",
        "\n",
        "# Replace 'MENTION' with 'mentionuser' in the 'text' column\n",
        "Tweets['text'] = Tweets['text'].str.replace('MENTION', 'mentionuser', regex=False)\n",
        "\n",
        "\n",
        "Tweets.head()"
      ]
    },
    {
      "cell_type": "markdown",
      "id": "NfmIEPPkkeyd",
      "metadata": {
        "id": "NfmIEPPkkeyd"
      },
      "source": [
        "#### Next we take first 70% of each negative and positive tweets for training, 15% for validation, and 15% for testing.\n",
        "Sampling sould be done in a way that respects tweets length distribution.\n",
        "\n",
        "This way we make sure all models are trained and validated using the same dataset and we have a good ground for fair comparison.\n",
        "\n",
        "This step is valid because we showed in EDA section that negative and positive tewwts are equally distributed."
      ]
    },
    {
      "cell_type": "code",
      "execution_count": null,
      "id": "fXfKl95mkCwK",
      "metadata": {
        "colab": {
          "base_uri": "https://localhost:8080/"
        },
        "id": "fXfKl95mkCwK",
        "outputId": "32004fc9-51e0-4fdb-da8a-c5d9259aaac9"
      },
      "outputs": [
        {
          "name": "stdout",
          "output_type": "stream",
          "text": [
            "Train shape: (936183, 3)\n",
            "Validation shape: (200611, 3)\n",
            "Test shape: (200612, 3)\n",
            "X_train shape: (936183,) | y_train shape: (936183,)\n",
            "X_val shape: (200611,) | y_val shape: (200611,)\n",
            "X_test shape: (200612,) | y_test shape: (200612,)\n"
          ]
        }
      ],
      "source": [
        "# Define bins and labels from the bar chart in our EDA\n",
        "bin_edges = [0, 20, 40, 60, 80, 100, 120, 140]\n",
        "bin_labels = ['0–20', '21–40', '41–60', '61–80', '81–100', '101–120', '121–140']\n",
        "\n",
        "# Step 1: Assign length buckets safely\n",
        "def assign_length_buckets(df):\n",
        "    df = df.copy()\n",
        "    df['text'] = df['text'].fillna('').astype(str)  # Ensure no NaNs\n",
        "    df['text_length'] = df['text'].str.len()\n",
        "    df['length_bucket'] = pd.cut(\n",
        "        df['text_length'],\n",
        "        bins=bin_edges,\n",
        "        labels=bin_labels,\n",
        "        right=True,\n",
        "        include_lowest=True\n",
        "    )\n",
        "    df = df.dropna(subset=['length_bucket'])  # Drop any that didn't fall in bin\n",
        "    return df\n",
        "\n",
        "# Step 2: Stratified split function\n",
        "def stratified_split_by_length_bucket(df_class, train_ratio=0.7, val_ratio=0.15, test_ratio=0.15):\n",
        "    df_class = assign_length_buckets(df_class)\n",
        "\n",
        "    # Split into train and temp\n",
        "    train_df, temp_df = train_test_split(\n",
        "        df_class,\n",
        "        test_size=1 - train_ratio,\n",
        "        stratify=df_class['length_bucket'],\n",
        "        random_state=42\n",
        "    )\n",
        "\n",
        "    # Split temp into validation and test\n",
        "    val_ratio_adjusted = val_ratio / (val_ratio + test_ratio)\n",
        "    val_df, test_df = train_test_split(\n",
        "        temp_df,\n",
        "        test_size=1 - val_ratio_adjusted,\n",
        "        stratify=temp_df['length_bucket'],\n",
        "        random_state=42\n",
        "    )\n",
        "\n",
        "    return train_df.drop(columns='length_bucket'), val_df.drop(columns='length_bucket'), test_df.drop(columns='length_bucket')\n",
        "\n",
        "# Step 3: Filter by sentiment\n",
        "df_neg = Tweets[Tweets['target'] == 0]\n",
        "df_pos = Tweets[Tweets['target'] == 4]\n",
        "\n",
        "# Step 4: Apply stratified splitting\n",
        "neg_train, neg_val, neg_test = stratified_split_by_length_bucket(df_neg)\n",
        "pos_train, pos_val, pos_test = stratified_split_by_length_bucket(df_pos)\n",
        "\n",
        "# Step 5: Combine and shuffle\n",
        "train_df = pd.concat([neg_train, pos_train]).sample(frac=1, random_state=42).reset_index(drop=True)\n",
        "val_df = pd.concat([neg_val, pos_val]).sample(frac=1, random_state=42).reset_index(drop=True)\n",
        "test_df = pd.concat([neg_test, pos_test]).sample(frac=1, random_state=42).reset_index(drop=True)\n",
        "\n",
        "# Step 6: Extract input and labels\n",
        "X_train = train_df['text']\n",
        "y_train = train_df['target']\n",
        "X_val = val_df['text']\n",
        "y_val = val_df['target']\n",
        "X_test = test_df['text']\n",
        "y_test = test_df['target']\n",
        "\n",
        "# Final check\n",
        "print(\"Train shape:\", train_df.shape)\n",
        "print(\"Validation shape:\", val_df.shape)\n",
        "print(\"Test shape:\", test_df.shape)\n",
        "print(\"X_train shape:\", X_train.shape, \"| y_train shape:\", y_train.shape)\n",
        "print(\"X_val shape:\", X_val.shape, \"| y_val shape:\", y_val.shape)\n",
        "print(\"X_test shape:\", X_test.shape, \"| y_test shape:\", y_test.shape)\n"
      ]
    },
    {
      "cell_type": "code",
      "execution_count": null,
      "id": "xR0QU6tft5l2",
      "metadata": {
        "colab": {
          "base_uri": "https://localhost:8080/",
          "height": 457
        },
        "id": "xR0QU6tft5l2",
        "outputId": "5ce93df3-66a8-4376-afe9-7cb2a7e7ebff"
      },
      "outputs": [
        {
          "data": {
            "image/png": "[encoded data removed]",
            "text/plain": [
              "<Figure size 1800x600 with 3 Axes>"
            ]
          },
          "metadata": {},
          "output_type": "display_data"
        }
      ],
      "source": [
        "# here we validate the distributions are identical and intact\n",
        "\n",
        "# Combine text + label for plotting, and calculate text length\n",
        "train_plot_df = pd.concat([X_train, y_train], axis=1).copy()\n",
        "val_plot_df = pd.concat([X_val, y_val], axis=1).copy()\n",
        "test_plot_df = pd.concat([X_test, y_test], axis=1).copy()\n",
        "\n",
        "# Ensure text_length column is present\n",
        "train_plot_df['text_length'] = train_plot_df['text'].str.len()\n",
        "val_plot_df['text_length'] = val_plot_df['text'].str.len()\n",
        "test_plot_df['text_length'] = test_plot_df['text'].str.len()\n",
        "\n",
        "# Ensure 'target' is integer (not string) for palette mapping\n",
        "train_plot_df['target'] = train_plot_df['target'].astype(int)\n",
        "val_plot_df['target'] = val_plot_df['target'].astype(int)\n",
        "test_plot_df['target'] = test_plot_df['target'].astype(int)\n",
        "\n",
        "# Define sentiment color palette\n",
        "sentiment_palette = {\n",
        "    0: '#fc8d62',  # Negative\n",
        "    4: '#66c2a5'   # Positive\n",
        "}\n",
        "\n",
        "# Set up subplot layout\n",
        "fig, axes = plt.subplots(1, 3, figsize=(18, 6), sharey=True)\n",
        "\n",
        "# Plot train\n",
        "sns.violinplot(ax=axes[0], data=train_plot_df, x='target', y='text_length', hue='target', palette=sentiment_palette, inner='quartile', legend=False)\n",
        "axes[0].set_title('Train Set')\n",
        "axes[0].set_xlabel('Sentiment')\n",
        "axes[0].set_xticks([0, 1])\n",
        "axes[0].set_xticklabels(['Negative (0)', 'Positive (4)'])\n",
        "\n",
        "# Plot validation\n",
        "sns.violinplot(ax=axes[1], data=val_plot_df, x='target', y='text_length', hue='target', palette=sentiment_palette, inner='quartile', legend=False)\n",
        "axes[1].set_title('Validation Set')\n",
        "axes[1].set_xlabel('Sentiment')\n",
        "axes[1].set_xticks([0, 1])\n",
        "axes[1].set_xticklabels(['Negative (0)', 'Positive (4)'])\n",
        "\n",
        "# Plot test\n",
        "sns.violinplot(ax=axes[2], data=test_plot_df, x='target', y='text_length', hue='target', palette=sentiment_palette, inner='quartile', legend=False)\n",
        "axes[2].set_title('Test Set')\n",
        "axes[2].set_xlabel('Sentiment')\n",
        "axes[2].set_xticks([0, 1])\n",
        "axes[2].set_xticklabels(['Negative (0)', 'Positive (4)'])\n",
        "\n",
        "# Shared Y-label and layout\n",
        "fig.supylabel('Tweet Length (characters)', fontsize=12)\n",
        "plt.suptitle(\"Tweet Length Distribution by Sentiment Across Splits\", fontsize=16, fontweight='bold')\n",
        "plt.tight_layout(rect=[0, 0, 1, 0.95])\n",
        "plt.show()"
      ]
    },
    {
      "cell_type": "markdown",
      "id": "Rzg0gE-8vxA6",
      "metadata": {
        "id": "Rzg0gE-8vxA6"
      },
      "source": [
        "### After we made sure we have good and valid splits, we now move on to modeling part, where we will only use training and validation set for model comparison and selection, ***testing dataset will only be used in model performance evaluation section***"
      ]
    },
    {
      "cell_type": "markdown",
      "id": "82172ce7-5869-4448-8c89-3e9450c1e426",
      "metadata": {
        "id": "82172ce7-5869-4448-8c89-3e9450c1e426"
      },
      "source": [
        "\n",
        "<div style=\"background-color:#e6f2ff; border-left:8px solid #0059b3; padding:20px; margin:20px 0;\">\n",
        "  <h2 style=\"color:#003366;\"><strong>4.1 Baseline Model – TF-IDF + Logistic Regression</strong></h2>\n",
        "  <p style=\"color:#333333;\">TF-IDF vectorization + logistic regression as a benchmark.</p>\n",
        "</div>\n"
      ]
    },
    {
      "cell_type": "code",
      "execution_count": null,
      "id": "07efb030-35ad-4e70-9186-b72e6bd676ec",
      "metadata": {
        "id": "07efb030-35ad-4e70-9186-b72e6bd676ec"
      },
      "outputs": [],
      "source": [
        "import pandas as pd\n",
        "import numpy as np\n",
        "from sklearn.feature_extraction.text import TfidfVectorizer\n",
        "from sklearn.linear_model import LogisticRegression\n",
        "from sklearn.model_selection import train_test_split\n",
        "from sklearn.metrics import classification_report, accuracy_score\n",
        "from sklearn.pipeline import Pipeline\n",
        "import re\n",
        "from nltk.corpus import stopwords\n",
        "from nltk.stem import WordNetLemmatizer\n",
        "import nltk"
      ]
    },
    {
      "cell_type": "code",
      "execution_count": null,
      "id": "jTxphGGkTnOh",
      "metadata": {
        "colab": {
          "base_uri": "https://localhost:8080/"
        },
        "id": "jTxphGGkTnOh",
        "outputId": "95773f42-e1f5-4e5c-8cb0-25644381d512"
      },
      "outputs": [
        {
          "name": "stderr",
          "output_type": "stream",
          "text": [
            "[nltk_data] Downloading package stopwords to\n",
            "[nltk_data]     /Users/ariesslin/nltk_data...\n",
            "[nltk_data]   Package stopwords is already up-to-date!\n",
            "[nltk_data] Downloading package wordnet to\n",
            "[nltk_data]     /Users/ariesslin/nltk_data...\n",
            "[nltk_data]   Package wordnet is already up-to-date!\n",
            "[nltk_data] Downloading package omw-1.4 to\n",
            "[nltk_data]     /Users/ariesslin/nltk_data...\n",
            "[nltk_data]   Package omw-1.4 is already up-to-date!\n"
          ]
        },
        {
          "data": {
            "text/plain": [
              "True"
            ]
          },
          "execution_count": 47,
          "metadata": {},
          "output_type": "execute_result"
        }
      ],
      "source": [
        "# Download NLTK resources\n",
        "nltk.download('stopwords')\n",
        "nltk.download('wordnet')\n",
        "nltk.download('omw-1.4')"
      ]
    },
    {
      "cell_type": "code",
      "execution_count": null,
      "id": "W3so7EAITnAo",
      "metadata": {
        "id": "W3so7EAITnAo"
      },
      "outputs": [],
      "source": [
        "# Preprocessing function\n",
        "def preprocess_text(text):\n",
        "    # Convert to lowercase\n",
        "    text = text.lower()\n",
        "    # Remove URLs\n",
        "    text = re.sub(r'http\\S+|www\\S+|https\\S+', '', text, flags=re.MULTILINE)\n",
        "    # Remove user mentions\n",
        "    text = re.sub(r'@\\w+', '', text)\n",
        "    # Remove special characters and numbers\n",
        "    text = re.sub(r'[^a-zA-Z\\s]', '', text)\n",
        "    # Remove extra whitespace\n",
        "    text = re.sub(r'\\s+', ' ', text).strip()\n",
        "\n",
        "    # Tokenization and stopword removal\n",
        "    tokens = text.split()\n",
        "    stop_words = set(stopwords.words('english'))\n",
        "    tokens = [word for word in tokens if word not in stop_words]\n",
        "\n",
        "    # Lemmatization\n",
        "    lemmatizer = WordNetLemmatizer()\n",
        "    tokens = [lemmatizer.lemmatize(word) for word in tokens]\n",
        "    return ' '.join(tokens)"
      ]
    },
    {
      "cell_type": "code",
      "execution_count": null,
      "id": "_q-5p6kfnD5y",
      "metadata": {
        "colab": {
          "base_uri": "https://localhost:8080/",
          "height": 206
        },
        "id": "_q-5p6kfnD5y",
        "outputId": "faea0a0a-24df-4cd8-af4f-2fa624db5a11"
      },
      "outputs": [
        {
          "data": {
            "text/html": [
              "<div>\n",
              "<style scoped>\n",
              "    .dataframe tbody tr th:only-of-type {\n",
              "        vertical-align: middle;\n",
              "    }\n",
              "\n",
              "    .dataframe tbody tr th {\n",
              "        vertical-align: top;\n",
              "    }\n",
              "\n",
              "    .dataframe thead th {\n",
              "        text-align: right;\n",
              "    }\n",
              "</style>\n",
              "<table border=\"1\" class=\"dataframe\">\n",
              "  <thead>\n",
              "    <tr style=\"text-align: right;\">\n",
              "      <th></th>\n",
              "      <th>text</th>\n",
              "      <th>target</th>\n",
              "    </tr>\n",
              "  </thead>\n",
              "  <tbody>\n",
              "    <tr>\n",
              "      <th>0</th>\n",
              "      <td>text</td>\n",
              "      <td>target</td>\n",
              "    </tr>\n",
              "    <tr>\n",
              "      <th>1</th>\n",
              "      <td>mentionuser thats bummer shoulda got david car...</td>\n",
              "      <td>0</td>\n",
              "    </tr>\n",
              "    <tr>\n",
              "      <th>2</th>\n",
              "      <td>upset cant update facebook texting might cry r...</td>\n",
              "      <td>0</td>\n",
              "    </tr>\n",
              "    <tr>\n",
              "      <th>3</th>\n",
              "      <td>mentionuser dived many time ball managed save ...</td>\n",
              "      <td>0</td>\n",
              "    </tr>\n",
              "    <tr>\n",
              "      <th>4</th>\n",
              "      <td>whole body feel itchy like fire</td>\n",
              "      <td>0</td>\n",
              "    </tr>\n",
              "  </tbody>\n",
              "</table>\n",
              "</div>"
            ],
            "text/plain": [
              "                                                text  target\n",
              "0                                               text  target\n",
              "1  mentionuser thats bummer shoulda got david car...       0\n",
              "2  upset cant update facebook texting might cry r...       0\n",
              "3  mentionuser dived many time ball managed save ...       0\n",
              "4                    whole body feel itchy like fire       0"
            ]
          },
          "execution_count": 49,
          "metadata": {},
          "output_type": "execute_result"
        }
      ],
      "source": [
        "# Load dataset from the preprocessed data\n",
        "Tweets_copy_df = Tweets.copy()\n",
        "Tweets_copy_df.head()"
      ]
    },
    {
      "cell_type": "code",
      "execution_count": null,
      "id": "n_l63n-GlS51",
      "metadata": {
        "id": "n_l63n-GlS51"
      },
      "outputs": [],
      "source": [
        "\n",
        "\n",
        "# Map sentiment labels (0=negative, 4=positive) to (0=negative, 1=positive)\n",
        "#Tweets_copy_df['target'] = Tweets_copy_df['target'].map({0: 0, 4: 1})\n",
        "\n",
        "# Preprocess text\n",
        "Tweets_copy_df['clean_text'] = Tweets_copy_df['text'].apply(preprocess_text)"
      ]
    },
    {
      "cell_type": "code",
      "execution_count": null,
      "id": "eqmRRwbRpena",
      "metadata": {
        "colab": {
          "base_uri": "https://localhost:8080/"
        },
        "id": "eqmRRwbRpena",
        "outputId": "3e390ea8-d253-4b4c-fa4d-09d8c59ac171"
      },
      "outputs": [
        {
          "name": "stdout",
          "output_type": "stream",
          "text": [
            "X_train shape: (1279596,) | y_train shape: (1279596,)\n",
            "X_test shape: (319900,) | y_test shape: (319900,)\n"
          ]
        }
      ],
      "source": [
        "# Split data\n",
        "X_train_1, X_test_1, y_train_1, y_test_1 = train_test_split(\n",
        "    Tweets_copy_df['clean_text'], Tweets_copy_df['target'], test_size=0.2, random_state=42\n",
        ")\n",
        "print(\"X_train shape:\", X_train_1.shape, \"| y_train shape:\", y_train_1.shape)\n",
        "print(\"X_test shape:\", X_test_1.shape, \"| y_test shape:\", y_test_1.shape)"
      ]
    },
    {
      "cell_type": "code",
      "execution_count": null,
      "id": "JNIqoxjglTd1",
      "metadata": {
        "id": "JNIqoxjglTd1"
      },
      "outputs": [],
      "source": [
        "# Create pipeline with TF-IDF and Logistic Regression\n",
        "pipeline = Pipeline([\n",
        "    ('tfidf', TfidfVectorizer(\n",
        "        max_features=10000,\n",
        "        ngram_range=(1, 2) )\n",
        "    ),\n",
        "    ('clf', LogisticRegression(\n",
        "        max_iter=1000,\n",
        "        random_state=42,\n",
        "        class_weight='balanced')\n",
        "    )\n",
        "])"
      ]
    },
    {
      "cell_type": "code",
      "execution_count": null,
      "id": "QZlB2-qjszRS",
      "metadata": {
        "colab": {
          "base_uri": "https://localhost:8080/",
          "height": 241
        },
        "id": "QZlB2-qjszRS",
        "outputId": "7592ec07-1c69-4113-8e76-c483549be6ca"
      },
      "outputs": [
        {
          "data": {
            "text/plain": [
              "174335     0\n",
              "306270     0\n",
              "1518505    4\n",
              "1258400    4\n",
              "508917     0\n",
              "Name: target, dtype: object"
            ]
          },
          "execution_count": 53,
          "metadata": {},
          "output_type": "execute_result"
        }
      ],
      "source": [
        "y_train_1.head()"
      ]
    },
    {
      "cell_type": "code",
      "execution_count": null,
      "id": "mSWTVg1Zt5Mj",
      "metadata": {
        "colab": {
          "base_uri": "https://localhost:8080/"
        },
        "id": "mSWTVg1Zt5Mj",
        "outputId": "76139089-b351-4248-e423-bdbc8b93d85a"
      },
      "outputs": [
        {
          "name": "stdout",
          "output_type": "stream",
          "text": [
            "Missing values in y_train: 0\n",
            "Unique values before conversion: ['0' 0 4 'target']\n",
            "Missing values in y_train: 0\n",
            "Unique values before conversion: [4 0 '0']\n"
          ]
        }
      ],
      "source": [
        "print(\"Missing values in y_train:\", y_train_1.isna().sum())\n",
        "print(\"Unique values before conversion:\", y_train_1.unique())\n",
        "print(\"Missing values in y_train:\", y_test_1.isna().sum())\n",
        "print(\"Unique values before conversion:\", y_test_1.unique())"
      ]
    },
    {
      "cell_type": "code",
      "execution_count": null,
      "id": "iFIEBghfuHPo",
      "metadata": {
        "id": "iFIEBghfuHPo"
      },
      "outputs": [],
      "source": [
        "y_train_1 = y_train_1.apply(lambda x: 0 if x=='target' else x)"
      ]
    },
    {
      "cell_type": "code",
      "execution_count": null,
      "id": "9Ddj9f5oup0Z",
      "metadata": {
        "colab": {
          "base_uri": "https://localhost:8080/"
        },
        "id": "9Ddj9f5oup0Z",
        "outputId": "c800d2ee-b6ef-42a8-ad12-f027c8021d76"
      },
      "outputs": [
        {
          "name": "stdout",
          "output_type": "stream",
          "text": [
            "Unique values before conversion: ['0' 0 4]\n"
          ]
        }
      ],
      "source": [
        "print(\"Unique values before conversion:\", y_train_1.unique())"
      ]
    },
    {
      "cell_type": "code",
      "execution_count": null,
      "id": "iXcxSkyAsU57",
      "metadata": {
        "colab": {
          "base_uri": "https://localhost:8080/",
          "height": 228
        },
        "id": "iXcxSkyAsU57",
        "outputId": "efe47b79-5969-4a4a-a579-fa6d92104278"
      },
      "outputs": [
        {
          "name": "stdout",
          "output_type": "stream",
          "text": [
            "Unique values in y_train: [0 4]\n",
            "Data type: int64\n",
            "Unique values in y_train: [0 4]\n",
            "Data type: int64\n"
          ]
        },
        {
          "data": {
            "text/html": [
              "<style>#sk-container-id-1 {\n",
              "  /* Definition of color scheme common for light and dark mode */\n",
              "  --sklearn-color-text: black;\n",
              "  --sklearn-color-line: gray;\n",
              "  /* Definition of color scheme for unfitted estimators */\n",
              "  --sklearn-color-unfitted-level-0: #fff5e6;\n",
              "  --sklearn-color-unfitted-level-1: #f6e4d2;\n",
              "  --sklearn-color-unfitted-level-2: #ffe0b3;\n",
              "  --sklearn-color-unfitted-level-3: chocolate;\n",
              "  /* Definition of color scheme for fitted estimators */\n",
              "  --sklearn-color-fitted-level-0: #f0f8ff;\n",
              "  --sklearn-color-fitted-level-1: #d4ebff;\n",
              "  --sklearn-color-fitted-level-2: #b3dbfd;\n",
              "  --sklearn-color-fitted-level-3: cornflowerblue;\n",
              "\n",
              "  /* Specific color for light theme */\n",
              "  --sklearn-color-text-on-default-background: var(--sg-text-color, var(--theme-code-foreground, var(--jp-content-font-color1, black)));\n",
              "  --sklearn-color-background: var(--sg-background-color, var(--theme-background, var(--jp-layout-color0, white)));\n",
              "  --sklearn-color-border-box: var(--sg-text-color, var(--theme-code-foreground, var(--jp-content-font-color1, black)));\n",
              "  --sklearn-color-icon: #696969;\n",
              "\n",
              "  @media (prefers-color-scheme: dark) {\n",
              "    /* Redefinition of color scheme for dark theme */\n",
              "    --sklearn-color-text-on-default-background: var(--sg-text-color, var(--theme-code-foreground, var(--jp-content-font-color1, white)));\n",
              "    --sklearn-color-background: var(--sg-background-color, var(--theme-background, var(--jp-layout-color0, #111)));\n",
              "    --sklearn-color-border-box: var(--sg-text-color, var(--theme-code-foreground, var(--jp-content-font-color1, white)));\n",
              "    --sklearn-color-icon: #878787;\n",
              "  }\n",
              "}\n",
              "\n",
              "#sk-container-id-1 {\n",
              "  color: var(--sklearn-color-text);\n",
              "}\n",
              "\n",
              "#sk-container-id-1 pre {\n",
              "  padding: 0;\n",
              "}\n",
              "\n",
              "#sk-container-id-1 input.sk-hidden--visually {\n",
              "  border: 0;\n",
              "  clip: rect(1px 1px 1px 1px);\n",
              "  clip: rect(1px, 1px, 1px, 1px);\n",
              "  height: 1px;\n",
              "  margin: -1px;\n",
              "  overflow: hidden;\n",
              "  padding: 0;\n",
              "  position: absolute;\n",
              "  width: 1px;\n",
              "}\n",
              "\n",
              "#sk-container-id-1 div.sk-dashed-wrapped {\n",
              "  border: 1px dashed var(--sklearn-color-line);\n",
              "  margin: 0 0.4em 0.5em 0.4em;\n",
              "  box-sizing: border-box;\n",
              "  padding-bottom: 0.4em;\n",
              "  background-color: var(--sklearn-color-background);\n",
              "}\n",
              "\n",
              "#sk-container-id-1 div.sk-container {\n",
              "  /* jupyter's `normalize.less` sets `[hidden] { display: none; }`\n",
              "     but bootstrap.min.css set `[hidden] { display: none !important; }`\n",
              "     so we also need the `!important` here to be able to override the\n",
              "     default hidden behavior on the sphinx rendered scikit-learn.org.\n",
              "     See: https://github.com/scikit-learn/scikit-learn/issues/21755 */\n",
              "  display: inline-block !important;\n",
              "  position: relative;\n",
              "}\n",
              "\n",
              "#sk-container-id-1 div.sk-text-repr-fallback {\n",
              "  display: none;\n",
              "}\n",
              "\n",
              "div.sk-parallel-item,\n",
              "div.sk-serial,\n",
              "div.sk-item {\n",
              "  /* draw centered vertical line to link estimators */\n",
              "  background-image: linear-gradient(var(--sklearn-color-text-on-default-background), var(--sklearn-color-text-on-default-background));\n",
              "  background-size: 2px 100%;\n",
              "  background-repeat: no-repeat;\n",
              "  background-position: center center;\n",
              "}\n",
              "\n",
              "/* Parallel-specific style estimator block */\n",
              "\n",
              "#sk-container-id-1 div.sk-parallel-item::after {\n",
              "  content: \"\";\n",
              "  width: 100%;\n",
              "  border-bottom: 2px solid var(--sklearn-color-text-on-default-background);\n",
              "  flex-grow: 1;\n",
              "}\n",
              "\n",
              "#sk-container-id-1 div.sk-parallel {\n",
              "  display: flex;\n",
              "  align-items: stretch;\n",
              "  justify-content: center;\n",
              "  background-color: var(--sklearn-color-background);\n",
              "  position: relative;\n",
              "}\n",
              "\n",
              "#sk-container-id-1 div.sk-parallel-item {\n",
              "  display: flex;\n",
              "  flex-direction: column;\n",
              "}\n",
              "\n",
              "#sk-container-id-1 div.sk-parallel-item:first-child::after {\n",
              "  align-self: flex-end;\n",
              "  width: 50%;\n",
              "}\n",
              "\n",
              "#sk-container-id-1 div.sk-parallel-item:last-child::after {\n",
              "  align-self: flex-start;\n",
              "  width: 50%;\n",
              "}\n",
              "\n",
              "#sk-container-id-1 div.sk-parallel-item:only-child::after {\n",
              "  width: 0;\n",
              "}\n",
              "\n",
              "/* Serial-specific style estimator block */\n",
              "\n",
              "#sk-container-id-1 div.sk-serial {\n",
              "  display: flex;\n",
              "  flex-direction: column;\n",
              "  align-items: center;\n",
              "  background-color: var(--sklearn-color-background);\n",
              "  padding-right: 1em;\n",
              "  padding-left: 1em;\n",
              "}\n",
              "\n",
              "\n",
              "/* Toggleable style: style used for estimator/Pipeline/ColumnTransformer box that is\n",
              "clickable and can be expanded/collapsed.\n",
              "- Pipeline and ColumnTransformer use this feature and define the default style\n",
              "- Estimators will overwrite some part of the style using the `sk-estimator` class\n",
              "*/\n",
              "\n",
              "/* Pipeline and ColumnTransformer style (default) */\n",
              "\n",
              "#sk-container-id-1 div.sk-toggleable {\n",
              "  /* Default theme specific background. It is overwritten whether we have a\n",
              "  specific estimator or a Pipeline/ColumnTransformer */\n",
              "  background-color: var(--sklearn-color-background);\n",
              "}\n",
              "\n",
              "/* Toggleable label */\n",
              "#sk-container-id-1 label.sk-toggleable__label {\n",
              "  cursor: pointer;\n",
              "  display: block;\n",
              "  width: 100%;\n",
              "  margin-bottom: 0;\n",
              "  padding: 0.5em;\n",
              "  box-sizing: border-box;\n",
              "  text-align: center;\n",
              "}\n",
              "\n",
              "#sk-container-id-1 label.sk-toggleable__label-arrow:before {\n",
              "  /* Arrow on the left of the label */\n",
              "  content: \"▸\";\n",
              "  float: left;\n",
              "  margin-right: 0.25em;\n",
              "  color: var(--sklearn-color-icon);\n",
              "}\n",
              "\n",
              "#sk-container-id-1 label.sk-toggleable__label-arrow:hover:before {\n",
              "  color: var(--sklearn-color-text);\n",
              "}\n",
              "\n",
              "/* Toggleable content - dropdown */\n",
              "\n",
              "#sk-container-id-1 div.sk-toggleable__content {\n",
              "  max-height: 0;\n",
              "  max-width: 0;\n",
              "  overflow: hidden;\n",
              "  text-align: left;\n",
              "  /* unfitted */\n",
              "  background-color: var(--sklearn-color-unfitted-level-0);\n",
              "}\n",
              "\n",
              "#sk-container-id-1 div.sk-toggleable__content.fitted {\n",
              "  /* fitted */\n",
              "  background-color: var(--sklearn-color-fitted-level-0);\n",
              "}\n",
              "\n",
              "#sk-container-id-1 div.sk-toggleable__content pre {\n",
              "  margin: 0.2em;\n",
              "  border-radius: 0.25em;\n",
              "  color: var(--sklearn-color-text);\n",
              "  /* unfitted */\n",
              "  background-color: var(--sklearn-color-unfitted-level-0);\n",
              "}\n",
              "\n",
              "#sk-container-id-1 div.sk-toggleable__content.fitted pre {\n",
              "  /* unfitted */\n",
              "  background-color: var(--sklearn-color-fitted-level-0);\n",
              "}\n",
              "\n",
              "#sk-container-id-1 input.sk-toggleable__control:checked~div.sk-toggleable__content {\n",
              "  /* Expand drop-down */\n",
              "  max-height: 200px;\n",
              "  max-width: 100%;\n",
              "  overflow: auto;\n",
              "}\n",
              "\n",
              "#sk-container-id-1 input.sk-toggleable__control:checked~label.sk-toggleable__label-arrow:before {\n",
              "  content: \"▾\";\n",
              "}\n",
              "\n",
              "/* Pipeline/ColumnTransformer-specific style */\n",
              "\n",
              "#sk-container-id-1 div.sk-label input.sk-toggleable__control:checked~label.sk-toggleable__label {\n",
              "  color: var(--sklearn-color-text);\n",
              "  background-color: var(--sklearn-color-unfitted-level-2);\n",
              "}\n",
              "\n",
              "#sk-container-id-1 div.sk-label.fitted input.sk-toggleable__control:checked~label.sk-toggleable__label {\n",
              "  background-color: var(--sklearn-color-fitted-level-2);\n",
              "}\n",
              "\n",
              "/* Estimator-specific style */\n",
              "\n",
              "/* Colorize estimator box */\n",
              "#sk-container-id-1 div.sk-estimator input.sk-toggleable__control:checked~label.sk-toggleable__label {\n",
              "  /* unfitted */\n",
              "  background-color: var(--sklearn-color-unfitted-level-2);\n",
              "}\n",
              "\n",
              "#sk-container-id-1 div.sk-estimator.fitted input.sk-toggleable__control:checked~label.sk-toggleable__label {\n",
              "  /* fitted */\n",
              "  background-color: var(--sklearn-color-fitted-level-2);\n",
              "}\n",
              "\n",
              "#sk-container-id-1 div.sk-label label.sk-toggleable__label,\n",
              "#sk-container-id-1 div.sk-label label {\n",
              "  /* The background is the default theme color */\n",
              "  color: var(--sklearn-color-text-on-default-background);\n",
              "}\n",
              "\n",
              "/* On hover, darken the color of the background */\n",
              "#sk-container-id-1 div.sk-label:hover label.sk-toggleable__label {\n",
              "  color: var(--sklearn-color-text);\n",
              "  background-color: var(--sklearn-color-unfitted-level-2);\n",
              "}\n",
              "\n",
              "/* Label box, darken color on hover, fitted */\n",
              "#sk-container-id-1 div.sk-label.fitted:hover label.sk-toggleable__label.fitted {\n",
              "  color: var(--sklearn-color-text);\n",
              "  background-color: var(--sklearn-color-fitted-level-2);\n",
              "}\n",
              "\n",
              "/* Estimator label */\n",
              "\n",
              "#sk-container-id-1 div.sk-label label {\n",
              "  font-family: monospace;\n",
              "  font-weight: bold;\n",
              "  display: inline-block;\n",
              "  line-height: 1.2em;\n",
              "}\n",
              "\n",
              "#sk-container-id-1 div.sk-label-container {\n",
              "  text-align: center;\n",
              "}\n",
              "\n",
              "/* Estimator-specific */\n",
              "#sk-container-id-1 div.sk-estimator {\n",
              "  font-family: monospace;\n",
              "  border: 1px dotted var(--sklearn-color-border-box);\n",
              "  border-radius: 0.25em;\n",
              "  box-sizing: border-box;\n",
              "  margin-bottom: 0.5em;\n",
              "  /* unfitted */\n",
              "  background-color: var(--sklearn-color-unfitted-level-0);\n",
              "}\n",
              "\n",
              "#sk-container-id-1 div.sk-estimator.fitted {\n",
              "  /* fitted */\n",
              "  background-color: var(--sklearn-color-fitted-level-0);\n",
              "}\n",
              "\n",
              "/* on hover */\n",
              "#sk-container-id-1 div.sk-estimator:hover {\n",
              "  /* unfitted */\n",
              "  background-color: var(--sklearn-color-unfitted-level-2);\n",
              "}\n",
              "\n",
              "#sk-container-id-1 div.sk-estimator.fitted:hover {\n",
              "  /* fitted */\n",
              "  background-color: var(--sklearn-color-fitted-level-2);\n",
              "}\n",
              "\n",
              "/* Specification for estimator info (e.g. \"i\" and \"?\") */\n",
              "\n",
              "/* Common style for \"i\" and \"?\" */\n",
              "\n",
              ".sk-estimator-doc-link,\n",
              "a:link.sk-estimator-doc-link,\n",
              "a:visited.sk-estimator-doc-link {\n",
              "  float: right;\n",
              "  font-size: smaller;\n",
              "  line-height: 1em;\n",
              "  font-family: monospace;\n",
              "  background-color: var(--sklearn-color-background);\n",
              "  border-radius: 1em;\n",
              "  height: 1em;\n",
              "  width: 1em;\n",
              "  text-decoration: none !important;\n",
              "  margin-left: 1ex;\n",
              "  /* unfitted */\n",
              "  border: var(--sklearn-color-unfitted-level-1) 1pt solid;\n",
              "  color: var(--sklearn-color-unfitted-level-1);\n",
              "}\n",
              "\n",
              ".sk-estimator-doc-link.fitted,\n",
              "a:link.sk-estimator-doc-link.fitted,\n",
              "a:visited.sk-estimator-doc-link.fitted {\n",
              "  /* fitted */\n",
              "  border: var(--sklearn-color-fitted-level-1) 1pt solid;\n",
              "  color: var(--sklearn-color-fitted-level-1);\n",
              "}\n",
              "\n",
              "/* On hover */\n",
              "div.sk-estimator:hover .sk-estimator-doc-link:hover,\n",
              ".sk-estimator-doc-link:hover,\n",
              "div.sk-label-container:hover .sk-estimator-doc-link:hover,\n",
              ".sk-estimator-doc-link:hover {\n",
              "  /* unfitted */\n",
              "  background-color: var(--sklearn-color-unfitted-level-3);\n",
              "  color: var(--sklearn-color-background);\n",
              "  text-decoration: none;\n",
              "}\n",
              "\n",
              "div.sk-estimator.fitted:hover .sk-estimator-doc-link.fitted:hover,\n",
              ".sk-estimator-doc-link.fitted:hover,\n",
              "div.sk-label-container:hover .sk-estimator-doc-link.fitted:hover,\n",
              ".sk-estimator-doc-link.fitted:hover {\n",
              "  /* fitted */\n",
              "  background-color: var(--sklearn-color-fitted-level-3);\n",
              "  color: var(--sklearn-color-background);\n",
              "  text-decoration: none;\n",
              "}\n",
              "\n",
              "/* Span, style for the box shown on hovering the info icon */\n",
              ".sk-estimator-doc-link span {\n",
              "  display: none;\n",
              "  z-index: 9999;\n",
              "  position: relative;\n",
              "  font-weight: normal;\n",
              "  right: .2ex;\n",
              "  padding: .5ex;\n",
              "  margin: .5ex;\n",
              "  width: min-content;\n",
              "  min-width: 20ex;\n",
              "  max-width: 50ex;\n",
              "  color: var(--sklearn-color-text);\n",
              "  box-shadow: 2pt 2pt 4pt #999;\n",
              "  /* unfitted */\n",
              "  background: var(--sklearn-color-unfitted-level-0);\n",
              "  border: .5pt solid var(--sklearn-color-unfitted-level-3);\n",
              "}\n",
              "\n",
              ".sk-estimator-doc-link.fitted span {\n",
              "  /* fitted */\n",
              "  background: var(--sklearn-color-fitted-level-0);\n",
              "  border: var(--sklearn-color-fitted-level-3);\n",
              "}\n",
              "\n",
              ".sk-estimator-doc-link:hover span {\n",
              "  display: block;\n",
              "}\n",
              "\n",
              "/* \"?\"-specific style due to the `<a>` HTML tag */\n",
              "\n",
              "#sk-container-id-1 a.estimator_doc_link {\n",
              "  float: right;\n",
              "  font-size: 1rem;\n",
              "  line-height: 1em;\n",
              "  font-family: monospace;\n",
              "  background-color: var(--sklearn-color-background);\n",
              "  border-radius: 1rem;\n",
              "  height: 1rem;\n",
              "  width: 1rem;\n",
              "  text-decoration: none;\n",
              "  /* unfitted */\n",
              "  color: var(--sklearn-color-unfitted-level-1);\n",
              "  border: var(--sklearn-color-unfitted-level-1) 1pt solid;\n",
              "}\n",
              "\n",
              "#sk-container-id-1 a.estimator_doc_link.fitted {\n",
              "  /* fitted */\n",
              "  border: var(--sklearn-color-fitted-level-1) 1pt solid;\n",
              "  color: var(--sklearn-color-fitted-level-1);\n",
              "}\n",
              "\n",
              "/* On hover */\n",
              "#sk-container-id-1 a.estimator_doc_link:hover {\n",
              "  /* unfitted */\n",
              "  background-color: var(--sklearn-color-unfitted-level-3);\n",
              "  color: var(--sklearn-color-background);\n",
              "  text-decoration: none;\n",
              "}\n",
              "\n",
              "#sk-container-id-1 a.estimator_doc_link.fitted:hover {\n",
              "  /* fitted */\n",
              "  background-color: var(--sklearn-color-fitted-level-3);\n",
              "}\n",
              "</style><div id=\"sk-container-id-1\" class=\"sk-top-container\"><div class=\"sk-text-repr-fallback\"><pre>Pipeline(steps=[(&#x27;tfidf&#x27;,\n",
              "                 TfidfVectorizer(max_features=10000, ngram_range=(1, 2))),\n",
              "                (&#x27;clf&#x27;,\n",
              "                 LogisticRegression(class_weight=&#x27;balanced&#x27;, max_iter=1000,\n",
              "                                    random_state=42))])</pre><b>In a Jupyter environment, please rerun this cell to show the HTML representation or trust the notebook. <br />On GitHub, the HTML representation is unable to render, please try loading this page with nbviewer.org.</b></div><div class=\"sk-container\" hidden><div class=\"sk-item sk-dashed-wrapped\"><div class=\"sk-label-container\"><div class=\"sk-label fitted sk-toggleable\"><input class=\"sk-toggleable__control sk-hidden--visually\" id=\"sk-estimator-id-1\" type=\"checkbox\" ><label for=\"sk-estimator-id-1\" class=\"sk-toggleable__label fitted sk-toggleable__label-arrow fitted\">&nbsp;&nbsp;Pipeline<a class=\"sk-estimator-doc-link fitted\" rel=\"noreferrer\" target=\"_blank\" href=\"https://scikit-learn.org/1.4/modules/generated/sklearn.pipeline.Pipeline.html\">?<span>Documentation for Pipeline</span></a><span class=\"sk-estimator-doc-link fitted\">i<span>Fitted</span></span></label><div class=\"sk-toggleable__content fitted\"><pre>Pipeline(steps=[(&#x27;tfidf&#x27;,\n",
              "                 TfidfVectorizer(max_features=10000, ngram_range=(1, 2))),\n",
              "                (&#x27;clf&#x27;,\n",
              "                 LogisticRegression(class_weight=&#x27;balanced&#x27;, max_iter=1000,\n",
              "                                    random_state=42))])</pre></div> </div></div><div class=\"sk-serial\"><div class=\"sk-item\"><div class=\"sk-estimator fitted sk-toggleable\"><input class=\"sk-toggleable__control sk-hidden--visually\" id=\"sk-estimator-id-2\" type=\"checkbox\" ><label for=\"sk-estimator-id-2\" class=\"sk-toggleable__label fitted sk-toggleable__label-arrow fitted\">&nbsp;TfidfVectorizer<a class=\"sk-estimator-doc-link fitted\" rel=\"noreferrer\" target=\"_blank\" href=\"https://scikit-learn.org/1.4/modules/generated/sklearn.feature_extraction.text.TfidfVectorizer.html\">?<span>Documentation for TfidfVectorizer</span></a></label><div class=\"sk-toggleable__content fitted\"><pre>TfidfVectorizer(max_features=10000, ngram_range=(1, 2))</pre></div> </div></div><div class=\"sk-item\"><div class=\"sk-estimator fitted sk-toggleable\"><input class=\"sk-toggleable__control sk-hidden--visually\" id=\"sk-estimator-id-3\" type=\"checkbox\" ><label for=\"sk-estimator-id-3\" class=\"sk-toggleable__label fitted sk-toggleable__label-arrow fitted\">&nbsp;LogisticRegression<a class=\"sk-estimator-doc-link fitted\" rel=\"noreferrer\" target=\"_blank\" href=\"https://scikit-learn.org/1.4/modules/generated/sklearn.linear_model.LogisticRegression.html\">?<span>Documentation for LogisticRegression</span></a></label><div class=\"sk-toggleable__content fitted\"><pre>LogisticRegression(class_weight=&#x27;balanced&#x27;, max_iter=1000, random_state=42)</pre></div> </div></div></div></div></div></div>"
            ],
            "text/plain": [
              "Pipeline(steps=[('tfidf',\n",
              "                 TfidfVectorizer(max_features=10000, ngram_range=(1, 2))),\n",
              "                ('clf',\n",
              "                 LogisticRegression(class_weight='balanced', max_iter=1000,\n",
              "                                    random_state=42))])"
            ]
          },
          "execution_count": 57,
          "metadata": {},
          "output_type": "execute_result"
        }
      ],
      "source": [
        "# Ensure your target variable is properly formatted\n",
        "y_train_1 = pd.to_numeric(y_train_1, errors='coerce').astype(int)\n",
        "y_test_1 = pd.to_numeric(y_test_1, errors='coerce').astype(int)\n",
        "\n",
        "# Verify the conversion\n",
        "print(\"Unique values in y_train:\", np.unique(y_train_1))\n",
        "print(\"Data type:\", y_train_1.dtype)\n",
        "print(\"Unique values in y_train:\", np.unique(y_test_1))\n",
        "print(\"Data type:\", y_test_1.dtype)\n",
        "\n",
        "# Train model\n",
        "pipeline.fit(X_train_1, y_train_1)"
      ]
    },
    {
      "cell_type": "code",
      "execution_count": null,
      "id": "wzgWOlrGlTgg",
      "metadata": {
        "colab": {
          "base_uri": "https://localhost:8080/"
        },
        "id": "wzgWOlrGlTgg",
        "outputId": "636b5661-8396-4fa6-ea3d-9e4a66dd5e13"
      },
      "outputs": [
        {
          "name": "stdout",
          "output_type": "stream",
          "text": [
            "Accuracy: 0.7844076273835574\n",
            "\n",
            "Classification Report:\n",
            "              precision    recall  f1-score   support\n",
            "\n",
            "           0       0.80      0.76      0.78    159404\n",
            "           4       0.77      0.81      0.79    160496\n",
            "\n",
            "    accuracy                           0.78    319900\n",
            "   macro avg       0.78      0.78      0.78    319900\n",
            "weighted avg       0.78      0.78      0.78    319900\n",
            "\n",
            "\n",
            "Test Tweet Prediction: 4\n"
          ]
        }
      ],
      "source": [
        "# Evaluate\n",
        "y_pred_1 = pipeline.predict(X_test_1)\n",
        "print(\"Accuracy:\", accuracy_score(y_test_1, y_pred_1))\n",
        "print(\"\\nClassification Report:\")\n",
        "print(classification_report(y_test_1, y_pred_1))\n",
        "\n",
        "# Example prediction\n",
        "test_tweet = \"I love this product! It's amazing.\"\n",
        "clean_test = preprocess_text(test_tweet)\n",
        "print(\"\\nTest Tweet Prediction:\", pipeline.predict([clean_test])[0])"
      ]
    },
    {
      "cell_type": "code",
      "execution_count": null,
      "id": "_-_2YlOPptZd",
      "metadata": {
        "id": "_-_2YlOPptZd"
      },
      "outputs": [],
      "source": [
        "from sklearn.model_selection import GridSearchCV\n",
        "from sklearn.pipeline import Pipeline\n",
        "\n",
        "def tune_hyperparameters(X_train, y_train):\n",
        "    \"\"\"\n",
        "    Perform hyperparameter tuning for TF-IDF + Logistic Regression pipeline\n",
        "\n",
        "    Args:\n",
        "        X_train: Training text data\n",
        "        y_train: Training labels\n",
        "\n",
        "    Returns:\n",
        "        Best estimator and best parameters found\n",
        "    \"\"\"\n",
        "    # Define the pipeline\n",
        "    pipeline = Pipeline([\n",
        "        ('tfidf', TfidfVectorizer()),\n",
        "        ('clf', LogisticRegression(max_iter=1000, random_state=42))\n",
        "    ])\n",
        "\n",
        "    # Define parameter grid\n",
        "    param_grid = {\n",
        "        'tfidf__max_features': [5000, 10000, 20000],\n",
        "        'tfidf__ngram_range': [(1, 1), (1, 2)],  # unigrams or unigrams+bigrams\n",
        "        'tfidf__min_df': [1, 5],  # minimum document frequency\n",
        "        'tfidf__max_df': [0.7, 0.9],  # maximum document frequency (ignore too common words)\n",
        "        'clf__C': [0.1, 1, 10],  # inverse of regularization strength\n",
        "        'clf__penalty': ['l1', 'l2'],  # regularization type\n",
        "        'clf__class_weight': [None, 'balanced']\n",
        "    }\n",
        "\n",
        "    # Set up GridSearchCV\n",
        "    grid_search = GridSearchCV(\n",
        "        pipeline,\n",
        "        param_grid,\n",
        "        cv=3,  # 3-fold cross-validation\n",
        "        scoring='f1_weighted',  # can change to 'accuracy' or other metrics\n",
        "        n_jobs=-1,  # use all available CPU cores\n",
        "        verbose=1\n",
        "    )\n",
        "\n",
        "    # Perform the grid search\n",
        "    print(\"Starting grid search...\")\n",
        "    grid_search.fit(X_train, y_train)\n",
        "\n",
        "    # Print results\n",
        "    print(\"\\nBest parameters found:\")\n",
        "    print(grid_search.best_params_)\n",
        "\n",
        "    print(\"\\nBest cross-validation score: {:.2f}\".format(grid_search.best_score_))\n",
        "\n",
        "    return grid_search.best_estimator_, grid_search.best_params_\n"
      ]
    },
    {
      "cell_type": "code",
      "execution_count": null,
      "id": "2JyHV1JYqxpq",
      "metadata": {
        "id": "2JyHV1JYqxpq"
      },
      "outputs": [],
      "source": [
        "from sklearn.model_selection import GridSearchCV\n",
        "from sklearn.pipeline import Pipeline\n",
        "import os\n",
        "import joblib\n",
        "\n",
        "def tune_hyperparameters_with_cache(X_train, y_train, cache_dir='./cache'):\n",
        "    \"\"\"\n",
        "    Perform hyperparameter tuning with memory caching\n",
        "\n",
        "    Args:\n",
        "        X_train: Training text data\n",
        "        y_train: Training labels\n",
        "        cache_dir: Directory to store cached computations\n",
        "\n",
        "    Returns:\n",
        "        Best estimator and best parameters found\n",
        "    \"\"\"\n",
        "    # Create cache directory if it doesn't exist\n",
        "    os.makedirs(cache_dir, exist_ok=True)\n",
        "\n",
        "    # Clear previous cache to ensure fresh start\n",
        "    joblib.Memory(location=cache_dir, verbose=0).clear()\n",
        "\n",
        "    # Define the pipeline with memory caching\n",
        "    pipeline = Pipeline([\n",
        "        ('tfidf', TfidfVectorizer()),\n",
        "        ('clf', LogisticRegression(max_iter=1000, random_state=42))\n",
        "    ], memory=joblib.Memory(location=cache_dir, verbose=0))\n",
        "\n",
        "    # Define parameter grid (same as before)\n",
        "    param_grid = {\n",
        "        'tfidf__max_features': [5000, 10000, 20000],\n",
        "        'tfidf__ngram_range': [(1, 1), (1, 2)],\n",
        "        'tfidf__min_df': [1, 5],\n",
        "        'tfidf__max_df': [0.7, 0.9],\n",
        "        'clf__C': [0.1, 1, 10],\n",
        "        'clf__penalty': ['l1', 'l2'],\n",
        "        'clf__class_weight': [None, 'balanced']\n",
        "    }\n",
        "\n",
        "    # Set up GridSearchCV\n",
        "    grid_search = GridSearchCV(\n",
        "        pipeline,\n",
        "        param_grid,\n",
        "        cv=3,\n",
        "        scoring='f1_weighted',\n",
        "        n_jobs=-1,\n",
        "        verbose=1\n",
        "    )\n",
        "\n",
        "    # Perform the grid search\n",
        "    print(f\"Starting grid search with caching at {cache_dir}...\")\n",
        "    grid_search.fit(X_train, y_train)\n",
        "\n",
        "    # Print results\n",
        "    print(\"\\nBest parameters found:\")\n",
        "    print(grid_search.best_params_)\n",
        "    print(\"\\nBest cross-validation score: {:.2f}\".format(grid_search.best_score_))\n",
        "\n",
        "    return grid_search.best_estimator_, grid_search.best_params_"
      ]
    },
    {
      "cell_type": "code",
      "execution_count": null,
      "id": "w7mNeS3sqJ-4",
      "metadata": {
        "colab": {
          "base_uri": "https://localhost:8080/"
        },
        "id": "w7mNeS3sqJ-4",
        "outputId": "e4d45694-7c4e-474e-c65c-6826d8f4ba37"
      },
      "outputs": [
        {
          "name": "stdout",
          "output_type": "stream",
          "text": [
            "Starting grid search...\n",
            "Fitting 3 folds for each of 288 candidates, totalling 864 fits\n"
          ]
        }
      ],
      "source": [
        "# Tune hyperparameters and test the best_model to predict a sample text:\n",
        "best_model, best_params = tune_hyperparameters(X_train, y_train)\n",
        "#best_model, best_params = tune_hyperparameters_with_cache(X_train, y_train, cache_dir='./tfidf_cache')\n",
        "#cache inspection\n",
        "#cache = joblib.Memory(location='./cache')\n",
        "#print(cache.reduce_size())"
      ]
    },
    {
      "cell_type": "code",
      "execution_count": null,
      "id": "kQJHrvn3rJl7",
      "metadata": {
        "id": "kQJHrvn3rJl7"
      },
      "outputs": [],
      "source": [
        "#clean cache\n",
        "#import shutil\n",
        "#shutil.rmtree('./cache')  # Complete cleanup"
      ]
    },
    {
      "cell_type": "code",
      "execution_count": null,
      "id": "xHDGcsgQqdrD",
      "metadata": {
        "id": "xHDGcsgQqdrD"
      },
      "outputs": [],
      "source": [
        "y_pred = best_model.predict(X_test)\n",
        "print(classification_report(y_test, y_pred))"
      ]
    },
    {
      "cell_type": "code",
      "execution_count": null,
      "id": "vpc-lpzkoOsg",
      "metadata": {
        "id": "vpc-lpzkoOsg"
      },
      "outputs": [],
      "source": []
    },
    {
      "cell_type": "markdown",
      "id": "61b2c984-64e4-49a4-afab-160dfbc2a57a",
      "metadata": {
        "id": "61b2c984-64e4-49a4-afab-160dfbc2a57a"
      },
      "source": [
        "\n",
        "<div style=\"background-color:#e6f2ff; border-left:8px solid #0059b3; padding:20px; margin:20px 0;\">\n",
        "  <h2 style=\"color:#003366;\"><strong>4.2 LSTM Model</strong></h2>\n",
        "  <p style=\"color:#333333;\">Bidirectional LSTM with pre-trained embeddings (e.g., Wrod2Vec).</p>\n",
        "</div>"
      ]
    },
    {
      "cell_type": "code",
      "execution_count": null,
      "id": "to08L5gzucYG",
      "metadata": {
        "id": "to08L5gzucYG"
      },
      "outputs": [],
      "source": [
        "# Step 1: Reinstall compatible keras\n",
        "#!pip uninstall -y keras\n",
        "#!pip install -q keras==3.8.0\n",
        "\n",
        "### Use !pip install -r \"../requirements.txt\" at the beginning of the notebook instead"
      ]
    },
    {
      "cell_type": "code",
      "execution_count": null,
      "id": "BQDuL0iGzX7x",
      "metadata": {
        "id": "BQDuL0iGzX7x"
      },
      "outputs": [],
      "source": [
        "# loading all libraries here\n",
        "import numpy as np\n",
        "import pandas as pd\n",
        "import gensim\n",
        "from gensim.utils import simple_preprocess\n",
        "from gensim.models import Word2Vec\n",
        "import nltk\n",
        "from nltk.tokenize import word_tokenize\n",
        "import re\n",
        "from tensorflow.keras.preprocessing.text import Tokenizer\n",
        "from tensorflow.keras.preprocessing.sequence import pad_sequences\n",
        "from tensorflow.keras.models import Sequential\n",
        "from keras.layers import Embedding, Bidirectional, LSTM, Dense, Dropout\n",
        "from keras.callbacks import EarlyStopping\n",
        "from tensorflow.keras.optimizers import Adam\n",
        "from tensorflow.keras.optimizers import Nadam\n",
        "from tensorflow.keras.optimizers import SGD\n",
        "from tensorflow.keras.layers import BatchNormalization"
      ]
    },
    {
      "cell_type": "code",
      "execution_count": null,
      "id": "VszvLfpt5oKo",
      "metadata": {
        "id": "VszvLfpt5oKo"
      },
      "outputs": [],
      "source": [
        "# we tokenize each tweet for training and testing data\n",
        "\n",
        "training_df = train_plot_df.copy()\n",
        "val_df = val_plot_df.copy()\n",
        "\n",
        "# Apply gensim's tokenizer\n",
        "tokenized_train = training_df['text'].dropna().astype(str).apply(simple_preprocess).tolist()\n",
        "tokenized_val = val_df['text'].dropna().astype(str).apply(simple_preprocess).tolist()"
      ]
    },
    {
      "cell_type": "code",
      "execution_count": null,
      "id": "46vV4tVC0XcW",
      "metadata": {
        "id": "46vV4tVC0XcW"
      },
      "outputs": [],
      "source": [
        "# first train our Word2Vec on the Tokenized Data\n",
        "\n",
        "embedding_dim = 100\n",
        "\n",
        "model_LSTM = Word2Vec(\n",
        "    sentences=tokenized_train,\n",
        "    vector_size=embedding_dim,\n",
        "    window=10,\n",
        "    min_count=2,\n",
        "    sg=1,  # Skip-gram\n",
        "    seed=42,\n",
        "    workers=10\n",
        ")\n",
        "\n",
        "word2vec_model = model_LSTM.wv  # Use KeyedVectors for embedding lookup"
      ]
    },
    {
      "cell_type": "code",
      "execution_count": null,
      "id": "m_TXVm061rnJ",
      "metadata": {
        "id": "m_TXVm061rnJ"
      },
      "outputs": [],
      "source": [
        "# Prepare for Keras Tokenizer\n",
        "\n",
        "# Join tokens back into space-separated strings\n",
        "tokenized_train_texts = [' '.join(tokens) for tokens in tokenized_train]\n",
        "tokenized_val_texts = [' '.join(tokens) for tokens in tokenized_val]\n",
        "\n",
        "# Fit tokenizer on training texts\n",
        "tokenizer = Tokenizer()\n",
        "tokenizer.fit_on_texts(tokenized_train_texts)\n",
        "\n",
        "word_index = tokenizer.word_index"
      ]
    },
    {
      "cell_type": "code",
      "execution_count": null,
      "id": "j_NhEY86-4aI",
      "metadata": {
        "id": "j_NhEY86-4aI"
      },
      "outputs": [],
      "source": [
        "# Next, we Build the Embedding Matrix\n",
        "\n",
        "embedding_matrix = np.zeros((len(word_index) + 1, embedding_dim))\n",
        "found = 0\n",
        "\n",
        "for word, i in word_index.items():\n",
        "    if word in word2vec_model:\n",
        "        embedding_matrix[i] = word2vec_model[word]\n",
        "        found += 1\n",
        "\n",
        "print(f\"Words matched: {found}/{len(word_index)}\")"
      ]
    },
    {
      "cell_type": "markdown",
      "id": "164b2d45-8f4b-40cb-8728-2a50a2b8f18b",
      "metadata": {
        "id": "164b2d45-8f4b-40cb-8728-2a50a2b8f18b"
      },
      "source": [
        "This will cause some major issues as we train the model, in fact by several experiments, the model never actually really learned, i could not even make it overfit.\n",
        "This means that likely our Word2Vec trained on clean tokens but Tokenizer worked on noisy ones (e.g., lollll, omggg)\n"
      ]
    },
    {
      "cell_type": "code",
      "execution_count": null,
      "id": "9227fd78-03f5-40a7-95cd-55f0edb67a9d",
      "metadata": {
        "id": "9227fd78-03f5-40a7-95cd-55f0edb67a9d"
      },
      "outputs": [],
      "source": [
        "# for now, i will only limit tokenisation on trained words\n",
        "\n",
        "# Prepare for Keras Tokenizer\n",
        "\n",
        "# Join tokens back into space-separated strings\n",
        "tokenized_train_texts = [' '.join(tokens) for tokens in tokenized_train]\n",
        "tokenized_val_texts = [' '.join(tokens) for tokens in tokenized_val]\n",
        "\n",
        "# Fit tokenizer on training texts\n",
        "tokenizer = Tokenizer(num_words=82014)\n",
        "tokenizer.fit_on_texts(tokenized_train_texts)\n",
        "\n",
        "word_index = tokenizer.word_index"
      ]
    },
    {
      "cell_type": "code",
      "execution_count": null,
      "id": "-7ThBHaM_Pju",
      "metadata": {
        "id": "-7ThBHaM_Pju"
      },
      "outputs": [],
      "source": [
        "# Next, we Build the Embedding Matrix\n",
        "\n",
        "embedding_matrix = np.zeros((tokenizer.num_words, embedding_dim))\n",
        "\n",
        "found = 0\n",
        "for word, i in tokenizer.word_index.items():\n",
        "    if i >= tokenizer.num_words:\n",
        "        continue\n",
        "    if word in word2vec_model:\n",
        "        embedding_matrix[i] = word2vec_model[word]\n",
        "        found += 1\n",
        "print(f\"Words matched: {found}/{tokenizer.num_words}\")\n"
      ]
    },
    {
      "cell_type": "code",
      "execution_count": null,
      "id": "162cd974-7132-47d9-875e-3a9190660154",
      "metadata": {
        "id": "162cd974-7132-47d9-875e-3a9190660154"
      },
      "outputs": [],
      "source": [
        "# Next, Convert Texts to Sequences and Pad\n",
        "\n",
        "# Convert text to sequences\n",
        "X_train_seq = tokenizer.texts_to_sequences(tokenized_train_texts)\n",
        "X_val_seq = tokenizer.texts_to_sequences(tokenized_val_texts)\n",
        "\n",
        "# Define max sequence length\n",
        "max_len = max(len(seq) for seq in X_train_seq)\n",
        "\n",
        "# Pad sequences to same length\n",
        "X_train_pad = pad_sequences(X_train_seq, maxlen=max_len, padding='post')\n",
        "X_val_pad = pad_sequences(X_val_seq, maxlen=max_len, padding='post')\n"
      ]
    },
    {
      "cell_type": "code",
      "execution_count": null,
      "id": "2312d2f5-d02f-499c-9b10-e29d860311b2",
      "metadata": {
        "id": "2312d2f5-d02f-499c-9b10-e29d860311b2"
      },
      "outputs": [],
      "source": [
        "# We convert the target to float, and encode 0 and 1 to accommodate for sigmoid:\n",
        "\n",
        "y_train = np.where(y_train == 4, 1.0, 0.0).astype(np.float32)\n",
        "y_val = np.where(y_val == 4, 1.0, 0.0).astype(np.float32)\n"
      ]
    },
    {
      "cell_type": "code",
      "execution_count": null,
      "id": "a8316301-a6a8-47d7-9919-fb7ab68a10b7",
      "metadata": {
        "id": "a8316301-a6a8-47d7-9919-fb7ab68a10b7"
      },
      "outputs": [],
      "source": [
        "# First, we reduce our model to a small Sanity Test\n",
        "\n",
        "# Use a very small subset to test if model can overfit\n",
        "X_small = X_train_pad[:100]\n",
        "y_small = y_train[:100]\n",
        "\n",
        "# Sanity check: Create a simple model\n",
        "model = Sequential()\n",
        "model.add(Embedding(\n",
        "    input_dim=embedding_matrix.shape[0],\n",
        "    output_dim=embedding_matrix.shape[1],\n",
        "    weights=[embedding_matrix],\n",
        "    input_length=X_small.shape[1],\n",
        "    trainable=True\n",
        "))\n",
        "model.add(Bidirectional(LSTM(64)))\n",
        "model.add(Dense(1, activation='sigmoid'))\n",
        "\n",
        "# Compile\n",
        "model.compile(loss='binary_crossentropy', optimizer=Adam(learning_rate=0.001), metrics=['accuracy'])\n",
        "\n",
        "# Fit to a small subset to test if it can overfit\n",
        "history = model.fit(X_small, y_small, epochs=20, batch_size=10, verbose=2)"
      ]
    },
    {
      "cell_type": "code",
      "execution_count": null,
      "id": "bcfa8a67-aeb3-47e0-b32c-010a7b32e7d7",
      "metadata": {
        "id": "bcfa8a67-aeb3-47e0-b32c-010a7b32e7d7"
      },
      "outputs": [],
      "source": [
        "############# ---------- The output below is from older test execution --------------------"
      ]
    },
    {
      "cell_type": "code",
      "execution_count": null,
      "id": "d7af4577-cbe6-438c-a4b1-b537e743a04b",
      "metadata": {
        "id": "d7af4577-cbe6-438c-a4b1-b537e743a04b"
      },
      "outputs": [],
      "source": [
        "# Check Max Index vs Embedding Size\n",
        "\n",
        "print(\"Max index in padded input:\", np.max(X_train_pad))\n",
        "print(\"Embedding matrix shape:\", embedding_matrix.shape)\n"
      ]
    },
    {
      "cell_type": "code",
      "execution_count": null,
      "id": "7e9cf1c9-d155-420a-8f82-4ab35c125c22",
      "metadata": {
        "id": "7e9cf1c9-d155-420a-8f82-4ab35c125c22"
      },
      "outputs": [],
      "source": [
        "# Visualize Embedding Lookups\n",
        "\n",
        "row = X_train_pad[0]  # a tokenized tweet\n",
        "vecs = embedding_matrix[row]\n",
        "print(\"Any rows all zero?\", np.any(np.all(vecs == 0, axis=1)))  # Expect False\n",
        "print(\"How many zero vectors in one tweet?\", np.sum(np.all(vecs == 0, axis=1)))\n"
      ]
    },
    {
      "cell_type": "markdown",
      "id": "c291349f-e04b-43bc-99b3-fdac71643838",
      "metadata": {
        "id": "c291349f-e04b-43bc-99b3-fdac71643838"
      },
      "source": [
        "#### quick debugging insights\n",
        "\n",
        "That means ~74% of tokens in a tweet have no embeddings, the model is learning from almost nothing.\n",
        "\n",
        "Why?\n",
        "Because those tokens likely correspond to words not found in Word2Vec vocabulary. This means our embedding matrix isn't covering the actual tokens used in training."
      ]
    },
    {
      "cell_type": "code",
      "execution_count": null,
      "id": "7000e089-9699-4dc1-b3f9-4d8740e5999d",
      "metadata": {
        "id": "7000e089-9699-4dc1-b3f9-4d8740e5999d"
      },
      "outputs": [],
      "source": [
        "############# ---------------------------------------------------------------------------"
      ]
    },
    {
      "cell_type": "code",
      "execution_count": null,
      "id": "fabbac0f-7326-4dac-af1d-61e59fd8eff5",
      "metadata": {
        "id": "fabbac0f-7326-4dac-af1d-61e59fd8eff5"
      },
      "outputs": [],
      "source": [
        "# Now, we build our model\n",
        "\n",
        "# Define model\n",
        "LSTMmodel = Sequential()\n",
        "\n",
        "# 1. Embedding layer\n",
        "LSTMmodel.add(Embedding(\n",
        "    input_dim=embedding_matrix.shape[0],\n",
        "    output_dim=embedding_matrix.shape[1],\n",
        "    weights=[embedding_matrix],\n",
        "    input_length=max_len,\n",
        "    trainable=False\n",
        "))\n",
        "\n",
        "# 2. First LSTM\n",
        "LSTMmodel.add(Bidirectional(LSTM(265, return_sequences=True)))\n",
        "\n",
        "LSTMmodel.add(Dropout(0.5))\n",
        "\n",
        "# 3. Second LSTM\n",
        "LSTMmodel.add(Bidirectional(LSTM(128)))\n",
        "\n",
        "# 4. Dropout\n",
        "LSTMmodel.add(Dropout(0.3))\n",
        "\n",
        "# 5. Output\n",
        "LSTMmodel.add(Dense(1, activation='sigmoid'))\n",
        "\n",
        "# Compile\n",
        "optimizer = Nadam(learning_rate=0.001)\n",
        "LSTMmodel.compile(loss='binary_crossentropy', optimizer=optimizer, metrics=['accuracy'])\n",
        "\n",
        "# Show summary\n",
        "LSTMmodel.summary()"
      ]
    },
    {
      "cell_type": "code",
      "execution_count": null,
      "id": "34ea73bb-bc43-4933-b1ec-9856ed807ced",
      "metadata": {
        "id": "34ea73bb-bc43-4933-b1ec-9856ed807ced"
      },
      "outputs": [],
      "source": [
        "# Next we train our model, and then visualize performance\n",
        "\n",
        "early_stop = EarlyStopping(monitor='val_loss', patience=2, restore_best_weights=True)\n",
        "\n",
        "history = LSTMmodel.fit(\n",
        "    X_train_pad, y_train,\n",
        "    validation_data=(X_val_pad, y_val),\n",
        "    epochs=20,\n",
        "    batch_size=500,\n",
        "    callbacks=[early_stop]\n",
        ")\n",
        "\n",
        "# Save the model and download\n",
        "LSTMmodel.save(\"sentiment_lstm_model.keras\")\n",
        "\n",
        "# Plot training history\n",
        "plt.plot(history.history['accuracy'], label='Train Accuracy')\n",
        "plt.plot(history.history['val_accuracy'], label='Validation Accuracy')\n",
        "plt.plot(history.history['loss'], label='Train Loss')\n",
        "plt.plot(history.history['val_loss'], label='Validation Loss')\n",
        "plt.xlabel('Epoch')\n",
        "plt.ylabel('Value')\n",
        "plt.title('Training History')\n",
        "plt.legend()\n",
        "plt.grid(True)\n",
        "plt.show()"
      ]
    },
    {
      "cell_type": "markdown",
      "id": "42a09612-3089-468d-99a3-c4a97b9b3fa9",
      "metadata": {
        "id": "42a09612-3089-468d-99a3-c4a97b9b3fa9"
      },
      "source": [
        "______________________________________________________________________________________________________________________________"
      ]
    },
    {
      "cell_type": "code",
      "execution_count": null,
      "id": "GNlc4i-RAIaF",
      "metadata": {
        "id": "GNlc4i-RAIaF"
      },
      "outputs": [],
      "source": []
    },
    {
      "cell_type": "markdown",
      "id": "aabdf2dd-b6d2-4007-923c-f7825eba8057",
      "metadata": {
        "id": "aabdf2dd-b6d2-4007-923c-f7825eba8057"
      },
      "source": [
        "\n",
        "<div style=\"background-color:#e6f2ff; border-left:8px solid #0059b3; padding:20px; margin:20px 0;\">\n",
        "  <h2 style=\"color:#003366;\"><strong>4.3 BERT Model</strong></h2>\n",
        "  <p style=\"color:#333333;\">Fine-tuning DistilBERT or similar transformer model (if feasible).</p>\n",
        "</div>\n"
      ]
    },
    {
      "cell_type": "code",
      "execution_count": null,
      "id": "f6c94bb9-609c-486b-8f8b-65b4639e6aa1",
      "metadata": {
        "id": "f6c94bb9-609c-486b-8f8b-65b4639e6aa1"
      },
      "outputs": [],
      "source": []
    },
    {
      "cell_type": "code",
      "execution_count": null,
      "id": "8a93539e-953f-4fc9-815e-d1fed9a40a59",
      "metadata": {
        "id": "8a93539e-953f-4fc9-815e-d1fed9a40a59"
      },
      "outputs": [],
      "source": []
    },
    {
      "cell_type": "code",
      "execution_count": null,
      "id": "ca01e50d-51a1-4ba5-bd56-13275178ee60",
      "metadata": {
        "id": "ca01e50d-51a1-4ba5-bd56-13275178ee60"
      },
      "outputs": [],
      "source": []
    },
    {
      "cell_type": "markdown",
      "id": "a8a4741c-4ee7-4cdc-896c-1cde34dd2576",
      "metadata": {
        "id": "a8a4741c-4ee7-4cdc-896c-1cde34dd2576"
      },
      "source": [
        "\n",
        "<div style=\"background-color:#e6f2ff; border-left:8px solid #0059b3; padding:20px; margin:20px 0;\">\n",
        "  <h2 style=\"color:#003366;\"><strong>4.4 Model Comparison and Selection </strong></h2>\n",
        "  <p style=\"color:#333333;\">Evaluate using accuracy, precision, recall, F1-score, confusion matrix, and ROC curve.</p>\n",
        "</div>\n"
      ]
    },
    {
      "cell_type": "code",
      "execution_count": null,
      "id": "2aebebeb-b375-444f-819d-8533ddab8b94",
      "metadata": {
        "id": "2aebebeb-b375-444f-819d-8533ddab8b94"
      },
      "outputs": [],
      "source": []
    },
    {
      "cell_type": "code",
      "execution_count": null,
      "id": "4b3f91c4-a95f-4f73-bcb6-90cf39f812ac",
      "metadata": {
        "id": "4b3f91c4-a95f-4f73-bcb6-90cf39f812ac"
      },
      "outputs": [],
      "source": []
    },
    {
      "cell_type": "code",
      "execution_count": null,
      "id": "298bcfc6-2aca-42a1-9c0c-3ed858a9dfd3",
      "metadata": {
        "id": "298bcfc6-2aca-42a1-9c0c-3ed858a9dfd3"
      },
      "outputs": [],
      "source": []
    },
    {
      "cell_type": "markdown",
      "id": "YxrYhhreTQRJ",
      "metadata": {
        "id": "YxrYhhreTQRJ"
      },
      "source": [
        "<div style=\"background-color:#e6f2ff; border-left:8px solid #0059b3; padding:20px; margin:20px 0;\">\n",
        "  <h2 style=\"color:#003366;\"><strong>4.5 Final Model Training </strong></h2>\n",
        "  <p style=\"color:#333333;\">Evaluate using accuracy, precision, recall, F1-score, confusion matrix, and ROC curve.</p>\n",
        "</div>\n"
      ]
    },
    {
      "cell_type": "code",
      "execution_count": null,
      "id": "GnmHjnceTYSQ",
      "metadata": {
        "id": "GnmHjnceTYSQ"
      },
      "outputs": [],
      "source": []
    },
    {
      "cell_type": "code",
      "execution_count": null,
      "id": "Xf5HPKn_TYLP",
      "metadata": {
        "id": "Xf5HPKn_TYLP"
      },
      "outputs": [],
      "source": []
    },
    {
      "cell_type": "code",
      "execution_count": null,
      "id": "2Y-5wjoQTYEF",
      "metadata": {
        "id": "2Y-5wjoQTYEF"
      },
      "outputs": [],
      "source": []
    },
    {
      "cell_type": "markdown",
      "id": "DN003lpBTXTh",
      "metadata": {
        "id": "DN003lpBTXTh"
      },
      "source": [
        "<div style=\"background-color:#e6f2ff; border-left:8px solid #0059b3; padding:20px; margin:20px 0;\">\n",
        "  <h2 style=\"color:#003366;\"><strong>5. Model Evaluation </strong></h2>\n",
        "  <p style=\"color:#333333;\">Evaluate using accuracy, precision, recall, F1-score, confusion matrix, and ROC curve.</p>\n",
        "</div>\n"
      ]
    },
    {
      "cell_type": "code",
      "execution_count": null,
      "id": "GWLWudbFTdrp",
      "metadata": {
        "id": "GWLWudbFTdrp"
      },
      "outputs": [],
      "source": []
    },
    {
      "cell_type": "code",
      "execution_count": null,
      "id": "xkSi1djeTdkB",
      "metadata": {
        "id": "xkSi1djeTdkB"
      },
      "outputs": [],
      "source": []
    },
    {
      "cell_type": "code",
      "execution_count": null,
      "id": "weyusEaSTc5t",
      "metadata": {
        "id": "weyusEaSTc5t"
      },
      "outputs": [],
      "source": []
    },
    {
      "cell_type": "markdown",
      "id": "6b76a5fd-bdee-4cf4-9b77-e38b9d0091c2",
      "metadata": {
        "id": "6b76a5fd-bdee-4cf4-9b77-e38b9d0091c2"
      },
      "source": [
        "\n",
        "<div style=\"background-color:#e6f2ff; border-left:8px solid #0059b3; padding:20px; margin:20px 0;\">\n",
        "  <h2 style=\"color:#003366;\"><strong>6. Conclusion</strong></h2>\n",
        "  <p style=\"color:#333333;\">Summarize findings and insights, discuss trade-offs, and generalization potential.</p>\n",
        "</div>\n"
      ]
    },
    {
      "cell_type": "code",
      "execution_count": null,
      "id": "bf77c9af-e497-468d-9681-62b28983813c",
      "metadata": {
        "id": "bf77c9af-e497-468d-9681-62b28983813c"
      },
      "outputs": [],
      "source": []
    },
    {
      "cell_type": "code",
      "execution_count": null,
      "id": "1e59342d-fc85-4844-a623-2120b5e84c40",
      "metadata": {
        "id": "1e59342d-fc85-4844-a623-2120b5e84c40"
      },
      "outputs": [],
      "source": []
    },
    {
      "cell_type": "code",
      "execution_count": null,
      "id": "90202a63-50c8-4fbd-b577-95a5bd847aa9",
      "metadata": {
        "id": "90202a63-50c8-4fbd-b577-95a5bd847aa9"
      },
      "outputs": [],
      "source": []
    },
    {
      "cell_type": "markdown",
      "id": "1cf1820a-6795-41de-9869-46d93fb25b2f",
      "metadata": {
        "id": "1cf1820a-6795-41de-9869-46d93fb25b2f"
      },
      "source": [
        "\n",
        "<div style=\"background-color:#e6f2ff; border-left:8px solid #0059b3; padding:20px; margin:20px 0;\">\n",
        "  <h2 style=\"color:#003366;\"><strong>9. Future Work</strong></h2>\n",
        "  <p style=\"color:#333333;\">Suggest future extensions like streaming integration or domain adaptation.</p>\n",
        "</div>\n"
      ]
    },
    {
      "cell_type": "code",
      "execution_count": null,
      "id": "0f17894b-f59b-49f2-a707-f80148fb804f",
      "metadata": {
        "id": "0f17894b-f59b-49f2-a707-f80148fb804f"
      },
      "outputs": [],
      "source": []
    },
    {
      "cell_type": "code",
      "execution_count": null,
      "id": "59b62c59-2b2b-47d0-9071-e3c5d8920676",
      "metadata": {
        "id": "59b62c59-2b2b-47d0-9071-e3c5d8920676"
      },
      "outputs": [],
      "source": []
    }
  ],
  "metadata": {
    "colab": {
      "provenance": [],
      "include_colab_link": true
    },
    "kernelspec": {
      "display_name": "Python 3 (ipykernel)",
      "language": "python",
      "name": "python3"
    },
    "language_info": {
      "codemirror_mode": {
        "name": "ipython",
        "version": 3
      },
      "file_extension": ".py",
      "mimetype": "text/x-python",
      "name": "python",
      "nbconvert_exporter": "python",
      "pygments_lexer": "ipython3",
      "version": "3.12.4"
    }
  },
  "nbformat": 4,
  "nbformat_minor": 5
}