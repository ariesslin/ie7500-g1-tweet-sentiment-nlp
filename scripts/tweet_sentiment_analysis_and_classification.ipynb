{
  "cells": [
    {
      "cell_type": "markdown",
      "metadata": {
        "id": "view-in-github",
        "colab_type": "text"
      },
      "source": [
        "<a href=\"https://colab.research.google.com/github/ariesslin/ie7500-g1-tweet-sentiment-nlp/blob/main/scripts/tweet_sentiment_analysis_and_classification.ipynb\" target=\"_parent\"><img src=\"https://colab.research.google.com/assets/colab-badge.svg\" alt=\"Open In Colab\"/></a>"
      ]
    },
    {
      "cell_type": "markdown",
      "id": "10d67c03-2ae7-41f6-81d0-56fe632ece80",
      "metadata": {
        "id": "10d67c03-2ae7-41f6-81d0-56fe632ece80"
      },
      "source": [
        "<div style=\"background-color:#e6f2ff; border-left:8px solid #0059b3; padding:20px; margin:20px 0;\">\n",
        "  <h2 style=\"color:#003366;\"><strong>Tweet Sentiment Analysis & Classification</strong></h2>\n",
        "  <p style=\"color:#333333;\">Using LSTM and BERT on the Sentiment140 Dataset</p>\n",
        "</div>"
      ]
    },
    {
      "cell_type": "markdown",
      "id": "5ad9fdb6-b723-469c-a345-f2bbed6055a6",
      "metadata": {
        "id": "5ad9fdb6-b723-469c-a345-f2bbed6055a6"
      },
      "source": [
        "(TODO: to be reviewed for submission)\n",
        "\n",
        "## Motivation\n",
        "\n",
        "In today’s digital world, platforms like X (formerly Twitter) reflect real-time public sentiment across domains — from financial markets to political discourse. Viral tweets have shaped investor behavior, brand reputation, and public policy in minutes. Traditional models in finance or decision systems often overlook this emotional layer, making them vulnerable to unanticipated shifts in public opinion.\n",
        "\n",
        "## Problem Statement\n",
        "\n",
        "This project aims to build a robust sentiment classifier for short, informal texts — specifically, tweets. Using the Sentiment140 dataset (1.6M tweets labeled via distant supervision), we aim to evaluate and compare classical and deep learning models to answer:\n",
        "\n",
        "- Which architecture (TF-IDF + Logistic Regression, LSTM, or BERT) performs best on tweet sentiment classification?\n",
        "- What are the trade-offs between accuracy and complexity?\n",
        "- How well do models generalize to real-world, unseen tweets?\n",
        "\n",
        "## Objective\n",
        "\n",
        "This notebook builds a tweet sentiment classifier using the Sentiment140 dataset. We compare classical and deep learning models — TF-IDF + Logistic Regression, Bidirectional LSTM, and DistilBERT — to understand which architecture best captures sentiment in short, informal texts. Each model is evaluated in terms of accuracy, complexity, and generalizability, with the goal of identifying the most effective approach for real-world sentiment classification in domains such as finance, brand monitoring, and public feedback systems."
      ]
    },
    {
      "cell_type": "markdown",
      "id": "ad962f3b-7abc-4d06-a83d-22f7bc0bdcfc",
      "metadata": {
        "id": "ad962f3b-7abc-4d06-a83d-22f7bc0bdcfc"
      },
      "source": [
        "\n",
        "<div style=\"background-color:#e6f2ff; border-left:8px solid #0059b3; padding:20px; margin:20px 0;\">\n",
        "  <h2 style=\"color:#003366;\"><strong>1. Data Loading & Overview</strong></h2>\n",
        "  <p style=\"color:#333333;\">Import Sentiment140 dataset and display basic information (shape, preview of data, null values, column types, etc).</p>\n",
        "</div>\n"
      ]
    },
    {
      "cell_type": "code",
      "execution_count": 2,
      "id": "ugwVdiT38xCV",
      "metadata": {
        "id": "ugwVdiT38xCV"
      },
      "outputs": [],
      "source": [
        "# importing all libraries here\n",
        "import gdown\n",
        "import os\n",
        "import pandas as pd\n",
        "import matplotlib.pyplot as plt\n",
        "import seaborn as sns\n",
        "import re\n",
        "import html"
      ]
    },
    {
      "cell_type": "markdown",
      "id": "kS6RNq-A-Kp6",
      "metadata": {
        "id": "kS6RNq-A-Kp6"
      },
      "source": [
        "The original dataset is available on Kaggle [Sentiment140 dataset](https://www.kaggle.com/datasets/kazanova/sentiment140?resource=download). Since the dataset is approximately 239MB, we host it on Google Drive to simplify access and avoid GitHub’s file size limitations (maximum 100MB) for version-controlled repositories.\n",
        "\n",
        "We use the `gdown` library to programmatically download the dataset into the local environment."
      ]
    },
    {
      "cell_type": "code",
      "execution_count": 2,
      "id": "5_dcbDRgBxiL",
      "metadata": {
        "colab": {
          "base_uri": "https://localhost:8080/",
          "height": 125
        },
        "id": "5_dcbDRgBxiL",
        "outputId": "c675db3f-a4ab-4b65-df99-14ee3f9012d1"
      },
      "outputs": [
        {
          "output_type": "stream",
          "name": "stderr",
          "text": [
            "Downloading...\n",
            "From (original): https://drive.google.com/uc?id=1OeMI3bTQHZrCchkI-vMv2Ibv6RLGk7aS\n",
            "From (redirected): https://drive.google.com/uc?id=1OeMI3bTQHZrCchkI-vMv2Ibv6RLGk7aS&confirm=t&uuid=fadcfb40-0648-497a-8ae8-12dbb463d1cd\n",
            "To: /data/sentiment140.csv\n",
            "100%|██████████| 239M/239M [00:03<00:00, 66.8MB/s]\n"
          ]
        },
        {
          "output_type": "execute_result",
          "data": {
            "text/plain": [
              "'../data/sentiment140.csv'"
            ],
            "application/vnd.google.colaboratory.intrinsic+json": {
              "type": "string"
            }
          },
          "metadata": {},
          "execution_count": 2
        }
      ],
      "source": [
        "# Load the raw dataset\n",
        "os.makedirs(\"../data\", exist_ok=True)\n",
        "\n",
        "url = f\"https://drive.google.com/uc?id=1OeMI3bTQHZrCchkI-vMv2Ibv6RLGk7aS\"\n",
        "output = \"../data/sentiment140.csv\"\n",
        "\n",
        "gdown.download(url, output, quiet=False)"
      ]
    },
    {
      "cell_type": "code",
      "execution_count": 3,
      "id": "37a68f8d-1636-43a1-8ff6-5ec5bfff703e",
      "metadata": {
        "id": "37a68f8d-1636-43a1-8ff6-5ec5bfff703e"
      },
      "outputs": [],
      "source": [
        "# Naming columns for readability\n",
        "columns = [\n",
        "    \"target\",    # Sentiment (0=negative, 2=neutral, 4=positive)\n",
        "    \"id\",        # Tweet ID\n",
        "    \"date\",      # Date of tweet\n",
        "    \"flag\",      # Query flag\n",
        "    \"user\",      # Username\n",
        "    \"text\"       # Tweet text\n",
        "]\n",
        "\n",
        "df = pd.read_csv(\n",
        "    \"../data/sentiment140.csv\",\n",
        "    encoding='latin-1',\n",
        "    header=None,\n",
        "    names=columns\n",
        ")"
      ]
    },
    {
      "cell_type": "code",
      "execution_count": null,
      "id": "c544af07-5100-422d-87c6-7340b68d7a86",
      "metadata": {
        "colab": {
          "base_uri": "https://localhost:8080/",
          "height": 206
        },
        "id": "c544af07-5100-422d-87c6-7340b68d7a86",
        "outputId": "f5721188-fef1-4ea4-a8c3-d160e410c25f"
      },
      "outputs": [
        {
          "data": {
            "text/html": [
              "<div>\n",
              "<style scoped>\n",
              "    .dataframe tbody tr th:only-of-type {\n",
              "        vertical-align: middle;\n",
              "    }\n",
              "\n",
              "    .dataframe tbody tr th {\n",
              "        vertical-align: top;\n",
              "    }\n",
              "\n",
              "    .dataframe thead th {\n",
              "        text-align: right;\n",
              "    }\n",
              "</style>\n",
              "<table border=\"1\" class=\"dataframe\">\n",
              "  <thead>\n",
              "    <tr style=\"text-align: right;\">\n",
              "      <th></th>\n",
              "      <th>target</th>\n",
              "      <th>id</th>\n",
              "      <th>date</th>\n",
              "      <th>flag</th>\n",
              "      <th>user</th>\n",
              "      <th>text</th>\n",
              "    </tr>\n",
              "  </thead>\n",
              "  <tbody>\n",
              "    <tr>\n",
              "      <th>0</th>\n",
              "      <td>0</td>\n",
              "      <td>1467810369</td>\n",
              "      <td>Mon Apr 06 22:19:45 PDT 2009</td>\n",
              "      <td>NO_QUERY</td>\n",
              "      <td>_TheSpecialOne_</td>\n",
              "      <td>@switchfoot http://twitpic.com/2y1zl - Awww, t...</td>\n",
              "    </tr>\n",
              "    <tr>\n",
              "      <th>1</th>\n",
              "      <td>0</td>\n",
              "      <td>1467810672</td>\n",
              "      <td>Mon Apr 06 22:19:49 PDT 2009</td>\n",
              "      <td>NO_QUERY</td>\n",
              "      <td>scotthamilton</td>\n",
              "      <td>is upset that he can't update his Facebook by ...</td>\n",
              "    </tr>\n",
              "    <tr>\n",
              "      <th>2</th>\n",
              "      <td>0</td>\n",
              "      <td>1467810917</td>\n",
              "      <td>Mon Apr 06 22:19:53 PDT 2009</td>\n",
              "      <td>NO_QUERY</td>\n",
              "      <td>mattycus</td>\n",
              "      <td>@Kenichan I dived many times for the ball. Man...</td>\n",
              "    </tr>\n",
              "    <tr>\n",
              "      <th>3</th>\n",
              "      <td>0</td>\n",
              "      <td>1467811184</td>\n",
              "      <td>Mon Apr 06 22:19:57 PDT 2009</td>\n",
              "      <td>NO_QUERY</td>\n",
              "      <td>ElleCTF</td>\n",
              "      <td>my whole body feels itchy and like its on fire</td>\n",
              "    </tr>\n",
              "    <tr>\n",
              "      <th>4</th>\n",
              "      <td>0</td>\n",
              "      <td>1467811193</td>\n",
              "      <td>Mon Apr 06 22:19:57 PDT 2009</td>\n",
              "      <td>NO_QUERY</td>\n",
              "      <td>Karoli</td>\n",
              "      <td>@nationwideclass no, it's not behaving at all....</td>\n",
              "    </tr>\n",
              "  </tbody>\n",
              "</table>\n",
              "</div>"
            ],
            "text/plain": [
              "   target          id                          date      flag  \\\n",
              "0       0  1467810369  Mon Apr 06 22:19:45 PDT 2009  NO_QUERY   \n",
              "1       0  1467810672  Mon Apr 06 22:19:49 PDT 2009  NO_QUERY   \n",
              "2       0  1467810917  Mon Apr 06 22:19:53 PDT 2009  NO_QUERY   \n",
              "3       0  1467811184  Mon Apr 06 22:19:57 PDT 2009  NO_QUERY   \n",
              "4       0  1467811193  Mon Apr 06 22:19:57 PDT 2009  NO_QUERY   \n",
              "\n",
              "              user                                               text  \n",
              "0  _TheSpecialOne_  @switchfoot http://twitpic.com/2y1zl - Awww, t...  \n",
              "1    scotthamilton  is upset that he can't update his Facebook by ...  \n",
              "2         mattycus  @Kenichan I dived many times for the ball. Man...  \n",
              "3          ElleCTF    my whole body feels itchy and like its on fire   \n",
              "4           Karoli  @nationwideclass no, it's not behaving at all....  "
            ]
          },
          "execution_count": 4,
          "metadata": {},
          "output_type": "execute_result"
        }
      ],
      "source": [
        "# Show first 5 rows\n",
        "df.head(5)"
      ]
    },
    {
      "cell_type": "code",
      "execution_count": null,
      "id": "792d0dd5-769d-4b75-8203-7dbadfe365a1",
      "metadata": {
        "id": "792d0dd5-769d-4b75-8203-7dbadfe365a1",
        "outputId": "962b851e-d86b-41ed-db76-ac6da74688db"
      },
      "outputs": [
        {
          "name": "stdout",
          "output_type": "stream",
          "text": [
            "<class 'pandas.core.frame.DataFrame'>\n",
            "RangeIndex: 1600000 entries, 0 to 1599999\n",
            "Data columns (total 6 columns):\n",
            " #   Column  Non-Null Count    Dtype \n",
            "---  ------  --------------    ----- \n",
            " 0   target  1600000 non-null  int64 \n",
            " 1   id      1600000 non-null  int64 \n",
            " 2   date    1600000 non-null  object\n",
            " 3   flag    1600000 non-null  object\n",
            " 4   user    1600000 non-null  object\n",
            " 5   text    1600000 non-null  object\n",
            "dtypes: int64(2), object(4)\n",
            "memory usage: 73.2+ MB\n"
          ]
        }
      ],
      "source": [
        "# Check for null values and data types\n",
        "df.info()"
      ]
    },
    {
      "cell_type": "code",
      "execution_count": null,
      "id": "3165ec5e-c91f-4988-9626-abf35948fd81",
      "metadata": {
        "id": "3165ec5e-c91f-4988-9626-abf35948fd81",
        "outputId": "89f75987-f7d7-4c9c-a1a8-2757b51b757e"
      },
      "outputs": [
        {
          "data": {
            "text/html": [
              "<div>\n",
              "<style scoped>\n",
              "    .dataframe tbody tr th:only-of-type {\n",
              "        vertical-align: middle;\n",
              "    }\n",
              "\n",
              "    .dataframe tbody tr th {\n",
              "        vertical-align: top;\n",
              "    }\n",
              "\n",
              "    .dataframe thead th {\n",
              "        text-align: right;\n",
              "    }\n",
              "</style>\n",
              "<table border=\"1\" class=\"dataframe\">\n",
              "  <thead>\n",
              "    <tr style=\"text-align: right;\">\n",
              "      <th></th>\n",
              "      <th>target</th>\n",
              "      <th>id</th>\n",
              "    </tr>\n",
              "  </thead>\n",
              "  <tbody>\n",
              "    <tr>\n",
              "      <th>count</th>\n",
              "      <td>1.600000e+06</td>\n",
              "      <td>1.600000e+06</td>\n",
              "    </tr>\n",
              "    <tr>\n",
              "      <th>mean</th>\n",
              "      <td>2.000000e+00</td>\n",
              "      <td>1.998818e+09</td>\n",
              "    </tr>\n",
              "    <tr>\n",
              "      <th>std</th>\n",
              "      <td>2.000001e+00</td>\n",
              "      <td>1.935761e+08</td>\n",
              "    </tr>\n",
              "    <tr>\n",
              "      <th>min</th>\n",
              "      <td>0.000000e+00</td>\n",
              "      <td>1.467810e+09</td>\n",
              "    </tr>\n",
              "    <tr>\n",
              "      <th>25%</th>\n",
              "      <td>0.000000e+00</td>\n",
              "      <td>1.956916e+09</td>\n",
              "    </tr>\n",
              "    <tr>\n",
              "      <th>50%</th>\n",
              "      <td>2.000000e+00</td>\n",
              "      <td>2.002102e+09</td>\n",
              "    </tr>\n",
              "    <tr>\n",
              "      <th>75%</th>\n",
              "      <td>4.000000e+00</td>\n",
              "      <td>2.177059e+09</td>\n",
              "    </tr>\n",
              "    <tr>\n",
              "      <th>max</th>\n",
              "      <td>4.000000e+00</td>\n",
              "      <td>2.329206e+09</td>\n",
              "    </tr>\n",
              "  </tbody>\n",
              "</table>\n",
              "</div>"
            ],
            "text/plain": [
              "             target            id\n",
              "count  1.600000e+06  1.600000e+06\n",
              "mean   2.000000e+00  1.998818e+09\n",
              "std    2.000001e+00  1.935761e+08\n",
              "min    0.000000e+00  1.467810e+09\n",
              "25%    0.000000e+00  1.956916e+09\n",
              "50%    2.000000e+00  2.002102e+09\n",
              "75%    4.000000e+00  2.177059e+09\n",
              "max    4.000000e+00  2.329206e+09"
            ]
          },
          "execution_count": 6,
          "metadata": {},
          "output_type": "execute_result"
        }
      ],
      "source": [
        "# Summary statistics for numeric columns\n",
        "df.describe()"
      ]
    },
    {
      "cell_type": "code",
      "execution_count": null,
      "id": "03908e56-8393-4f27-a180-9139490e3957",
      "metadata": {
        "id": "03908e56-8393-4f27-a180-9139490e3957",
        "outputId": "c650cb49-f4bc-47d4-aab5-f581a0004163"
      },
      "outputs": [
        {
          "data": {
            "text/plain": [
              "array([0, 4])"
            ]
          },
          "execution_count": 7,
          "metadata": {},
          "output_type": "execute_result"
        }
      ],
      "source": [
        "df['target'].unique()"
      ]
    },
    {
      "cell_type": "markdown",
      "id": "557c9a4e-784d-4ce1-a6a8-a882e533001d",
      "metadata": {
        "id": "557c9a4e-784d-4ce1-a6a8-a882e533001d"
      },
      "source": [
        "### Dataset Overview and Initial Insights\n",
        "\n",
        "**From `df.info()`:**\n",
        "- The dataset contains **1,600,000 entries** and **6 columns**: `target`, `id`, `date`, `flag`, `user`, and `text`.\n",
        "- **No missing values** in any column which indicates good structural integrity.\n",
        "- **Data types**:\n",
        "  - `target` and `id`: `int64`\n",
        "  - `date`, `flag`, `user`, `text`: `object` (which are likely strings)\n",
        "\n",
        "---\n",
        "\n",
        "**From `df.describe()`:**\n",
        "\n",
        "- **`target`**:\n",
        "  - Range: 0 to 4\n",
        "  - Mean = 2.0, Std = 2.0 → appears fairly balanced, but needs verification with `value_counts()`.\n",
        "\n",
        "- **`id`**:\n",
        "  - Large numeric values, probably unique identifiers (e.g., tweet IDs).\n",
        "  - Not useful for prediction but useful for indexing or referencing.\n",
        "\n",
        "---\n",
        "\n",
        "### Initial Findings Summary\n",
        "\n",
        "- Data integrity looks solid — **no nulls**, appropriate dtypes.\n",
        "- `target` is the label column, we will need to examine and check class balance. It only contains **0 (negative)** and **4 (positive)** labels. Although the original Sentiment140 dataset defines a third class (2 = neutral), it is **not present in this version**, making this a **binary classification task**.\n",
        "- The `id` column contains unique identifiers for each tweet. While useful for referencing individual entries, it is **not relevant to sentiment prediction** and can be safely dropped during data processing.\n",
        "- Since all `id` values are unique, we can **confidently conclude there are no duplicate tweets**, at least in terms of tweet identity."
      ]
    },
    {
      "cell_type": "markdown",
      "id": "ba3dd259-9a08-4ed8-a6f6-fdd18bb130bb",
      "metadata": {
        "id": "ba3dd259-9a08-4ed8-a6f6-fdd18bb130bb"
      },
      "source": [
        "\n",
        "<div style=\"background-color:#e6f2ff; border-left:8px solid #0059b3; padding:20px; margin:20px 0;\">\n",
        "  <h2 style=\"color:#003366;\"><strong>2. Exploratory Data Analysis (EDA)</strong></h2>\n",
        "  <p style=\"color:#333333;\">Analyze class distribution, tweet length, temporal trends, and tweet content structure</p>\n",
        "</div>\n"
      ]
    },
    {
      "cell_type": "markdown",
      "id": "uTM7bwIh-5Et",
      "metadata": {
        "id": "uTM7bwIh-5Et"
      },
      "source": [
        "### EDA Deep Dives into distributions"
      ]
    },
    {
      "cell_type": "code",
      "execution_count": 22,
      "id": "1decb7ed-b060-4464-958e-8decba03bfca",
      "metadata": {
        "id": "1decb7ed-b060-4464-958e-8decba03bfca"
      },
      "outputs": [],
      "source": [
        "# Define a custom color palette for sentiment classes:\n",
        "# 0 = Negative → Soft red-orange (#fc8d62)\n",
        "# 4 = Positive → Muted teal green (#66c2a5)\n",
        "# (Optional future: 2 = Neutral → Light blue-gray, e.g., #8da0cb)\n",
        "sentiment_palette = {\n",
        "    0: '#fc8d62',  # Negative sentiment\n",
        "    4: '#66c2a5'   # Positive sentiment\n",
        "}"
      ]
    },
    {
      "cell_type": "code",
      "execution_count": 23,
      "id": "8dc0060c-3bee-4f7a-93d3-b71c468f0fb0",
      "metadata": {
        "colab": {
          "base_uri": "https://localhost:8080/",
          "height": 501
        },
        "id": "8dc0060c-3bee-4f7a-93d3-b71c468f0fb0",
        "outputId": "e9b14767-1c98-46c6-9ed0-8cfb14ef10de"
      },
      "outputs": [
        {
          "output_type": "display_data",
          "data": {
            "text/plain": [
              "<Figure size 800x500 with 1 Axes>"
            ],
            "image/png": "[encoded data removed]"
          },
          "metadata": {}
        }
      ],
      "source": [
        "# we now start visualizing the distributions of the target\n",
        "\n",
        "# Set a clean visual style\n",
        "sns.set(style=\"whitegrid\")\n",
        "\n",
        "# Calculate value counts\n",
        "target_counts = df['target'].value_counts().sort_index()\n",
        "\n",
        "# Create the bar plot\n",
        "plt.figure(figsize=(8, 5))\n",
        "barplot = sns.barplot(x=target_counts.index, y=target_counts.values, hue=target_counts.index, palette=custom_palette, legend=True)\n",
        "\n",
        "# Add value labels on bars\n",
        "for i, value in enumerate(target_counts.values):\n",
        "    plt.text(i, value + max(target_counts.values)*0.01, f'{value:,}',\n",
        "             ha='center', va='bottom', fontsize=11)\n",
        "\n",
        "# Titles and labels\n",
        "plt.title('Distribution of Target Classes', fontsize=14, fontweight='bold')\n",
        "plt.xlabel('Target Class', fontsize=12)\n",
        "plt.ylabel('Number of Samples', fontsize=12)\n",
        "plt.xticks(fontsize=11)\n",
        "plt.yticks(fontsize=11)\n",
        "plt.tight_layout()\n",
        "\n",
        "# Customize the legend labels\n",
        "# Get the legend object\n",
        "handles, labels = barplot.get_legend_handles_labels()\n",
        "\n",
        "# Create a dictionary to map old labels (0, 4) to new labels ('Negative', 'Positive')\n",
        "new_labels = {'0': 'Negative (0)', '4': 'Positive (4)'}\n",
        "\n",
        "# Update the labels in the legend\n",
        "updated_labels = [new_labels[label] for label in labels]\n",
        "barplot.legend(handles, updated_labels, title=\"Sentiment\")\n",
        "\n",
        "plt.show()"
      ]
    },
    {
      "cell_type": "markdown",
      "id": "9ea0b4d2-cd77-42a5-9e66-8f46a6b02313",
      "metadata": {
        "id": "9ea0b4d2-cd77-42a5-9e66-8f46a6b02313"
      },
      "source": [
        "#### Bar Chart Distribution Insight:\n",
        "\n",
        "Despite the Kaggle description suggesting that the dataset includes three sentiment classes (positive, negative, and neutral), this chart reveals that the annotations are limited to only two classes:\n",
        "\n",
        "0: Negative sentiment\n",
        "\n",
        "4: Positive sentiment\n",
        "\n",
        "There are no neutral (class 2) samples present in this dataset.\n",
        "Additionally, the distribution appears to be perfectly balanced, with approximately 800,000 samples in each class. This is ideal for training a binary classifier, as it minimizes issues related to class imbalance."
      ]
    },
    {
      "cell_type": "markdown",
      "id": "7b81cbbb-1c4c-407f-9e65-7de35c8aaf23",
      "metadata": {
        "id": "7b81cbbb-1c4c-407f-9e65-7de35c8aaf23"
      },
      "source": [
        "### Temporal Trends Analysis"
      ]
    },
    {
      "cell_type": "code",
      "execution_count": 4,
      "id": "czLi4W9x9sfy",
      "metadata": {
        "colab": {
          "base_uri": "https://localhost:8080/",
          "height": 206
        },
        "id": "czLi4W9x9sfy",
        "outputId": "18596bc8-5ac9-46ae-8550-292683cf337e"
      },
      "outputs": [
        {
          "output_type": "execute_result",
          "data": {
            "text/plain": [
              "   target          id                date      flag             user  \\\n",
              "0       0  1467810369 2009-04-06 22:19:45  NO_QUERY  _TheSpecialOne_   \n",
              "1       0  1467810672 2009-04-06 22:19:49  NO_QUERY    scotthamilton   \n",
              "2       0  1467810917 2009-04-06 22:19:53  NO_QUERY         mattycus   \n",
              "3       0  1467811184 2009-04-06 22:19:57  NO_QUERY          ElleCTF   \n",
              "4       0  1467811193 2009-04-06 22:19:57  NO_QUERY           Karoli   \n",
              "\n",
              "                                                text  year  \n",
              "0  @switchfoot http://twitpic.com/2y1zl - Awww, t...  2009  \n",
              "1  is upset that he can't update his Facebook by ...  2009  \n",
              "2  @Kenichan I dived many times for the ball. Man...  2009  \n",
              "3    my whole body feels itchy and like its on fire   2009  \n",
              "4  @nationwideclass no, it's not behaving at all....  2009  "
            ],
            "text/html": [
              "\n",
              "  <div id=\"df-6213d36b-3cbc-44b7-99b5-20e133536c71\" class=\"colab-df-container\">\n",
              "    <div>\n",
              "<style scoped>\n",
              "    .dataframe tbody tr th:only-of-type {\n",
              "        vertical-align: middle;\n",
              "    }\n",
              "\n",
              "    .dataframe tbody tr th {\n",
              "        vertical-align: top;\n",
              "    }\n",
              "\n",
              "    .dataframe thead th {\n",
              "        text-align: right;\n",
              "    }\n",
              "</style>\n",
              "<table border=\"1\" class=\"dataframe\">\n",
              "  <thead>\n",
              "    <tr style=\"text-align: right;\">\n",
              "      <th></th>\n",
              "      <th>target</th>\n",
              "      <th>id</th>\n",
              "      <th>date</th>\n",
              "      <th>flag</th>\n",
              "      <th>user</th>\n",
              "      <th>text</th>\n",
              "      <th>year</th>\n",
              "    </tr>\n",
              "  </thead>\n",
              "  <tbody>\n",
              "    <tr>\n",
              "      <th>0</th>\n",
              "      <td>0</td>\n",
              "      <td>1467810369</td>\n",
              "      <td>2009-04-06 22:19:45</td>\n",
              "      <td>NO_QUERY</td>\n",
              "      <td>_TheSpecialOne_</td>\n",
              "      <td>@switchfoot http://twitpic.com/2y1zl - Awww, t...</td>\n",
              "      <td>2009</td>\n",
              "    </tr>\n",
              "    <tr>\n",
              "      <th>1</th>\n",
              "      <td>0</td>\n",
              "      <td>1467810672</td>\n",
              "      <td>2009-04-06 22:19:49</td>\n",
              "      <td>NO_QUERY</td>\n",
              "      <td>scotthamilton</td>\n",
              "      <td>is upset that he can't update his Facebook by ...</td>\n",
              "      <td>2009</td>\n",
              "    </tr>\n",
              "    <tr>\n",
              "      <th>2</th>\n",
              "      <td>0</td>\n",
              "      <td>1467810917</td>\n",
              "      <td>2009-04-06 22:19:53</td>\n",
              "      <td>NO_QUERY</td>\n",
              "      <td>mattycus</td>\n",
              "      <td>@Kenichan I dived many times for the ball. Man...</td>\n",
              "      <td>2009</td>\n",
              "    </tr>\n",
              "    <tr>\n",
              "      <th>3</th>\n",
              "      <td>0</td>\n",
              "      <td>1467811184</td>\n",
              "      <td>2009-04-06 22:19:57</td>\n",
              "      <td>NO_QUERY</td>\n",
              "      <td>ElleCTF</td>\n",
              "      <td>my whole body feels itchy and like its on fire</td>\n",
              "      <td>2009</td>\n",
              "    </tr>\n",
              "    <tr>\n",
              "      <th>4</th>\n",
              "      <td>0</td>\n",
              "      <td>1467811193</td>\n",
              "      <td>2009-04-06 22:19:57</td>\n",
              "      <td>NO_QUERY</td>\n",
              "      <td>Karoli</td>\n",
              "      <td>@nationwideclass no, it's not behaving at all....</td>\n",
              "      <td>2009</td>\n",
              "    </tr>\n",
              "  </tbody>\n",
              "</table>\n",
              "</div>\n",
              "    <div class=\"colab-df-buttons\">\n",
              "\n",
              "  <div class=\"colab-df-container\">\n",
              "    <button class=\"colab-df-convert\" onclick=\"convertToInteractive('df-6213d36b-3cbc-44b7-99b5-20e133536c71')\"\n",
              "            title=\"Convert this dataframe to an interactive table.\"\n",
              "            style=\"display:none;\">\n",
              "\n",
              "  <svg xmlns=\"http://www.w3.org/2000/svg\" height=\"24px\" viewBox=\"0 -960 960 960\">\n",
              "    <path d=\"M120-120v-720h720v720H120Zm60-500h600v-160H180v160Zm220 220h160v-160H400v160Zm0 220h160v-160H400v160ZM180-400h160v-160H180v160Zm440 0h160v-160H620v160ZM180-180h160v-160H180v160Zm440 0h160v-160H620v160Z\"/>\n",
              "  </svg>\n",
              "    </button>\n",
              "\n",
              "  <style>\n",
              "    .colab-df-container {\n",
              "      display:flex;\n",
              "      gap: 12px;\n",
              "    }\n",
              "\n",
              "    .colab-df-convert {\n",
              "      background-color: #E8F0FE;\n",
              "      border: none;\n",
              "      border-radius: 50%;\n",
              "      cursor: pointer;\n",
              "      display: none;\n",
              "      fill: #1967D2;\n",
              "      height: 32px;\n",
              "      padding: 0 0 0 0;\n",
              "      width: 32px;\n",
              "    }\n",
              "\n",
              "    .colab-df-convert:hover {\n",
              "      background-color: #E2EBFA;\n",
              "      box-shadow: 0px 1px 2px rgba(60, 64, 67, 0.3), 0px 1px 3px 1px rgba(60, 64, 67, 0.15);\n",
              "      fill: #174EA6;\n",
              "    }\n",
              "\n",
              "    .colab-df-buttons div {\n",
              "      margin-bottom: 4px;\n",
              "    }\n",
              "\n",
              "    [theme=dark] .colab-df-convert {\n",
              "      background-color: #3B4455;\n",
              "      fill: #D2E3FC;\n",
              "    }\n",
              "\n",
              "    [theme=dark] .colab-df-convert:hover {\n",
              "      background-color: #434B5C;\n",
              "      box-shadow: 0px 1px 3px 1px rgba(0, 0, 0, 0.15);\n",
              "      filter: drop-shadow(0px 1px 2px rgba(0, 0, 0, 0.3));\n",
              "      fill: #FFFFFF;\n",
              "    }\n",
              "  </style>\n",
              "\n",
              "    <script>\n",
              "      const buttonEl =\n",
              "        document.querySelector('#df-6213d36b-3cbc-44b7-99b5-20e133536c71 button.colab-df-convert');\n",
              "      buttonEl.style.display =\n",
              "        google.colab.kernel.accessAllowed ? 'block' : 'none';\n",
              "\n",
              "      async function convertToInteractive(key) {\n",
              "        const element = document.querySelector('#df-6213d36b-3cbc-44b7-99b5-20e133536c71');\n",
              "        const dataTable =\n",
              "          await google.colab.kernel.invokeFunction('convertToInteractive',\n",
              "                                                    [key], {});\n",
              "        if (!dataTable) return;\n",
              "\n",
              "        const docLinkHtml = 'Like what you see? Visit the ' +\n",
              "          '<a target=\"_blank\" href=https://colab.research.google.com/notebooks/data_table.ipynb>data table notebook</a>'\n",
              "          + ' to learn more about interactive tables.';\n",
              "        element.innerHTML = '';\n",
              "        dataTable['output_type'] = 'display_data';\n",
              "        await google.colab.output.renderOutput(dataTable, element);\n",
              "        const docLink = document.createElement('div');\n",
              "        docLink.innerHTML = docLinkHtml;\n",
              "        element.appendChild(docLink);\n",
              "      }\n",
              "    </script>\n",
              "  </div>\n",
              "\n",
              "\n",
              "    <div id=\"df-3ff57188-b7d5-4d1f-8129-01a8e13988b5\">\n",
              "      <button class=\"colab-df-quickchart\" onclick=\"quickchart('df-3ff57188-b7d5-4d1f-8129-01a8e13988b5')\"\n",
              "                title=\"Suggest charts\"\n",
              "                style=\"display:none;\">\n",
              "\n",
              "<svg xmlns=\"http://www.w3.org/2000/svg\" height=\"24px\"viewBox=\"0 0 24 24\"\n",
              "     width=\"24px\">\n",
              "    <g>\n",
              "        <path d=\"M19 3H5c-1.1 0-2 .9-2 2v14c0 1.1.9 2 2 2h14c1.1 0 2-.9 2-2V5c0-1.1-.9-2-2-2zM9 17H7v-7h2v7zm4 0h-2V7h2v10zm4 0h-2v-4h2v4z\"/>\n",
              "    </g>\n",
              "</svg>\n",
              "      </button>\n",
              "\n",
              "<style>\n",
              "  .colab-df-quickchart {\n",
              "      --bg-color: #E8F0FE;\n",
              "      --fill-color: #1967D2;\n",
              "      --hover-bg-color: #E2EBFA;\n",
              "      --hover-fill-color: #174EA6;\n",
              "      --disabled-fill-color: #AAA;\n",
              "      --disabled-bg-color: #DDD;\n",
              "  }\n",
              "\n",
              "  [theme=dark] .colab-df-quickchart {\n",
              "      --bg-color: #3B4455;\n",
              "      --fill-color: #D2E3FC;\n",
              "      --hover-bg-color: #434B5C;\n",
              "      --hover-fill-color: #FFFFFF;\n",
              "      --disabled-bg-color: #3B4455;\n",
              "      --disabled-fill-color: #666;\n",
              "  }\n",
              "\n",
              "  .colab-df-quickchart {\n",
              "    background-color: var(--bg-color);\n",
              "    border: none;\n",
              "    border-radius: 50%;\n",
              "    cursor: pointer;\n",
              "    display: none;\n",
              "    fill: var(--fill-color);\n",
              "    height: 32px;\n",
              "    padding: 0;\n",
              "    width: 32px;\n",
              "  }\n",
              "\n",
              "  .colab-df-quickchart:hover {\n",
              "    background-color: var(--hover-bg-color);\n",
              "    box-shadow: 0 1px 2px rgba(60, 64, 67, 0.3), 0 1px 3px 1px rgba(60, 64, 67, 0.15);\n",
              "    fill: var(--button-hover-fill-color);\n",
              "  }\n",
              "\n",
              "  .colab-df-quickchart-complete:disabled,\n",
              "  .colab-df-quickchart-complete:disabled:hover {\n",
              "    background-color: var(--disabled-bg-color);\n",
              "    fill: var(--disabled-fill-color);\n",
              "    box-shadow: none;\n",
              "  }\n",
              "\n",
              "  .colab-df-spinner {\n",
              "    border: 2px solid var(--fill-color);\n",
              "    border-color: transparent;\n",
              "    border-bottom-color: var(--fill-color);\n",
              "    animation:\n",
              "      spin 1s steps(1) infinite;\n",
              "  }\n",
              "\n",
              "  @keyframes spin {\n",
              "    0% {\n",
              "      border-color: transparent;\n",
              "      border-bottom-color: var(--fill-color);\n",
              "      border-left-color: var(--fill-color);\n",
              "    }\n",
              "    20% {\n",
              "      border-color: transparent;\n",
              "      border-left-color: var(--fill-color);\n",
              "      border-top-color: var(--fill-color);\n",
              "    }\n",
              "    30% {\n",
              "      border-color: transparent;\n",
              "      border-left-color: var(--fill-color);\n",
              "      border-top-color: var(--fill-color);\n",
              "      border-right-color: var(--fill-color);\n",
              "    }\n",
              "    40% {\n",
              "      border-color: transparent;\n",
              "      border-right-color: var(--fill-color);\n",
              "      border-top-color: var(--fill-color);\n",
              "    }\n",
              "    60% {\n",
              "      border-color: transparent;\n",
              "      border-right-color: var(--fill-color);\n",
              "    }\n",
              "    80% {\n",
              "      border-color: transparent;\n",
              "      border-right-color: var(--fill-color);\n",
              "      border-bottom-color: var(--fill-color);\n",
              "    }\n",
              "    90% {\n",
              "      border-color: transparent;\n",
              "      border-bottom-color: var(--fill-color);\n",
              "    }\n",
              "  }\n",
              "</style>\n",
              "\n",
              "      <script>\n",
              "        async function quickchart(key) {\n",
              "          const quickchartButtonEl =\n",
              "            document.querySelector('#' + key + ' button');\n",
              "          quickchartButtonEl.disabled = true;  // To prevent multiple clicks.\n",
              "          quickchartButtonEl.classList.add('colab-df-spinner');\n",
              "          try {\n",
              "            const charts = await google.colab.kernel.invokeFunction(\n",
              "                'suggestCharts', [key], {});\n",
              "          } catch (error) {\n",
              "            console.error('Error during call to suggestCharts:', error);\n",
              "          }\n",
              "          quickchartButtonEl.classList.remove('colab-df-spinner');\n",
              "          quickchartButtonEl.classList.add('colab-df-quickchart-complete');\n",
              "        }\n",
              "        (() => {\n",
              "          let quickchartButtonEl =\n",
              "            document.querySelector('#df-3ff57188-b7d5-4d1f-8129-01a8e13988b5 button');\n",
              "          quickchartButtonEl.style.display =\n",
              "            google.colab.kernel.accessAllowed ? 'block' : 'none';\n",
              "        })();\n",
              "      </script>\n",
              "    </div>\n",
              "\n",
              "    </div>\n",
              "  </div>\n"
            ],
            "application/vnd.google.colaboratory.intrinsic+json": {
              "type": "dataframe",
              "variable_name": "df"
            }
          },
          "metadata": {},
          "execution_count": 4
        }
      ],
      "source": [
        "# Remove timezone string (e.g., \"PDT\") to avoid parsing issues\n",
        "df['date'] = df['date'].str.replace(r' [A-Z]{3} ', ' ', regex=True)\n",
        "\n",
        "# Fix and convert 'date' column to datetime format\n",
        "df['date'] = pd.to_datetime(df['date'], errors='coerce')\n",
        "\n",
        "# Create a new column for year\n",
        "df['year'] = df['date'].dt.year\n",
        "\n",
        "df.head()"
      ]
    },
    {
      "cell_type": "code",
      "execution_count": null,
      "id": "61344887-7598-4911-8b6f-6354a1234ab8",
      "metadata": {
        "id": "61344887-7598-4911-8b6f-6354a1234ab8",
        "outputId": "f407c1cb-1ef9-48ef-a71e-87a0a4ac772e"
      },
      "outputs": [
        {
          "data": {
            "text/plain": [
              "array([2009], dtype=int32)"
            ]
          },
          "execution_count": 11,
          "metadata": {},
          "output_type": "execute_result"
        }
      ],
      "source": [
        "df['year'].unique()"
      ]
    },
    {
      "cell_type": "markdown",
      "id": "292a01c4-a590-4857-8066-08c1bf5463ab",
      "metadata": {
        "id": "292a01c4-a590-4857-8066-08c1bf5463ab"
      },
      "source": [
        "This indicates that all tweets in the dataset are from 2009"
      ]
    },
    {
      "cell_type": "code",
      "execution_count": null,
      "id": "d2XHjln_LiTl",
      "metadata": {
        "colab": {
          "base_uri": "https://localhost:8080/",
          "height": 601
        },
        "id": "d2XHjln_LiTl",
        "outputId": "0789bd09-24a1-4e14-d4d7-ec9ca0e65a3e"
      },
      "outputs": [
        {
          "data": {
            "image/png": "[encoded data removed]",
            "text/plain": [
              "<Figure size 1200x600 with 1 Axes>"
            ]
          },
          "metadata": {},
          "output_type": "display_data"
        }
      ],
      "source": [
        "# We now examine the number of tweet samples we have by month and year\n",
        "\n",
        "# Create the 'year_month' column\n",
        "df['year_month'] = df['date'].dt.to_period('M').astype(str)\n",
        "\n",
        "# Group by year_month and count tweets\n",
        "monthly_counts = df.groupby('year_month').size().reset_index(name='tweet_count')\n",
        "\n",
        "# Set style\n",
        "sns.set(style='whitegrid')\n",
        "\n",
        "# Convert year_month to datetime for proper ordering in the x-axis\n",
        "monthly_counts['year_month'] = pd.to_datetime(monthly_counts['year_month'])\n",
        "\n",
        "# Plot\n",
        "plt.figure(figsize=(12, 6))\n",
        "sns.lineplot(data=monthly_counts, x='year_month', y='tweet_count', marker='o', color='teal')\n",
        "\n",
        "# Labels and title\n",
        "plt.title(\"Number of Tweets per Month\", fontsize=16, fontweight='bold')\n",
        "plt.xlabel(\"Month and Year\", fontsize=12)\n",
        "plt.ylabel(\"Number of Tweets\", fontsize=12)\n",
        "plt.xticks(rotation=45)\n",
        "plt.tight_layout()\n",
        "plt.show()"
      ]
    },
    {
      "cell_type": "markdown",
      "id": "534zhXHTMM3o",
      "metadata": {
        "id": "534zhXHTMM3o"
      },
      "source": [
        "#### Line Plot Insight for Tweet Volume Over Time\n",
        "\n",
        "This line chart shows the number of tweets collected over time based on the Sentiment140 dataset.\n",
        "\n",
        "From the visualization, we observe that the tweets were collected over a short time span — specifically over a period of **approximately three months in 2009**.\n",
        "\n",
        "- The dataset begins in **April 2009** and ends by **early June 2009**, suggesting a **single batch collection** during that year.\n",
        "- The dataset spans only a short period (April–June 2009), so **any temporal or trend-based analysis (e.g., changes in sentiment over time) should be interpreted with caution**. Since it does not cover a full year or multiple time periods, apparent trends may reflect sampling patterns rather than true sentiment shifts.\n",
        "- We observe a steady increase in tweet volume over time, which likely reflects the organic growth of Twitter’s user base during its early expansion phase in 2009.\n"
      ]
    },
    {
      "cell_type": "code",
      "execution_count": null,
      "id": "zYkQ3BFxnLOO",
      "metadata": {
        "colab": {
          "base_uri": "https://localhost:8080/",
          "height": 601
        },
        "id": "zYkQ3BFxnLOO",
        "outputId": "299bb601-872e-4695-adea-acca95435f30"
      },
      "outputs": [
        {
          "data": {
            "image/png": "[encoded data removed]",
            "text/plain": [
              "<Figure size 1000x600 with 1 Axes>"
            ]
          },
          "metadata": {},
          "output_type": "display_data"
        }
      ],
      "source": [
        "# Examine tweets distribution by month\n",
        "\n",
        "# Count tweets by month and target\n",
        "monthly_sentiment_counts = (\n",
        "    df.groupby(['year_month', 'target'])\n",
        "    .size()\n",
        "    .reset_index(name='tweet_count')\n",
        ")\n",
        "\n",
        "plt.figure(figsize=(10, 6))\n",
        "ax = sns.barplot(\n",
        "    data=monthly_sentiment_counts,\n",
        "    x='year_month', y='tweet_count', hue='target',\n",
        "    palette=custom_palette\n",
        ")\n",
        "\n",
        "# Labels and title\n",
        "plt.title('Number of Tweets per Sentiment for April–June 2009', fontsize=16, fontweight='bold')\n",
        "plt.xlabel('Month', fontsize=12)\n",
        "plt.ylabel('Number of Tweets', fontsize=12)\n",
        "\n",
        "# Fix legend to match colors and labels\n",
        "handles, _ = ax.get_legend_handles_labels()\n",
        "ax.legend(handles=handles, labels=['Negative (0)', 'Positive (4)'], title='Sentiment')\n",
        "\n",
        "plt.tight_layout()\n",
        "plt.show()\n"
      ]
    },
    {
      "cell_type": "markdown",
      "id": "DC7T0n09oKxO",
      "metadata": {
        "id": "DC7T0n09oKxO"
      },
      "source": [
        "#### Key Insights on Number of Tweets per Sentiment for April–June 2009\n",
        "\n",
        "This bar chart visualizes the number of tweets labeled as **negative (0)** and **positive (4)** across the three months covered by the dataset: **April, May, and June 2009**.\n",
        "\n",
        "- Tweet volume **increased steadily each month**, peaking in June 2009.\n",
        "- In **April**, tweet volume was relatively low and slightly favored **positive sentiment**.\n",
        "- In **May**, the number of tweets grew substantially, with a notable rise in **positive tweets**.\n",
        "- By **June**, the volume of **negative tweets** overtook positive ones, reaching the highest count in the dataset.\n",
        "\n",
        "This temporal breakdown shows both an overall **growth in Twitter samples collected** and **variation in sentiment dynamics** during this short collection window.\n"
      ]
    },
    {
      "cell_type": "markdown",
      "id": "694fb446-952f-48cb-9477-24e862192152",
      "metadata": {
        "id": "694fb446-952f-48cb-9477-24e862192152"
      },
      "source": [
        "### Tweet Length Analysis"
      ]
    },
    {
      "cell_type": "code",
      "execution_count": null,
      "id": "AkJ958nwACG5",
      "metadata": {
        "colab": {
          "base_uri": "https://localhost:8080/",
          "height": 590
        },
        "id": "AkJ958nwACG5",
        "outputId": "b3941e87-0894-4729-b596-3c738d30e628"
      },
      "outputs": [
        {
          "data": {
            "image/png": "[encoded data removed]",
            "text/plain": [
              "<Figure size 800x500 with 1 Axes>"
            ]
          },
          "metadata": {},
          "output_type": "display_data"
        }
      ],
      "source": [
        "# We now visualize the violin plot for each target by tweet length\n",
        "\n",
        "# Add a new column for tweet length\n",
        "df['text_length'] = df['text'].str.len()\n",
        "\n",
        "# Violin plot of tweet length by sentiment\n",
        "plt.figure(figsize=(8, 5))\n",
        "ax = sns.violinplot(data=df, x='target', y='text_length', hue='target', palette=custom_palette, inner='quartile', legend=True)\n",
        "\n",
        "plt.title(\"Distribution of Tweet Length by Sentiment\", fontsize=16, fontweight='bold')\n",
        "plt.xlabel(\"Sentiment Target\", fontsize=12)\n",
        "plt.ylabel(\"Tweet Length (characters)\", fontsize=12)\n",
        "plt.xticks([0, 1], [\"Negative (0)\", \"Positive (4)\"], fontsize=11)\n",
        "\n",
        "# Fix legend to match custom labels\n",
        "legend = ax.get_legend()\n",
        "legend.set_title('Sentiment')\n",
        "handles, labels = legend.legend_handles, [t.get_text() for t in legend.get_texts()]\n",
        "label_map = {'0': 'Negative (0)', '4': 'Positive (4)'}\n",
        "new_labels = [label_map.get(l, l) for l in labels]\n",
        "for t, new_label in zip(legend.get_texts(), new_labels):\n",
        "    t.set_text(new_label)\n",
        "\n",
        "plt.tight_layout()\n",
        "plt.show()"
      ]
    },
    {
      "cell_type": "markdown",
      "id": "wDnxN1KpmxTJ",
      "metadata": {
        "id": "wDnxN1KpmxTJ"
      },
      "source": [
        "#### Insights on Distribution of Tweet Length by Sentiment\n",
        "\n",
        "This violin plot illustrates the distribution of tweet lengths (in characters) for each sentiment class in the dataset:\n",
        "\n",
        "- **Negative tweets (target = 0)**  \n",
        "- **Positive tweets (target = 4)**\n",
        "\n",
        "Key observations:\n",
        "- The **distribution shapes** for both sentiments are fairly similar, suggesting that tweet length is not strongly associated with sentiment polarity.\n",
        "- Most tweets fall within the **50 to 120 character** range for both classes.\n",
        "- There are a few **longer tweets (up to ~360 characters)**, but they are rare and do not skew the distribution significantly.\n",
        "- The **thickness of the violin** indicates the density — most tweets cluster around the 40–100 character range.\n",
        "\n",
        "Conclusion:  \n",
        "Tweet length appears to have a **amost exact pattern** across both positive and negative sentiments, and is therefore unlikely to be a strong discriminative feature on its own.\n"
      ]
    },
    {
      "cell_type": "markdown",
      "id": "f630e5e0-f1ca-4aab-9560-9dc5c1f56519",
      "metadata": {
        "id": "f630e5e0-f1ca-4aab-9560-9dc5c1f56519"
      },
      "source": [
        "#### Tweet Length Anomaly: Why Do Some Tweets Exceed 140 Characters?\n",
        "\n",
        "According to Twitter's original design, tweets were limited to **140 characters** in 2009 — the same year the **Sentiment140 dataset** was collected. Therefore, we would expect all tweets in the dataset to adhere to this limit.\n",
        "\n",
        "Here are several plausible explanations for why we see tweets longer than expected:\n",
        "\n",
        "1. **Concatenated Content**:\n",
        "   - Some entries might include quoted replies or accidentally merged tweets during data collection.\n",
        "\n",
        "2. **Unremoved Artifacts**:\n",
        "   - Elements like URLs, emojis, or user mentions (`@username`) could inflate character counts if not properly cleaned before measurement.\n",
        "\n",
        "3. **Invisible Characters**:\n",
        "   - Special characters such as newline characters (`\\n`), Unicode symbols, or HTML entities may not be visible but still count toward `.str.len()`.\n",
        "\n",
        "4. **Data Corruption or Preprocessing Errors**:\n",
        "   - Poor delimiter handling or formatting issues during scraping could cause multiple tweets to merge into one row.\n",
        "\n",
        "\n",
        "To better understand what is causing the longer tweet lengths, we inspect the first few tweets that exceed the 140-character limit:"
      ]
    },
    {
      "cell_type": "code",
      "execution_count": null,
      "id": "5193e849-f112-43b5-ad5e-55c06d42dcd6",
      "metadata": {
        "id": "5193e849-f112-43b5-ad5e-55c06d42dcd6",
        "outputId": "02de2029-d535-4418-d96f-1bcd8cad710f"
      },
      "outputs": [
        {
          "name": "stdout",
          "output_type": "stream",
          "text": [
            "Number of tweets longer than 140 characters: 17174\n"
          ]
        }
      ],
      "source": [
        "# Count how many tweets are longer than 140 characters\n",
        "num_long_tweets = df[df['text_length'] > 140].shape[0]\n",
        "print(f\"Number of tweets longer than 140 characters: {num_long_tweets}\")"
      ]
    },
    {
      "cell_type": "code",
      "execution_count": null,
      "id": "a48f6f2f-57b7-4009-a79a-9816f872966b",
      "metadata": {
        "id": "a48f6f2f-57b7-4009-a79a-9816f872966b",
        "outputId": "bb96dc70-21bf-4aa8-b34a-b521cc83c208"
      },
      "outputs": [
        {
          "data": {
            "text/html": [
              "<div>\n",
              "<style scoped>\n",
              "    .dataframe tbody tr th:only-of-type {\n",
              "        vertical-align: middle;\n",
              "    }\n",
              "\n",
              "    .dataframe tbody tr th {\n",
              "        vertical-align: top;\n",
              "    }\n",
              "\n",
              "    .dataframe thead th {\n",
              "        text-align: right;\n",
              "    }\n",
              "</style>\n",
              "<table border=\"1\" class=\"dataframe\">\n",
              "  <thead>\n",
              "    <tr style=\"text-align: right;\">\n",
              "      <th></th>\n",
              "      <th>text</th>\n",
              "      <th>text_length</th>\n",
              "    </tr>\n",
              "  </thead>\n",
              "  <tbody>\n",
              "    <tr>\n",
              "      <th>1295281</th>\n",
              "      <td>@catfish_ohm à¹à¸à¹à¸²à¹à¸«à¹à¸?à¸²à¸£à¹à¸à¸¹à¸à¸?à¸¸à¹à¸£à¸°(à¸ªà¸±à¸ªà¹+à¸¢à¸¹à¸£à¸´à¹?à¸?à¹à¸à¹à¹?à¸à¸à¸à¸°à¸à¸­à¸à¸µà¸¡à¸´à¹à¸?à¸°à¸«à¸§à¸(à¸à¸à¸²à¸à¹à¸à¸´à¸à¹?à¸?à¸¢à¸±à¸à¹à¸à¸¢à¹à¸«à¹à¹à¸¡à¹à¹à¸à¹à¹à¸«à¸£à¸­.à¹?à¸à¹à¸à¹à¸²à¸à¹à¸«à¸­à¸°à¸£à¸²à¸¢à¸à¸±à¹à¸à¹à¸à¸²à¹à¸¡à¹à¸­à¸°à¸?à¸§à¹à¸²à¸à¸¥à¸²à¹?à¸¡à¸§à¹à¸¢à¸­à¸° =</td>\n",
              "      <td>374</td>\n",
              "    </tr>\n",
              "    <tr>\n",
              "      <th>1484882</th>\n",
              "      <td>@iannnnn à¹à¸à¸µà¹à¸¢à¸§à¸­à¸µà¸?à¸à¸±à¸?à¸à¸£à¸¹à¹à¸à¸à¹à¸£à¸µà¸¢à¸?à¸à¸µà¸¡ Graphic à¹à¸à¹à¸²à¸¡à¸²à¹?à¸¥à¹à¸§à¸à¸£à¸±à¸à¹à¸¥à¹à¸?à¸à¹à¸­à¸¢à¹à¸«à¹à¸¡à¸±à¸à¸à¸¥à¹à¸²à¸¢à¸?à¸±à¸à¸¢à¸´à¹à¸à¸à¸¶à¹à¸à¸à¸£à¸±à¸ à¹à¸à¸£à¸²à¸°à¸«à¸²à¸?à¹à¸­à¸²à¸¡à¸²à¹à¸à¸µà¸¢à¸à¸?à¸±à¸à¸à¸à¸¡à¸µà¸à¸±à¸?à¸«à¸²à¸­à¸¢à¹à¸²à¸à¸§à¹à¸²à¸à¸£à¸±à¸.</td>\n",
              "      <td>369</td>\n",
              "    </tr>\n",
              "    <tr>\n",
              "      <th>380539</th>\n",
              "      <td>@neospace à¹à¸£à¸·à¹à¸­à¸à¸à¸±à¹à¸à¸à¸£à¸£à¸à¹à¸à¸£à¸² à¹à¸«à¹à¸à¸à¹à¸§à¸¢à¸à¸µà¹à¹à¸¡à¹à¸à¹à¸­à¸à¹à¸à¸à¸±à¹à¸à¹à¹à¸¥à¹à¸à¸?à¸²à¸£à¹à¸¡à¸·à¸­à¸ &amp;quot;à¸à¹à¸²à¸à¸à¸à¸&amp;quot; à¸?à¸±à¸à¸­à¸µà¸? à¹?à¸à¹à¸à¸µà¹à¸¡à¸²à¸à¸µà¹à¹à¸à¹à¸«à¹à¸à¹?à¸¥à¹à¸§ à¸à¸±à¸à¸à¸²à¸¡à¸²à¸? à¸à¸£à¸£à¸à¹à¸à¸µà¸¢à¸§ Green Party</td>\n",
              "      <td>359</td>\n",
              "    </tr>\n",
              "    <tr>\n",
              "      <th>1582941</th>\n",
              "      <td>5 days till new top gear  î?î?î?î?î?î?î?î?î?î?î?î?î?î?î?î?î?î?î?î?î?î?î?î?î?î?î?î?î?î?î?î?î?î?î?î?î?î?î?î?î?î?î?î?î?î?î?î?î?î?î?î?î?î?î?î?î?î?î?î?î?î?î?î?î?î?î?î?î?î?î?î?î?î?î?î?î?î?î?î?î?î?î?î?î?î?î?î?î?î?î?î?î?î?î?î?î?î?î?î?î?î?î?î?î?î?î?î?î?î?î?</td>\n",
              "      <td>359</td>\n",
              "    </tr>\n",
              "    <tr>\n",
              "      <th>650945</th>\n",
              "      <td>human shield à®à®©à¯?à®± à®à¯à®±à¯?à®¤à¯à®à®°à¯ à®à®©à¯?à®±à¯? à®®à®±à¯?à®ªà®à®¿à®¯à¯?à®®à¯? à®à®à®à®à¯?à®à®³à®¿à®²à¯? (à®®à¯à®±à¯?à®à¯? à®µà®à¯?à®à®®à¯?) à®¤à¯à®à®°à¯?à®ªà®¾à® à®ªà®¾à®°à¯?à®¤à¯?à®¤ à®ªà¯à®¤à¯? à®à®´à¯?à®¨à¯?à®¤ à®à®£à®°à¯?à®µà®¿à®±à¯?à®à¯? à®ªà¯à®¯à®°à¯? à®à¯à®²à¯?à®² à®¤à¯à®°à®¿à®¯à®µà®¿à®²à¯?à®²à¯</td>\n",
              "      <td>348</td>\n",
              "    </tr>\n",
              "    <tr>\n",
              "      <th>1450935</th>\n",
              "      <td>@KaewGB à¸­à¹à¸­  à¹à¸à¸¢à¸à¸²à¸¡à¹à¹à¸à¸à¸µà¹à¸«à¸¥à¸²à¸¢à¸à¸£à¸±à¹à¸ à¹à¸¡à¹à¸¡à¸µà¹à¸à¸£à¸à¸¹à¸à¸à¸£à¸°à¹à¸à¹à¸à¸à¸µà¹ 55 à¸¡à¸µà¹?à¸à¹ à¹à¸à¹à¸²à¹à¸à¹à¸ resource à¹à¸ KU à¸à¹à¸²à¸ à¹à¸¡à¹à¸?à¹à¹à¸¥à¹à¹à¸«à¹à¹à¸à¹à¸à¸´à¸à¸§à¹à¸² VPN à¸¢à¹à¸­à¸¡à¸²à¸à¸²à¸?à¸­à¸°à¹à¸£ =v=</td>\n",
              "      <td>328</td>\n",
              "    </tr>\n",
              "    <tr>\n",
              "      <th>1358216</th>\n",
              "      <td>@thanr à¹à¸à¸µà¹à¸¢à¸§à¹à¸­à¸²à¸£à¸²à¸à¸²à¹à¸à¸©à¸à¸²à¸­à¸­à¸?à¸à¸£à¸±à¸ à¸®à¸²à¹ ... à¹à¸à¸£à¸²à¸°à¸§à¹à¸²à¸¡à¸±à¸à¹à¸¡à¹à¸à¸£à¸à¸£à¸²à¸à¸²à¹à¸¥à¸¢à¸à¸£à¸±à¸ ... à¸­à¸±à¸à¸à¸µà¹à¸¥à¸­à¸à¹à¸ªà¹à¸à¸à¸ªà¸­à¸à¸à¸¹à¸à¸£à¸±à¸ à¹à¸à¸µà¹à¸¢à¸§à¹à¸­à¸²à¸­à¸­à¸?à¸à¸±à¸?à¸à¸£à¸¹à¹à¸à¸£à¸±à¸</td>\n",
              "      <td>326</td>\n",
              "    </tr>\n",
              "    <tr>\n",
              "      <th>1264121</th>\n",
              "      <td>@msathia à®®à¯?à®¹à¯à®®à¯?, à®ªà®¯à®®à¯?à®±à¯?à®¤à¯?à®¤à¯?à®¤à¯?, à®à®¤à¯à®ªà¯?à®ªà®±à¯?à®±à®¿ à®à®à¯?à®à¯à®¯à®¾à®µà®¤à¯? à®à®´à¯?à®¤à®²à®¾à®®à®¾à®©à¯?à®©à¯? à®¯à¯à®à®©à¯, à®à®©à®¾ à®ªà¯à®¯à®°à¯? à®à®°à®¿à®¯à®¿à®²à¯?à®²à®¾à®à¯?à®à®¿ à®¯à®¾à®°à¯?à®®à¯? 2 à®µà®°à®¿ à®¤à®¾à®£à¯?à®à®®à®¾à®à¯?à®à®¾à®à¯?à®</td>\n",
              "      <td>323</td>\n",
              "    </tr>\n",
              "    <tr>\n",
              "      <th>1319230</th>\n",
              "      <td>@laches [æçèª å¯¦å",
              "­ååæ¶] æè¿è·ä¸åä¸­åæå?è?å",
              "­åï¼å°¤å",
              "¶ææ?æ?ï¼å çºä»çç¶è¦ªä¾¿æ¯è¶ç´«é½ç¶å¹´èº«éçç§æ¸ï¼è·èè¶ç´«é½ä¸èµ·è¢«æææ¬åãä»èªªï¼ä»ç¶è¦ªå",
              "¶å¯¦ä¸¦ä¸?ççèª?è­æ°ä¸»ï¼è",
              "¦è¢è£¡æ´å¤çæ¯ãå",
              "±ç¢é»¨è² æã?çææ?¨ã.. http://tr.im/ngdo</td>\n",
              "      <td>314</td>\n",
              "    </tr>\n",
              "    <tr>\n",
              "      <th>1397388</th>\n",
              "      <td>ê·¼ë?° ë¡ë°¥ì?´ìì¼ë ì±",
              "ìì§ê³  ë ë¤í°ì¦ ì¬ê³¼íê³  ê·¸ë¬ë ë¶ë¤ì?´ ê¼­ ê³ìê±°ë ì...  hitdg@chanjin ì¿ í¤ë´ì¤ë³´ê³  ì°¬ì§ë í¸ìê¸ì?´ ë¡íë ìë ê±° ë³´ê³  ëë?ìµëë¤. ì?´ê².í¸ìì? íì?´êµ¬ë ì¤ê°?íì£ .ì  ì°¬ì§ëì?´ ì±",
              "ìì§ ì?´ì  ìë¤ê³  ë³´ëë?°ì...</td>\n",
              "      <td>313</td>\n",
              "    </tr>\n",
              "  </tbody>\n",
              "</table>\n",
              "</div>"
            ],
            "text/plain": [
              "                                                                                                                                                                                                                                                                                                                                                                                           text  \\\n",
              "1295281  @catfish_ohm à¹à¸à¹à¸²à¹à¸«à¹à¸?à¸²à¸£à¹à¸à¸¹à¸à¸?à¸¸à¹à¸£à¸°(à¸ªà¸±à¸ªà¹+à¸¢à¸¹à¸£à¸´à¹?à¸?à¹à¸à¹à¹?à¸à¸à¸à¸°à¸à¸­à¸à¸µà¸¡à¸´à¹à¸?à¸°à¸«à¸§à¸(à¸à¸à¸²à¸à¹à¸à¸´à¸à¹?à¸?à¸¢à¸±à¸à¹à¸à¸¢à¹à¸«à¹à¹à¸¡à¹à¹à¸à¹à¹à¸«à¸£à¸­.à¹?à¸à¹à¸à¹à¸²à¸à¹à¸«à¸­à¸°à¸£à¸²à¸¢à¸à¸±à¹à¸à¹à¸à¸²à¹à¸¡à¹à¸­à¸°à¸?à¸§à¹à¸²à¸à¸¥à¸²à¹?à¸¡à¸§à¹à¸¢à¸­à¸° =    \n",
              "1484882       @iannnnn à¹à¸à¸µà¹à¸¢à¸§à¸­à¸µà¸?à¸à¸±à¸?à¸à¸£à¸¹à¹à¸à¸à¹à¸£à¸µà¸¢à¸?à¸à¸µà¸¡ Graphic à¹à¸à¹à¸²à¸¡à¸²à¹?à¸¥à¹à¸§à¸à¸£à¸±à¸à¹à¸¥à¹à¸?à¸à¹à¸­à¸¢à¹à¸«à¹à¸¡à¸±à¸à¸à¸¥à¹à¸²à¸¢à¸?à¸±à¸à¸¢à¸´à¹à¸à¸à¸¶à¹à¸à¸à¸£à¸±à¸ à¹à¸à¸£à¸²à¸°à¸«à¸²à¸?à¹à¸­à¸²à¸¡à¸²à¹à¸à¸µà¸¢à¸à¸?à¸±à¸à¸à¸à¸¡à¸µà¸à¸±à¸?à¸«à¸²à¸­à¸¢à¹à¸²à¸à¸§à¹à¸²à¸à¸£à¸±à¸.    \n",
              "380539                  @neospace à¹à¸£à¸·à¹à¸­à¸à¸à¸±à¹à¸à¸à¸£à¸£à¸à¹à¸à¸£à¸² à¹à¸«à¹à¸à¸à¹à¸§à¸¢à¸à¸µà¹à¹à¸¡à¹à¸à¹à¸­à¸à¹à¸à¸à¸±à¹à¸à¹à¹à¸¥à¹à¸à¸?à¸²à¸£à¹à¸¡à¸·à¸­à¸ &quot;à¸à¹à¸²à¸à¸à¸à¸&quot; à¸?à¸±à¸à¸­à¸µà¸? à¹?à¸à¹à¸à¸µà¹à¸¡à¸²à¸à¸µà¹à¹à¸à¹à¸«à¹à¸à¹?à¸¥à¹à¸§ à¸à¸±à¸à¸à¸²à¸¡à¸²à¸? à¸à¸£à¸£à¸à¹à¸à¸µà¸¢à¸§ Green Party    \n",
              "1582941                 5 days till new top gear  î?î?î?î?î?î?î?î?î?î?î?î?î?î?î?î?î?î?î?î?î?î?î?î?î?î?î?î?î?î?î?î?î?î?î?î?î?î?î?î?î?î?î?î?î?î?î?î?î?î?î?î?î?î?î?î?î?î?î?î?î?î?î?î?î?î?î?î?î?î?î?î?î?î?î?î?î?î?î?î?î?î?î?î?î?î?î?î?î?î?î?î?î?î?î?î?î?î?î?î?î?î?î?î?î?î?î?î?î?î?î?   \n",
              "650945                             human shield à®à®©à¯?à®± à®à¯à®±à¯?à®¤à¯à®à®°à¯ à®à®©à¯?à®±à¯? à®®à®±à¯?à®ªà®à®¿à®¯à¯?à®®à¯? à®à®à®à®à¯?à®à®³à®¿à®²à¯? (à®®à¯à®±à¯?à®à¯? à®µà®à¯?à®à®®à¯?) à®¤à¯à®à®°à¯?à®ªà®¾à® à®ªà®¾à®°à¯?à®¤à¯?à®¤ à®ªà¯à®¤à¯? à®à®´à¯?à®¨à¯?à®¤ à®à®£à®°à¯?à®µà®¿à®±à¯?à®à¯? à®ªà¯à®¯à®°à¯? à®à¯à®²à¯?à®² à®¤à¯à®°à®¿à®¯à®µà®¿à®²à¯?à®²à¯    \n",
              "1450935                                                @KaewGB à¸­à¹à¸­  à¹à¸à¸¢à¸à¸²à¸¡à¹à¹à¸à¸à¸µà¹à¸«à¸¥à¸²à¸¢à¸à¸£à¸±à¹à¸ à¹à¸¡à¹à¸¡à¸µà¹à¸à¸£à¸à¸¹à¸à¸à¸£à¸°à¹à¸à¹à¸à¸à¸µà¹ 55 à¸¡à¸µà¹?à¸à¹ à¹à¸à¹à¸²à¹à¸à¹à¸ resource à¹à¸ KU à¸à¹à¸²à¸ à¹à¸¡à¹à¸?à¹à¹à¸¥à¹à¹à¸«à¹à¹à¸à¹à¸à¸´à¸à¸§à¹à¸² VPN à¸¢à¹à¸­à¸¡à¸²à¸à¸²à¸?à¸­à¸°à¹à¸£ =v=   \n",
              "1358216                                                  @thanr à¹à¸à¸µà¹à¸¢à¸§à¹à¸­à¸²à¸£à¸²à¸à¸²à¹à¸à¸©à¸à¸²à¸­à¸­à¸?à¸à¸£à¸±à¸ à¸®à¸²à¹ ... à¹à¸à¸£à¸²à¸°à¸§à¹à¸²à¸¡à¸±à¸à¹à¸¡à¹à¸à¸£à¸à¸£à¸²à¸à¸²à¹à¸¥à¸¢à¸à¸£à¸±à¸ ... à¸­à¸±à¸à¸à¸µà¹à¸¥à¸­à¸à¹à¸ªà¹à¸à¸à¸ªà¸­à¸à¸à¸¹à¸à¸£à¸±à¸ à¹à¸à¸µà¹à¸¢à¸§à¹à¸­à¸²à¸­à¸­à¸?à¸à¸±à¸?à¸à¸£à¸¹à¹à¸à¸£à¸±à¸    \n",
              "1264121                                                     @msathia à®®à¯?à®¹à¯à®®à¯?, à®ªà®¯à®®à¯?à®±à¯?à®¤à¯?à®¤à¯?à®¤à¯?, à®à®¤à¯à®ªà¯?à®ªà®±à¯?à®±à®¿ à®à®à¯?à®à¯à®¯à®¾à®µà®¤à¯? à®à®´à¯?à®¤à®²à®¾à®®à®¾à®©à¯?à®©à¯? à®¯à¯à®à®©à¯, à®à®©à®¾ à®ªà¯à®¯à®°à¯? à®à®°à®¿à®¯à®¿à®²à¯?à®²à®¾à®à¯?à®à®¿ à®¯à®¾à®°à¯?à®®à¯? 2 à®µà®°à®¿ à®¤à®¾à®£à¯?à®à®®à®¾à®à¯?à®à®¾à®à¯?à®    \n",
              "1319230                                                               @laches [æçèª å¯¦å\n",
              "­ååæ¶] æè¿è·ä¸åä¸­åæå?è?å\n",
              "­åï¼å°¤å\n",
              "¶ææ?æ?ï¼å çºä»çç¶è¦ªä¾¿æ¯è¶ç´«é½ç¶å¹´èº«éçç§æ¸ï¼è·èè¶ç´«é½ä¸èµ·è¢«æææ¬åãä»èªªï¼ä»ç¶è¦ªå\n",
              "¶å¯¦ä¸¦ä¸?ççèª?è­æ°ä¸»ï¼è\n",
              "¦è¢è£¡æ´å¤çæ¯ãå\n",
              "±ç¢é»¨è² æã?çææ?¨ã.. http://tr.im/ngdo   \n",
              "1397388                                                               ê·¼ë?° ë¡ë°¥ì?´ìì¼ë ì±\n",
              "ìì§ê³  ë ë¤í°ì¦ ì¬ê³¼íê³  ê·¸ë¬ë ë¶ë¤ì?´ ê¼­ ê³ìê±°ë ì...  hitdg@chanjin ì¿ í¤ë´ì¤ë³´ê³  ì°¬ì§ë í¸ìê¸ì?´ ë¡íë ìë ê±° ë³´ê³  ëë?ìµëë¤. ì?´ê².í¸ìì? íì?´êµ¬ë ì¤ê°?íì£ .ì  ì°¬ì§ëì?´ ì±\n",
              "ìì§ ì?´ì  ìë¤ê³  ë³´ëë?°ì...   \n",
              "\n",
              "         text_length  \n",
              "1295281          374  \n",
              "1484882          369  \n",
              "380539           359  \n",
              "1582941          359  \n",
              "650945           348  \n",
              "1450935          328  \n",
              "1358216          326  \n",
              "1264121          323  \n",
              "1319230          314  \n",
              "1397388          313  "
            ]
          },
          "execution_count": 16,
          "metadata": {},
          "output_type": "execute_result"
        }
      ],
      "source": [
        "# Disable truncation in display\n",
        "pd.set_option('display.max_colwidth', None)\n",
        "\n",
        "# Sort by tweet length and show the top 10 longest tweets\n",
        "df.sort_values(by='text_length', ascending=False)[['text', 'text_length']].head(10)"
      ]
    },
    {
      "cell_type": "markdown",
      "source": [
        "The garbled characters in tweet text column indicate encoding issues, the text was likely saved or loaded using the wrong character encoding (commonly ISO-8859-1, cp1252, or utf-16) instead of the correct one (often utf-8 for Twitter data).\n",
        "\n",
        "To fix this issue, we adjust data loading to encorporate for such encodings, and re-run some of the EDA sections again for verification."
      ],
      "metadata": {
        "id": "6CEeXuV2WiaH"
      },
      "id": "6CEeXuV2WiaH"
    },
    {
      "cell_type": "code",
      "source": [
        "# Step 1: Create data directory and download the file\n",
        "os.makedirs(\"../data\", exist_ok=True)\n",
        "\n",
        "url = \"https://drive.google.com/uc?id=1OeMI3bTQHZrCchkI-vMv2Ibv6RLGk7aS\"\n",
        "output = \"../data/sentiment140.csv\"\n",
        "\n",
        "gdown.download(url, output, quiet=False)\n",
        "\n",
        "# Step 2: Define column names\n",
        "columns = [\n",
        "    \"target\",    # Sentiment (0=negative, 2=neutral, 4=positive)\n",
        "    \"id\",        # Tweet ID\n",
        "    \"date\",      # Date of tweet\n",
        "    \"flag\",      # Query flag\n",
        "    \"user\",      # Username\n",
        "    \"text\"       # Tweet text\n",
        "]\n",
        "\n",
        "# Step 3: Load with proper encoding\n",
        "df_fixed = pd.read_csv(output, encoding='latin-1', header=None, names=columns)\n",
        "\n",
        "# Step 4: Fix any garbled characters in 'text' if needed\n",
        "df_fixed[\"text\"] = df_fixed[\"text\"].apply(lambda x: x.encode(\"latin1\").decode(\"utf-8\", errors=\"ignore\") if isinstance(x, str) else x)\n",
        "\n",
        "# Step 5: Preview result\n",
        "print(df_fixed[\"text\"].head())"
      ],
      "metadata": {
        "colab": {
          "base_uri": "https://localhost:8080/"
        },
        "id": "W3Dq_M6fW_tQ",
        "outputId": "cc8fd29d-6ea6-4918-c6b2-eaa5e8b0f4ff"
      },
      "id": "W3Dq_M6fW_tQ",
      "execution_count": 3,
      "outputs": [
        {
          "output_type": "stream",
          "name": "stderr",
          "text": [
            "Downloading...\n",
            "From (original): https://drive.google.com/uc?id=1OeMI3bTQHZrCchkI-vMv2Ibv6RLGk7aS\n",
            "From (redirected): https://drive.google.com/uc?id=1OeMI3bTQHZrCchkI-vMv2Ibv6RLGk7aS&confirm=t&uuid=7073ab51-f5a5-4288-ad89-8d9b5b332d25\n",
            "To: /data/sentiment140.csv\n",
            "100%|██████████| 239M/239M [00:03<00:00, 74.8MB/s]\n"
          ]
        },
        {
          "output_type": "stream",
          "name": "stdout",
          "text": [
            "0    @switchfoot http://twitpic.com/2y1zl - Awww, t...\n",
            "1    is upset that he can't update his Facebook by ...\n",
            "2    @Kenichan I dived many times for the ball. Man...\n",
            "3      my whole body feels itchy and like its on fire \n",
            "4    @nationwideclass no, it's not behaving at all....\n",
            "Name: text, dtype: object\n"
          ]
        }
      ]
    },
    {
      "cell_type": "markdown",
      "source": [
        "#### Text Encoding Fix and Next Cleaning Step\n",
        "\n",
        "The tweet text has been successfully decoded from its original garbled format caused by incorrect character encoding. We used the correct `latin-1` encoding along with a decoding fix to restore readable text.\n",
        "\n",
        "However, the text still contains **HTML-escaped characters**, such as:\n",
        "\n",
        "- `&quot;` for double quotes `\"`,  \n",
        "- `&amp;` for ampersand `&`,  \n",
        "- `&lt;`, `&gt;` for `<` and `>` respectively.\n",
        "\n",
        "These are not raw special characters but **escaped entities**, which need to be decoded for clean and normalized text. This is essential for proper tokenization and accurate sentiment classification.\n",
        "\n",
        "**for data preprocessing step step**: Use `html.unescape()` from Python’s built-in `html` module to convert all HTML entities back to their intended characters before further preprocessing.\n"
      ],
      "metadata": {
        "id": "zgnFjaePJRz_"
      },
      "id": "zgnFjaePJRz_"
    },
    {
      "cell_type": "code",
      "source": [
        "# we now decode HTML-escaped entities like &quot;, &amp;, etc.\n",
        "df_fixed['text'] = df_fixed['text'].apply(lambda x: html.unescape(x) if isinstance(x, str) else x)\n"
      ],
      "metadata": {
        "id": "yphSdSyZHQXz"
      },
      "id": "yphSdSyZHQXz",
      "execution_count": 4,
      "outputs": []
    },
    {
      "cell_type": "code",
      "source": [
        "# Count how many tweets are longer than 140 characters\n",
        "\n",
        "df_fixed['text_length'] = df_fixed['text'].apply(len)\n",
        "\n",
        "num_long_tweets = df_fixed[df_fixed['text_length'] > 140].shape[0]\n",
        "print(f\"Number of tweets longer than 140 characters: {num_long_tweets}\")"
      ],
      "metadata": {
        "colab": {
          "base_uri": "https://localhost:8080/"
        },
        "id": "_rIqGmOLXjd5",
        "outputId": "9e7618a4-319c-448c-f8dd-f913848036c2"
      },
      "id": "_rIqGmOLXjd5",
      "execution_count": 8,
      "outputs": [
        {
          "output_type": "stream",
          "name": "stdout",
          "text": [
            "Number of tweets longer than 140 characters: 0\n"
          ]
        }
      ]
    },
    {
      "cell_type": "code",
      "source": [
        "# Disable truncation in display\n",
        "pd.set_option('display.max_colwidth', None)\n",
        "\n",
        "# Sort by tweet length and show the top 10 longest tweets\n",
        "df_fixed.sort_values(by='text_length', ascending=False)[['text', 'text_length']].head(10)"
      ],
      "metadata": {
        "colab": {
          "base_uri": "https://localhost:8080/",
          "height": 363
        },
        "id": "EmzyPmhzYBpT",
        "outputId": "7f1ecbdf-9ff1-47d0-9654-0d2442c8c4f1"
      },
      "id": "EmzyPmhzYBpT",
      "execution_count": 9,
      "outputs": [
        {
          "output_type": "execute_result",
          "data": {
            "text/plain": [
              "                                                                                                                                               text  \\\n",
              "1599928  dropping molly off getting ice cream with Aaron I want him to meet Manda  spending the night with Meredith and Lauren I missed them dearly   \n",
              "1599921  I just switched back to Opera (using the moi skin). It's really fast & stable to work with - I'm loving it  http://www.opera.com/download/   \n",
              "46       Just checked my user timeline on my blackberry, it looks like the twanking is still happening  Are ppl still having probs w/ BGs and UIDs?   \n",
              "1022662  @terraM WORD! If I can get it, it's MINE. Doesn't matter if you put a lid on it, put it behind a cabinet, or kept it behind a closed door    \n",
              "521668   You would think if I continue to block someone, despite the fact they are under a new username each time, I DON'T want them following me!    \n",
              "385239   twitter api is maintaining  Tất cả các app g?i api twitter đ?u bị fail trong th?i gian này. (twitterfox on firefox, tweetie on iphone ...)   \n",
              "385266   @katiemarie19 Called out 4 the Sharm!! Bad times matey! Not bk till prob about 4am  Off 2mrw now so a drive in ure new mo mo is needed xxx   \n",
              "887782   Back from Florida, where we saw manatees and gators and more birds than I can count.  Turns out I can row a canoe, but only when I want.     \n",
              "1383221  omgomgomomgomg hotties down at the u18 footy club today!! yummy healesville boys  cant waaaait hehaha. jess + my plan for next weekend shh   \n",
              "385165   good thoughts and feelings about my birthday have gone away. My sister wont stop going on about her car. my mum is in a piss. its raining    \n",
              "\n",
              "         text_length  \n",
              "1599928          138  \n",
              "1599921          138  \n",
              "46               138  \n",
              "1022662          138  \n",
              "521668           138  \n",
              "385239           138  \n",
              "385266           138  \n",
              "887782           138  \n",
              "1383221          138  \n",
              "385165           138  "
            ],
            "text/html": [
              "\n",
              "  <div id=\"df-6006c6f8-ee20-48d1-a8ba-e06ecce85431\" class=\"colab-df-container\">\n",
              "    <div>\n",
              "<style scoped>\n",
              "    .dataframe tbody tr th:only-of-type {\n",
              "        vertical-align: middle;\n",
              "    }\n",
              "\n",
              "    .dataframe tbody tr th {\n",
              "        vertical-align: top;\n",
              "    }\n",
              "\n",
              "    .dataframe thead th {\n",
              "        text-align: right;\n",
              "    }\n",
              "</style>\n",
              "<table border=\"1\" class=\"dataframe\">\n",
              "  <thead>\n",
              "    <tr style=\"text-align: right;\">\n",
              "      <th></th>\n",
              "      <th>text</th>\n",
              "      <th>text_length</th>\n",
              "    </tr>\n",
              "  </thead>\n",
              "  <tbody>\n",
              "    <tr>\n",
              "      <th>1599928</th>\n",
              "      <td>dropping molly off getting ice cream with Aaron I want him to meet Manda  spending the night with Meredith and Lauren I missed them dearly</td>\n",
              "      <td>138</td>\n",
              "    </tr>\n",
              "    <tr>\n",
              "      <th>1599921</th>\n",
              "      <td>I just switched back to Opera (using the moi skin). It's really fast &amp; stable to work with - I'm loving it  http://www.opera.com/download/</td>\n",
              "      <td>138</td>\n",
              "    </tr>\n",
              "    <tr>\n",
              "      <th>46</th>\n",
              "      <td>Just checked my user timeline on my blackberry, it looks like the twanking is still happening  Are ppl still having probs w/ BGs and UIDs?</td>\n",
              "      <td>138</td>\n",
              "    </tr>\n",
              "    <tr>\n",
              "      <th>1022662</th>\n",
              "      <td>@terraM WORD! If I can get it, it's MINE. Doesn't matter if you put a lid on it, put it behind a cabinet, or kept it behind a closed door</td>\n",
              "      <td>138</td>\n",
              "    </tr>\n",
              "    <tr>\n",
              "      <th>521668</th>\n",
              "      <td>You would think if I continue to block someone, despite the fact they are under a new username each time, I DON'T want them following me!</td>\n",
              "      <td>138</td>\n",
              "    </tr>\n",
              "    <tr>\n",
              "      <th>385239</th>\n",
              "      <td>twitter api is maintaining  Tất cả các app g?i api twitter đ?u bị fail trong th?i gian này. (twitterfox on firefox, tweetie on iphone ...)</td>\n",
              "      <td>138</td>\n",
              "    </tr>\n",
              "    <tr>\n",
              "      <th>385266</th>\n",
              "      <td>@katiemarie19 Called out 4 the Sharm!! Bad times matey! Not bk till prob about 4am  Off 2mrw now so a drive in ure new mo mo is needed xxx</td>\n",
              "      <td>138</td>\n",
              "    </tr>\n",
              "    <tr>\n",
              "      <th>887782</th>\n",
              "      <td>Back from Florida, where we saw manatees and gators and more birds than I can count.  Turns out I can row a canoe, but only when I want.</td>\n",
              "      <td>138</td>\n",
              "    </tr>\n",
              "    <tr>\n",
              "      <th>1383221</th>\n",
              "      <td>omgomgomomgomg hotties down at the u18 footy club today!! yummy healesville boys  cant waaaait hehaha. jess + my plan for next weekend shh</td>\n",
              "      <td>138</td>\n",
              "    </tr>\n",
              "    <tr>\n",
              "      <th>385165</th>\n",
              "      <td>good thoughts and feelings about my birthday have gone away. My sister wont stop going on about her car. my mum is in a piss. its raining</td>\n",
              "      <td>138</td>\n",
              "    </tr>\n",
              "  </tbody>\n",
              "</table>\n",
              "</div>\n",
              "    <div class=\"colab-df-buttons\">\n",
              "\n",
              "  <div class=\"colab-df-container\">\n",
              "    <button class=\"colab-df-convert\" onclick=\"convertToInteractive('df-6006c6f8-ee20-48d1-a8ba-e06ecce85431')\"\n",
              "            title=\"Convert this dataframe to an interactive table.\"\n",
              "            style=\"display:none;\">\n",
              "\n",
              "  <svg xmlns=\"http://www.w3.org/2000/svg\" height=\"24px\" viewBox=\"0 -960 960 960\">\n",
              "    <path d=\"M120-120v-720h720v720H120Zm60-500h600v-160H180v160Zm220 220h160v-160H400v160Zm0 220h160v-160H400v160ZM180-400h160v-160H180v160Zm440 0h160v-160H620v160ZM180-180h160v-160H180v160Zm440 0h160v-160H620v160Z\"/>\n",
              "  </svg>\n",
              "    </button>\n",
              "\n",
              "  <style>\n",
              "    .colab-df-container {\n",
              "      display:flex;\n",
              "      gap: 12px;\n",
              "    }\n",
              "\n",
              "    .colab-df-convert {\n",
              "      background-color: #E8F0FE;\n",
              "      border: none;\n",
              "      border-radius: 50%;\n",
              "      cursor: pointer;\n",
              "      display: none;\n",
              "      fill: #1967D2;\n",
              "      height: 32px;\n",
              "      padding: 0 0 0 0;\n",
              "      width: 32px;\n",
              "    }\n",
              "\n",
              "    .colab-df-convert:hover {\n",
              "      background-color: #E2EBFA;\n",
              "      box-shadow: 0px 1px 2px rgba(60, 64, 67, 0.3), 0px 1px 3px 1px rgba(60, 64, 67, 0.15);\n",
              "      fill: #174EA6;\n",
              "    }\n",
              "\n",
              "    .colab-df-buttons div {\n",
              "      margin-bottom: 4px;\n",
              "    }\n",
              "\n",
              "    [theme=dark] .colab-df-convert {\n",
              "      background-color: #3B4455;\n",
              "      fill: #D2E3FC;\n",
              "    }\n",
              "\n",
              "    [theme=dark] .colab-df-convert:hover {\n",
              "      background-color: #434B5C;\n",
              "      box-shadow: 0px 1px 3px 1px rgba(0, 0, 0, 0.15);\n",
              "      filter: drop-shadow(0px 1px 2px rgba(0, 0, 0, 0.3));\n",
              "      fill: #FFFFFF;\n",
              "    }\n",
              "  </style>\n",
              "\n",
              "    <script>\n",
              "      const buttonEl =\n",
              "        document.querySelector('#df-6006c6f8-ee20-48d1-a8ba-e06ecce85431 button.colab-df-convert');\n",
              "      buttonEl.style.display =\n",
              "        google.colab.kernel.accessAllowed ? 'block' : 'none';\n",
              "\n",
              "      async function convertToInteractive(key) {\n",
              "        const element = document.querySelector('#df-6006c6f8-ee20-48d1-a8ba-e06ecce85431');\n",
              "        const dataTable =\n",
              "          await google.colab.kernel.invokeFunction('convertToInteractive',\n",
              "                                                    [key], {});\n",
              "        if (!dataTable) return;\n",
              "\n",
              "        const docLinkHtml = 'Like what you see? Visit the ' +\n",
              "          '<a target=\"_blank\" href=https://colab.research.google.com/notebooks/data_table.ipynb>data table notebook</a>'\n",
              "          + ' to learn more about interactive tables.';\n",
              "        element.innerHTML = '';\n",
              "        dataTable['output_type'] = 'display_data';\n",
              "        await google.colab.output.renderOutput(dataTable, element);\n",
              "        const docLink = document.createElement('div');\n",
              "        docLink.innerHTML = docLinkHtml;\n",
              "        element.appendChild(docLink);\n",
              "      }\n",
              "    </script>\n",
              "  </div>\n",
              "\n",
              "\n",
              "    <div id=\"df-02dcce8a-20f1-4c4f-86ea-891836605726\">\n",
              "      <button class=\"colab-df-quickchart\" onclick=\"quickchart('df-02dcce8a-20f1-4c4f-86ea-891836605726')\"\n",
              "                title=\"Suggest charts\"\n",
              "                style=\"display:none;\">\n",
              "\n",
              "<svg xmlns=\"http://www.w3.org/2000/svg\" height=\"24px\"viewBox=\"0 0 24 24\"\n",
              "     width=\"24px\">\n",
              "    <g>\n",
              "        <path d=\"M19 3H5c-1.1 0-2 .9-2 2v14c0 1.1.9 2 2 2h14c1.1 0 2-.9 2-2V5c0-1.1-.9-2-2-2zM9 17H7v-7h2v7zm4 0h-2V7h2v10zm4 0h-2v-4h2v4z\"/>\n",
              "    </g>\n",
              "</svg>\n",
              "      </button>\n",
              "\n",
              "<style>\n",
              "  .colab-df-quickchart {\n",
              "      --bg-color: #E8F0FE;\n",
              "      --fill-color: #1967D2;\n",
              "      --hover-bg-color: #E2EBFA;\n",
              "      --hover-fill-color: #174EA6;\n",
              "      --disabled-fill-color: #AAA;\n",
              "      --disabled-bg-color: #DDD;\n",
              "  }\n",
              "\n",
              "  [theme=dark] .colab-df-quickchart {\n",
              "      --bg-color: #3B4455;\n",
              "      --fill-color: #D2E3FC;\n",
              "      --hover-bg-color: #434B5C;\n",
              "      --hover-fill-color: #FFFFFF;\n",
              "      --disabled-bg-color: #3B4455;\n",
              "      --disabled-fill-color: #666;\n",
              "  }\n",
              "\n",
              "  .colab-df-quickchart {\n",
              "    background-color: var(--bg-color);\n",
              "    border: none;\n",
              "    border-radius: 50%;\n",
              "    cursor: pointer;\n",
              "    display: none;\n",
              "    fill: var(--fill-color);\n",
              "    height: 32px;\n",
              "    padding: 0;\n",
              "    width: 32px;\n",
              "  }\n",
              "\n",
              "  .colab-df-quickchart:hover {\n",
              "    background-color: var(--hover-bg-color);\n",
              "    box-shadow: 0 1px 2px rgba(60, 64, 67, 0.3), 0 1px 3px 1px rgba(60, 64, 67, 0.15);\n",
              "    fill: var(--button-hover-fill-color);\n",
              "  }\n",
              "\n",
              "  .colab-df-quickchart-complete:disabled,\n",
              "  .colab-df-quickchart-complete:disabled:hover {\n",
              "    background-color: var(--disabled-bg-color);\n",
              "    fill: var(--disabled-fill-color);\n",
              "    box-shadow: none;\n",
              "  }\n",
              "\n",
              "  .colab-df-spinner {\n",
              "    border: 2px solid var(--fill-color);\n",
              "    border-color: transparent;\n",
              "    border-bottom-color: var(--fill-color);\n",
              "    animation:\n",
              "      spin 1s steps(1) infinite;\n",
              "  }\n",
              "\n",
              "  @keyframes spin {\n",
              "    0% {\n",
              "      border-color: transparent;\n",
              "      border-bottom-color: var(--fill-color);\n",
              "      border-left-color: var(--fill-color);\n",
              "    }\n",
              "    20% {\n",
              "      border-color: transparent;\n",
              "      border-left-color: var(--fill-color);\n",
              "      border-top-color: var(--fill-color);\n",
              "    }\n",
              "    30% {\n",
              "      border-color: transparent;\n",
              "      border-left-color: var(--fill-color);\n",
              "      border-top-color: var(--fill-color);\n",
              "      border-right-color: var(--fill-color);\n",
              "    }\n",
              "    40% {\n",
              "      border-color: transparent;\n",
              "      border-right-color: var(--fill-color);\n",
              "      border-top-color: var(--fill-color);\n",
              "    }\n",
              "    60% {\n",
              "      border-color: transparent;\n",
              "      border-right-color: var(--fill-color);\n",
              "    }\n",
              "    80% {\n",
              "      border-color: transparent;\n",
              "      border-right-color: var(--fill-color);\n",
              "      border-bottom-color: var(--fill-color);\n",
              "    }\n",
              "    90% {\n",
              "      border-color: transparent;\n",
              "      border-bottom-color: var(--fill-color);\n",
              "    }\n",
              "  }\n",
              "</style>\n",
              "\n",
              "      <script>\n",
              "        async function quickchart(key) {\n",
              "          const quickchartButtonEl =\n",
              "            document.querySelector('#' + key + ' button');\n",
              "          quickchartButtonEl.disabled = true;  // To prevent multiple clicks.\n",
              "          quickchartButtonEl.classList.add('colab-df-spinner');\n",
              "          try {\n",
              "            const charts = await google.colab.kernel.invokeFunction(\n",
              "                'suggestCharts', [key], {});\n",
              "          } catch (error) {\n",
              "            console.error('Error during call to suggestCharts:', error);\n",
              "          }\n",
              "          quickchartButtonEl.classList.remove('colab-df-spinner');\n",
              "          quickchartButtonEl.classList.add('colab-df-quickchart-complete');\n",
              "        }\n",
              "        (() => {\n",
              "          let quickchartButtonEl =\n",
              "            document.querySelector('#df-02dcce8a-20f1-4c4f-86ea-891836605726 button');\n",
              "          quickchartButtonEl.style.display =\n",
              "            google.colab.kernel.accessAllowed ? 'block' : 'none';\n",
              "        })();\n",
              "      </script>\n",
              "    </div>\n",
              "\n",
              "    </div>\n",
              "  </div>\n"
            ],
            "application/vnd.google.colaboratory.intrinsic+json": {
              "type": "dataframe",
              "summary": "{\n  \"name\": \"df_fixed\",\n  \"rows\": 10,\n  \"fields\": [\n    {\n      \"column\": \"text\",\n      \"properties\": {\n        \"dtype\": \"string\",\n        \"num_unique_values\": 10,\n        \"samples\": [\n          \"omgomgomomgomg hotties down at the u18 footy club today!! yummy healesville boys  cant waaaait hehaha. jess + my plan for next weekend shh\",\n          \"I just switched back to Opera (using the moi skin). It's really fast & stable to work with - I'm loving it  http://www.opera.com/download/\",\n          \"twitter api is maintaining  T\\u1ea5t c\\u1ea3 c\\u00e1c app g?i api twitter \\u0111?u b\\u1ecb fail trong th?i gian n\\u00e0y. (twitterfox on firefox, tweetie on iphone ...)\"\n        ],\n        \"semantic_type\": \"\",\n        \"description\": \"\"\n      }\n    },\n    {\n      \"column\": \"text_length\",\n      \"properties\": {\n        \"dtype\": \"number\",\n        \"std\": 0,\n        \"min\": 138,\n        \"max\": 138,\n        \"num_unique_values\": 1,\n        \"samples\": [\n          138\n        ],\n        \"semantic_type\": \"\",\n        \"description\": \"\"\n      }\n    }\n  ]\n}"
            }
          },
          "metadata": {},
          "execution_count": 9
        }
      ]
    },
    {
      "cell_type": "code",
      "execution_count": 10,
      "id": "9711f1f0-64f5-41e6-b2f6-930d53fef1a9",
      "metadata": {
        "id": "9711f1f0-64f5-41e6-b2f6-930d53fef1a9"
      },
      "outputs": [],
      "source": [
        "pd.reset_option('display.max_colwidth')"
      ]
    },
    {
      "cell_type": "markdown",
      "source": [
        "#### Now we resume with EDA, re-iterating over some which we have already done\n"
      ],
      "metadata": {
        "id": "EH53GqPhYhb3"
      },
      "id": "EH53GqPhYhb3"
    },
    {
      "cell_type": "code",
      "source": [
        "# We now visualize again the violin plot for each target by tweet length\n",
        "\n",
        "# Add a new column for tweet length\n",
        "df_fixed['text_length'] = df_fixed['text'].str.len()\n",
        "\n",
        "# Violin plot of tweet length by sentiment\n",
        "plt.figure(figsize=(8, 5))\n",
        "ax = sns.violinplot(data=df_fixed, x='target', y='text_length', hue='target', palette=custom_palette, inner='quartile', legend=True)\n",
        "\n",
        "plt.title(\"Distribution of Tweet Length by Sentiment\", fontsize=16, fontweight='bold')\n",
        "plt.xlabel(\"Sentiment Target\", fontsize=12)\n",
        "plt.ylabel(\"Tweet Length (characters)\", fontsize=12)\n",
        "plt.xticks([0, 1], [\"Negative (0)\", \"Positive (4)\"], fontsize=11)\n",
        "\n",
        "# Fix legend to match custom labels\n",
        "legend = ax.get_legend()\n",
        "legend.set_title('Sentiment')\n",
        "handles, labels = legend.legend_handles, [t.get_text() for t in legend.get_texts()]\n",
        "label_map = {'0': 'Negative (0)', '4': 'Positive (4)'}\n",
        "new_labels = [label_map.get(l, l) for l in labels]\n",
        "for t, new_label in zip(legend.get_texts(), new_labels):\n",
        "    t.set_text(new_label)\n",
        "\n",
        "plt.tight_layout()\n",
        "plt.show()"
      ],
      "metadata": {
        "id": "EUw9SWvWJcRh",
        "outputId": "34add6b8-2ea3-4f15-b822-258fc941ab22",
        "colab": {
          "base_uri": "https://localhost:8080/",
          "height": 507
        }
      },
      "id": "EUw9SWvWJcRh",
      "execution_count": 15,
      "outputs": [
        {
          "output_type": "display_data",
          "data": {
            "text/plain": [
              "<Figure size 800x500 with 1 Axes>"
            ],
            "image/png": "[encoded data removed]"
          },
          "metadata": {}
        }
      ]
    },
    {
      "cell_type": "code",
      "source": [
        "# We now examine tweet length and sentiment\n",
        "\n",
        "\n",
        "# Define adjusted bins based on observed distribution\n",
        "bin_edges = [0, 20, 40, 60, 80, 100, 120, 140]\n",
        "bin_labels = ['0–20', '21–40', '41–60', '61–80', '81–100', '101–120', '121–140']\n",
        "\n",
        "# Create tweet length buckets\n",
        "df_fixed['length_bucket'] = pd.cut(df_fixed['text_length'], bins=bin_edges, labels=bin_labels, right=True)\n",
        "\n",
        "# Group by bucket and sentiment, then count\n",
        "bucket_counts = df_fixed.groupby(['length_bucket', 'target']).size().reset_index(name='count')\n",
        "\n",
        "# Plot\n",
        "plt.figure(figsize=(10, 6))\n",
        "ax = sns.barplot(\n",
        "    data=bucket_counts,\n",
        "    x='length_bucket',\n",
        "    y='count',\n",
        "    hue='target',\n",
        "    palette=sentiment_palette\n",
        ")\n",
        "\n",
        "# Update legend labels\n",
        "label_map = {0: 'Negative (0)', 4: 'Positive (4)'}\n",
        "handles, labels = ax.get_legend_handles_labels()\n",
        "new_labels = [label_map.get(int(label), label) for label in labels]\n",
        "ax.legend(handles, new_labels, title=\"Sentiment\")\n",
        "\n",
        "# Axis labels and formatting\n",
        "plt.title(\"Tweet Count by Length Bucket and Sentiment\", fontsize=16, fontweight='bold')\n",
        "plt.xlabel(\"Tweet Length Bucket (characters)\", fontsize=12)\n",
        "plt.ylabel(\"Number of Tweets\", fontsize=12)\n",
        "plt.xticks(rotation=45)\n",
        "plt.tight_layout()\n",
        "plt.show()"
      ],
      "metadata": {
        "id": "dekPOX4kK2IV",
        "outputId": "439229e2-35c4-4e57-ff8c-198ea0592e3a",
        "colab": {
          "base_uri": "https://localhost:8080/",
          "height": 657
        }
      },
      "id": "dekPOX4kK2IV",
      "execution_count": 26,
      "outputs": [
        {
          "output_type": "stream",
          "name": "stderr",
          "text": [
            "<ipython-input-26-862403846>:12: FutureWarning: The default of observed=False is deprecated and will be changed to True in a future version of pandas. Pass observed=False to retain current behavior or observed=True to adopt the future default and silence this warning.\n",
            "  bucket_counts = df_fixed.groupby(['length_bucket', 'target']).size().reset_index(name='count')\n"
          ]
        },
        {
          "output_type": "display_data",
          "data": {
            "text/plain": [
              "<Figure size 1000x600 with 1 Axes>"
            ],
            "image/png": "[encoded data removed]"
          },
          "metadata": {}
        }
      ]
    },
    {
      "cell_type": "code",
      "execution_count": 16,
      "id": "_14QJrP1K9HZ",
      "metadata": {
        "colab": {
          "base_uri": "https://localhost:8080/"
        },
        "id": "_14QJrP1K9HZ",
        "outputId": "1491a8a9-1256-44bf-b47c-3d8ea6036176"
      },
      "outputs": [
        {
          "output_type": "stream",
          "name": "stdout",
          "text": [
            "Number of tweets with special characters: 1,449,479\n",
            "Number of tweets that are mentions (start with @): 698,079\n"
          ]
        }
      ],
      "source": [
        "# Counting the number of tweets with special characters, and those that are a response to other users\n",
        "\n",
        "# Define a regex pattern for special characters (excluding whitespace and alphanumerics)\n",
        "special_char_pattern = r\"[^\\w\\s]\"  # matches anything that's not a-z, A-Z, 0-9, or whitespace\n",
        "\n",
        "# Count tweets that contain at least one special character\n",
        "num_special_chars = df_fixed['text'].str.contains(special_char_pattern).sum()\n",
        "\n",
        "# Count tweets that start with a mention (starts with '@')\n",
        "num_mentions = df_fixed['text'].str.startswith('@').sum()\n",
        "\n",
        "# Output\n",
        "print(f\"Number of tweets with special characters: {num_special_chars:,}\")\n",
        "print(f\"Number of tweets that are mentions (start with @): {num_mentions:,}\")\n"
      ]
    },
    {
      "cell_type": "code",
      "execution_count": 17,
      "id": "TCJhkzaRqWd7",
      "metadata": {
        "colab": {
          "base_uri": "https://localhost:8080/",
          "height": 607
        },
        "id": "TCJhkzaRqWd7",
        "outputId": "7f674f27-18c2-4dbd-d2b5-6fec2175b50f"
      },
      "outputs": [
        {
          "output_type": "display_data",
          "data": {
            "text/plain": [
              "<Figure size 1000x600 with 1 Axes>"
            ],
            "image/png": "[encoded data removed]"
          },
          "metadata": {}
        }
      ],
      "source": [
        "# Now we examine if any pattern arises if the tweet is a response/mention or not\n",
        "\n",
        "# Create a boolean column: True if tweet starts with '@', else False\n",
        "df_fixed['is_mention'] = df_fixed['text'].str.startswith('@')\n",
        "\n",
        "# Group by sentiment (target) and mention status\n",
        "mention_sentiment_counts = (\n",
        "    df_fixed.groupby(['target', 'is_mention'])\n",
        "    .size()\n",
        "    .reset_index(name='tweet_count')\n",
        ")\n",
        "\n",
        "import seaborn as sns\n",
        "import matplotlib.pyplot as plt\n",
        "\n",
        "# Define labels for the sentiment and mention columns\n",
        "mention_sentiment_counts['Sentiment'] = mention_sentiment_counts['target'].map({0: 'Negative', 4: 'Positive'})\n",
        "mention_sentiment_counts['Tweet Type'] = mention_sentiment_counts['is_mention'].map({True: 'Mention', False: 'Original'})\n",
        "\n",
        "# Plot\n",
        "plt.figure(figsize=(10, 6))\n",
        "sns.barplot(\n",
        "    data=mention_sentiment_counts,\n",
        "    x='Sentiment', y='tweet_count', hue='Tweet Type',\n",
        "    palette='Set2'\n",
        ")\n",
        "\n",
        "# Labels and title\n",
        "plt.title('Tweet Count by Sentiment and Type (Mention vs. Original)', fontsize=16, fontweight='bold')\n",
        "plt.xlabel('Sentiment', fontsize=12)\n",
        "plt.ylabel('Number of Tweets', fontsize=12)\n",
        "plt.legend(title='Tweet Type')\n",
        "plt.tight_layout()\n",
        "plt.show()"
      ]
    },
    {
      "cell_type": "markdown",
      "id": "jBgv1Ikqp3L_",
      "metadata": {
        "id": "jBgv1Ikqp3L_"
      },
      "source": [
        "## General EDA Summary\n",
        "\n",
        "- The dataset comprises **1.6 million labeled tweets**, split evenly between **positive (target = 4)** and **negative (target = 0)** sentiments.\n",
        "- There are **no missing or malformed values** across any of the six columns: `target`, `id`, `date`, `flag`, `user`, and `text`. This indicates excellent data quality and readiness for downstream processing.\n",
        "- The **sentiment distribution is perfectly balanced**, with approximately **800,000 samples in each class**. This lack of class imbalance is ideal for training binary classifiers without the need for resampling.\n",
        "- A violin plot of tweet lengths reveals that both sentiment classes have similar distributions, with most tweets falling in the **20–70 character** range. This implies that **tweet length does not correlate strongly with sentiment**, reducing the risk of unintended bias during modeling.\n",
        "- Temporal analysis shows that the tweets were collected within a short time span — from **April to June 2009**. Although there is a noticeable increase in tweet volume across these months, the **sentiment proportions remain consistent**, suggesting this variation has **minimal effect on learning or sentiment classification**.\n",
        "- When breaking down tweets by **type of interaction** (original tweets vs. replies/mentions that begin with `@`), an interesting pattern emerges:\n",
        "  - **Negative tweets are more likely to be original posts**, while\n",
        "  - **Positive tweets are more often replies or mentions** to other accounts.\n",
        "  \n",
        "  This behavioral difference suggests that **positive sentiment may be more common in interpersonal or interactive tweets**, whereas **negative sentiment might be more frequently expressed in stand-alone posts**. This subtle distinction could have implications for contextual sentiment modeling.\n",
        "\n",
        "Overall, the dataset is **clean, balanced, and well-structured**, making it a strong foundation for robust sentiment classification using classical or deep learning techniques.\n"
      ]
    },
    {
      "cell_type": "markdown",
      "id": "M4lM7-1osOSG",
      "metadata": {
        "id": "M4lM7-1osOSG"
      },
      "source": [
        "## Key Note\n",
        "\n",
        "During EDA, we observed a behavioral difference between tweet types:\n",
        "- **Negative tweets are more likely to be original posts**\n",
        "- **Positive tweets more frequently occur as replies or mentions (starting with `@`)**\n",
        "\n",
        "To avoid discarding this valuable context during text preprocessing and to enhance model learning, we will not directly discard @ and lose valuable information.\n",
        "\n"
      ]
    },
    {
      "cell_type": "markdown",
      "id": "b4WHKMoJsqrV",
      "metadata": {
        "id": "b4WHKMoJsqrV"
      },
      "source": [
        "## Plan to Leverage Tweet Interaction Type (Mentions vs. Original) for NLP Sentiment Classification\n",
        "\n",
        "- Replace usernames (e.g., `@user123`) with a neutral token like `[USER]`.\n",
        "- This keeps the context of interaction (e.g., replying to someone) without overfitting to specific handles.\n",
        "\n",
        "```python\n",
        "df['clean_text'] = df['text'].str.replace(r'^@\\w+', 'MENTION', regex=True)\n",
        "```\n",
        "\n",
        "\n",
        "- Create an Explicit Feature column: is_mention\n",
        "\n",
        "This results in capturing conversational context, which might influence sentiment.\n",
        "\n"
      ]
    },
    {
      "cell_type": "markdown",
      "id": "862a8788-ef21-4b32-af2e-41e70d1c532b",
      "metadata": {
        "id": "862a8788-ef21-4b32-af2e-41e70d1c532b"
      },
      "source": [
        "\n",
        "<div style=\"background-color:#e6f2ff; border-left:8px solid #0059b3; padding:20px; margin:20px 0;\">\n",
        "  <h2 style=\"color:#003366;\"><strong>3. Data Preprocessing</strong></h2>\n",
        "  <p style=\"color:#333333;\">Steps: lowercasing, punctuation & stopword removal, tokenization, stemming, lemmatization, cleaning hashtags, mentions, URLs, numbers.</p>\n",
        "</div>\n"
      ]
    },
    {
      "cell_type": "markdown",
      "id": "vkqvb-9lPNaa",
      "metadata": {
        "id": "vkqvb-9lPNaa"
      },
      "source": [
        "- Convert Upper case words to Lower Case\n",
        "- Change all mentions and charachters attached into \"MENTION\"\n",
        "- Download stopwords, punkt_tab using nltk.download() function.\n",
        "- for the stop_words add punctuations like , . \" '\n",
        "- Remove White space"
      ]
    },
    {
      "cell_type": "code",
      "execution_count": 14,
      "id": "dc34c42b-d1f6-4719-9e4c-4f6ecc788c8b",
      "metadata": {
        "id": "dc34c42b-d1f6-4719-9e4c-4f6ecc788c8b"
      },
      "outputs": [],
      "source": [
        "# importing all libraries here\n",
        "import numpy as np\n",
        "import pandas as pd\n",
        "import gdown\n",
        "from google.colab import files\n",
        "import os\n",
        "import seaborn as sns\n",
        "from wordcloud import WordCloud\n",
        "import matplotlib.pyplot as plt\n",
        "from nltk.tokenize import word_tokenize\n",
        "from nltk.stem import WordNetLemmatizer\n",
        "from nltk.tokenize import TreebankWordTokenizer\n",
        "import nltk\n",
        "from nltk.corpus import stopwords\n",
        "from nltk.stem import PorterStemmer\n",
        "import string\n",
        "import re\n",
        "import spacy"
      ]
    },
    {
      "cell_type": "code",
      "execution_count": 6,
      "id": "10c6dda3-8402-492c-acf1-956a2efcd7e6",
      "metadata": {
        "colab": {
          "base_uri": "https://localhost:8080/"
        },
        "id": "10c6dda3-8402-492c-acf1-956a2efcd7e6",
        "outputId": "f8189318-fcff-445a-b5f6-6fc5d35f38c6"
      },
      "outputs": [
        {
          "output_type": "stream",
          "name": "stderr",
          "text": [
            "[nltk_data] Downloading package stopwords to /root/nltk_data...\n",
            "[nltk_data]   Unzipping corpora/stopwords.zip.\n",
            "[nltk_data] Downloading package punkt to /root/nltk_data...\n",
            "[nltk_data]   Unzipping tokenizers/punkt.zip.\n"
          ]
        },
        {
          "output_type": "execute_result",
          "data": {
            "text/plain": [
              "True"
            ]
          },
          "metadata": {},
          "execution_count": 6
        }
      ],
      "source": [
        "# Download the stopwords and punkt_tab\n",
        "nltk.download('stopwords')\n",
        "nltk.download('punkt')"
      ]
    },
    {
      "cell_type": "code",
      "execution_count": 7,
      "id": "82MUpULOPVk8",
      "metadata": {
        "id": "82MUpULOPVk8",
        "colab": {
          "base_uri": "https://localhost:8080/"
        },
        "outputId": "9e9d8d3e-8354-46fe-d8b6-4ec0551aff0c"
      },
      "outputs": [
        {
          "output_type": "stream",
          "name": "stdout",
          "text": [
            "Collecting en-core-web-lg==3.8.0\n",
            "  Downloading https://github.com/explosion/spacy-models/releases/download/en_core_web_lg-3.8.0/en_core_web_lg-3.8.0-py3-none-any.whl (400.7 MB)\n",
            "\u001b[2K     \u001b[90m━━━━━━━━━━━━━━━━━━━━━━━━━━━━━━━━━━━━━━━\u001b[0m \u001b[32m400.7/400.7 MB\u001b[0m \u001b[31m5.4 MB/s\u001b[0m eta \u001b[36m0:00:00\u001b[0m\n",
            "\u001b[?25hInstalling collected packages: en-core-web-lg\n",
            "Successfully installed en-core-web-lg-3.8.0\n",
            "\u001b[38;5;2m✔ Download and installation successful\u001b[0m\n",
            "You can now load the package via spacy.load('en_core_web_lg')\n",
            "\u001b[38;5;3m⚠ Restart to reload dependencies\u001b[0m\n",
            "If you are in a Jupyter or Colab notebook, you may need to restart Python in\n",
            "order to load all the package's dependencies. You can do this by selecting the\n",
            "'Restart kernel' or 'Restart runtime' option.\n"
          ]
        }
      ],
      "source": [
        "!python -m spacy download en_core_web_lg"
      ]
    },
    {
      "cell_type": "code",
      "execution_count": 8,
      "id": "iEDvbM5VPU-m",
      "metadata": {
        "colab": {
          "base_uri": "https://localhost:8080/",
          "height": 313
        },
        "id": "iEDvbM5VPU-m",
        "outputId": "51847907-189b-47b0-a82d-4457fa777a7e"
      },
      "outputs": [
        {
          "output_type": "stream",
          "name": "stderr",
          "text": [
            "/tmp/ipython-input-8-2406542833.py:5: SettingWithCopyWarning: \n",
            "A value is trying to be set on a copy of a slice from a DataFrame.\n",
            "Try using .loc[row_indexer,col_indexer] = value instead\n",
            "\n",
            "See the caveats in the documentation: https://pandas.pydata.org/pandas-docs/stable/user_guide/indexing.html#returning-a-view-versus-a-copy\n",
            "  tweets['text'] = tweets['text'].str.lower()\n"
          ]
        },
        {
          "output_type": "execute_result",
          "data": {
            "text/plain": [
              "                                                text  target\n",
              "0  @switchfoot http://twitpic.com/2y1zl - awww, t...       0\n",
              "1  is upset that he can't update his facebook by ...       0\n",
              "2  @kenichan i dived many times for the ball. man...       0\n",
              "3    my whole body feels itchy and like its on fire        0\n",
              "4  @nationwideclass no, it's not behaving at all....       0"
            ],
            "text/html": [
              "\n",
              "  <div id=\"df-c05d6759-e07a-4cc6-9566-2ace7b686357\" class=\"colab-df-container\">\n",
              "    <div>\n",
              "<style scoped>\n",
              "    .dataframe tbody tr th:only-of-type {\n",
              "        vertical-align: middle;\n",
              "    }\n",
              "\n",
              "    .dataframe tbody tr th {\n",
              "        vertical-align: top;\n",
              "    }\n",
              "\n",
              "    .dataframe thead th {\n",
              "        text-align: right;\n",
              "    }\n",
              "</style>\n",
              "<table border=\"1\" class=\"dataframe\">\n",
              "  <thead>\n",
              "    <tr style=\"text-align: right;\">\n",
              "      <th></th>\n",
              "      <th>text</th>\n",
              "      <th>target</th>\n",
              "    </tr>\n",
              "  </thead>\n",
              "  <tbody>\n",
              "    <tr>\n",
              "      <th>0</th>\n",
              "      <td>@switchfoot http://twitpic.com/2y1zl - awww, t...</td>\n",
              "      <td>0</td>\n",
              "    </tr>\n",
              "    <tr>\n",
              "      <th>1</th>\n",
              "      <td>is upset that he can't update his facebook by ...</td>\n",
              "      <td>0</td>\n",
              "    </tr>\n",
              "    <tr>\n",
              "      <th>2</th>\n",
              "      <td>@kenichan i dived many times for the ball. man...</td>\n",
              "      <td>0</td>\n",
              "    </tr>\n",
              "    <tr>\n",
              "      <th>3</th>\n",
              "      <td>my whole body feels itchy and like its on fire</td>\n",
              "      <td>0</td>\n",
              "    </tr>\n",
              "    <tr>\n",
              "      <th>4</th>\n",
              "      <td>@nationwideclass no, it's not behaving at all....</td>\n",
              "      <td>0</td>\n",
              "    </tr>\n",
              "  </tbody>\n",
              "</table>\n",
              "</div>\n",
              "    <div class=\"colab-df-buttons\">\n",
              "\n",
              "  <div class=\"colab-df-container\">\n",
              "    <button class=\"colab-df-convert\" onclick=\"convertToInteractive('df-c05d6759-e07a-4cc6-9566-2ace7b686357')\"\n",
              "            title=\"Convert this dataframe to an interactive table.\"\n",
              "            style=\"display:none;\">\n",
              "\n",
              "  <svg xmlns=\"http://www.w3.org/2000/svg\" height=\"24px\" viewBox=\"0 -960 960 960\">\n",
              "    <path d=\"M120-120v-720h720v720H120Zm60-500h600v-160H180v160Zm220 220h160v-160H400v160Zm0 220h160v-160H400v160ZM180-400h160v-160H180v160Zm440 0h160v-160H620v160ZM180-180h160v-160H180v160Zm440 0h160v-160H620v160Z\"/>\n",
              "  </svg>\n",
              "    </button>\n",
              "\n",
              "  <style>\n",
              "    .colab-df-container {\n",
              "      display:flex;\n",
              "      gap: 12px;\n",
              "    }\n",
              "\n",
              "    .colab-df-convert {\n",
              "      background-color: #E8F0FE;\n",
              "      border: none;\n",
              "      border-radius: 50%;\n",
              "      cursor: pointer;\n",
              "      display: none;\n",
              "      fill: #1967D2;\n",
              "      height: 32px;\n",
              "      padding: 0 0 0 0;\n",
              "      width: 32px;\n",
              "    }\n",
              "\n",
              "    .colab-df-convert:hover {\n",
              "      background-color: #E2EBFA;\n",
              "      box-shadow: 0px 1px 2px rgba(60, 64, 67, 0.3), 0px 1px 3px 1px rgba(60, 64, 67, 0.15);\n",
              "      fill: #174EA6;\n",
              "    }\n",
              "\n",
              "    .colab-df-buttons div {\n",
              "      margin-bottom: 4px;\n",
              "    }\n",
              "\n",
              "    [theme=dark] .colab-df-convert {\n",
              "      background-color: #3B4455;\n",
              "      fill: #D2E3FC;\n",
              "    }\n",
              "\n",
              "    [theme=dark] .colab-df-convert:hover {\n",
              "      background-color: #434B5C;\n",
              "      box-shadow: 0px 1px 3px 1px rgba(0, 0, 0, 0.15);\n",
              "      filter: drop-shadow(0px 1px 2px rgba(0, 0, 0, 0.3));\n",
              "      fill: #FFFFFF;\n",
              "    }\n",
              "  </style>\n",
              "\n",
              "    <script>\n",
              "      const buttonEl =\n",
              "        document.querySelector('#df-c05d6759-e07a-4cc6-9566-2ace7b686357 button.colab-df-convert');\n",
              "      buttonEl.style.display =\n",
              "        google.colab.kernel.accessAllowed ? 'block' : 'none';\n",
              "\n",
              "      async function convertToInteractive(key) {\n",
              "        const element = document.querySelector('#df-c05d6759-e07a-4cc6-9566-2ace7b686357');\n",
              "        const dataTable =\n",
              "          await google.colab.kernel.invokeFunction('convertToInteractive',\n",
              "                                                    [key], {});\n",
              "        if (!dataTable) return;\n",
              "\n",
              "        const docLinkHtml = 'Like what you see? Visit the ' +\n",
              "          '<a target=\"_blank\" href=https://colab.research.google.com/notebooks/data_table.ipynb>data table notebook</a>'\n",
              "          + ' to learn more about interactive tables.';\n",
              "        element.innerHTML = '';\n",
              "        dataTable['output_type'] = 'display_data';\n",
              "        await google.colab.output.renderOutput(dataTable, element);\n",
              "        const docLink = document.createElement('div');\n",
              "        docLink.innerHTML = docLinkHtml;\n",
              "        element.appendChild(docLink);\n",
              "      }\n",
              "    </script>\n",
              "  </div>\n",
              "\n",
              "\n",
              "    <div id=\"df-494c0fa9-513b-4efe-9764-507aac580852\">\n",
              "      <button class=\"colab-df-quickchart\" onclick=\"quickchart('df-494c0fa9-513b-4efe-9764-507aac580852')\"\n",
              "                title=\"Suggest charts\"\n",
              "                style=\"display:none;\">\n",
              "\n",
              "<svg xmlns=\"http://www.w3.org/2000/svg\" height=\"24px\"viewBox=\"0 0 24 24\"\n",
              "     width=\"24px\">\n",
              "    <g>\n",
              "        <path d=\"M19 3H5c-1.1 0-2 .9-2 2v14c0 1.1.9 2 2 2h14c1.1 0 2-.9 2-2V5c0-1.1-.9-2-2-2zM9 17H7v-7h2v7zm4 0h-2V7h2v10zm4 0h-2v-4h2v4z\"/>\n",
              "    </g>\n",
              "</svg>\n",
              "      </button>\n",
              "\n",
              "<style>\n",
              "  .colab-df-quickchart {\n",
              "      --bg-color: #E8F0FE;\n",
              "      --fill-color: #1967D2;\n",
              "      --hover-bg-color: #E2EBFA;\n",
              "      --hover-fill-color: #174EA6;\n",
              "      --disabled-fill-color: #AAA;\n",
              "      --disabled-bg-color: #DDD;\n",
              "  }\n",
              "\n",
              "  [theme=dark] .colab-df-quickchart {\n",
              "      --bg-color: #3B4455;\n",
              "      --fill-color: #D2E3FC;\n",
              "      --hover-bg-color: #434B5C;\n",
              "      --hover-fill-color: #FFFFFF;\n",
              "      --disabled-bg-color: #3B4455;\n",
              "      --disabled-fill-color: #666;\n",
              "  }\n",
              "\n",
              "  .colab-df-quickchart {\n",
              "    background-color: var(--bg-color);\n",
              "    border: none;\n",
              "    border-radius: 50%;\n",
              "    cursor: pointer;\n",
              "    display: none;\n",
              "    fill: var(--fill-color);\n",
              "    height: 32px;\n",
              "    padding: 0;\n",
              "    width: 32px;\n",
              "  }\n",
              "\n",
              "  .colab-df-quickchart:hover {\n",
              "    background-color: var(--hover-bg-color);\n",
              "    box-shadow: 0 1px 2px rgba(60, 64, 67, 0.3), 0 1px 3px 1px rgba(60, 64, 67, 0.15);\n",
              "    fill: var(--button-hover-fill-color);\n",
              "  }\n",
              "\n",
              "  .colab-df-quickchart-complete:disabled,\n",
              "  .colab-df-quickchart-complete:disabled:hover {\n",
              "    background-color: var(--disabled-bg-color);\n",
              "    fill: var(--disabled-fill-color);\n",
              "    box-shadow: none;\n",
              "  }\n",
              "\n",
              "  .colab-df-spinner {\n",
              "    border: 2px solid var(--fill-color);\n",
              "    border-color: transparent;\n",
              "    border-bottom-color: var(--fill-color);\n",
              "    animation:\n",
              "      spin 1s steps(1) infinite;\n",
              "  }\n",
              "\n",
              "  @keyframes spin {\n",
              "    0% {\n",
              "      border-color: transparent;\n",
              "      border-bottom-color: var(--fill-color);\n",
              "      border-left-color: var(--fill-color);\n",
              "    }\n",
              "    20% {\n",
              "      border-color: transparent;\n",
              "      border-left-color: var(--fill-color);\n",
              "      border-top-color: var(--fill-color);\n",
              "    }\n",
              "    30% {\n",
              "      border-color: transparent;\n",
              "      border-left-color: var(--fill-color);\n",
              "      border-top-color: var(--fill-color);\n",
              "      border-right-color: var(--fill-color);\n",
              "    }\n",
              "    40% {\n",
              "      border-color: transparent;\n",
              "      border-right-color: var(--fill-color);\n",
              "      border-top-color: var(--fill-color);\n",
              "    }\n",
              "    60% {\n",
              "      border-color: transparent;\n",
              "      border-right-color: var(--fill-color);\n",
              "    }\n",
              "    80% {\n",
              "      border-color: transparent;\n",
              "      border-right-color: var(--fill-color);\n",
              "      border-bottom-color: var(--fill-color);\n",
              "    }\n",
              "    90% {\n",
              "      border-color: transparent;\n",
              "      border-bottom-color: var(--fill-color);\n",
              "    }\n",
              "  }\n",
              "</style>\n",
              "\n",
              "      <script>\n",
              "        async function quickchart(key) {\n",
              "          const quickchartButtonEl =\n",
              "            document.querySelector('#' + key + ' button');\n",
              "          quickchartButtonEl.disabled = true;  // To prevent multiple clicks.\n",
              "          quickchartButtonEl.classList.add('colab-df-spinner');\n",
              "          try {\n",
              "            const charts = await google.colab.kernel.invokeFunction(\n",
              "                'suggestCharts', [key], {});\n",
              "          } catch (error) {\n",
              "            console.error('Error during call to suggestCharts:', error);\n",
              "          }\n",
              "          quickchartButtonEl.classList.remove('colab-df-spinner');\n",
              "          quickchartButtonEl.classList.add('colab-df-quickchart-complete');\n",
              "        }\n",
              "        (() => {\n",
              "          let quickchartButtonEl =\n",
              "            document.querySelector('#df-494c0fa9-513b-4efe-9764-507aac580852 button');\n",
              "          quickchartButtonEl.style.display =\n",
              "            google.colab.kernel.accessAllowed ? 'block' : 'none';\n",
              "        })();\n",
              "      </script>\n",
              "    </div>\n",
              "\n",
              "    </div>\n",
              "  </div>\n"
            ],
            "application/vnd.google.colaboratory.intrinsic+json": {
              "type": "dataframe",
              "variable_name": "tweets"
            }
          },
          "metadata": {},
          "execution_count": 8
        }
      ],
      "source": [
        "# step 1, Convert all cases to lower\n",
        "\n",
        "tweets = df_fixed[['text', 'target']]\n",
        "\n",
        "tweets['text'] = tweets['text'].str.lower()\n",
        "\n",
        "tweets.head()"
      ]
    },
    {
      "cell_type": "code",
      "execution_count": 10,
      "id": "9ac7135d-4ecd-4c49-9538-eea9d023e4bb",
      "metadata": {
        "colab": {
          "base_uri": "https://localhost:8080/",
          "height": 206
        },
        "id": "9ac7135d-4ecd-4c49-9538-eea9d023e4bb",
        "outputId": "201f3979-f0d1-4943-828f-fe6b7f4106f5"
      },
      "outputs": [
        {
          "output_type": "execute_result",
          "data": {
            "text/plain": [
              "                                                text  target\n",
              "0  MENTION http://twitpic.com/2y1zl - awww, that'...       0\n",
              "1  is upset that he can't update his facebook by ...       0\n",
              "2  MENTION i dived many times for the ball. manag...       0\n",
              "3    my whole body feels itchy and like its on fire        0\n",
              "4  MENTION no, it's not behaving at all. i'm mad....       0"
            ],
            "text/html": [
              "\n",
              "  <div id=\"df-2ec91bdb-8a25-42a9-9374-e5c55e008a87\" class=\"colab-df-container\">\n",
              "    <div>\n",
              "<style scoped>\n",
              "    .dataframe tbody tr th:only-of-type {\n",
              "        vertical-align: middle;\n",
              "    }\n",
              "\n",
              "    .dataframe tbody tr th {\n",
              "        vertical-align: top;\n",
              "    }\n",
              "\n",
              "    .dataframe thead th {\n",
              "        text-align: right;\n",
              "    }\n",
              "</style>\n",
              "<table border=\"1\" class=\"dataframe\">\n",
              "  <thead>\n",
              "    <tr style=\"text-align: right;\">\n",
              "      <th></th>\n",
              "      <th>text</th>\n",
              "      <th>target</th>\n",
              "    </tr>\n",
              "  </thead>\n",
              "  <tbody>\n",
              "    <tr>\n",
              "      <th>0</th>\n",
              "      <td>MENTION http://twitpic.com/2y1zl - awww, that'...</td>\n",
              "      <td>0</td>\n",
              "    </tr>\n",
              "    <tr>\n",
              "      <th>1</th>\n",
              "      <td>is upset that he can't update his facebook by ...</td>\n",
              "      <td>0</td>\n",
              "    </tr>\n",
              "    <tr>\n",
              "      <th>2</th>\n",
              "      <td>MENTION i dived many times for the ball. manag...</td>\n",
              "      <td>0</td>\n",
              "    </tr>\n",
              "    <tr>\n",
              "      <th>3</th>\n",
              "      <td>my whole body feels itchy and like its on fire</td>\n",
              "      <td>0</td>\n",
              "    </tr>\n",
              "    <tr>\n",
              "      <th>4</th>\n",
              "      <td>MENTION no, it's not behaving at all. i'm mad....</td>\n",
              "      <td>0</td>\n",
              "    </tr>\n",
              "  </tbody>\n",
              "</table>\n",
              "</div>\n",
              "    <div class=\"colab-df-buttons\">\n",
              "\n",
              "  <div class=\"colab-df-container\">\n",
              "    <button class=\"colab-df-convert\" onclick=\"convertToInteractive('df-2ec91bdb-8a25-42a9-9374-e5c55e008a87')\"\n",
              "            title=\"Convert this dataframe to an interactive table.\"\n",
              "            style=\"display:none;\">\n",
              "\n",
              "  <svg xmlns=\"http://www.w3.org/2000/svg\" height=\"24px\" viewBox=\"0 -960 960 960\">\n",
              "    <path d=\"M120-120v-720h720v720H120Zm60-500h600v-160H180v160Zm220 220h160v-160H400v160Zm0 220h160v-160H400v160ZM180-400h160v-160H180v160Zm440 0h160v-160H620v160ZM180-180h160v-160H180v160Zm440 0h160v-160H620v160Z\"/>\n",
              "  </svg>\n",
              "    </button>\n",
              "\n",
              "  <style>\n",
              "    .colab-df-container {\n",
              "      display:flex;\n",
              "      gap: 12px;\n",
              "    }\n",
              "\n",
              "    .colab-df-convert {\n",
              "      background-color: #E8F0FE;\n",
              "      border: none;\n",
              "      border-radius: 50%;\n",
              "      cursor: pointer;\n",
              "      display: none;\n",
              "      fill: #1967D2;\n",
              "      height: 32px;\n",
              "      padding: 0 0 0 0;\n",
              "      width: 32px;\n",
              "    }\n",
              "\n",
              "    .colab-df-convert:hover {\n",
              "      background-color: #E2EBFA;\n",
              "      box-shadow: 0px 1px 2px rgba(60, 64, 67, 0.3), 0px 1px 3px 1px rgba(60, 64, 67, 0.15);\n",
              "      fill: #174EA6;\n",
              "    }\n",
              "\n",
              "    .colab-df-buttons div {\n",
              "      margin-bottom: 4px;\n",
              "    }\n",
              "\n",
              "    [theme=dark] .colab-df-convert {\n",
              "      background-color: #3B4455;\n",
              "      fill: #D2E3FC;\n",
              "    }\n",
              "\n",
              "    [theme=dark] .colab-df-convert:hover {\n",
              "      background-color: #434B5C;\n",
              "      box-shadow: 0px 1px 3px 1px rgba(0, 0, 0, 0.15);\n",
              "      filter: drop-shadow(0px 1px 2px rgba(0, 0, 0, 0.3));\n",
              "      fill: #FFFFFF;\n",
              "    }\n",
              "  </style>\n",
              "\n",
              "    <script>\n",
              "      const buttonEl =\n",
              "        document.querySelector('#df-2ec91bdb-8a25-42a9-9374-e5c55e008a87 button.colab-df-convert');\n",
              "      buttonEl.style.display =\n",
              "        google.colab.kernel.accessAllowed ? 'block' : 'none';\n",
              "\n",
              "      async function convertToInteractive(key) {\n",
              "        const element = document.querySelector('#df-2ec91bdb-8a25-42a9-9374-e5c55e008a87');\n",
              "        const dataTable =\n",
              "          await google.colab.kernel.invokeFunction('convertToInteractive',\n",
              "                                                    [key], {});\n",
              "        if (!dataTable) return;\n",
              "\n",
              "        const docLinkHtml = 'Like what you see? Visit the ' +\n",
              "          '<a target=\"_blank\" href=https://colab.research.google.com/notebooks/data_table.ipynb>data table notebook</a>'\n",
              "          + ' to learn more about interactive tables.';\n",
              "        element.innerHTML = '';\n",
              "        dataTable['output_type'] = 'display_data';\n",
              "        await google.colab.output.renderOutput(dataTable, element);\n",
              "        const docLink = document.createElement('div');\n",
              "        docLink.innerHTML = docLinkHtml;\n",
              "        element.appendChild(docLink);\n",
              "      }\n",
              "    </script>\n",
              "  </div>\n",
              "\n",
              "\n",
              "    <div id=\"df-fb958d3b-4808-4605-b074-9792731d18af\">\n",
              "      <button class=\"colab-df-quickchart\" onclick=\"quickchart('df-fb958d3b-4808-4605-b074-9792731d18af')\"\n",
              "                title=\"Suggest charts\"\n",
              "                style=\"display:none;\">\n",
              "\n",
              "<svg xmlns=\"http://www.w3.org/2000/svg\" height=\"24px\"viewBox=\"0 0 24 24\"\n",
              "     width=\"24px\">\n",
              "    <g>\n",
              "        <path d=\"M19 3H5c-1.1 0-2 .9-2 2v14c0 1.1.9 2 2 2h14c1.1 0 2-.9 2-2V5c0-1.1-.9-2-2-2zM9 17H7v-7h2v7zm4 0h-2V7h2v10zm4 0h-2v-4h2v4z\"/>\n",
              "    </g>\n",
              "</svg>\n",
              "      </button>\n",
              "\n",
              "<style>\n",
              "  .colab-df-quickchart {\n",
              "      --bg-color: #E8F0FE;\n",
              "      --fill-color: #1967D2;\n",
              "      --hover-bg-color: #E2EBFA;\n",
              "      --hover-fill-color: #174EA6;\n",
              "      --disabled-fill-color: #AAA;\n",
              "      --disabled-bg-color: #DDD;\n",
              "  }\n",
              "\n",
              "  [theme=dark] .colab-df-quickchart {\n",
              "      --bg-color: #3B4455;\n",
              "      --fill-color: #D2E3FC;\n",
              "      --hover-bg-color: #434B5C;\n",
              "      --hover-fill-color: #FFFFFF;\n",
              "      --disabled-bg-color: #3B4455;\n",
              "      --disabled-fill-color: #666;\n",
              "  }\n",
              "\n",
              "  .colab-df-quickchart {\n",
              "    background-color: var(--bg-color);\n",
              "    border: none;\n",
              "    border-radius: 50%;\n",
              "    cursor: pointer;\n",
              "    display: none;\n",
              "    fill: var(--fill-color);\n",
              "    height: 32px;\n",
              "    padding: 0;\n",
              "    width: 32px;\n",
              "  }\n",
              "\n",
              "  .colab-df-quickchart:hover {\n",
              "    background-color: var(--hover-bg-color);\n",
              "    box-shadow: 0 1px 2px rgba(60, 64, 67, 0.3), 0 1px 3px 1px rgba(60, 64, 67, 0.15);\n",
              "    fill: var(--button-hover-fill-color);\n",
              "  }\n",
              "\n",
              "  .colab-df-quickchart-complete:disabled,\n",
              "  .colab-df-quickchart-complete:disabled:hover {\n",
              "    background-color: var(--disabled-bg-color);\n",
              "    fill: var(--disabled-fill-color);\n",
              "    box-shadow: none;\n",
              "  }\n",
              "\n",
              "  .colab-df-spinner {\n",
              "    border: 2px solid var(--fill-color);\n",
              "    border-color: transparent;\n",
              "    border-bottom-color: var(--fill-color);\n",
              "    animation:\n",
              "      spin 1s steps(1) infinite;\n",
              "  }\n",
              "\n",
              "  @keyframes spin {\n",
              "    0% {\n",
              "      border-color: transparent;\n",
              "      border-bottom-color: var(--fill-color);\n",
              "      border-left-color: var(--fill-color);\n",
              "    }\n",
              "    20% {\n",
              "      border-color: transparent;\n",
              "      border-left-color: var(--fill-color);\n",
              "      border-top-color: var(--fill-color);\n",
              "    }\n",
              "    30% {\n",
              "      border-color: transparent;\n",
              "      border-left-color: var(--fill-color);\n",
              "      border-top-color: var(--fill-color);\n",
              "      border-right-color: var(--fill-color);\n",
              "    }\n",
              "    40% {\n",
              "      border-color: transparent;\n",
              "      border-right-color: var(--fill-color);\n",
              "      border-top-color: var(--fill-color);\n",
              "    }\n",
              "    60% {\n",
              "      border-color: transparent;\n",
              "      border-right-color: var(--fill-color);\n",
              "    }\n",
              "    80% {\n",
              "      border-color: transparent;\n",
              "      border-right-color: var(--fill-color);\n",
              "      border-bottom-color: var(--fill-color);\n",
              "    }\n",
              "    90% {\n",
              "      border-color: transparent;\n",
              "      border-bottom-color: var(--fill-color);\n",
              "    }\n",
              "  }\n",
              "</style>\n",
              "\n",
              "      <script>\n",
              "        async function quickchart(key) {\n",
              "          const quickchartButtonEl =\n",
              "            document.querySelector('#' + key + ' button');\n",
              "          quickchartButtonEl.disabled = true;  // To prevent multiple clicks.\n",
              "          quickchartButtonEl.classList.add('colab-df-spinner');\n",
              "          try {\n",
              "            const charts = await google.colab.kernel.invokeFunction(\n",
              "                'suggestCharts', [key], {});\n",
              "          } catch (error) {\n",
              "            console.error('Error during call to suggestCharts:', error);\n",
              "          }\n",
              "          quickchartButtonEl.classList.remove('colab-df-spinner');\n",
              "          quickchartButtonEl.classList.add('colab-df-quickchart-complete');\n",
              "        }\n",
              "        (() => {\n",
              "          let quickchartButtonEl =\n",
              "            document.querySelector('#df-fb958d3b-4808-4605-b074-9792731d18af button');\n",
              "          quickchartButtonEl.style.display =\n",
              "            google.colab.kernel.accessAllowed ? 'block' : 'none';\n",
              "        })();\n",
              "      </script>\n",
              "    </div>\n",
              "\n",
              "    </div>\n",
              "  </div>\n"
            ],
            "application/vnd.google.colaboratory.intrinsic+json": {
              "type": "dataframe",
              "variable_name": "tweets"
            }
          },
          "metadata": {},
          "execution_count": 10
        }
      ],
      "source": [
        "# step 2, convert all mentions and the mentioned account names to MENTION\n",
        "\n",
        "# Make a copy to avoid modifying the original DataFrame\n",
        "tweets = df_fixed[['text', 'target']].copy()\n",
        "\n",
        "# Convert to lowercase\n",
        "tweets['text'] = tweets['text'].str.lower()\n",
        "\n",
        "# Replace all @mentions with \"MENTION\"\n",
        "tweets['text'] = tweets['text'].str.replace(r'@\\w+', 'MENTION', regex=True)\n",
        "\n",
        "tweets.head()"
      ]
    },
    {
      "cell_type": "code",
      "execution_count": 12,
      "id": "ex-V6ZTsSXBn",
      "metadata": {
        "colab": {
          "base_uri": "https://localhost:8080/",
          "height": 242
        },
        "id": "ex-V6ZTsSXBn",
        "outputId": "f181cf30-c348-46ce-d1c1-56f5905db358"
      },
      "outputs": [
        {
          "output_type": "stream",
          "name": "stderr",
          "text": [
            "[nltk_data] Downloading package wordnet to /root/nltk_data...\n",
            "[nltk_data]   Package wordnet is already up-to-date!\n"
          ]
        },
        {
          "output_type": "execute_result",
          "data": {
            "text/plain": [
              "                                                text target\n",
              "0  MENTION thats bummer shoulda got david carr th...      0\n",
              "1  upset cant update facebook texting might cry r...      0\n",
              "2  MENTION dived many time ball managed save rest...      0\n",
              "3                    whole body feel itchy like fire      0\n",
              "4                   MENTION behaving im mad cant see      0"
            ],
            "text/html": [
              "\n",
              "  <div id=\"df-bd45c00c-7a15-4673-871f-c0a3a8b957df\" class=\"colab-df-container\">\n",
              "    <div>\n",
              "<style scoped>\n",
              "    .dataframe tbody tr th:only-of-type {\n",
              "        vertical-align: middle;\n",
              "    }\n",
              "\n",
              "    .dataframe tbody tr th {\n",
              "        vertical-align: top;\n",
              "    }\n",
              "\n",
              "    .dataframe thead th {\n",
              "        text-align: right;\n",
              "    }\n",
              "</style>\n",
              "<table border=\"1\" class=\"dataframe\">\n",
              "  <thead>\n",
              "    <tr style=\"text-align: right;\">\n",
              "      <th></th>\n",
              "      <th>text</th>\n",
              "      <th>target</th>\n",
              "    </tr>\n",
              "  </thead>\n",
              "  <tbody>\n",
              "    <tr>\n",
              "      <th>0</th>\n",
              "      <td>MENTION thats bummer shoulda got david carr th...</td>\n",
              "      <td>0</td>\n",
              "    </tr>\n",
              "    <tr>\n",
              "      <th>1</th>\n",
              "      <td>upset cant update facebook texting might cry r...</td>\n",
              "      <td>0</td>\n",
              "    </tr>\n",
              "    <tr>\n",
              "      <th>2</th>\n",
              "      <td>MENTION dived many time ball managed save rest...</td>\n",
              "      <td>0</td>\n",
              "    </tr>\n",
              "    <tr>\n",
              "      <th>3</th>\n",
              "      <td>whole body feel itchy like fire</td>\n",
              "      <td>0</td>\n",
              "    </tr>\n",
              "    <tr>\n",
              "      <th>4</th>\n",
              "      <td>MENTION behaving im mad cant see</td>\n",
              "      <td>0</td>\n",
              "    </tr>\n",
              "  </tbody>\n",
              "</table>\n",
              "</div>\n",
              "    <div class=\"colab-df-buttons\">\n",
              "\n",
              "  <div class=\"colab-df-container\">\n",
              "    <button class=\"colab-df-convert\" onclick=\"convertToInteractive('df-bd45c00c-7a15-4673-871f-c0a3a8b957df')\"\n",
              "            title=\"Convert this dataframe to an interactive table.\"\n",
              "            style=\"display:none;\">\n",
              "\n",
              "  <svg xmlns=\"http://www.w3.org/2000/svg\" height=\"24px\" viewBox=\"0 -960 960 960\">\n",
              "    <path d=\"M120-120v-720h720v720H120Zm60-500h600v-160H180v160Zm220 220h160v-160H400v160Zm0 220h160v-160H400v160ZM180-400h160v-160H180v160Zm440 0h160v-160H620v160ZM180-180h160v-160H180v160Zm440 0h160v-160H620v160Z\"/>\n",
              "  </svg>\n",
              "    </button>\n",
              "\n",
              "  <style>\n",
              "    .colab-df-container {\n",
              "      display:flex;\n",
              "      gap: 12px;\n",
              "    }\n",
              "\n",
              "    .colab-df-convert {\n",
              "      background-color: #E8F0FE;\n",
              "      border: none;\n",
              "      border-radius: 50%;\n",
              "      cursor: pointer;\n",
              "      display: none;\n",
              "      fill: #1967D2;\n",
              "      height: 32px;\n",
              "      padding: 0 0 0 0;\n",
              "      width: 32px;\n",
              "    }\n",
              "\n",
              "    .colab-df-convert:hover {\n",
              "      background-color: #E2EBFA;\n",
              "      box-shadow: 0px 1px 2px rgba(60, 64, 67, 0.3), 0px 1px 3px 1px rgba(60, 64, 67, 0.15);\n",
              "      fill: #174EA6;\n",
              "    }\n",
              "\n",
              "    .colab-df-buttons div {\n",
              "      margin-bottom: 4px;\n",
              "    }\n",
              "\n",
              "    [theme=dark] .colab-df-convert {\n",
              "      background-color: #3B4455;\n",
              "      fill: #D2E3FC;\n",
              "    }\n",
              "\n",
              "    [theme=dark] .colab-df-convert:hover {\n",
              "      background-color: #434B5C;\n",
              "      box-shadow: 0px 1px 3px 1px rgba(0, 0, 0, 0.15);\n",
              "      filter: drop-shadow(0px 1px 2px rgba(0, 0, 0, 0.3));\n",
              "      fill: #FFFFFF;\n",
              "    }\n",
              "  </style>\n",
              "\n",
              "    <script>\n",
              "      const buttonEl =\n",
              "        document.querySelector('#df-bd45c00c-7a15-4673-871f-c0a3a8b957df button.colab-df-convert');\n",
              "      buttonEl.style.display =\n",
              "        google.colab.kernel.accessAllowed ? 'block' : 'none';\n",
              "\n",
              "      async function convertToInteractive(key) {\n",
              "        const element = document.querySelector('#df-bd45c00c-7a15-4673-871f-c0a3a8b957df');\n",
              "        const dataTable =\n",
              "          await google.colab.kernel.invokeFunction('convertToInteractive',\n",
              "                                                    [key], {});\n",
              "        if (!dataTable) return;\n",
              "\n",
              "        const docLinkHtml = 'Like what you see? Visit the ' +\n",
              "          '<a target=\"_blank\" href=https://colab.research.google.com/notebooks/data_table.ipynb>data table notebook</a>'\n",
              "          + ' to learn more about interactive tables.';\n",
              "        element.innerHTML = '';\n",
              "        dataTable['output_type'] = 'display_data';\n",
              "        await google.colab.output.renderOutput(dataTable, element);\n",
              "        const docLink = document.createElement('div');\n",
              "        docLink.innerHTML = docLinkHtml;\n",
              "        element.appendChild(docLink);\n",
              "      }\n",
              "    </script>\n",
              "  </div>\n",
              "\n",
              "\n",
              "    <div id=\"df-e50fd7c0-7b37-4a16-bf19-2039387009ba\">\n",
              "      <button class=\"colab-df-quickchart\" onclick=\"quickchart('df-e50fd7c0-7b37-4a16-bf19-2039387009ba')\"\n",
              "                title=\"Suggest charts\"\n",
              "                style=\"display:none;\">\n",
              "\n",
              "<svg xmlns=\"http://www.w3.org/2000/svg\" height=\"24px\"viewBox=\"0 0 24 24\"\n",
              "     width=\"24px\">\n",
              "    <g>\n",
              "        <path d=\"M19 3H5c-1.1 0-2 .9-2 2v14c0 1.1.9 2 2 2h14c1.1 0 2-.9 2-2V5c0-1.1-.9-2-2-2zM9 17H7v-7h2v7zm4 0h-2V7h2v10zm4 0h-2v-4h2v4z\"/>\n",
              "    </g>\n",
              "</svg>\n",
              "      </button>\n",
              "\n",
              "<style>\n",
              "  .colab-df-quickchart {\n",
              "      --bg-color: #E8F0FE;\n",
              "      --fill-color: #1967D2;\n",
              "      --hover-bg-color: #E2EBFA;\n",
              "      --hover-fill-color: #174EA6;\n",
              "      --disabled-fill-color: #AAA;\n",
              "      --disabled-bg-color: #DDD;\n",
              "  }\n",
              "\n",
              "  [theme=dark] .colab-df-quickchart {\n",
              "      --bg-color: #3B4455;\n",
              "      --fill-color: #D2E3FC;\n",
              "      --hover-bg-color: #434B5C;\n",
              "      --hover-fill-color: #FFFFFF;\n",
              "      --disabled-bg-color: #3B4455;\n",
              "      --disabled-fill-color: #666;\n",
              "  }\n",
              "\n",
              "  .colab-df-quickchart {\n",
              "    background-color: var(--bg-color);\n",
              "    border: none;\n",
              "    border-radius: 50%;\n",
              "    cursor: pointer;\n",
              "    display: none;\n",
              "    fill: var(--fill-color);\n",
              "    height: 32px;\n",
              "    padding: 0;\n",
              "    width: 32px;\n",
              "  }\n",
              "\n",
              "  .colab-df-quickchart:hover {\n",
              "    background-color: var(--hover-bg-color);\n",
              "    box-shadow: 0 1px 2px rgba(60, 64, 67, 0.3), 0 1px 3px 1px rgba(60, 64, 67, 0.15);\n",
              "    fill: var(--button-hover-fill-color);\n",
              "  }\n",
              "\n",
              "  .colab-df-quickchart-complete:disabled,\n",
              "  .colab-df-quickchart-complete:disabled:hover {\n",
              "    background-color: var(--disabled-bg-color);\n",
              "    fill: var(--disabled-fill-color);\n",
              "    box-shadow: none;\n",
              "  }\n",
              "\n",
              "  .colab-df-spinner {\n",
              "    border: 2px solid var(--fill-color);\n",
              "    border-color: transparent;\n",
              "    border-bottom-color: var(--fill-color);\n",
              "    animation:\n",
              "      spin 1s steps(1) infinite;\n",
              "  }\n",
              "\n",
              "  @keyframes spin {\n",
              "    0% {\n",
              "      border-color: transparent;\n",
              "      border-bottom-color: var(--fill-color);\n",
              "      border-left-color: var(--fill-color);\n",
              "    }\n",
              "    20% {\n",
              "      border-color: transparent;\n",
              "      border-left-color: var(--fill-color);\n",
              "      border-top-color: var(--fill-color);\n",
              "    }\n",
              "    30% {\n",
              "      border-color: transparent;\n",
              "      border-left-color: var(--fill-color);\n",
              "      border-top-color: var(--fill-color);\n",
              "      border-right-color: var(--fill-color);\n",
              "    }\n",
              "    40% {\n",
              "      border-color: transparent;\n",
              "      border-right-color: var(--fill-color);\n",
              "      border-top-color: var(--fill-color);\n",
              "    }\n",
              "    60% {\n",
              "      border-color: transparent;\n",
              "      border-right-color: var(--fill-color);\n",
              "    }\n",
              "    80% {\n",
              "      border-color: transparent;\n",
              "      border-right-color: var(--fill-color);\n",
              "      border-bottom-color: var(--fill-color);\n",
              "    }\n",
              "    90% {\n",
              "      border-color: transparent;\n",
              "      border-bottom-color: var(--fill-color);\n",
              "    }\n",
              "  }\n",
              "</style>\n",
              "\n",
              "      <script>\n",
              "        async function quickchart(key) {\n",
              "          const quickchartButtonEl =\n",
              "            document.querySelector('#' + key + ' button');\n",
              "          quickchartButtonEl.disabled = true;  // To prevent multiple clicks.\n",
              "          quickchartButtonEl.classList.add('colab-df-spinner');\n",
              "          try {\n",
              "            const charts = await google.colab.kernel.invokeFunction(\n",
              "                'suggestCharts', [key], {});\n",
              "          } catch (error) {\n",
              "            console.error('Error during call to suggestCharts:', error);\n",
              "          }\n",
              "          quickchartButtonEl.classList.remove('colab-df-spinner');\n",
              "          quickchartButtonEl.classList.add('colab-df-quickchart-complete');\n",
              "        }\n",
              "        (() => {\n",
              "          let quickchartButtonEl =\n",
              "            document.querySelector('#df-e50fd7c0-7b37-4a16-bf19-2039387009ba button');\n",
              "          quickchartButtonEl.style.display =\n",
              "            google.colab.kernel.accessAllowed ? 'block' : 'none';\n",
              "        })();\n",
              "      </script>\n",
              "    </div>\n",
              "\n",
              "    </div>\n",
              "  </div>\n"
            ],
            "application/vnd.google.colaboratory.intrinsic+json": {
              "type": "dataframe",
              "variable_name": "preprocessed_tweets"
            }
          },
          "metadata": {},
          "execution_count": 12
        }
      ],
      "source": [
        "# Step #3, we tokenize the words and remove stop words\n",
        "\n",
        "nltk.download('wordnet')\n",
        "\n",
        "# Load NLP model\n",
        "nlp = spacy.load('en_core_web_lg')\n",
        "\n",
        "# Setup\n",
        "tokenizer = TreebankWordTokenizer()\n",
        "tweets_array = tweets.to_numpy(copy=True)\n",
        "stop_words = set(stopwords.words('english'))\n",
        "\n",
        "# Add extra symbols to stop words\n",
        "stop_words.update(string.punctuation)\n",
        "stop_words.update([\"''\", \"'\", '``', '’', '“', '”','–', '—', '…', '..', '.', ',', ':', ';', '?', '!', '(', ')', '[', ']', '{', '}', '/', '|'])\n",
        "\n",
        "# Stemmers / lemmatizers\n",
        "stemmer = PorterStemmer()\n",
        "lemmatizer = WordNetLemmatizer()\n",
        "\n",
        "# Preprocess each tweet\n",
        "for i in range(len(tweets_array)):\n",
        "    text = tweets_array[i][0]  # Access the tweet text\n",
        "\n",
        "    # Remove numbers and whitespace\n",
        "    text = ''.join((z for z in text if not z.isdigit()))\n",
        "    text = ' '.join(text.split())\n",
        "\n",
        "    # Remove URLs\n",
        "    text = re.sub(r\"http\\S+|www\\S+|https\\S+\", '', text, flags=re.MULTILINE)\n",
        "\n",
        "    # Protect MENTION placeholder\n",
        "    if 'MENTION' in text:\n",
        "        text = text.replace('MENTION', '<<MENTION>>')\n",
        "\n",
        "    # Remove punctuation\n",
        "    text = text.translate(str.maketrans('', '', string.punctuation))\n",
        "\n",
        "    # Restore MENTION\n",
        "    text = text.replace('<<MENTION>>', 'MENTION')\n",
        "\n",
        "    # Tokenize using TreebankWordTokenizer\n",
        "    tokens = tokenizer.tokenize(text)\n",
        "\n",
        "    # Remove stopwords but keep MENTION\n",
        "    tokens = [word for word in tokens if word not in stop_words or word == 'MENTION']\n",
        "\n",
        "    # Lemmatize (skip MENTION)\n",
        "    tokens = [lemmatizer.lemmatize(word.lower()) if word != 'MENTION' else word for word in tokens]\n",
        "\n",
        "    # Rejoin\n",
        "    tweets_array[i][0] = ' '.join(tokens)\n",
        "\n",
        "# Convert back to DataFrame\n",
        "preprocessed_tweets = pd.DataFrame(tweets_array, columns=['text', 'target'])\n",
        "preprocessed_tweets.head()"
      ]
    },
    {
      "cell_type": "code",
      "execution_count": 15,
      "id": "5tQEU1XeSWzW",
      "metadata": {
        "colab": {
          "base_uri": "https://localhost:8080/",
          "height": 35
        },
        "id": "5tQEU1XeSWzW",
        "outputId": "a7fe6c7e-b92d-492c-8100-1fbc04f919cb"
      },
      "outputs": [
        {
          "output_type": "stream",
          "name": "stdout",
          "text": [
            "Preprocessed tweets saved to: /content/preprocessed_tweets.csv\n"
          ]
        },
        {
          "output_type": "display_data",
          "data": {
            "text/plain": [
              "<IPython.core.display.Javascript object>"
            ],
            "application/javascript": [
              "\n",
              "    async function download(id, filename, size) {\n",
              "      if (!google.colab.kernel.accessAllowed) {\n",
              "        return;\n",
              "      }\n",
              "      const div = document.createElement('div');\n",
              "      const label = document.createElement('label');\n",
              "      label.textContent = `Downloading \"${filename}\": `;\n",
              "      div.appendChild(label);\n",
              "      const progress = document.createElement('progress');\n",
              "      progress.max = size;\n",
              "      div.appendChild(progress);\n",
              "      document.body.appendChild(div);\n",
              "\n",
              "      const buffers = [];\n",
              "      let downloaded = 0;\n",
              "\n",
              "      const channel = await google.colab.kernel.comms.open(id);\n",
              "      // Send a message to notify the kernel that we're ready.\n",
              "      channel.send({})\n",
              "\n",
              "      for await (const message of channel.messages) {\n",
              "        // Send a message to notify the kernel that we're ready.\n",
              "        channel.send({})\n",
              "        if (message.buffers) {\n",
              "          for (const buffer of message.buffers) {\n",
              "            buffers.push(buffer);\n",
              "            downloaded += buffer.byteLength;\n",
              "            progress.value = downloaded;\n",
              "          }\n",
              "        }\n",
              "      }\n",
              "      const blob = new Blob(buffers, {type: 'application/binary'});\n",
              "      const a = document.createElement('a');\n",
              "      a.href = window.URL.createObjectURL(blob);\n",
              "      a.download = filename;\n",
              "      div.appendChild(a);\n",
              "      a.click();\n",
              "      div.remove();\n",
              "    }\n",
              "  "
            ]
          },
          "metadata": {}
        },
        {
          "output_type": "display_data",
          "data": {
            "text/plain": [
              "<IPython.core.display.Javascript object>"
            ],
            "application/javascript": [
              "download(\"download_7b7143c9-2af3-445c-b535-f18f2f91dae4\", \"preprocessed_tweets.csv\", 78462299)"
            ]
          },
          "metadata": {}
        }
      ],
      "source": [
        "# We now save the processed tweets to be used later in model development\n",
        "\n",
        "# Step 1: Save file inside Colab\n",
        "processed_data_dir = \"/content\"  # Best practice for Colab\n",
        "output_processed_file_path = os.path.join(processed_data_dir, 'preprocessed_tweets.csv')\n",
        "preprocessed_tweets.to_csv(output_processed_file_path, index=False)\n",
        "\n",
        "print(f\"Preprocessed tweets saved to: {output_processed_file_path}\")\n",
        "\n",
        "# Step 2: Download Mac Downloads folder manually\n",
        "files.download(output_processed_file_path)\n"
      ]
    },
    {
      "cell_type": "markdown",
      "source": [
        "# **4. Model Selection and Preliminary Performance Testing**"
      ],
      "metadata": {
        "id": "gQG521KHSw8d"
      },
      "id": "gQG521KHSw8d"
    },
    {
      "cell_type": "markdown",
      "source": [
        "The selection of TF-IDF + Logistic Regression, LSTM, and BERT for sentiment analysis of tweets is grounded in both established research and best practices in natural language processing. TF-IDF combined with Logistic Regression provides a strong and interpretable baseline, particularly effective for sparse and high-dimensional text data like tweets (Ramos, 2003; Wang & Manning, 2012). It has been widely used in sentiment analysis tasks due to its simplicity and effectiveness in capturing word importance without sequence modeling. LSTM (Long Short-Term Memory) networks, introduced by Hochreiter & Schmidhuber (1997), are well-suited for handling the sequential nature of text and capturing long-term dependencies, which enhances performance on informal and context-sensitive content such as tweets (Zhou et al., 2016). BERT (Bidirectional Encoder Representations from Transformers) by Devlin et al. (2019) represents the state-of-the-art in many NLP tasks, including sentiment analysis, due to its deep contextual understanding and bidirectional attention mechanism, making it particularly effective for nuanced sentiment interpretation in short texts. This multi-model evaluation approach allows us to compare performance across lexical, sequential, and contextual modeling strategies. Only after testing all three will we select the best-performing model based on predefined evaluation metrics, followed by full-scale training and final evaluation, as recommended in model selection best practices (Sammut & Webb, 2017; Zhang et al., 2021). This ensures robustness, fairness, and optimal utilization of resources.\n",
        "\n",
        "**References:**\n",
        "\n",
        "* Ramos, J. (2003). Using TF-IDF to determine word relevance in document queries.\n",
        "* Wang, S., & Manning, C. D. (2012). Baselines and Bigrams: Simple, Good Sentiment and Topic Classification.\n",
        "* Hochreiter, S., & Schmidhuber, J. (1997). Long short-term memory. Neural Computation.\n",
        "* Zhou, P., et al. (2016). Attention-Based Bidirectional LSTM Networks for Relation Classification.\n",
        "* Devlin, J., et al. (2019). BERT: Pre-training of Deep Bidirectional Transformers for Language Understanding.\n",
        "* Sammut, C., & Webb, G. I. (2017). Encyclopedia of Machine Learning and Data Mining.\n",
        "* Zhang, Y., et al. (2021). A Comprehensive Review on Deep Learning for Text Classification.\n"
      ],
      "metadata": {
        "id": "w0KFCf26UfZh"
      },
      "id": "w0KFCf26UfZh"
    },
    {
      "cell_type": "code",
      "execution_count": 16,
      "id": "f8f6a331-ac35-4764-b7a4-47f698522c51",
      "metadata": {
        "colab": {
          "base_uri": "https://localhost:8080/",
          "height": 107
        },
        "id": "f8f6a331-ac35-4764-b7a4-47f698522c51",
        "outputId": "92f5f6e6-df11-446d-90d2-75a8e4c25d09"
      },
      "outputs": [
        {
          "output_type": "stream",
          "name": "stderr",
          "text": [
            "Downloading...\n",
            "From: https://drive.google.com/uc?id=1LiS2ltl2XfITCamIrERkaa69OKKKoR_r\n",
            "To: /data/preprocessed_tweets.csv\n",
            "100%|██████████| 78.5M/78.5M [00:02<00:00, 37.4MB/s]\n"
          ]
        },
        {
          "output_type": "execute_result",
          "data": {
            "text/plain": [
              "'../data/preprocessed_tweets.csv'"
            ],
            "application/vnd.google.colaboratory.intrinsic+json": {
              "type": "string"
            }
          },
          "metadata": {},
          "execution_count": 16
        }
      ],
      "source": [
        "# Here, we begin by loading the processed dataset\n",
        "\n",
        "os.makedirs(\"../data\", exist_ok=True)\n",
        "\n",
        "file_id = \"1LiS2ltl2XfITCamIrERkaa69OKKKoR_r\"\n",
        "url = f\"https://drive.google.com/uc?id={file_id}\"\n",
        "output = \"../data/preprocessed_tweets.csv\"\n",
        "\n",
        "gdown.download(url, output, quiet=False)"
      ]
    },
    {
      "cell_type": "code",
      "execution_count": 17,
      "id": "2ba8da74-abb8-45b1-a637-e57386b02a33",
      "metadata": {
        "colab": {
          "base_uri": "https://localhost:8080/",
          "height": 242
        },
        "id": "2ba8da74-abb8-45b1-a637-e57386b02a33",
        "outputId": "e718d9ee-0c4f-401e-b8e1-9d6cb80eabd3"
      },
      "outputs": [
        {
          "output_type": "stream",
          "name": "stderr",
          "text": [
            "/tmp/ipython-input-17-2089065021.py:3: DtypeWarning: Columns (1) have mixed types. Specify dtype option on import or set low_memory=False.\n",
            "  Tweets = pd.read_csv(\"../data/preprocessed_tweets.csv\", header=None, names=[\"text\", \"target\"])\n"
          ]
        },
        {
          "output_type": "execute_result",
          "data": {
            "text/plain": [
              "                                                text  target\n",
              "0                                               text  target\n",
              "1  MENTION thats bummer shoulda got david carr th...       0\n",
              "2  upset cant update facebook texting might cry r...       0\n",
              "3  MENTION dived many time ball managed save rest...       0\n",
              "4                    whole body feel itchy like fire       0"
            ],
            "text/html": [
              "\n",
              "  <div id=\"df-99cf2ab9-c0c9-4b75-b151-6607525f0f0d\" class=\"colab-df-container\">\n",
              "    <div>\n",
              "<style scoped>\n",
              "    .dataframe tbody tr th:only-of-type {\n",
              "        vertical-align: middle;\n",
              "    }\n",
              "\n",
              "    .dataframe tbody tr th {\n",
              "        vertical-align: top;\n",
              "    }\n",
              "\n",
              "    .dataframe thead th {\n",
              "        text-align: right;\n",
              "    }\n",
              "</style>\n",
              "<table border=\"1\" class=\"dataframe\">\n",
              "  <thead>\n",
              "    <tr style=\"text-align: right;\">\n",
              "      <th></th>\n",
              "      <th>text</th>\n",
              "      <th>target</th>\n",
              "    </tr>\n",
              "  </thead>\n",
              "  <tbody>\n",
              "    <tr>\n",
              "      <th>0</th>\n",
              "      <td>text</td>\n",
              "      <td>target</td>\n",
              "    </tr>\n",
              "    <tr>\n",
              "      <th>1</th>\n",
              "      <td>MENTION thats bummer shoulda got david carr th...</td>\n",
              "      <td>0</td>\n",
              "    </tr>\n",
              "    <tr>\n",
              "      <th>2</th>\n",
              "      <td>upset cant update facebook texting might cry r...</td>\n",
              "      <td>0</td>\n",
              "    </tr>\n",
              "    <tr>\n",
              "      <th>3</th>\n",
              "      <td>MENTION dived many time ball managed save rest...</td>\n",
              "      <td>0</td>\n",
              "    </tr>\n",
              "    <tr>\n",
              "      <th>4</th>\n",
              "      <td>whole body feel itchy like fire</td>\n",
              "      <td>0</td>\n",
              "    </tr>\n",
              "  </tbody>\n",
              "</table>\n",
              "</div>\n",
              "    <div class=\"colab-df-buttons\">\n",
              "\n",
              "  <div class=\"colab-df-container\">\n",
              "    <button class=\"colab-df-convert\" onclick=\"convertToInteractive('df-99cf2ab9-c0c9-4b75-b151-6607525f0f0d')\"\n",
              "            title=\"Convert this dataframe to an interactive table.\"\n",
              "            style=\"display:none;\">\n",
              "\n",
              "  <svg xmlns=\"http://www.w3.org/2000/svg\" height=\"24px\" viewBox=\"0 -960 960 960\">\n",
              "    <path d=\"M120-120v-720h720v720H120Zm60-500h600v-160H180v160Zm220 220h160v-160H400v160Zm0 220h160v-160H400v160ZM180-400h160v-160H180v160Zm440 0h160v-160H620v160ZM180-180h160v-160H180v160Zm440 0h160v-160H620v160Z\"/>\n",
              "  </svg>\n",
              "    </button>\n",
              "\n",
              "  <style>\n",
              "    .colab-df-container {\n",
              "      display:flex;\n",
              "      gap: 12px;\n",
              "    }\n",
              "\n",
              "    .colab-df-convert {\n",
              "      background-color: #E8F0FE;\n",
              "      border: none;\n",
              "      border-radius: 50%;\n",
              "      cursor: pointer;\n",
              "      display: none;\n",
              "      fill: #1967D2;\n",
              "      height: 32px;\n",
              "      padding: 0 0 0 0;\n",
              "      width: 32px;\n",
              "    }\n",
              "\n",
              "    .colab-df-convert:hover {\n",
              "      background-color: #E2EBFA;\n",
              "      box-shadow: 0px 1px 2px rgba(60, 64, 67, 0.3), 0px 1px 3px 1px rgba(60, 64, 67, 0.15);\n",
              "      fill: #174EA6;\n",
              "    }\n",
              "\n",
              "    .colab-df-buttons div {\n",
              "      margin-bottom: 4px;\n",
              "    }\n",
              "\n",
              "    [theme=dark] .colab-df-convert {\n",
              "      background-color: #3B4455;\n",
              "      fill: #D2E3FC;\n",
              "    }\n",
              "\n",
              "    [theme=dark] .colab-df-convert:hover {\n",
              "      background-color: #434B5C;\n",
              "      box-shadow: 0px 1px 3px 1px rgba(0, 0, 0, 0.15);\n",
              "      filter: drop-shadow(0px 1px 2px rgba(0, 0, 0, 0.3));\n",
              "      fill: #FFFFFF;\n",
              "    }\n",
              "  </style>\n",
              "\n",
              "    <script>\n",
              "      const buttonEl =\n",
              "        document.querySelector('#df-99cf2ab9-c0c9-4b75-b151-6607525f0f0d button.colab-df-convert');\n",
              "      buttonEl.style.display =\n",
              "        google.colab.kernel.accessAllowed ? 'block' : 'none';\n",
              "\n",
              "      async function convertToInteractive(key) {\n",
              "        const element = document.querySelector('#df-99cf2ab9-c0c9-4b75-b151-6607525f0f0d');\n",
              "        const dataTable =\n",
              "          await google.colab.kernel.invokeFunction('convertToInteractive',\n",
              "                                                    [key], {});\n",
              "        if (!dataTable) return;\n",
              "\n",
              "        const docLinkHtml = 'Like what you see? Visit the ' +\n",
              "          '<a target=\"_blank\" href=https://colab.research.google.com/notebooks/data_table.ipynb>data table notebook</a>'\n",
              "          + ' to learn more about interactive tables.';\n",
              "        element.innerHTML = '';\n",
              "        dataTable['output_type'] = 'display_data';\n",
              "        await google.colab.output.renderOutput(dataTable, element);\n",
              "        const docLink = document.createElement('div');\n",
              "        docLink.innerHTML = docLinkHtml;\n",
              "        element.appendChild(docLink);\n",
              "      }\n",
              "    </script>\n",
              "  </div>\n",
              "\n",
              "\n",
              "    <div id=\"df-d961ef00-3c74-437c-b1b5-63aaab4114d2\">\n",
              "      <button class=\"colab-df-quickchart\" onclick=\"quickchart('df-d961ef00-3c74-437c-b1b5-63aaab4114d2')\"\n",
              "                title=\"Suggest charts\"\n",
              "                style=\"display:none;\">\n",
              "\n",
              "<svg xmlns=\"http://www.w3.org/2000/svg\" height=\"24px\"viewBox=\"0 0 24 24\"\n",
              "     width=\"24px\">\n",
              "    <g>\n",
              "        <path d=\"M19 3H5c-1.1 0-2 .9-2 2v14c0 1.1.9 2 2 2h14c1.1 0 2-.9 2-2V5c0-1.1-.9-2-2-2zM9 17H7v-7h2v7zm4 0h-2V7h2v10zm4 0h-2v-4h2v4z\"/>\n",
              "    </g>\n",
              "</svg>\n",
              "      </button>\n",
              "\n",
              "<style>\n",
              "  .colab-df-quickchart {\n",
              "      --bg-color: #E8F0FE;\n",
              "      --fill-color: #1967D2;\n",
              "      --hover-bg-color: #E2EBFA;\n",
              "      --hover-fill-color: #174EA6;\n",
              "      --disabled-fill-color: #AAA;\n",
              "      --disabled-bg-color: #DDD;\n",
              "  }\n",
              "\n",
              "  [theme=dark] .colab-df-quickchart {\n",
              "      --bg-color: #3B4455;\n",
              "      --fill-color: #D2E3FC;\n",
              "      --hover-bg-color: #434B5C;\n",
              "      --hover-fill-color: #FFFFFF;\n",
              "      --disabled-bg-color: #3B4455;\n",
              "      --disabled-fill-color: #666;\n",
              "  }\n",
              "\n",
              "  .colab-df-quickchart {\n",
              "    background-color: var(--bg-color);\n",
              "    border: none;\n",
              "    border-radius: 50%;\n",
              "    cursor: pointer;\n",
              "    display: none;\n",
              "    fill: var(--fill-color);\n",
              "    height: 32px;\n",
              "    padding: 0;\n",
              "    width: 32px;\n",
              "  }\n",
              "\n",
              "  .colab-df-quickchart:hover {\n",
              "    background-color: var(--hover-bg-color);\n",
              "    box-shadow: 0 1px 2px rgba(60, 64, 67, 0.3), 0 1px 3px 1px rgba(60, 64, 67, 0.15);\n",
              "    fill: var(--button-hover-fill-color);\n",
              "  }\n",
              "\n",
              "  .colab-df-quickchart-complete:disabled,\n",
              "  .colab-df-quickchart-complete:disabled:hover {\n",
              "    background-color: var(--disabled-bg-color);\n",
              "    fill: var(--disabled-fill-color);\n",
              "    box-shadow: none;\n",
              "  }\n",
              "\n",
              "  .colab-df-spinner {\n",
              "    border: 2px solid var(--fill-color);\n",
              "    border-color: transparent;\n",
              "    border-bottom-color: var(--fill-color);\n",
              "    animation:\n",
              "      spin 1s steps(1) infinite;\n",
              "  }\n",
              "\n",
              "  @keyframes spin {\n",
              "    0% {\n",
              "      border-color: transparent;\n",
              "      border-bottom-color: var(--fill-color);\n",
              "      border-left-color: var(--fill-color);\n",
              "    }\n",
              "    20% {\n",
              "      border-color: transparent;\n",
              "      border-left-color: var(--fill-color);\n",
              "      border-top-color: var(--fill-color);\n",
              "    }\n",
              "    30% {\n",
              "      border-color: transparent;\n",
              "      border-left-color: var(--fill-color);\n",
              "      border-top-color: var(--fill-color);\n",
              "      border-right-color: var(--fill-color);\n",
              "    }\n",
              "    40% {\n",
              "      border-color: transparent;\n",
              "      border-right-color: var(--fill-color);\n",
              "      border-top-color: var(--fill-color);\n",
              "    }\n",
              "    60% {\n",
              "      border-color: transparent;\n",
              "      border-right-color: var(--fill-color);\n",
              "    }\n",
              "    80% {\n",
              "      border-color: transparent;\n",
              "      border-right-color: var(--fill-color);\n",
              "      border-bottom-color: var(--fill-color);\n",
              "    }\n",
              "    90% {\n",
              "      border-color: transparent;\n",
              "      border-bottom-color: var(--fill-color);\n",
              "    }\n",
              "  }\n",
              "</style>\n",
              "\n",
              "      <script>\n",
              "        async function quickchart(key) {\n",
              "          const quickchartButtonEl =\n",
              "            document.querySelector('#' + key + ' button');\n",
              "          quickchartButtonEl.disabled = true;  // To prevent multiple clicks.\n",
              "          quickchartButtonEl.classList.add('colab-df-spinner');\n",
              "          try {\n",
              "            const charts = await google.colab.kernel.invokeFunction(\n",
              "                'suggestCharts', [key], {});\n",
              "          } catch (error) {\n",
              "            console.error('Error during call to suggestCharts:', error);\n",
              "          }\n",
              "          quickchartButtonEl.classList.remove('colab-df-spinner');\n",
              "          quickchartButtonEl.classList.add('colab-df-quickchart-complete');\n",
              "        }\n",
              "        (() => {\n",
              "          let quickchartButtonEl =\n",
              "            document.querySelector('#df-d961ef00-3c74-437c-b1b5-63aaab4114d2 button');\n",
              "          quickchartButtonEl.style.display =\n",
              "            google.colab.kernel.accessAllowed ? 'block' : 'none';\n",
              "        })();\n",
              "      </script>\n",
              "    </div>\n",
              "\n",
              "    </div>\n",
              "  </div>\n"
            ],
            "application/vnd.google.colaboratory.intrinsic+json": {
              "type": "dataframe",
              "variable_name": "Tweets"
            }
          },
          "metadata": {},
          "execution_count": 17
        }
      ],
      "source": [
        "# Than reading and naming dataframe before we start with the models in the coming sections\n",
        "\n",
        "Tweets = pd.read_csv(\"../data/preprocessed_tweets.csv\", header=None, names=[\"text\", \"target\"])\n",
        "\n",
        "Tweets.head()"
      ]
    },
    {
      "cell_type": "markdown",
      "id": "82172ce7-5869-4448-8c89-3e9450c1e426",
      "metadata": {
        "id": "82172ce7-5869-4448-8c89-3e9450c1e426"
      },
      "source": [
        "\n",
        "<div style=\"background-color:#e6f2ff; border-left:8px solid #0059b3; padding:20px; margin:20px 0;\">\n",
        "  <h2 style=\"color:#003366;\"><strong>4.1 Baseline Model – TF-IDF + Logistic Regression</strong></h2>\n",
        "  <p style=\"color:#333333;\">TF-IDF vectorization + logistic regression as a benchmark.</p>\n",
        "</div>\n"
      ]
    },
    {
      "cell_type": "code",
      "execution_count": null,
      "id": "07efb030-35ad-4e70-9186-b72e6bd676ec",
      "metadata": {
        "id": "07efb030-35ad-4e70-9186-b72e6bd676ec"
      },
      "outputs": [],
      "source": []
    },
    {
      "cell_type": "code",
      "source": [],
      "metadata": {
        "id": "jTxphGGkTnOh"
      },
      "id": "jTxphGGkTnOh",
      "execution_count": null,
      "outputs": []
    },
    {
      "cell_type": "code",
      "source": [],
      "metadata": {
        "id": "W3so7EAITnAo"
      },
      "id": "W3so7EAITnAo",
      "execution_count": null,
      "outputs": []
    },
    {
      "cell_type": "markdown",
      "id": "61b2c984-64e4-49a4-afab-160dfbc2a57a",
      "metadata": {
        "id": "61b2c984-64e4-49a4-afab-160dfbc2a57a"
      },
      "source": [
        "\n",
        "<div style=\"background-color:#e6f2ff; border-left:8px solid #0059b3; padding:20px; margin:20px 0;\">\n",
        "  <h2 style=\"color:#003366;\"><strong>4.2 LSTM Model</strong></h2>\n",
        "  <p style=\"color:#333333;\">Bidirectional LSTM with pre-trained embeddings (e.g., GloVe).</p>\n",
        "</div>"
      ]
    },
    {
      "cell_type": "code",
      "execution_count": null,
      "id": "879e8e26-4ece-453f-993e-ea3dc57fba38",
      "metadata": {
        "id": "879e8e26-4ece-453f-993e-ea3dc57fba38"
      },
      "outputs": [],
      "source": []
    },
    {
      "cell_type": "code",
      "execution_count": null,
      "id": "e65bbf6c-23a5-4f16-be20-d760dab74147",
      "metadata": {
        "id": "e65bbf6c-23a5-4f16-be20-d760dab74147"
      },
      "outputs": [],
      "source": []
    },
    {
      "cell_type": "code",
      "execution_count": null,
      "id": "0a8df55a-a5eb-49a7-9cbd-5c73fea6eac2",
      "metadata": {
        "id": "0a8df55a-a5eb-49a7-9cbd-5c73fea6eac2"
      },
      "outputs": [],
      "source": []
    },
    {
      "cell_type": "markdown",
      "id": "aabdf2dd-b6d2-4007-923c-f7825eba8057",
      "metadata": {
        "id": "aabdf2dd-b6d2-4007-923c-f7825eba8057"
      },
      "source": [
        "\n",
        "<div style=\"background-color:#e6f2ff; border-left:8px solid #0059b3; padding:20px; margin:20px 0;\">\n",
        "  <h2 style=\"color:#003366;\"><strong>4.3 BERT Model</strong></h2>\n",
        "  <p style=\"color:#333333;\">Fine-tuning DistilBERT or similar transformer model (if feasible).</p>\n",
        "</div>\n"
      ]
    },
    {
      "cell_type": "code",
      "execution_count": null,
      "id": "f6c94bb9-609c-486b-8f8b-65b4639e6aa1",
      "metadata": {
        "id": "f6c94bb9-609c-486b-8f8b-65b4639e6aa1"
      },
      "outputs": [],
      "source": []
    },
    {
      "cell_type": "code",
      "execution_count": null,
      "id": "8a93539e-953f-4fc9-815e-d1fed9a40a59",
      "metadata": {
        "id": "8a93539e-953f-4fc9-815e-d1fed9a40a59"
      },
      "outputs": [],
      "source": []
    },
    {
      "cell_type": "code",
      "execution_count": null,
      "id": "ca01e50d-51a1-4ba5-bd56-13275178ee60",
      "metadata": {
        "id": "ca01e50d-51a1-4ba5-bd56-13275178ee60"
      },
      "outputs": [],
      "source": []
    },
    {
      "cell_type": "markdown",
      "id": "a8a4741c-4ee7-4cdc-896c-1cde34dd2576",
      "metadata": {
        "id": "a8a4741c-4ee7-4cdc-896c-1cde34dd2576"
      },
      "source": [
        "\n",
        "<div style=\"background-color:#e6f2ff; border-left:8px solid #0059b3; padding:20px; margin:20px 0;\">\n",
        "  <h2 style=\"color:#003366;\"><strong>4.4 Model Comparison and Selection </strong></h2>\n",
        "  <p style=\"color:#333333;\">Evaluate using accuracy, precision, recall, F1-score, confusion matrix, and ROC curve.</p>\n",
        "</div>\n"
      ]
    },
    {
      "cell_type": "code",
      "execution_count": null,
      "id": "2aebebeb-b375-444f-819d-8533ddab8b94",
      "metadata": {
        "id": "2aebebeb-b375-444f-819d-8533ddab8b94"
      },
      "outputs": [],
      "source": []
    },
    {
      "cell_type": "code",
      "execution_count": null,
      "id": "4b3f91c4-a95f-4f73-bcb6-90cf39f812ac",
      "metadata": {
        "id": "4b3f91c4-a95f-4f73-bcb6-90cf39f812ac"
      },
      "outputs": [],
      "source": []
    },
    {
      "cell_type": "code",
      "execution_count": null,
      "id": "298bcfc6-2aca-42a1-9c0c-3ed858a9dfd3",
      "metadata": {
        "id": "298bcfc6-2aca-42a1-9c0c-3ed858a9dfd3"
      },
      "outputs": [],
      "source": []
    },
    {
      "cell_type": "markdown",
      "source": [
        "<div style=\"background-color:#e6f2ff; border-left:8px solid #0059b3; padding:20px; margin:20px 0;\">\n",
        "  <h2 style=\"color:#003366;\"><strong>4.5 Final Model Training </strong></h2>\n",
        "  <p style=\"color:#333333;\">Evaluate using accuracy, precision, recall, F1-score, confusion matrix, and ROC curve.</p>\n",
        "</div>\n"
      ],
      "metadata": {
        "id": "YxrYhhreTQRJ"
      },
      "id": "YxrYhhreTQRJ"
    },
    {
      "cell_type": "code",
      "source": [],
      "metadata": {
        "id": "GnmHjnceTYSQ"
      },
      "id": "GnmHjnceTYSQ",
      "execution_count": null,
      "outputs": []
    },
    {
      "cell_type": "code",
      "source": [],
      "metadata": {
        "id": "Xf5HPKn_TYLP"
      },
      "id": "Xf5HPKn_TYLP",
      "execution_count": null,
      "outputs": []
    },
    {
      "cell_type": "code",
      "source": [],
      "metadata": {
        "id": "2Y-5wjoQTYEF"
      },
      "id": "2Y-5wjoQTYEF",
      "execution_count": null,
      "outputs": []
    },
    {
      "cell_type": "markdown",
      "source": [
        "<div style=\"background-color:#e6f2ff; border-left:8px solid #0059b3; padding:20px; margin:20px 0;\">\n",
        "  <h2 style=\"color:#003366;\"><strong>5. Model Evaluation </strong></h2>\n",
        "  <p style=\"color:#333333;\">Evaluate using accuracy, precision, recall, F1-score, confusion matrix, and ROC curve.</p>\n",
        "</div>\n"
      ],
      "metadata": {
        "id": "DN003lpBTXTh"
      },
      "id": "DN003lpBTXTh"
    },
    {
      "cell_type": "code",
      "source": [],
      "metadata": {
        "id": "GWLWudbFTdrp"
      },
      "id": "GWLWudbFTdrp",
      "execution_count": null,
      "outputs": []
    },
    {
      "cell_type": "code",
      "source": [],
      "metadata": {
        "id": "xkSi1djeTdkB"
      },
      "id": "xkSi1djeTdkB",
      "execution_count": null,
      "outputs": []
    },
    {
      "cell_type": "code",
      "source": [],
      "metadata": {
        "id": "weyusEaSTc5t"
      },
      "id": "weyusEaSTc5t",
      "execution_count": null,
      "outputs": []
    },
    {
      "cell_type": "markdown",
      "id": "6b76a5fd-bdee-4cf4-9b77-e38b9d0091c2",
      "metadata": {
        "id": "6b76a5fd-bdee-4cf4-9b77-e38b9d0091c2"
      },
      "source": [
        "\n",
        "<div style=\"background-color:#e6f2ff; border-left:8px solid #0059b3; padding:20px; margin:20px 0;\">\n",
        "  <h2 style=\"color:#003366;\"><strong>6. Conclusion</strong></h2>\n",
        "  <p style=\"color:#333333;\">Summarize findings and insights, discuss trade-offs, and generalization potential.</p>\n",
        "</div>\n"
      ]
    },
    {
      "cell_type": "code",
      "execution_count": null,
      "id": "bf77c9af-e497-468d-9681-62b28983813c",
      "metadata": {
        "id": "bf77c9af-e497-468d-9681-62b28983813c"
      },
      "outputs": [],
      "source": []
    },
    {
      "cell_type": "code",
      "execution_count": null,
      "id": "1e59342d-fc85-4844-a623-2120b5e84c40",
      "metadata": {
        "id": "1e59342d-fc85-4844-a623-2120b5e84c40"
      },
      "outputs": [],
      "source": []
    },
    {
      "cell_type": "code",
      "execution_count": null,
      "id": "90202a63-50c8-4fbd-b577-95a5bd847aa9",
      "metadata": {
        "id": "90202a63-50c8-4fbd-b577-95a5bd847aa9"
      },
      "outputs": [],
      "source": []
    },
    {
      "cell_type": "markdown",
      "id": "1cf1820a-6795-41de-9869-46d93fb25b2f",
      "metadata": {
        "id": "1cf1820a-6795-41de-9869-46d93fb25b2f"
      },
      "source": [
        "\n",
        "<div style=\"background-color:#e6f2ff; border-left:8px solid #0059b3; padding:20px; margin:20px 0;\">\n",
        "  <h2 style=\"color:#003366;\"><strong>9. Future Work</strong></h2>\n",
        "  <p style=\"color:#333333;\">Suggest future extensions like streaming integration or domain adaptation.</p>\n",
        "</div>\n"
      ]
    },
    {
      "cell_type": "code",
      "execution_count": null,
      "id": "0f17894b-f59b-49f2-a707-f80148fb804f",
      "metadata": {
        "id": "0f17894b-f59b-49f2-a707-f80148fb804f"
      },
      "outputs": [],
      "source": []
    },
    {
      "cell_type": "code",
      "execution_count": null,
      "id": "59b62c59-2b2b-47d0-9071-e3c5d8920676",
      "metadata": {
        "id": "59b62c59-2b2b-47d0-9071-e3c5d8920676"
      },
      "outputs": [],
      "source": []
    }
  ],
  "metadata": {
    "colab": {
      "provenance": [],
      "include_colab_link": true
    },
    "kernelspec": {
      "display_name": "Python (.venv)",
      "language": "python",
      "name": "venv"
    },
    "language_info": {
      "codemirror_mode": {
        "name": "ipython",
        "version": 3
      },
      "file_extension": ".py",
      "mimetype": "text/x-python",
      "name": "python",
      "nbconvert_exporter": "python",
      "pygments_lexer": "ipython3",
      "version": "3.12.2"
    }
  },
  "nbformat": 4,
  "nbformat_minor": 5
}