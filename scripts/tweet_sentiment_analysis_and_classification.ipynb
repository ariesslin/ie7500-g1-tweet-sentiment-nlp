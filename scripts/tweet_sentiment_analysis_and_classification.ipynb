{
 "cells": [
  {
   "cell_type": "markdown",
   "id": "5b55391f",
   "metadata": {
    "colab_type": "text",
    "id": "view-in-github"
   },
   "source": [
    "<a href=\"https://colab.research.google.com/github/ariesslin/ie7500-g1-tweet-sentiment-nlp/blob/main/scripts/tweet_sentiment_analysis_and_classification.ipynb\" target=\"_parent\"><img src=\"https://colab.research.google.com/assets/colab-badge.svg\" alt=\"Open In Colab\"/></a>"
   ]
  },
  {
   "cell_type": "markdown",
   "id": "10d67c03-2ae7-41f6-81d0-56fe632ece80",
   "metadata": {
    "id": "10d67c03-2ae7-41f6-81d0-56fe632ece80"
   },
   "source": [
    "<div style=\"background-color:#e6f2ff; border-left:8px solid #0059b3; padding:20px; margin:20px 0;\">\n",
    "  <h2 style=\"color:#003366;\"><strong>Tweet Sentiment Analysis & Classification</strong></h2>\n",
    "  <p style=\"color:#333333;\">Using LSTM and BERT on the Sentiment140 Dataset</p>\n",
    "</div>"
   ]
  },
  {
   "cell_type": "markdown",
   "id": "5ad9fdb6-b723-469c-a345-f2bbed6055a6",
   "metadata": {
    "id": "5ad9fdb6-b723-469c-a345-f2bbed6055a6"
   },
   "source": [
    "(TODO: to be reviewed for submission)\n",
    "\n",
    "## Motivation\n",
    "\n",
    "In today’s digital world, platforms like X (formerly Twitter) reflect real-time public sentiment across domains — from financial markets to political discourse. Viral tweets have shaped investor behavior, brand reputation, and public policy in minutes. Traditional models in finance or decision systems often overlook this emotional layer, making them vulnerable to unanticipated shifts in public opinion.\n",
    "\n",
    "## Problem Statement\n",
    "\n",
    "This project aims to build a robust sentiment classifier for short, informal texts — specifically, tweets. Using the Sentiment140 dataset (1.6M tweets labeled via distant supervision), we aim to evaluate and compare classical and deep learning models to answer:\n",
    "\n",
    "- Which architecture (TF-IDF + Logistic Regression, LSTM, or BERT) performs best on tweet sentiment classification?\n",
    "- What are the trade-offs between accuracy and complexity?\n",
    "- How well do models generalize to real-world, unseen tweets?\n",
    "\n",
    "## Objective\n",
    "\n",
    "This notebook builds a tweet sentiment classifier using the Sentiment140 dataset. We compare classical and deep learning models — TF-IDF + Logistic Regression, Bidirectional LSTM, and DistilBERT — to understand which architecture best captures sentiment in short, informal texts. Each model is evaluated in terms of accuracy, complexity, and generalizability, with the goal of identifying the most effective approach for real-world sentiment classification in domains such as finance, brand monitoring, and public feedback systems."
   ]
  },
  {
   "cell_type": "markdown",
   "id": "ad962f3b-7abc-4d06-a83d-22f7bc0bdcfc",
   "metadata": {
    "id": "ad962f3b-7abc-4d06-a83d-22f7bc0bdcfc"
   },
   "source": [
    "\n",
    "<div style=\"background-color:#e6f2ff; border-left:8px solid #0059b3; padding:20px; margin:20px 0;\">\n",
    "  <h2 style=\"color:#003366;\"><strong>1. Data Loading & Overview</strong></h2>\n",
    "  <p style=\"color:#333333;\">Import Sentiment140 dataset and display basic information (shape, preview of data, null values, column types, etc).</p>\n",
    "</div>\n"
   ]
  },
  {
   "cell_type": "code",
   "execution_count": 1,
   "id": "ugwVdiT38xCV",
   "metadata": {
    "id": "ugwVdiT38xCV"
   },
   "outputs": [],
   "source": [
    "# importing all libraries here\n",
    "import gdown\n",
    "import os\n",
    "import pandas as pd\n",
    "import matplotlib.pyplot as plt\n",
    "import seaborn as sns\n",
    "import re"
   ]
  },
  {
   "cell_type": "markdown",
   "id": "kS6RNq-A-Kp6",
   "metadata": {
    "id": "kS6RNq-A-Kp6"
   },
   "source": [
    "The original dataset is available on Kaggle [Sentiment140 dataset](https://www.kaggle.com/datasets/kazanova/sentiment140?resource=download). Since the dataset is approximately 239MB, we host it on Google Drive to simplify access and avoid GitHub’s file size limitations (maximum 100MB) for version-controlled repositories.\n",
    "\n",
    "We use the `gdown` library to programmatically download the dataset into the local environment."
   ]
  },
  {
   "cell_type": "code",
   "execution_count": 2,
   "id": "5_dcbDRgBxiL",
   "metadata": {
    "colab": {
     "base_uri": "https://localhost:8080/",
     "height": 125
    },
    "id": "5_dcbDRgBxiL",
    "outputId": "72f28794-a97c-4af4-f946-626cb7b51871"
   },
   "outputs": [
    {
     "name": "stderr",
     "output_type": "stream",
     "text": [
      "Downloading...\n",
      "From (original): https://drive.google.com/uc?id=1OeMI3bTQHZrCchkI-vMv2Ibv6RLGk7aS\n",
      "From (redirected): https://drive.google.com/uc?id=1OeMI3bTQHZrCchkI-vMv2Ibv6RLGk7aS&confirm=t&uuid=bb44a05f-bf55-4eef-9bbd-75b5aa5c07a7\n",
      "To: /Users/ariesslin/northeastern_projects/ie7500/project/ie7500-g1-tweet-sentiment-nlp/data/sentiment140.csv\n",
      "100%|██████████████████████████████████████████████████████████████████████████████████████████████████████████████████████████| 239M/239M [00:03<00:00, 68.9MB/s]\n"
     ]
    },
    {
     "data": {
      "text/plain": [
       "'../data/sentiment140.csv'"
      ]
     },
     "execution_count": 2,
     "metadata": {},
     "output_type": "execute_result"
    }
   ],
   "source": [
    "# Load the raw dataset\n",
    "os.makedirs(\"../data\", exist_ok=True)\n",
    "\n",
    "url = f\"https://drive.google.com/uc?id=1OeMI3bTQHZrCchkI-vMv2Ibv6RLGk7aS\"\n",
    "output = \"../data/sentiment140.csv\"\n",
    "\n",
    "gdown.download(url, output, quiet=False)"
   ]
  },
  {
   "cell_type": "code",
   "execution_count": 3,
   "id": "37a68f8d-1636-43a1-8ff6-5ec5bfff703e",
   "metadata": {
    "id": "37a68f8d-1636-43a1-8ff6-5ec5bfff703e"
   },
   "outputs": [],
   "source": [
    "# Naming columns for readability\n",
    "columns = [\n",
    "    \"target\",    # Sentiment (0=negative, 2=neutral, 4=positive)\n",
    "    \"id\",        # Tweet ID\n",
    "    \"date\",      # Date of tweet\n",
    "    \"flag\",      # Query flag\n",
    "    \"user\",      # Username\n",
    "    \"text\"       # Tweet text\n",
    "]\n",
    "\n",
    "df = pd.read_csv(\n",
    "    \"../data/sentiment140.csv\",\n",
    "    encoding='latin-1',\n",
    "    header=None,\n",
    "    names=columns\n",
    ")"
   ]
  },
  {
   "cell_type": "code",
   "execution_count": 4,
   "id": "c544af07-5100-422d-87c6-7340b68d7a86",
   "metadata": {
    "colab": {
     "base_uri": "https://localhost:8080/",
     "height": 206
    },
    "id": "c544af07-5100-422d-87c6-7340b68d7a86",
    "outputId": "f5721188-fef1-4ea4-a8c3-d160e410c25f"
   },
   "outputs": [
    {
     "data": {
      "text/html": [
       "<div>\n",
       "<style scoped>\n",
       "    .dataframe tbody tr th:only-of-type {\n",
       "        vertical-align: middle;\n",
       "    }\n",
       "\n",
       "    .dataframe tbody tr th {\n",
       "        vertical-align: top;\n",
       "    }\n",
       "\n",
       "    .dataframe thead th {\n",
       "        text-align: right;\n",
       "    }\n",
       "</style>\n",
       "<table border=\"1\" class=\"dataframe\">\n",
       "  <thead>\n",
       "    <tr style=\"text-align: right;\">\n",
       "      <th></th>\n",
       "      <th>target</th>\n",
       "      <th>id</th>\n",
       "      <th>date</th>\n",
       "      <th>flag</th>\n",
       "      <th>user</th>\n",
       "      <th>text</th>\n",
       "    </tr>\n",
       "  </thead>\n",
       "  <tbody>\n",
       "    <tr>\n",
       "      <th>0</th>\n",
       "      <td>0</td>\n",
       "      <td>1467810369</td>\n",
       "      <td>Mon Apr 06 22:19:45 PDT 2009</td>\n",
       "      <td>NO_QUERY</td>\n",
       "      <td>_TheSpecialOne_</td>\n",
       "      <td>@switchfoot http://twitpic.com/2y1zl - Awww, t...</td>\n",
       "    </tr>\n",
       "    <tr>\n",
       "      <th>1</th>\n",
       "      <td>0</td>\n",
       "      <td>1467810672</td>\n",
       "      <td>Mon Apr 06 22:19:49 PDT 2009</td>\n",
       "      <td>NO_QUERY</td>\n",
       "      <td>scotthamilton</td>\n",
       "      <td>is upset that he can't update his Facebook by ...</td>\n",
       "    </tr>\n",
       "    <tr>\n",
       "      <th>2</th>\n",
       "      <td>0</td>\n",
       "      <td>1467810917</td>\n",
       "      <td>Mon Apr 06 22:19:53 PDT 2009</td>\n",
       "      <td>NO_QUERY</td>\n",
       "      <td>mattycus</td>\n",
       "      <td>@Kenichan I dived many times for the ball. Man...</td>\n",
       "    </tr>\n",
       "    <tr>\n",
       "      <th>3</th>\n",
       "      <td>0</td>\n",
       "      <td>1467811184</td>\n",
       "      <td>Mon Apr 06 22:19:57 PDT 2009</td>\n",
       "      <td>NO_QUERY</td>\n",
       "      <td>ElleCTF</td>\n",
       "      <td>my whole body feels itchy and like its on fire</td>\n",
       "    </tr>\n",
       "    <tr>\n",
       "      <th>4</th>\n",
       "      <td>0</td>\n",
       "      <td>1467811193</td>\n",
       "      <td>Mon Apr 06 22:19:57 PDT 2009</td>\n",
       "      <td>NO_QUERY</td>\n",
       "      <td>Karoli</td>\n",
       "      <td>@nationwideclass no, it's not behaving at all....</td>\n",
       "    </tr>\n",
       "  </tbody>\n",
       "</table>\n",
       "</div>"
      ],
      "text/plain": [
       "   target          id                          date      flag  \\\n",
       "0       0  1467810369  Mon Apr 06 22:19:45 PDT 2009  NO_QUERY   \n",
       "1       0  1467810672  Mon Apr 06 22:19:49 PDT 2009  NO_QUERY   \n",
       "2       0  1467810917  Mon Apr 06 22:19:53 PDT 2009  NO_QUERY   \n",
       "3       0  1467811184  Mon Apr 06 22:19:57 PDT 2009  NO_QUERY   \n",
       "4       0  1467811193  Mon Apr 06 22:19:57 PDT 2009  NO_QUERY   \n",
       "\n",
       "              user                                               text  \n",
       "0  _TheSpecialOne_  @switchfoot http://twitpic.com/2y1zl - Awww, t...  \n",
       "1    scotthamilton  is upset that he can't update his Facebook by ...  \n",
       "2         mattycus  @Kenichan I dived many times for the ball. Man...  \n",
       "3          ElleCTF    my whole body feels itchy and like its on fire   \n",
       "4           Karoli  @nationwideclass no, it's not behaving at all....  "
      ]
     },
     "execution_count": 4,
     "metadata": {},
     "output_type": "execute_result"
    }
   ],
   "source": [
    "# Show first 5 rows\n",
    "df.head(5)"
   ]
  },
  {
   "cell_type": "code",
   "execution_count": 5,
   "id": "792d0dd5-769d-4b75-8203-7dbadfe365a1",
   "metadata": {},
   "outputs": [
    {
     "name": "stdout",
     "output_type": "stream",
     "text": [
      "<class 'pandas.core.frame.DataFrame'>\n",
      "RangeIndex: 1600000 entries, 0 to 1599999\n",
      "Data columns (total 6 columns):\n",
      " #   Column  Non-Null Count    Dtype \n",
      "---  ------  --------------    ----- \n",
      " 0   target  1600000 non-null  int64 \n",
      " 1   id      1600000 non-null  int64 \n",
      " 2   date    1600000 non-null  object\n",
      " 3   flag    1600000 non-null  object\n",
      " 4   user    1600000 non-null  object\n",
      " 5   text    1600000 non-null  object\n",
      "dtypes: int64(2), object(4)\n",
      "memory usage: 73.2+ MB\n"
     ]
    }
   ],
   "source": [
    "# Check for null values and data types\n",
    "df.info()"
   ]
  },
  {
   "cell_type": "code",
   "execution_count": 6,
   "id": "3165ec5e-c91f-4988-9626-abf35948fd81",
   "metadata": {},
   "outputs": [
    {
     "data": {
      "text/html": [
       "<div>\n",
       "<style scoped>\n",
       "    .dataframe tbody tr th:only-of-type {\n",
       "        vertical-align: middle;\n",
       "    }\n",
       "\n",
       "    .dataframe tbody tr th {\n",
       "        vertical-align: top;\n",
       "    }\n",
       "\n",
       "    .dataframe thead th {\n",
       "        text-align: right;\n",
       "    }\n",
       "</style>\n",
       "<table border=\"1\" class=\"dataframe\">\n",
       "  <thead>\n",
       "    <tr style=\"text-align: right;\">\n",
       "      <th></th>\n",
       "      <th>target</th>\n",
       "      <th>id</th>\n",
       "    </tr>\n",
       "  </thead>\n",
       "  <tbody>\n",
       "    <tr>\n",
       "      <th>count</th>\n",
       "      <td>1.600000e+06</td>\n",
       "      <td>1.600000e+06</td>\n",
       "    </tr>\n",
       "    <tr>\n",
       "      <th>mean</th>\n",
       "      <td>2.000000e+00</td>\n",
       "      <td>1.998818e+09</td>\n",
       "    </tr>\n",
       "    <tr>\n",
       "      <th>std</th>\n",
       "      <td>2.000001e+00</td>\n",
       "      <td>1.935761e+08</td>\n",
       "    </tr>\n",
       "    <tr>\n",
       "      <th>min</th>\n",
       "      <td>0.000000e+00</td>\n",
       "      <td>1.467810e+09</td>\n",
       "    </tr>\n",
       "    <tr>\n",
       "      <th>25%</th>\n",
       "      <td>0.000000e+00</td>\n",
       "      <td>1.956916e+09</td>\n",
       "    </tr>\n",
       "    <tr>\n",
       "      <th>50%</th>\n",
       "      <td>2.000000e+00</td>\n",
       "      <td>2.002102e+09</td>\n",
       "    </tr>\n",
       "    <tr>\n",
       "      <th>75%</th>\n",
       "      <td>4.000000e+00</td>\n",
       "      <td>2.177059e+09</td>\n",
       "    </tr>\n",
       "    <tr>\n",
       "      <th>max</th>\n",
       "      <td>4.000000e+00</td>\n",
       "      <td>2.329206e+09</td>\n",
       "    </tr>\n",
       "  </tbody>\n",
       "</table>\n",
       "</div>"
      ],
      "text/plain": [
       "             target            id\n",
       "count  1.600000e+06  1.600000e+06\n",
       "mean   2.000000e+00  1.998818e+09\n",
       "std    2.000001e+00  1.935761e+08\n",
       "min    0.000000e+00  1.467810e+09\n",
       "25%    0.000000e+00  1.956916e+09\n",
       "50%    2.000000e+00  2.002102e+09\n",
       "75%    4.000000e+00  2.177059e+09\n",
       "max    4.000000e+00  2.329206e+09"
      ]
     },
     "execution_count": 6,
     "metadata": {},
     "output_type": "execute_result"
    }
   ],
   "source": [
    "# Summary statistics for numeric columns (especially target & id)\n",
    "df.describe()"
   ]
  },
  {
   "cell_type": "code",
   "execution_count": 7,
   "id": "03908e56-8393-4f27-a180-9139490e3957",
   "metadata": {},
   "outputs": [
    {
     "data": {
      "text/plain": [
       "array([0, 4])"
      ]
     },
     "execution_count": 7,
     "metadata": {},
     "output_type": "execute_result"
    }
   ],
   "source": [
    "df['target'].unique()"
   ]
  },
  {
   "cell_type": "markdown",
   "id": "557c9a4e-784d-4ce1-a6a8-a882e533001d",
   "metadata": {},
   "source": [
    "### Dataset Overview and Initial Insights\n",
    "\n",
    "**From `df.info()`:**\n",
    "- The dataset contains **1,600,000 entries** and **6 columns**: `target`, `id`, `date`, `flag`, `user`, and `text`.\n",
    "- **No missing values** in any column which means the data is clean.\n",
    "- **Data types**:\n",
    "  - `target` and `id`: `int64`\n",
    "  - `date`, `flag`, `user`, `text`: `object` (which are likely strings)\n",
    "\n",
    "---\n",
    "\n",
    "**From `df.describe()`:**\n",
    "\n",
    "- **`target`**:\n",
    "  - Range: 0 to 4\n",
    "  - Mean = 2.0, Std = 2.0 → appears fairly balanced, but needs verification with `value_counts()`.\n",
    "\n",
    "- **`id`**:\n",
    "  - Large numeric values, probably unique identifiers (e.g., tweet IDs).\n",
    "  - Not useful for prediction but useful for indexing or referencing.\n",
    "\n",
    "---\n",
    "\n",
    "### Initial Findings Summary\n",
    "\n",
    "- Data integrity looks solid — **no nulls**, appropriate dtypes.\n",
    "- `target` is the label column, we will need to examine and check class balance. It only contains **0 (negative)** and **4 (positive)** labels. Although the original Sentiment140 dataset defines a third class (2 = neutral), it is **not present in this version**, making this a **binary classification task**.\n",
    "- The `id` column contains unique identifiers for each tweet. While useful for referencing individual entries, it is **not relevant to sentiment prediction** and can be safely dropped during data processing."
   ]
  },
  {
   "cell_type": "markdown",
   "id": "ba3dd259-9a08-4ed8-a6f6-fdd18bb130bb",
   "metadata": {
    "id": "ba3dd259-9a08-4ed8-a6f6-fdd18bb130bb"
   },
   "source": [
    "\n",
    "<div style=\"background-color:#e6f2ff; border-left:8px solid #0059b3; padding:20px; margin:20px 0;\">\n",
    "  <h2 style=\"color:#003366;\"><strong>2. Exploratory Data Analysis (EDA)</strong></h2>\n",
    "  <p style=\"color:#333333;\">Analyze class distribution, tweet length, missing data, and identify patterns or anomalies.</p>\n",
    "</div>\n"
   ]
  },
  {
   "cell_type": "markdown",
   "id": "uTM7bwIh-5Et",
   "metadata": {
    "id": "uTM7bwIh-5Et"
   },
   "source": [
    "### EDA Deep Dives into distributions"
   ]
  },
  {
   "cell_type": "code",
   "execution_count": 8,
   "id": "1decb7ed-b060-4464-958e-8decba03bfca",
   "metadata": {},
   "outputs": [],
   "source": [
    "# Define a custom color palette:\n",
    "custom_palette = {0: '#fc8d62', 4: '#66c2a5'}"
   ]
  },
  {
   "cell_type": "code",
   "execution_count": 9,
   "id": "8dc0060c-3bee-4f7a-93d3-b71c468f0fb0",
   "metadata": {},
   "outputs": [
    {
     "data": {
      "image/png": "[encoded data removed]",
      "text/plain": [
       "<Figure size 800x500 with 1 Axes>"
      ]
     },
     "metadata": {},
     "output_type": "display_data"
    }
   ],
   "source": [
    "# we now start visualizing the distributions of the target\n",
    "\n",
    "# Set a clean visual style\n",
    "sns.set(style=\"whitegrid\")\n",
    "\n",
    "# Calculate value counts\n",
    "target_counts = df['target'].value_counts().sort_index()\n",
    "\n",
    "# Create the bar plot\n",
    "plt.figure(figsize=(8, 5))\n",
    "barplot = sns.barplot(x=target_counts.index, y=target_counts.values, hue=target_counts.index, palette=custom_palette, legend=True)\n",
    "\n",
    "# Add value labels on bars\n",
    "for i, value in enumerate(target_counts.values):\n",
    "    plt.text(i, value + max(target_counts.values)*0.01, f'{value:,}',\n",
    "             ha='center', va='bottom', fontsize=11)\n",
    "\n",
    "# Titles and labels\n",
    "plt.title('Distribution of Target Classes', fontsize=14, fontweight='bold')\n",
    "plt.xlabel('Target Class', fontsize=12)\n",
    "plt.ylabel('Number of Samples', fontsize=12)\n",
    "plt.xticks(fontsize=11)\n",
    "plt.yticks(fontsize=11)\n",
    "plt.tight_layout()\n",
    "\n",
    "# Customize the legend labels\n",
    "# Get the legend object\n",
    "handles, labels = barplot.get_legend_handles_labels()\n",
    "\n",
    "# Create a dictionary to map old labels (0, 4) to new labels ('Negative', 'Positive')\n",
    "new_labels = {'0': 'Negative', '4': 'Positive'}\n",
    "\n",
    "# Update the labels in the legend\n",
    "# Ensure the labels are strings when accessing the new_labels dictionary\n",
    "updated_labels = [new_labels[label] for label in labels]\n",
    "barplot.legend(handles, updated_labels, title=\"Target\")\n",
    "\n",
    "plt.show()"
   ]
  },
  {
   "cell_type": "markdown",
   "id": "9ea0b4d2-cd77-42a5-9e66-8f46a6b02313",
   "metadata": {},
   "source": [
    "#### Bar Chart Distribution Comment:\n",
    "\n",
    "Despite the Kaggle description suggesting that the dataset includes three sentiment classes (positive, negative, and neutral), this chart reveals that the annotations are limited to only two classes:\n",
    "\n",
    "0: Negative sentiment\n",
    "\n",
    "4: Positive sentiment\n",
    "\n",
    "There are no neutral (class 2) samples present in this dataset.\n",
    "Additionally, the distribution appears to be perfectly balanced, with approximately 800,000 samples in each class. This is ideal for training a binary classifier, as it minimizes issues related to class imbalance."
   ]
  },
  {
   "cell_type": "code",
   "execution_count": 10,
   "id": "czLi4W9x9sfy",
   "metadata": {
    "colab": {
     "base_uri": "https://localhost:8080/",
     "height": 262
    },
    "id": "czLi4W9x9sfy",
    "outputId": "6bed3f77-6373-46ae-b909-5491cbaa58d4"
   },
   "outputs": [
    {
     "data": {
      "text/html": [
       "<div>\n",
       "<style scoped>\n",
       "    .dataframe tbody tr th:only-of-type {\n",
       "        vertical-align: middle;\n",
       "    }\n",
       "\n",
       "    .dataframe tbody tr th {\n",
       "        vertical-align: top;\n",
       "    }\n",
       "\n",
       "    .dataframe thead th {\n",
       "        text-align: right;\n",
       "    }\n",
       "</style>\n",
       "<table border=\"1\" class=\"dataframe\">\n",
       "  <thead>\n",
       "    <tr style=\"text-align: right;\">\n",
       "      <th></th>\n",
       "      <th>target</th>\n",
       "      <th>id</th>\n",
       "      <th>date</th>\n",
       "      <th>flag</th>\n",
       "      <th>user</th>\n",
       "      <th>text</th>\n",
       "      <th>year</th>\n",
       "    </tr>\n",
       "  </thead>\n",
       "  <tbody>\n",
       "    <tr>\n",
       "      <th>0</th>\n",
       "      <td>0</td>\n",
       "      <td>1467810369</td>\n",
       "      <td>2009-04-06 22:19:45</td>\n",
       "      <td>NO_QUERY</td>\n",
       "      <td>_TheSpecialOne_</td>\n",
       "      <td>@switchfoot http://twitpic.com/2y1zl - Awww, t...</td>\n",
       "      <td>2009</td>\n",
       "    </tr>\n",
       "    <tr>\n",
       "      <th>1</th>\n",
       "      <td>0</td>\n",
       "      <td>1467810672</td>\n",
       "      <td>2009-04-06 22:19:49</td>\n",
       "      <td>NO_QUERY</td>\n",
       "      <td>scotthamilton</td>\n",
       "      <td>is upset that he can't update his Facebook by ...</td>\n",
       "      <td>2009</td>\n",
       "    </tr>\n",
       "    <tr>\n",
       "      <th>2</th>\n",
       "      <td>0</td>\n",
       "      <td>1467810917</td>\n",
       "      <td>2009-04-06 22:19:53</td>\n",
       "      <td>NO_QUERY</td>\n",
       "      <td>mattycus</td>\n",
       "      <td>@Kenichan I dived many times for the ball. Man...</td>\n",
       "      <td>2009</td>\n",
       "    </tr>\n",
       "    <tr>\n",
       "      <th>3</th>\n",
       "      <td>0</td>\n",
       "      <td>1467811184</td>\n",
       "      <td>2009-04-06 22:19:57</td>\n",
       "      <td>NO_QUERY</td>\n",
       "      <td>ElleCTF</td>\n",
       "      <td>my whole body feels itchy and like its on fire</td>\n",
       "      <td>2009</td>\n",
       "    </tr>\n",
       "    <tr>\n",
       "      <th>4</th>\n",
       "      <td>0</td>\n",
       "      <td>1467811193</td>\n",
       "      <td>2009-04-06 22:19:57</td>\n",
       "      <td>NO_QUERY</td>\n",
       "      <td>Karoli</td>\n",
       "      <td>@nationwideclass no, it's not behaving at all....</td>\n",
       "      <td>2009</td>\n",
       "    </tr>\n",
       "  </tbody>\n",
       "</table>\n",
       "</div>"
      ],
      "text/plain": [
       "   target          id                date      flag             user  \\\n",
       "0       0  1467810369 2009-04-06 22:19:45  NO_QUERY  _TheSpecialOne_   \n",
       "1       0  1467810672 2009-04-06 22:19:49  NO_QUERY    scotthamilton   \n",
       "2       0  1467810917 2009-04-06 22:19:53  NO_QUERY         mattycus   \n",
       "3       0  1467811184 2009-04-06 22:19:57  NO_QUERY          ElleCTF   \n",
       "4       0  1467811193 2009-04-06 22:19:57  NO_QUERY           Karoli   \n",
       "\n",
       "                                                text  year  \n",
       "0  @switchfoot http://twitpic.com/2y1zl - Awww, t...  2009  \n",
       "1  is upset that he can't update his Facebook by ...  2009  \n",
       "2  @Kenichan I dived many times for the ball. Man...  2009  \n",
       "3    my whole body feels itchy and like its on fire   2009  \n",
       "4  @nationwideclass no, it's not behaving at all....  2009  "
      ]
     },
     "execution_count": 10,
     "metadata": {},
     "output_type": "execute_result"
    }
   ],
   "source": [
    "# Remove timezone string (e.g., \"PDT\") to avoid parsing issues\n",
    "df['date'] = df['date'].str.replace(r' [A-Z]{3} ', ' ', regex=True)\n",
    "\n",
    "# first we fix and convert 'date' column to datetime format\n",
    "df['date'] = pd.to_datetime(df['date'], errors='coerce')\n",
    "\n",
    "# Create a new column for year\n",
    "df['year'] = df['date'].dt.year\n",
    "\n",
    "df.head()"
   ]
  },
  {
   "cell_type": "code",
   "execution_count": 11,
   "id": "d2XHjln_LiTl",
   "metadata": {
    "colab": {
     "base_uri": "https://localhost:8080/",
     "height": 601
    },
    "id": "d2XHjln_LiTl",
    "outputId": "0789bd09-24a1-4e14-d4d7-ec9ca0e65a3e"
   },
   "outputs": [
    {
     "data": {
      "image/png": "[encoded data removed]",
      "text/plain": [
       "<Figure size 1200x600 with 1 Axes>"
      ]
     },
     "metadata": {},
     "output_type": "display_data"
    }
   ],
   "source": [
    "# We now examine the number of tweet samples we have by month and year\n",
    "\n",
    "# Create the 'year_month' column\n",
    "df['year_month'] = df['date'].dt.to_period('M').astype(str)\n",
    "\n",
    "# Group by year_month and count tweets\n",
    "monthly_counts = df.groupby('year_month').size().reset_index(name='tweet_count')\n",
    "\n",
    "# Set style\n",
    "sns.set(style='whitegrid')\n",
    "\n",
    "# Convert year_month to datetime for proper ordering in the x-axis\n",
    "monthly_counts['year_month'] = pd.to_datetime(monthly_counts['year_month'])\n",
    "\n",
    "# Plot\n",
    "plt.figure(figsize=(12, 6))\n",
    "sns.lineplot(data=monthly_counts, x='year_month', y='tweet_count', marker='o', color='teal')\n",
    "\n",
    "# Labels and title\n",
    "plt.title(\"Number of Tweets per Month\", fontsize=16, fontweight='bold')\n",
    "plt.xlabel(\"Month and Year\", fontsize=12)\n",
    "plt.ylabel(\"Number of Tweets\", fontsize=12)\n",
    "plt.xticks(rotation=45)\n",
    "plt.tight_layout()\n",
    "plt.show()"
   ]
  },
  {
   "cell_type": "markdown",
   "id": "534zhXHTMM3o",
   "metadata": {
    "id": "534zhXHTMM3o"
   },
   "source": [
    "#### Line Plot Comment for Tweet Volume Over Time\n",
    "\n",
    "This line chart shows the number of tweets collected over time based on the Sentiment140 dataset.\n",
    "\n",
    "From the visualization, we observe that the tweets were collected over a short time span — specifically over a period of **approximately three months in 2009**.\n",
    "\n",
    "- The dataset begins in **April 2009** and ends by **early June 2009**, suggesting a **single batch collection** during that year.\n",
    "- This concentrated sampling period should be considered during any temporal or trend-based analysis, as it does not cover a full year or span multiple time periods.\n"
   ]
  },
  {
   "cell_type": "code",
   "execution_count": 12,
   "id": "zYkQ3BFxnLOO",
   "metadata": {
    "colab": {
     "base_uri": "https://localhost:8080/",
     "height": 601
    },
    "id": "zYkQ3BFxnLOO",
    "outputId": "299bb601-872e-4695-adea-acca95435f30"
   },
   "outputs": [
    {
     "data": {
      "image/png": "[encoded data removed]",
      "text/plain": [
       "<Figure size 1000x600 with 1 Axes>"
      ]
     },
     "metadata": {},
     "output_type": "display_data"
    }
   ],
   "source": [
    "# Examine tweets distribution by month\n",
    "\n",
    "# Extract month-year in 'YYYY-MM' format\n",
    "df['month'] = df['date'].dt.to_period('M').astype(str)\n",
    "\n",
    "# Count tweets by month and target\n",
    "monthly_sentiment_counts = (\n",
    "    df.groupby(['month', 'target'])\n",
    "    .size()\n",
    "    .reset_index(name='tweet_count')\n",
    ")\n",
    "\n",
    "plt.figure(figsize=(10, 6))\n",
    "ax = sns.barplot(\n",
    "    data=monthly_sentiment_counts,\n",
    "    x='month', y='tweet_count', hue='target',\n",
    "    palette=custom_palette\n",
    ")\n",
    "\n",
    "# Labels and title\n",
    "plt.title('Number of Tweets per Sentiment for April–June 2009', fontsize=16, fontweight='bold')\n",
    "plt.xlabel('Month', fontsize=12)\n",
    "plt.ylabel('Number of Tweets', fontsize=12)\n",
    "\n",
    "# Fix legend to match colors and labels\n",
    "handles, _ = ax.get_legend_handles_labels()\n",
    "ax.legend(handles=handles, labels=['Negative (0)', 'Positive (4)'], title='Sentiment')\n",
    "\n",
    "plt.tight_layout()\n",
    "plt.show()\n"
   ]
  },
  {
   "cell_type": "markdown",
   "id": "DC7T0n09oKxO",
   "metadata": {
    "id": "DC7T0n09oKxO"
   },
   "source": [
    "### Analyzing Number of Tweets per Sentiment for April–June 2009\n",
    "\n",
    "This bar chart visualizes the number of tweets labeled as **negative (0)** and **positive (4)** across the three months covered by the dataset: **April, May, and June 2009**.\n",
    "\n",
    "#### Key Insights:\n",
    "- Tweet volume **increased steadily each month**, peaking in June 2009.\n",
    "- In **April**, tweet volume was relatively low and slightly favored **positive sentiment**.\n",
    "- In **May**, the number of tweets grew substantially, with a notable rise in **positive tweets**.\n",
    "- By **June**, the volume of **negative tweets** overtook positive ones, reaching the highest count in the dataset.\n",
    "\n",
    "This temporal breakdown shows both an overall **growth in Twitter samples collected** and **variation in sentiment dynamics** during this short collection window.\n"
   ]
  },
  {
   "cell_type": "code",
   "execution_count": 13,
   "id": "AkJ958nwACG5",
   "metadata": {
    "colab": {
     "base_uri": "https://localhost:8080/",
     "height": 590
    },
    "id": "AkJ958nwACG5",
    "outputId": "b3941e87-0894-4729-b596-3c738d30e628"
   },
   "outputs": [
    {
     "data": {
      "image/png": "[encoded data removed]",
      "text/plain": [
       "<Figure size 800x500 with 1 Axes>"
      ]
     },
     "metadata": {},
     "output_type": "display_data"
    }
   ],
   "source": [
    "# We now visualize the violin plot for each target by tweet length\n",
    "\n",
    "# Add a new column for tweet length\n",
    "df['text_length'] = df['text'].str.len()\n",
    "\n",
    "# Violin plot of tweet length by sentiment\n",
    "plt.figure(figsize=(8, 5))\n",
    "sns.violinplot(data=df, x='target', y='text_length', hue='target', palette=custom_palette, inner='quartile')\n",
    "\n",
    "plt.title(\"Distribution of Tweet Length by Sentiment\", fontsize=16, fontweight='bold')\n",
    "plt.xlabel(\"Sentiment Target\", fontsize=12)\n",
    "plt.ylabel(\"Tweet Length (characters)\", fontsize=12)\n",
    "plt.xticks([0, 1], [\"Negative (0)\", \"Positive (4)\"], fontsize=11)\n",
    "plt.tight_layout()\n",
    "plt.show()"
   ]
  },
  {
   "cell_type": "markdown",
   "id": "wDnxN1KpmxTJ",
   "metadata": {
    "id": "wDnxN1KpmxTJ"
   },
   "source": [
    "#### Distribution of Tweet Length by Sentiment\n",
    "\n",
    "This violin plot illustrates the distribution of tweet lengths (in characters) for each sentiment class in the dataset:\n",
    "\n",
    "- **Negative tweets (target = 0)**  \n",
    "- **Positive tweets (target = 4)**\n",
    "\n",
    "Key observations:\n",
    "- The **distribution shapes** for both sentiments are fairly similar, suggesting that tweet length is not strongly associated with sentiment polarity.\n",
    "- Most tweets fall within the **50 to 120 character** range for both classes.\n",
    "- There are a few **longer tweets (up to ~360 characters)**, but they are rare and do not skew the distribution significantly.\n",
    "- The **thickness of the violin** indicates the density — most tweets cluster around the 40–100 character range.\n",
    "\n",
    "Conclusion:  \n",
    "Tweet length appears to have a **amost exact pattern** across both positive and negative sentiments, and is therefore unlikely to be a strong discriminative feature on its own.\n"
   ]
  },
  {
   "cell_type": "code",
   "execution_count": 14,
   "id": "_14QJrP1K9HZ",
   "metadata": {
    "colab": {
     "base_uri": "https://localhost:8080/"
    },
    "id": "_14QJrP1K9HZ",
    "outputId": "9217a8ba-3dc8-4d2b-b5d5-875eaf3770c1"
   },
   "outputs": [
    {
     "name": "stdout",
     "output_type": "stream",
     "text": [
      "Number of tweets with special characters: 1,449,640\n",
      "Number of tweets that are mentions (start with @): 698,079\n"
     ]
    }
   ],
   "source": [
    "# Counting the number of tweets with special characters, and those that are a response to other users\n",
    "\n",
    "# Define a regex pattern for special characters (excluding whitespace and alphanumerics)\n",
    "special_char_pattern = r\"[^\\w\\s]\"  # matches anything that's not a-z, A-Z, 0-9, or whitespace\n",
    "\n",
    "# Count tweets that contain at least one special character\n",
    "num_special_chars = df['text'].str.contains(special_char_pattern).sum()\n",
    "\n",
    "# Count tweets that start with a mention (starts with '@')\n",
    "num_mentions = df['text'].str.startswith('@').sum()\n",
    "\n",
    "# Output\n",
    "print(f\"Number of tweets with special characters: {num_special_chars:,}\")\n",
    "print(f\"Number of tweets that are mentions (start with @): {num_mentions:,}\")\n"
   ]
  },
  {
   "cell_type": "code",
   "execution_count": 15,
   "id": "TCJhkzaRqWd7",
   "metadata": {
    "colab": {
     "base_uri": "https://localhost:8080/",
     "height": 601
    },
    "id": "TCJhkzaRqWd7",
    "outputId": "5ff23070-3020-4e50-93e3-d5e679868d55"
   },
   "outputs": [
    {
     "data": {
      "image/png": "[encoded data removed]",
      "text/plain": [
       "<Figure size 1000x600 with 1 Axes>"
      ]
     },
     "metadata": {},
     "output_type": "display_data"
    }
   ],
   "source": [
    "# Now we examine if any pattern arises if the tweet is a response/mention or not\n",
    "\n",
    "# Create a boolean column: True if tweet starts with '@', else False\n",
    "df['is_mention'] = df['text'].str.startswith('@')\n",
    "\n",
    "# Group by sentiment (target) and mention status\n",
    "mention_sentiment_counts = (\n",
    "    df.groupby(['target', 'is_mention'])\n",
    "    .size()\n",
    "    .reset_index(name='tweet_count')\n",
    ")\n",
    "\n",
    "import seaborn as sns\n",
    "import matplotlib.pyplot as plt\n",
    "\n",
    "# Define labels for the sentiment and mention columns\n",
    "mention_sentiment_counts['Sentiment'] = mention_sentiment_counts['target'].map({0: 'Negative', 4: 'Positive'})\n",
    "mention_sentiment_counts['Tweet Type'] = mention_sentiment_counts['is_mention'].map({True: 'Mention', False: 'Original'})\n",
    "\n",
    "# Plot\n",
    "plt.figure(figsize=(10, 6))\n",
    "sns.barplot(\n",
    "    data=mention_sentiment_counts,\n",
    "    x='Sentiment', y='tweet_count', hue='Tweet Type',\n",
    "    palette='Set2'\n",
    ")\n",
    "\n",
    "# Labels and title\n",
    "plt.title('Tweet Count by Sentiment and Type (Mention vs. Original)', fontsize=16, fontweight='bold')\n",
    "plt.xlabel('Sentiment', fontsize=12)\n",
    "plt.ylabel('Number of Tweets', fontsize=12)\n",
    "plt.legend(title='Tweet Type')\n",
    "plt.tight_layout()\n",
    "plt.show()"
   ]
  },
  {
   "cell_type": "markdown",
   "id": "jBgv1Ikqp3L_",
   "metadata": {
    "id": "jBgv1Ikqp3L_"
   },
   "source": [
    "## General EDA Summary\n",
    "\n",
    "- The dataset comprises **1.6 million labeled tweets**, split evenly between **positive (target = 4)** and **negative (target = 0)** sentiments.\n",
    "- There are **no missing or malformed values** across any of the six columns: `target`, `id`, `date`, `flag`, `user`, and `text`. This indicates excellent data quality and readiness for downstream processing.\n",
    "- The **sentiment distribution is perfectly balanced**, with approximately **800,000 samples in each class**. This lack of class imbalance is ideal for training binary classifiers without the need for resampling.\n",
    "- A violin plot of tweet lengths reveals that both sentiment classes have similar distributions, with most tweets falling in the **40–120 character** range. This implies that **tweet length does not correlate strongly with sentiment**, reducing the risk of unintended bias during modeling.\n",
    "- Temporal analysis shows that the tweets were collected within a short time span — from **April to June 2009**. Although there is a noticeable increase in tweet volume across these months, the **sentiment proportions remain consistent**, suggesting this variation has **minimal effect on learning or sentiment classification**.\n",
    "- When breaking down tweets by **type of interaction** (original tweets vs. replies/mentions that begin with `@`), an interesting pattern emerges:\n",
    "  - **Negative tweets are more likely to be original posts**, while\n",
    "  - **Positive tweets are more often replies or mentions** to other accounts.\n",
    "  \n",
    "  This behavioral difference suggests that **positive sentiment may be more common in interpersonal or interactive tweets**, whereas **negative sentiment might be more frequently expressed in stand-alone posts**. This subtle distinction could have implications for contextual sentiment modeling.\n",
    "\n",
    "Overall, the dataset is **clean, balanced, and well-structured**, making it a strong foundation for robust sentiment classification using classical or deep learning techniques.\n"
   ]
  },
  {
   "cell_type": "markdown",
   "id": "M4lM7-1osOSG",
   "metadata": {
    "id": "M4lM7-1osOSG"
   },
   "source": [
    "## Key Note\n",
    "\n",
    "During EDA, we observed a behavioral difference between tweet types:\n",
    "- **Negative tweets are more likely to be original posts**\n",
    "- **Positive tweets more frequently occur as replies or mentions (starting with `@`)**\n",
    "\n",
    "To avoid discarding this valuable context during text preprocessing and to enhance model learning, we will not directly discard @ and lose valuable information.\n",
    "\n"
   ]
  },
  {
   "cell_type": "markdown",
   "id": "b4WHKMoJsqrV",
   "metadata": {
    "id": "b4WHKMoJsqrV"
   },
   "source": [
    "## Plan to Leverage Tweet Interaction Type (Mentions vs. Original) for NLP Sentiment Classification\n",
    "\n",
    "- Replace usernames (e.g., `@user123`) with a neutral token like `[USER]`.\n",
    "- This keeps the context of interaction (e.g., replying to someone) without overfitting to specific handles.\n",
    "\n",
    "```python\n",
    "df['clean_text'] = df['text'].str.replace(r'^@\\w+', 'MENTION', regex=True)\n",
    "```\n",
    "\n",
    "\n",
    "- Create an Explicit Feature column: is_mention\n",
    "\n",
    "This results in capturing conversational context, which might influence sentiment.\n",
    "\n"
   ]
  },
  {
   "cell_type": "markdown",
   "id": "862a8788-ef21-4b32-af2e-41e70d1c532b",
   "metadata": {
    "id": "862a8788-ef21-4b32-af2e-41e70d1c532b"
   },
   "source": [
    "\n",
    "<div style=\"background-color:#e6f2ff; border-left:8px solid #0059b3; padding:20px; margin:20px 0;\">\n",
    "  <h2 style=\"color:#003366;\"><strong>3. Data Preprocessing</strong></h2>\n",
    "  <p style=\"color:#333333;\">Steps: lowercasing, punctuation & stopword removal, tokenization, stemming, lemmatization, cleaning hashtags, mentions, URLs, numbers.</p>\n",
    "</div>\n"
   ]
  },
  {
   "cell_type": "markdown",
   "id": "vkqvb-9lPNaa",
   "metadata": {
    "id": "vkqvb-9lPNaa"
   },
   "source": [
    "- Convert Upper case words to Lower Case\n",
    "- Change all mentions and charachters attached into \"MENTION\"\n",
    "- Download stopwords, punkt_tab using nltk.download() function.\n",
    "- for the stop_words add punctuations like , . \" '\n",
    "- Remove White space"
   ]
  },
  {
   "cell_type": "code",
   "execution_count": 16,
   "id": "dc34c42b-d1f6-4719-9e4c-4f6ecc788c8b",
   "metadata": {
    "id": "dc34c42b-d1f6-4719-9e4c-4f6ecc788c8b"
   },
   "outputs": [],
   "source": [
    "# importing all libraries here\n",
    "import numpy as np\n",
    "import pandas as pd\n",
    "import gdown\n",
    "import os\n",
    "import seaborn as sns\n",
    "from wordcloud import WordCloud\n",
    "import matplotlib.pyplot as plt\n",
    "from nltk.tokenize import word_tokenize\n",
    "from nltk.stem import WordNetLemmatizer\n",
    "from nltk.tokenize import TreebankWordTokenizer\n",
    "import nltk\n",
    "from nltk.corpus import stopwords\n",
    "from nltk.stem import PorterStemmer\n",
    "import string\n",
    "import re\n",
    "import spacy"
   ]
  },
  {
   "cell_type": "code",
   "execution_count": 17,
   "id": "10c6dda3-8402-492c-acf1-956a2efcd7e6",
   "metadata": {
    "colab": {
     "base_uri": "https://localhost:8080/"
    },
    "id": "10c6dda3-8402-492c-acf1-956a2efcd7e6",
    "outputId": "6af9c317-8377-4d23-d9cb-be7ddb0a6e9b"
   },
   "outputs": [
    {
     "name": "stderr",
     "output_type": "stream",
     "text": [
      "[nltk_data] Downloading package stopwords to\n",
      "[nltk_data]     /Users/ariesslin/nltk_data...\n",
      "[nltk_data]   Package stopwords is already up-to-date!\n",
      "[nltk_data] Downloading package punkt to /Users/ariesslin/nltk_data...\n",
      "[nltk_data]   Package punkt is already up-to-date!\n"
     ]
    },
    {
     "data": {
      "text/plain": [
       "True"
      ]
     },
     "execution_count": 17,
     "metadata": {},
     "output_type": "execute_result"
    }
   ],
   "source": [
    "# Download the stopwords and punkt_tab\n",
    "nltk.download('stopwords')\n",
    "nltk.download('punkt')"
   ]
  },
  {
   "cell_type": "code",
   "execution_count": 18,
   "id": "82MUpULOPVk8",
   "metadata": {
    "id": "82MUpULOPVk8"
   },
   "outputs": [],
   "source": [
    "#!python -m spacy download en_core_web_lg"
   ]
  },
  {
   "cell_type": "code",
   "execution_count": 19,
   "id": "iEDvbM5VPU-m",
   "metadata": {
    "colab": {
     "base_uri": "https://localhost:8080/",
     "height": 313
    },
    "id": "iEDvbM5VPU-m",
    "outputId": "15fa29be-880a-4f4b-8dd0-3c1c06f13729"
   },
   "outputs": [
    {
     "name": "stderr",
     "output_type": "stream",
     "text": [
      "/var/folders/5m/q16b86r92zgbmjpxpdx4ghfw0000gn/T/ipykernel_78391/2929434613.py:5: SettingWithCopyWarning: \n",
      "A value is trying to be set on a copy of a slice from a DataFrame.\n",
      "Try using .loc[row_indexer,col_indexer] = value instead\n",
      "\n",
      "See the caveats in the documentation: https://pandas.pydata.org/pandas-docs/stable/user_guide/indexing.html#returning-a-view-versus-a-copy\n",
      "  tweets['text'] = tweets['text'].str.lower()\n"
     ]
    },
    {
     "data": {
      "text/html": [
       "<div>\n",
       "<style scoped>\n",
       "    .dataframe tbody tr th:only-of-type {\n",
       "        vertical-align: middle;\n",
       "    }\n",
       "\n",
       "    .dataframe tbody tr th {\n",
       "        vertical-align: top;\n",
       "    }\n",
       "\n",
       "    .dataframe thead th {\n",
       "        text-align: right;\n",
       "    }\n",
       "</style>\n",
       "<table border=\"1\" class=\"dataframe\">\n",
       "  <thead>\n",
       "    <tr style=\"text-align: right;\">\n",
       "      <th></th>\n",
       "      <th>text</th>\n",
       "      <th>target</th>\n",
       "    </tr>\n",
       "  </thead>\n",
       "  <tbody>\n",
       "    <tr>\n",
       "      <th>0</th>\n",
       "      <td>@switchfoot http://twitpic.com/2y1zl - awww, t...</td>\n",
       "      <td>0</td>\n",
       "    </tr>\n",
       "    <tr>\n",
       "      <th>1</th>\n",
       "      <td>is upset that he can't update his facebook by ...</td>\n",
       "      <td>0</td>\n",
       "    </tr>\n",
       "    <tr>\n",
       "      <th>2</th>\n",
       "      <td>@kenichan i dived many times for the ball. man...</td>\n",
       "      <td>0</td>\n",
       "    </tr>\n",
       "    <tr>\n",
       "      <th>3</th>\n",
       "      <td>my whole body feels itchy and like its on fire</td>\n",
       "      <td>0</td>\n",
       "    </tr>\n",
       "    <tr>\n",
       "      <th>4</th>\n",
       "      <td>@nationwideclass no, it's not behaving at all....</td>\n",
       "      <td>0</td>\n",
       "    </tr>\n",
       "  </tbody>\n",
       "</table>\n",
       "</div>"
      ],
      "text/plain": [
       "                                                text  target\n",
       "0  @switchfoot http://twitpic.com/2y1zl - awww, t...       0\n",
       "1  is upset that he can't update his facebook by ...       0\n",
       "2  @kenichan i dived many times for the ball. man...       0\n",
       "3    my whole body feels itchy and like its on fire        0\n",
       "4  @nationwideclass no, it's not behaving at all....       0"
      ]
     },
     "execution_count": 19,
     "metadata": {},
     "output_type": "execute_result"
    }
   ],
   "source": [
    "# step 1, Convert all cases to lower\n",
    "\n",
    "tweets = df[['text', 'target']]\n",
    "\n",
    "tweets['text'] = tweets['text'].str.lower()\n",
    "\n",
    "tweets.head()"
   ]
  },
  {
   "cell_type": "code",
   "execution_count": 20,
   "id": "9ac7135d-4ecd-4c49-9538-eea9d023e4bb",
   "metadata": {
    "colab": {
     "base_uri": "https://localhost:8080/",
     "height": 206
    },
    "id": "9ac7135d-4ecd-4c49-9538-eea9d023e4bb",
    "outputId": "65d9ddfa-ee8a-4d30-964c-cfa6934b967e"
   },
   "outputs": [
    {
     "data": {
      "text/html": [
       "<div>\n",
       "<style scoped>\n",
       "    .dataframe tbody tr th:only-of-type {\n",
       "        vertical-align: middle;\n",
       "    }\n",
       "\n",
       "    .dataframe tbody tr th {\n",
       "        vertical-align: top;\n",
       "    }\n",
       "\n",
       "    .dataframe thead th {\n",
       "        text-align: right;\n",
       "    }\n",
       "</style>\n",
       "<table border=\"1\" class=\"dataframe\">\n",
       "  <thead>\n",
       "    <tr style=\"text-align: right;\">\n",
       "      <th></th>\n",
       "      <th>text</th>\n",
       "      <th>target</th>\n",
       "    </tr>\n",
       "  </thead>\n",
       "  <tbody>\n",
       "    <tr>\n",
       "      <th>0</th>\n",
       "      <td>MENTION http://twitpic.com/2y1zl - awww, that'...</td>\n",
       "      <td>0</td>\n",
       "    </tr>\n",
       "    <tr>\n",
       "      <th>1</th>\n",
       "      <td>is upset that he can't update his facebook by ...</td>\n",
       "      <td>0</td>\n",
       "    </tr>\n",
       "    <tr>\n",
       "      <th>2</th>\n",
       "      <td>MENTION i dived many times for the ball. manag...</td>\n",
       "      <td>0</td>\n",
       "    </tr>\n",
       "    <tr>\n",
       "      <th>3</th>\n",
       "      <td>my whole body feels itchy and like its on fire</td>\n",
       "      <td>0</td>\n",
       "    </tr>\n",
       "    <tr>\n",
       "      <th>4</th>\n",
       "      <td>MENTION no, it's not behaving at all. i'm mad....</td>\n",
       "      <td>0</td>\n",
       "    </tr>\n",
       "  </tbody>\n",
       "</table>\n",
       "</div>"
      ],
      "text/plain": [
       "                                                text  target\n",
       "0  MENTION http://twitpic.com/2y1zl - awww, that'...       0\n",
       "1  is upset that he can't update his facebook by ...       0\n",
       "2  MENTION i dived many times for the ball. manag...       0\n",
       "3    my whole body feels itchy and like its on fire        0\n",
       "4  MENTION no, it's not behaving at all. i'm mad....       0"
      ]
     },
     "execution_count": 20,
     "metadata": {},
     "output_type": "execute_result"
    }
   ],
   "source": [
    "# step 2, convert all mentions and the mentioned account names to MENTION\n",
    "\n",
    "# Make a copy to avoid modifying the original DataFrame\n",
    "tweets = df[['text', 'target']].copy()\n",
    "\n",
    "# Convert to lowercase\n",
    "tweets['text'] = tweets['text'].str.lower()\n",
    "\n",
    "# Replace all @mentions with \"MENTION\"\n",
    "tweets['text'] = tweets['text'].str.replace(r'@\\w+', 'MENTION', regex=True)\n",
    "\n",
    "tweets.head()"
   ]
  },
  {
   "cell_type": "code",
   "execution_count": 21,
   "id": "ex-V6ZTsSXBn",
   "metadata": {
    "colab": {
     "base_uri": "https://localhost:8080/",
     "height": 242
    },
    "id": "ex-V6ZTsSXBn",
    "outputId": "4bb6ac46-713c-4ed3-e7e2-70a09f1016f1"
   },
   "outputs": [
    {
     "name": "stderr",
     "output_type": "stream",
     "text": [
      "[nltk_data] Downloading package wordnet to\n",
      "[nltk_data]     /Users/ariesslin/nltk_data...\n",
      "[nltk_data]   Package wordnet is already up-to-date!\n"
     ]
    },
    {
     "data": {
      "text/html": [
       "<div>\n",
       "<style scoped>\n",
       "    .dataframe tbody tr th:only-of-type {\n",
       "        vertical-align: middle;\n",
       "    }\n",
       "\n",
       "    .dataframe tbody tr th {\n",
       "        vertical-align: top;\n",
       "    }\n",
       "\n",
       "    .dataframe thead th {\n",
       "        text-align: right;\n",
       "    }\n",
       "</style>\n",
       "<table border=\"1\" class=\"dataframe\">\n",
       "  <thead>\n",
       "    <tr style=\"text-align: right;\">\n",
       "      <th></th>\n",
       "      <th>text</th>\n",
       "      <th>target</th>\n",
       "    </tr>\n",
       "  </thead>\n",
       "  <tbody>\n",
       "    <tr>\n",
       "      <th>0</th>\n",
       "      <td>MENTION thats bummer shoulda got david carr th...</td>\n",
       "      <td>0</td>\n",
       "    </tr>\n",
       "    <tr>\n",
       "      <th>1</th>\n",
       "      <td>upset cant update facebook texting might cry r...</td>\n",
       "      <td>0</td>\n",
       "    </tr>\n",
       "    <tr>\n",
       "      <th>2</th>\n",
       "      <td>MENTION dived many time ball managed save rest...</td>\n",
       "      <td>0</td>\n",
       "    </tr>\n",
       "    <tr>\n",
       "      <th>3</th>\n",
       "      <td>whole body feel itchy like fire</td>\n",
       "      <td>0</td>\n",
       "    </tr>\n",
       "    <tr>\n",
       "      <th>4</th>\n",
       "      <td>MENTION behaving im mad cant see</td>\n",
       "      <td>0</td>\n",
       "    </tr>\n",
       "  </tbody>\n",
       "</table>\n",
       "</div>"
      ],
      "text/plain": [
       "                                                text target\n",
       "0  MENTION thats bummer shoulda got david carr th...      0\n",
       "1  upset cant update facebook texting might cry r...      0\n",
       "2  MENTION dived many time ball managed save rest...      0\n",
       "3                    whole body feel itchy like fire      0\n",
       "4                   MENTION behaving im mad cant see      0"
      ]
     },
     "execution_count": 21,
     "metadata": {},
     "output_type": "execute_result"
    }
   ],
   "source": [
    "# Step #3, we tokenize the words and remove stop words\n",
    "\n",
    "nltk.download('wordnet')\n",
    "\n",
    "# Load NLP model\n",
    "nlp = spacy.load('en_core_web_lg')\n",
    "\n",
    "# Setup\n",
    "tokenizer = TreebankWordTokenizer()\n",
    "tweets_array = tweets.to_numpy(copy=True)\n",
    "stop_words = set(stopwords.words('english'))\n",
    "\n",
    "# Add extra symbols to stop words\n",
    "stop_words.update(string.punctuation)\n",
    "stop_words.update([\"''\", \"'\", '``', '’', '“', '”','–', '—', '…', '..', '.', ',', ':', ';', '?', '!', '(', ')', '[', ']', '{', '}', '/', '|'])\n",
    "\n",
    "# Stemmers / lemmatizers\n",
    "stemmer = PorterStemmer()\n",
    "lemmatizer = WordNetLemmatizer()\n",
    "\n",
    "# Preprocess each tweet\n",
    "for i in range(len(tweets_array)):\n",
    "    text = tweets_array[i][0]  # Access the tweet text\n",
    "\n",
    "    # Remove numbers and whitespace\n",
    "    text = ''.join((z for z in text if not z.isdigit()))\n",
    "    text = ' '.join(text.split())\n",
    "\n",
    "    # Remove URLs\n",
    "    text = re.sub(r\"http\\S+|www\\S+|https\\S+\", '', text, flags=re.MULTILINE)\n",
    "\n",
    "    # Protect MENTION placeholder\n",
    "    if 'MENTION' in text:\n",
    "        text = text.replace('MENTION', '<<MENTION>>')\n",
    "\n",
    "    # Remove punctuation\n",
    "    text = text.translate(str.maketrans('', '', string.punctuation))\n",
    "\n",
    "    # Restore MENTION\n",
    "    text = text.replace('<<MENTION>>', 'MENTION')\n",
    "\n",
    "    # Tokenize using TreebankWordTokenizer\n",
    "    tokens = tokenizer.tokenize(text)\n",
    "\n",
    "    # Remove stopwords but keep MENTION\n",
    "    tokens = [word for word in tokens if word not in stop_words or word == 'MENTION']\n",
    "\n",
    "    # Lemmatize (skip MENTION)\n",
    "    tokens = [lemmatizer.lemmatize(word.lower()) if word != 'MENTION' else word for word in tokens]\n",
    "\n",
    "    # Rejoin\n",
    "    tweets_array[i][0] = ' '.join(tokens)\n",
    "\n",
    "# Convert back to DataFrame\n",
    "preprocessed_tweets = pd.DataFrame(tweets_array, columns=['text', 'target'])\n",
    "preprocessed_tweets.head()"
   ]
  },
  {
   "cell_type": "code",
   "execution_count": 22,
   "id": "5tQEU1XeSWzW",
   "metadata": {
    "colab": {
     "base_uri": "https://localhost:8080/",
     "height": 17
    },
    "id": "5tQEU1XeSWzW",
    "outputId": "7191d0a1-1955-42d6-ad06-68a1cab1c5bf"
   },
   "outputs": [
    {
     "name": "stdout",
     "output_type": "stream",
     "text": [
      "Saving preprocessed_tweets.csv...\n",
      "Preprocessed tweets saved to: ../data/preprocessed_tweets.csv\n"
     ]
    }
   ],
   "source": [
    "# We now save the processed tweets to be used later in model development\n",
    "\n",
    "print(\"Saving preprocessed_tweets.csv...\")\n",
    "# Define the path to save the preprocessed data\n",
    "processed_data_dir = \"../data\"\n",
    "os.makedirs(processed_data_dir, exist_ok=True) # Ensure the directory exists\n",
    "\n",
    "output_processed_file_path = os.path.join(processed_data_dir, 'preprocessed_tweets.csv')\n",
    "\n",
    "# Save the preprocessed DataFrame to CSV\n",
    "preprocessed_tweets.to_csv(output_processed_file_path, index=False)\n",
    "print(f\"Preprocessed tweets saved to: {output_processed_file_path}\")"
   ]
  },
  {
   "cell_type": "markdown",
   "id": "82172ce7-5869-4448-8c89-3e9450c1e426",
   "metadata": {
    "id": "82172ce7-5869-4448-8c89-3e9450c1e426"
   },
   "source": [
    "\n",
    "<div style=\"background-color:#e6f2ff; border-left:8px solid #0059b3; padding:20px; margin:20px 0;\">\n",
    "  <h2 style=\"color:#003366;\"><strong>4. Baseline Model – TF-IDF + Logistic Regression</strong></h2>\n",
    "  <p style=\"color:#333333;\">TF-IDF vectorization + logistic regression as a benchmark.</p>\n",
    "</div>\n"
   ]
  },
  {
   "cell_type": "code",
   "execution_count": 23,
   "id": "f8f6a331-ac35-4764-b7a4-47f698522c51",
   "metadata": {
    "colab": {
     "base_uri": "https://localhost:8080/",
     "height": 107
    },
    "id": "f8f6a331-ac35-4764-b7a4-47f698522c51",
    "outputId": "d5e3777a-1f02-413c-b84f-2f13e118f847"
   },
   "outputs": [
    {
     "name": "stderr",
     "output_type": "stream",
     "text": [
      "Downloading...\n",
      "From: https://drive.google.com/uc?id=1FoVA8bPlC6WTuXwlsW7kLpdEgUBeGJiy\n",
      "To: /Users/ariesslin/northeastern_projects/ie7500/project/ie7500-g1-tweet-sentiment-nlp/data/preprocessed_tweets.csv\n",
      "100%|████████████████████████████████████████████████████████████████████████████████████████████████████████████████████████| 79.2M/79.2M [00:01<00:00, 51.3MB/s]\n"
     ]
    },
    {
     "data": {
      "text/plain": [
       "'../data/preprocessed_tweets.csv'"
      ]
     },
     "execution_count": 23,
     "metadata": {},
     "output_type": "execute_result"
    }
   ],
   "source": [
    "# We load the processed dataset\n",
    "\n",
    "os.makedirs(\"../data\", exist_ok=True)\n",
    "\n",
    "file_id = \"1FoVA8bPlC6WTuXwlsW7kLpdEgUBeGJiy\"\n",
    "url = f\"https://drive.google.com/uc?id={file_id}\"\n",
    "output = \"../data/preprocessed_tweets.csv\"\n",
    "\n",
    "gdown.download(url, output, quiet=False)"
   ]
  },
  {
   "cell_type": "code",
   "execution_count": 24,
   "id": "2ba8da74-abb8-45b1-a637-e57386b02a33",
   "metadata": {
    "colab": {
     "base_uri": "https://localhost:8080/",
     "height": 242
    },
    "id": "2ba8da74-abb8-45b1-a637-e57386b02a33",
    "outputId": "8078e6f9-91f0-42d7-8024-cf33d1af3dd1"
   },
   "outputs": [
    {
     "name": "stderr",
     "output_type": "stream",
     "text": [
      "/var/folders/5m/q16b86r92zgbmjpxpdx4ghfw0000gn/T/ipykernel_78391/1873653643.py:3: DtypeWarning: Columns (1) have mixed types. Specify dtype option on import or set low_memory=False.\n",
      "  Tweets = pd.read_csv(\"../data/preprocessed_tweets.csv\", header=None, names=[\"text\", \"target\"])\n"
     ]
    },
    {
     "data": {
      "text/html": [
       "<div>\n",
       "<style scoped>\n",
       "    .dataframe tbody tr th:only-of-type {\n",
       "        vertical-align: middle;\n",
       "    }\n",
       "\n",
       "    .dataframe tbody tr th {\n",
       "        vertical-align: top;\n",
       "    }\n",
       "\n",
       "    .dataframe thead th {\n",
       "        text-align: right;\n",
       "    }\n",
       "</style>\n",
       "<table border=\"1\" class=\"dataframe\">\n",
       "  <thead>\n",
       "    <tr style=\"text-align: right;\">\n",
       "      <th></th>\n",
       "      <th>text</th>\n",
       "      <th>target</th>\n",
       "    </tr>\n",
       "  </thead>\n",
       "  <tbody>\n",
       "    <tr>\n",
       "      <th>0</th>\n",
       "      <td>text</td>\n",
       "      <td>target</td>\n",
       "    </tr>\n",
       "    <tr>\n",
       "      <th>1</th>\n",
       "      <td>MENTION thats bummer shoulda got david carr th...</td>\n",
       "      <td>0</td>\n",
       "    </tr>\n",
       "    <tr>\n",
       "      <th>2</th>\n",
       "      <td>upset cant update facebook texting might cry r...</td>\n",
       "      <td>0</td>\n",
       "    </tr>\n",
       "    <tr>\n",
       "      <th>3</th>\n",
       "      <td>MENTION dived many time ball managed save rest...</td>\n",
       "      <td>0</td>\n",
       "    </tr>\n",
       "    <tr>\n",
       "      <th>4</th>\n",
       "      <td>whole body feel itchy like fire</td>\n",
       "      <td>0</td>\n",
       "    </tr>\n",
       "  </tbody>\n",
       "</table>\n",
       "</div>"
      ],
      "text/plain": [
       "                                                text  target\n",
       "0                                               text  target\n",
       "1  MENTION thats bummer shoulda got david carr th...       0\n",
       "2  upset cant update facebook texting might cry r...       0\n",
       "3  MENTION dived many time ball managed save rest...       0\n",
       "4                    whole body feel itchy like fire       0"
      ]
     },
     "execution_count": 24,
     "metadata": {},
     "output_type": "execute_result"
    }
   ],
   "source": [
    "# Reading and naming dataframe\n",
    "\n",
    "Tweets = pd.read_csv(\"../data/preprocessed_tweets.csv\", header=None, names=[\"text\", \"target\"])\n",
    "\n",
    "\n",
    "Tweets.head()"
   ]
  },
  {
   "cell_type": "code",
   "execution_count": null,
   "id": "07efb030-35ad-4e70-9186-b72e6bd676ec",
   "metadata": {
    "id": "07efb030-35ad-4e70-9186-b72e6bd676ec"
   },
   "outputs": [],
   "source": []
  },
  {
   "cell_type": "markdown",
   "id": "61b2c984-64e4-49a4-afab-160dfbc2a57a",
   "metadata": {
    "id": "61b2c984-64e4-49a4-afab-160dfbc2a57a"
   },
   "source": [
    "\n",
    "<div style=\"background-color:#e6f2ff; border-left:8px solid #0059b3; padding:20px; margin:20px 0;\">\n",
    "  <h2 style=\"color:#003366;\"><strong>5. LSTM Model</strong></h2>\n",
    "  <p style=\"color:#333333;\">Bidirectional LSTM with pre-trained embeddings (e.g., GloVe).</p>\n",
    "</div>"
   ]
  },
  {
   "cell_type": "code",
   "execution_count": null,
   "id": "879e8e26-4ece-453f-993e-ea3dc57fba38",
   "metadata": {
    "id": "879e8e26-4ece-453f-993e-ea3dc57fba38"
   },
   "outputs": [],
   "source": []
  },
  {
   "cell_type": "code",
   "execution_count": null,
   "id": "e65bbf6c-23a5-4f16-be20-d760dab74147",
   "metadata": {
    "id": "e65bbf6c-23a5-4f16-be20-d760dab74147"
   },
   "outputs": [],
   "source": []
  },
  {
   "cell_type": "code",
   "execution_count": null,
   "id": "0a8df55a-a5eb-49a7-9cbd-5c73fea6eac2",
   "metadata": {
    "id": "0a8df55a-a5eb-49a7-9cbd-5c73fea6eac2"
   },
   "outputs": [],
   "source": []
  },
  {
   "cell_type": "markdown",
   "id": "aabdf2dd-b6d2-4007-923c-f7825eba8057",
   "metadata": {
    "id": "aabdf2dd-b6d2-4007-923c-f7825eba8057"
   },
   "source": [
    "\n",
    "<div style=\"background-color:#e6f2ff; border-left:8px solid #0059b3; padding:20px; margin:20px 0;\">\n",
    "  <h2 style=\"color:#003366;\"><strong>6. BERT Model</strong></h2>\n",
    "  <p style=\"color:#333333;\">Fine-tuning DistilBERT or similar transformer model (if feasible).</p>\n",
    "</div>\n"
   ]
  },
  {
   "cell_type": "code",
   "execution_count": null,
   "id": "f6c94bb9-609c-486b-8f8b-65b4639e6aa1",
   "metadata": {
    "id": "f6c94bb9-609c-486b-8f8b-65b4639e6aa1"
   },
   "outputs": [],
   "source": []
  },
  {
   "cell_type": "code",
   "execution_count": null,
   "id": "8a93539e-953f-4fc9-815e-d1fed9a40a59",
   "metadata": {
    "id": "8a93539e-953f-4fc9-815e-d1fed9a40a59"
   },
   "outputs": [],
   "source": []
  },
  {
   "cell_type": "code",
   "execution_count": null,
   "id": "ca01e50d-51a1-4ba5-bd56-13275178ee60",
   "metadata": {
    "id": "ca01e50d-51a1-4ba5-bd56-13275178ee60"
   },
   "outputs": [],
   "source": []
  },
  {
   "cell_type": "markdown",
   "id": "a8a4741c-4ee7-4cdc-896c-1cde34dd2576",
   "metadata": {
    "id": "a8a4741c-4ee7-4cdc-896c-1cde34dd2576"
   },
   "source": [
    "\n",
    "<div style=\"background-color:#e6f2ff; border-left:8px solid #0059b3; padding:20px; margin:20px 0;\">\n",
    "  <h2 style=\"color:#003366;\"><strong>7. Model Evaluation Comparison</strong></h2>\n",
    "  <p style=\"color:#333333;\">Evaluate using accuracy, precision, recall, F1-score, confusion matrix, and ROC curve.</p>\n",
    "</div>\n"
   ]
  },
  {
   "cell_type": "code",
   "execution_count": null,
   "id": "2aebebeb-b375-444f-819d-8533ddab8b94",
   "metadata": {
    "id": "2aebebeb-b375-444f-819d-8533ddab8b94"
   },
   "outputs": [],
   "source": []
  },
  {
   "cell_type": "code",
   "execution_count": null,
   "id": "4b3f91c4-a95f-4f73-bcb6-90cf39f812ac",
   "metadata": {
    "id": "4b3f91c4-a95f-4f73-bcb6-90cf39f812ac"
   },
   "outputs": [],
   "source": []
  },
  {
   "cell_type": "code",
   "execution_count": null,
   "id": "298bcfc6-2aca-42a1-9c0c-3ed858a9dfd3",
   "metadata": {
    "id": "298bcfc6-2aca-42a1-9c0c-3ed858a9dfd3"
   },
   "outputs": [],
   "source": []
  },
  {
   "cell_type": "markdown",
   "id": "6b76a5fd-bdee-4cf4-9b77-e38b9d0091c2",
   "metadata": {
    "id": "6b76a5fd-bdee-4cf4-9b77-e38b9d0091c2"
   },
   "source": [
    "\n",
    "<div style=\"background-color:#e6f2ff; border-left:8px solid #0059b3; padding:20px; margin:20px 0;\">\n",
    "  <h2 style=\"color:#003366;\"><strong>8. Conclusion</strong></h2>\n",
    "  <p style=\"color:#333333;\">Summarize findings and insights, discuss trade-offs, and generalization potential.</p>\n",
    "</div>\n"
   ]
  },
  {
   "cell_type": "code",
   "execution_count": null,
   "id": "bf77c9af-e497-468d-9681-62b28983813c",
   "metadata": {
    "id": "bf77c9af-e497-468d-9681-62b28983813c"
   },
   "outputs": [],
   "source": []
  },
  {
   "cell_type": "code",
   "execution_count": null,
   "id": "1e59342d-fc85-4844-a623-2120b5e84c40",
   "metadata": {
    "id": "1e59342d-fc85-4844-a623-2120b5e84c40"
   },
   "outputs": [],
   "source": []
  },
  {
   "cell_type": "code",
   "execution_count": null,
   "id": "90202a63-50c8-4fbd-b577-95a5bd847aa9",
   "metadata": {
    "id": "90202a63-50c8-4fbd-b577-95a5bd847aa9"
   },
   "outputs": [],
   "source": []
  },
  {
   "cell_type": "markdown",
   "id": "1cf1820a-6795-41de-9869-46d93fb25b2f",
   "metadata": {
    "id": "1cf1820a-6795-41de-9869-46d93fb25b2f"
   },
   "source": [
    "\n",
    "<div style=\"background-color:#e6f2ff; border-left:8px solid #0059b3; padding:20px; margin:20px 0;\">\n",
    "  <h2 style=\"color:#003366;\"><strong>9. Future Work</strong></h2>\n",
    "  <p style=\"color:#333333;\">Suggest future extensions like streaming integration or domain adaptation.</p>\n",
    "</div>\n"
   ]
  },
  {
   "cell_type": "code",
   "execution_count": null,
   "id": "0f17894b-f59b-49f2-a707-f80148fb804f",
   "metadata": {
    "id": "0f17894b-f59b-49f2-a707-f80148fb804f"
   },
   "outputs": [],
   "source": []
  },
  {
   "cell_type": "code",
   "execution_count": null,
   "id": "59b62c59-2b2b-47d0-9071-e3c5d8920676",
   "metadata": {
    "id": "59b62c59-2b2b-47d0-9071-e3c5d8920676"
   },
   "outputs": [],
   "source": []
  }
 ],
 "metadata": {
  "colab": {
   "include_colab_link": true,
   "provenance": []
  },
  "kernelspec": {
   "display_name": "Python (.venv)",
   "language": "python",
   "name": "venv"
  },
  "language_info": {
   "codemirror_mode": {
    "name": "ipython",
    "version": 3
   },
   "file_extension": ".py",
   "mimetype": "text/x-python",
   "name": "python",
   "nbconvert_exporter": "python",
   "pygments_lexer": "ipython3",
   "version": "3.12.2"
  }
 },
 "nbformat": 4,
 "nbformat_minor": 5
}
