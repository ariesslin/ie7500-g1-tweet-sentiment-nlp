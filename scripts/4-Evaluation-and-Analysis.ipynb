{
 "cells": [
  {
   "cell_type": "markdown",
   "id": "14773be3-921b-4bb2-b2d9-988c1bd89883",
   "metadata": {},
   "source": [
    "placeholder to put milestone 3 result"
   ]
  }
 ],
 "metadata": {
  "kernelspec": {
   "display_name": "Python 3 (ipykernel)",
   "language": "python",
   "name": "python3"
  },
  "language_info": {
   "codemirror_mode": {
    "name": "ipython",
    "version": 3
   },
   "file_extension": ".py",
   "mimetype": "text/x-python",
   "name": "python",
   "nbconvert_exporter": "python",
   "pygments_lexer": "ipython3",
   "version": "3.12.4"
  }
 },
 "nbformat": 4,
 "nbformat_minor": 5
}
