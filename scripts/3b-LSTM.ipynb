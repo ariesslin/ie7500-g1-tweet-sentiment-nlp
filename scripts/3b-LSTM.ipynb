{
 "cells": [
  {
   "cell_type": "markdown",
   "id": "6f6f7be3",
   "metadata": {
    "colab_type": "text",
    "id": "view-in-github"
   },
   "source": [
    "<a href=\"https://colab.research.google.com/github/ariesslin/ie7500-g1-tweet-sentiment-nlp/blob/main/scripts/3.%20Model_Development.ipynb\" target=\"_parent\"><img src=\"https://colab.research.google.com/assets/colab-badge.svg\" alt=\"Open In Colab\"/></a>"
   ]
  },
  {
   "cell_type": "markdown",
   "id": "61b2c984-64e4-49a4-afab-160dfbc2a57a",
   "metadata": {
    "id": "61b2c984-64e4-49a4-afab-160dfbc2a57a"
   },
   "source": [
    "\n",
    "<div style=\"background-color:#e6f2ff; border-left:8px solid #0059b3; padding:20px; margin:20px 0;\">\n",
    "  <h2 style=\"color:#003366;\"><strong>3b. Deep Learning Model – Bidirectional LSTM</strong></h2>\n",
    "  <p style=\"color:#333333;\">Bidirectional LSTM with Word2Vec embeddings for sequence-aware sentiment analysis.</p>\n",
    "</div>"
   ]
  },
  {
   "cell_type": "markdown",
   "id": "0fc6f233-179d-474e-9f69-a9d68f77d6c2",
   "metadata": {},
   "source": [
    "## Deep Learning Sentiment Classifier: Bidirectional LSTM with Word2Vec Embeddings\n",
    "\n",
    "This notebook implements a **deep learning model** for tweet sentiment classification using **Bidirectional LSTM** networks combined with **Word2Vec word embeddings**.\n",
    "\n",
    "### Why Bidirectional LSTM?\n",
    "\n",
    "- **Sequential Understanding**: Unlike the TF-IDF baseline, LSTMs can capture the **sequential nature** of language, understanding how words relate to each other in context.\n",
    "- **Bidirectional Processing**: By processing text both forward and backward, the model gains a more complete understanding of context around each word.\n",
    "- **Long-term Dependencies**: LSTMs excel at capturing relationships between words that are far apart in a sentence, crucial for understanding sentiment in complex tweets.\n",
    "- **Contextual Awareness**: Can handle negation, sarcasm, and other linguistic nuances that bag-of-words models miss.\n",
    "\n",
    "### Why Word2Vec Embeddings?\n",
    "\n",
    "Instead of sparse TF-IDF vectors, we use **dense Word2Vec embeddings** that capture semantic relationships between words. Words with similar meanings are positioned close to each other in the embedding space, allowing the model to generalize better to unseen vocabulary and understand semantic similarity.\n",
    "\n",
    "### What This Notebook Covers\n",
    "\n",
    "- Loads and preprocesses the training and validation datasets\n",
    "- Trains a custom Word2Vec model on the tweet corpus\n",
    "- Builds bidirectional LSTM architecture with embedding layers\n",
    "- Implements proper text tokenization and sequence padding\n",
    "- Trains the model with early stopping and performance monitoring\n",
    "- Evaluates performance using accuracy, precision, recall, F1-score, and confusion matrix\n",
    "- Provides analysis of model strengths and limitations\n",
    "\n",
    "This LSTM model represents a significant step up in complexity from our logistic regression baseline, designed to capture the nuanced, context-dependent nature of sentiment in social media text.\n"
   ]
  },
  {
   "cell_type": "code",
   "execution_count": null,
   "id": "to08L5gzucYG",
   "metadata": {
    "id": "to08L5gzucYG"
   },
   "outputs": [],
   "source": [
    "# Mount Google Drive and Setup Project Environment\n",
    "from google.colab import drive\n",
    "drive.mount('/content/drive')"
   ]
  },
  {
   "cell_type": "code",
   "execution_count": null,
   "id": "5abbe4a3",
   "metadata": {},
   "outputs": [],
   "source": [
    "PROJECT_ROOT = \"/content/drive/MyDrive/northeastern/ie7500/ie7500-g1-tweet-sentiment-nlp\"\n"
   ]
  },
  {
   "cell_type": "code",
   "execution_count": null,
   "id": "6c8ccaee",
   "metadata": {},
   "outputs": [],
   "source": [
    "train_path = f\"{PROJECT_ROOT}/processed_data/train_dataset.csv\"\n",
    "val_path = f\"{PROJECT_ROOT}/processed_data/val_dataset.csv\"\n"
   ]
  },
  {
   "cell_type": "code",
   "execution_count": null,
   "id": "db6897fd",
   "metadata": {},
   "outputs": [],
   "source": [
    "import sys\n",
    "!{sys.executable} -m pip install -r \"{PROJECT_ROOT}/requirements.txt\"\n"
   ]
  },
  {
   "cell_type": "markdown",
   "id": "ae47580d-af49-48d2-a0f7-b25394f1fed5",
   "metadata": {
    "id": "ae47580d-af49-48d2-a0f7-b25394f1fed5"
   },
   "source": [
    "### GPU Configuration\n",
    "\n",
    "Due to compatibility issues with CuDNN in the current environment, we'll configure TensorFlow to use CPU-only mode for training. While this will be slower, it ensures reliable execution across different environments."
   ]
  },
  {
   "cell_type": "code",
   "execution_count": null,
   "id": "d9b59e83-dd9a-4339-9628-65f74a372e6a",
   "metadata": {
    "id": "d9b59e83-dd9a-4339-9628-65f74a372e6a",
    "outputId": "20abcae9-dfbb-42e8-bc36-d279f06d4243"
   },
   "outputs": [
    {
     "name": "stdout",
     "output_type": "stream",
     "text": [
      "After disabling: [PhysicalDevice(name='/physical_device:CPU:0', device_type='CPU')]\n"
     ]
    }
   ],
   "source": [
    "import tensorflow as tf\n",
    "\n",
    "# Hide all GPUs at runtime (must be done before anything else in TensorFlow)\n",
    "tf.config.set_visible_devices([], 'GPU')\n",
    "\n",
    "print(\"After disabling:\", tf.config.get_visible_devices())\n"
   ]
  },
  {
   "cell_type": "code",
   "execution_count": null,
   "id": "BQDuL0iGzX7x",
   "metadata": {
    "id": "BQDuL0iGzX7x",
    "outputId": "ad730618-0a8c-47ee-80bf-555aa927e277"
   },
   "outputs": [
    {
     "name": "stderr",
     "output_type": "stream",
     "text": [
      "/courses/IE7500.202550/shared/conda_env_1/lib/python3.12/site-packages/tqdm/auto.py:21: TqdmWarning: IProgress not found. Please update jupyter and ipywidgets. See https://ipywidgets.readthedocs.io/en/stable/user_install.html\n",
      "  from .autonotebook import tqdm as notebook_tqdm\n"
     ]
    }
   ],
   "source": [
    "# Import required libraries for LSTM model development\n",
    "import numpy as np\n",
    "import pandas as pd\n",
    "import matplotlib.pyplot as plt\n",
    "\n",
    "# Gensim for Word2Vec embeddings and text preprocessing\n",
    "from gensim.utils import simple_preprocess\n",
    "from gensim.models import Word2Vec\n",
    "\n",
    "# TensorFlow/Keras for deep learning\n",
    "import tensorflow as tf\n",
    "from tensorflow.keras.preprocessing.text import Tokenizer\n",
    "from tensorflow.keras.preprocessing.sequence import pad_sequences\n",
    "from tensorflow.keras.models import Sequential\n",
    "from tensorflow.keras.layers import Embedding, Bidirectional, LSTM, Dense, Dropout\n",
    "from tensorflow.keras.callbacks import EarlyStopping\n",
    "from tensorflow.keras.optimizers import Nadam\n",
    "\n",
    "# Scikit-learn for evaluation metrics\n",
    "from sklearn.metrics import (\n",
    "    accuracy_score, precision_score, recall_score, f1_score,\n",
    "    confusion_matrix, ConfusionMatrixDisplay\n",
    ")\n",
    "\n",
    "# Project utilities\n",
    "sys.path.append(f\"{PROJECT_ROOT}/utils\")\n",
    "from helper import load_clean_train_val_datasets"
   ]
  },
  {
   "cell_type": "code",
   "execution_count": null,
   "id": "VszvLfpt5oKo",
   "metadata": {
    "id": "VszvLfpt5oKo"
   },
   "outputs": [],
   "source": [
    "train_df, val_df = load_clean_train_val_datasets(train_path, val_path)"
   ]
  },
  {
   "cell_type": "code",
   "execution_count": null,
   "id": "338960a2",
   "metadata": {},
   "outputs": [],
   "source": [
    "train_df.head()\n"
   ]
  },
  {
   "cell_type": "code",
   "execution_count": null,
   "id": "904a3ebd",
   "metadata": {},
   "outputs": [],
   "source": [
    "val_df.head()\n"
   ]
  },
  {
   "cell_type": "markdown",
   "id": "2f9d1694-829f-4bae-9fd3-56f5bb89f57d",
   "metadata": {},
   "source": [
    "### Data Preparation for LSTM Model\n",
    "\n",
    "For the LSTM model, we need to prepare the data differently than for the logistic regression baseline:\n",
    "\n",
    "1. **Text Tokenization**: Convert tweets into sequences of tokens using Gensim's `simple_preprocess`\n",
    "2. **Word2Vec Training**: Train embeddings on our tokenized corpus to capture semantic relationships\n",
    "3. **Sequence Conversion**: Transform text into numerical sequences for neural network input\n",
    "4. **Padding**: Ensure all sequences have the same length for batch processing\n",
    "5. **Target Encoding**: Convert sentiment labels to binary format (0/1) for sigmoid output\n",
    "\n",
    "This preparation enables the LSTM to understand both the sequential nature of text and the semantic meaning of individual words.\n"
   ]
  },
  {
   "cell_type": "code",
   "execution_count": null,
   "id": "6b7a1077",
   "metadata": {},
   "outputs": [],
   "source": [
    "# Extract features and targets, ensuring proper data types\n",
    "X_train = train_df['text'].astype(str)\n",
    "y_train = train_df['target'].astype(int).replace({4: 1})  # Remap 4 → 1 for binary classification\n",
    "\n",
    "X_val = val_df['text'].astype(str)\n",
    "y_val = val_df['target'].astype(int).replace({4: 1})\n",
    "\n",
    "# Display data shapes\n",
    "print(\"Train shape:\", train_df.shape)\n",
    "print(\"Validation shape:\", val_df.shape)\n",
    "print(\"X_train shape:\", X_train.shape, \"| y_train shape:\", y_train.shape)\n",
    "print(\"X_val shape:\", X_val.shape, \"| y_val shape:\", y_val.shape)\n"
   ]
  },
  {
   "cell_type": "code",
   "execution_count": null,
   "id": "31b865d0",
   "metadata": {},
   "outputs": [],
   "source": [
    "# Tokenize tweets using Gensim's simple_preprocess\n",
    "# This function handles lowercase conversion, removes punctuation, and filters short tokens\n",
    "tokenized_train = X_train.apply(simple_preprocess).tolist()\n",
    "tokenized_val = X_val.apply(simple_preprocess).tolist()\n",
    "\n",
    "print(f\"Tokenized {len(tokenized_train)} training tweets\")\n",
    "print(f\"Tokenized {len(tokenized_val)} validation tweets\")\n",
    "print(f\"Sample tokenized tweet: {tokenized_train[0][:10]}...\")  # Show first 10 tokens\n"
   ]
  },
  {
   "cell_type": "code",
   "execution_count": null,
   "id": "46vV4tVC0XcW",
   "metadata": {
    "id": "46vV4tVC0XcW"
   },
   "outputs": [],
   "source": [
    "### Word2Vec Embedding Training\n",
    "\n",
    "# Train Word2Vec model on our tokenized tweet corpus\n",
    "embedding_dim = 100  # Dimensionality of word vectors\n",
    "\n",
    "word2vec_model = Word2Vec(\n",
    "    sentences=tokenized_train,\n",
    "    vector_size=embedding_dim,\n",
    "    window=10,           # Maximum distance between current and predicted word\n",
    "    min_count=2,         # Ignore words with frequency less than this\n",
    "    sg=1,               # Use skip-gram algorithm (1) vs CBOW (0)\n",
    "    seed=42,            # For reproducibility\n",
    "    workers=10          # Number of threads for training\n",
    ")\n",
    "\n",
    "# Extract the KeyedVectors for efficient lookup\n",
    "word_vectors = word2vec_model.wv\n",
    "\n",
    "print(f\"Word2Vec model trained with {len(word_vectors)} unique words\")\n",
    "print(f\"Embedding dimension: {embedding_dim}\")\n",
    "print(f\"Sample similar words to 'good': {word_vectors.most_similar('good', topn=5) if 'good' in word_vectors else 'N/A'}\")"
   ]
  },
  {
   "cell_type": "code",
   "execution_count": null,
   "id": "m_TXVm061rnJ",
   "metadata": {
    "id": "m_TXVm061rnJ"
   },
   "outputs": [],
   "source": [
    "### Keras Tokenizer Setup\n",
    "\n",
    "# Join tokens back into space-separated strings for Keras compatibility\n",
    "tokenized_train_texts = [' '.join(tokens) for tokens in tokenized_train]\n",
    "tokenized_val_texts = [' '.join(tokens) for tokens in tokenized_val]\n",
    "\n",
    "# Initialize and fit Keras tokenizer\n",
    "# Note: We limit vocabulary to match our Word2Vec model to ensure full embedding coverage\n",
    "tokenizer = Tokenizer(num_words=len(word_vectors) + 1)\n",
    "tokenizer.fit_on_texts(tokenized_train_texts)\n",
    "\n",
    "word_index = tokenizer.word_index\n",
    "print(f\"Keras tokenizer vocabulary size: {len(word_index)}\")\n",
    "print(f\"Limited to top {tokenizer.num_words} words\")"
   ]
  },
  {
   "cell_type": "code",
   "execution_count": null,
   "id": "j_NhEY86-4aI",
   "metadata": {
    "id": "j_NhEY86-4aI"
   },
   "outputs": [],
   "source": [
    "### Building the Embedding Matrix\n",
    "\n",
    "# Create embedding matrix that maps tokenizer indices to Word2Vec vectors\n",
    "embedding_matrix = np.zeros((tokenizer.num_words, embedding_dim))\n",
    "\n",
    "words_found = 0\n",
    "for word, i in word_index.items():\n",
    "    if i >= tokenizer.num_words:\n",
    "        continue\n",
    "    if word in word_vectors:\n",
    "        embedding_matrix[i] = word_vectors[word]\n",
    "        words_found += 1\n",
    "\n",
    "coverage = words_found / tokenizer.num_words\n",
    "print(f\"Words matched in Word2Vec: {words_found}/{tokenizer.num_words}\")\n",
    "print(f\"Embedding coverage: {coverage:.2%}\")\n",
    "\n",
    "if coverage < 0.5:\n",
    "    print(\"⚠️  Warning: Low embedding coverage detected\")\n",
    "    print(\"   This may affect model performance - consider adjusting tokenizer vocabulary\")"
   ]
  },
  {
   "cell_type": "markdown",
   "id": "c291349f-e04b-43bc-99b3-fdac71643838",
   "metadata": {
    "id": "c291349f-e04b-43bc-99b3-fdac71643838"
   },
   "source": [
    "### Text Sequence Processing\n",
    "\n",
    "Now we convert our tokenized text into numerical sequences that the LSTM can process, and ensure all sequences have uniform length through padding."
   ]
  },
  {
   "cell_type": "markdown",
   "id": "164b2d45-8f4b-40cb-8728-2a50a2b8f18b",
   "metadata": {
    "id": "164b2d45-8f4b-40cb-8728-2a50a2b8f18b"
   },
   "source": [
    "# Convert text to numerical sequences\n",
    "X_train_seq = tokenizer.texts_to_sequences(tokenized_train_texts)\n",
    "X_val_seq = tokenizer.texts_to_sequences(tokenized_val_texts)\n",
    "\n",
    "# Determine maximum sequence length for padding\n",
    "max_len = max(len(seq) for seq in X_train_seq)\n",
    "print(f\"Maximum sequence length: {max_len}\")\n",
    "\n",
    "# Pad sequences to ensure uniform length\n",
    "X_train_pad = pad_sequences(X_train_seq, maxlen=max_len, padding='post')\n",
    "X_val_pad = pad_sequences(X_val_seq, maxlen=max_len, padding='post')\n",
    "\n",
    "print(f\"Training sequences shape: {X_train_pad.shape}\")\n",
    "print(f\"Validation sequences shape: {X_val_pad.shape}\")\n"
   ]
  },
  {
   "cell_type": "code",
   "execution_count": null,
   "id": "9227fd78-03f5-40a7-95cd-55f0edb67a9d",
   "metadata": {
    "id": "9227fd78-03f5-40a7-95cd-55f0edb67a9d"
   },
   "outputs": [],
   "source": [
    "# Convert targets to binary format for neural network training\n",
    "y_train_binary = np.where(y_train == 4, 1.0, 0.0).astype(np.float32)\n",
    "y_val_binary = np.where(y_val == 4, 1.0, 0.0).astype(np.float32)\n",
    "\n",
    "print(f\"Target distribution (training): {np.bincount(y_train_binary.astype(int))}\")\n",
    "print(f\"Target distribution (validation): {np.bincount(y_val_binary.astype(int))}\")"
   ]
  },
  {
   "cell_type": "markdown",
   "id": "a1346274-b814-470f-80e8-4cc0c2036c94",
   "metadata": {
    "id": "-7ThBHaM_Pju",
    "outputId": "88809c8d-812e-43f6-bdb9-cb1f0f5e2dfe"
   },
   "source": [
    "### Model Architecture Design\n",
    "\n",
    "Now we'll build our Bidirectional LSTM model with the following architecture:\n",
    "- **Embedding Layer**: Uses our pre-trained Word2Vec embeddings\n",
    "- **Bidirectional LSTM Layers**: Process sequences in both directions to capture full context\n",
    "- **Dropout Layers**: Prevent overfitting during training\n",
    "- **Dense Output Layer**: Binary classification with sigmoid activation\n",
    "\n",
    "The bidirectional approach allows the model to consider both past and future context when processing each word, leading to better understanding of sentiment patterns.\n"
   ]
  },
  {
   "cell_type": "markdown",
   "id": "febeffe2-b08e-4192-bf3a-57a952ac39e4",
   "metadata": {
    "id": "162cd974-7132-47d9-875e-3a9190660154"
   },
   "source": [
    "### Sanity Check: Small-Scale Model Test\n",
    "\n",
    "Before training on the full dataset, we'll verify our model architecture works correctly by training on a small subset. This helps identify potential issues early and ensures the model can learn from the data.\n"
   ]
  },
  {
   "cell_type": "code",
   "execution_count": null,
   "id": "2312d2f5-d02f-499c-9b10-e29d860311b2",
   "metadata": {
    "id": "2312d2f5-d02f-499c-9b10-e29d860311b2"
   },
   "outputs": [],
   "source": [
    "# Create small subset for sanity testing\n",
    "subset_size = 100\n",
    "X_small = X_train_pad[:subset_size]\n",
    "y_small = y_train_binary[:subset_size]\n",
    "\n",
    "print(f\"Sanity check on {subset_size} samples\")\n",
    "print(f\"Small dataset shape: {X_small.shape}\")\n",
    "print(f\"Small targets shape: {y_small.shape}\")\n"
   ]
  },
  {
   "cell_type": "code",
   "execution_count": null,
   "id": "a8316301-a6a8-47d7-9919-fb7ab68a10b7",
   "metadata": {
    "id": "a8316301-a6a8-47d7-9919-fb7ab68a10b7",
    "outputId": "677145a4-0b73-4324-e4f9-744449981419"
   },
   "outputs": [
    {
     "name": "stdout",
     "output_type": "stream",
     "text": [
      "Epoch 1/20\n"
     ]
    },
    {
     "name": "stderr",
     "output_type": "stream",
     "text": [
      "/courses/IE7500.202550/shared/conda_env_1/lib/python3.12/site-packages/keras/src/layers/core/embedding.py:90: UserWarning: Argument `input_length` is deprecated. Just remove it.\n",
      "  warnings.warn(\n",
      "WARNING: All log messages before absl::InitializeLog() is called are written to STDERR\n",
      "I0000 00:00:1750847147.521196  421565 service.cc:152] XLA service 0x14e7f000d0b0 initialized for platform Host (this does not guarantee that XLA will be used). Devices:\n",
      "I0000 00:00:1750847147.521239  421565 service.cc:160]   StreamExecutor device (0): Host, Default Version\n",
      "2025-06-25 06:25:47.587631: I tensorflow/compiler/mlir/tensorflow/utils/dump_mlir_util.cc:269] disabling MLIR crash reproducer, set env var `MLIR_CRASH_REPRODUCER_DIRECTORY` to enable.\n",
      "I0000 00:00:1750847148.461437  421565 device_compiler.h:188] Compiled cluster using XLA!  This line is logged at most once for the lifetime of the process.\n"
     ]
    },
    {
     "name": "stdout",
     "output_type": "stream",
     "text": [
      "10/10 - 4s - 361ms/step - accuracy: 0.5600 - loss: 0.6938\n",
      "Epoch 2/20\n",
      "10/10 - 0s - 33ms/step - accuracy: 0.6900 - loss: 0.6432\n",
      "Epoch 3/20\n",
      "10/10 - 0s - 33ms/step - accuracy: 0.7700 - loss: 0.5872\n",
      "Epoch 4/20\n",
      "10/10 - 0s - 33ms/step - accuracy: 0.7900 - loss: 0.4878\n",
      "Epoch 5/20\n",
      "10/10 - 0s - 33ms/step - accuracy: 0.8600 - loss: 0.3572\n",
      "Epoch 6/20\n",
      "10/10 - 0s - 33ms/step - accuracy: 0.9000 - loss: 0.2679\n",
      "Epoch 7/20\n",
      "10/10 - 0s - 33ms/step - accuracy: 0.9400 - loss: 0.1936\n",
      "Epoch 8/20\n",
      "10/10 - 0s - 33ms/step - accuracy: 0.9700 - loss: 0.1019\n",
      "Epoch 9/20\n",
      "10/10 - 0s - 33ms/step - accuracy: 0.9900 - loss: 0.0595\n",
      "Epoch 10/20\n",
      "10/10 - 0s - 33ms/step - accuracy: 0.9900 - loss: 0.0391\n",
      "Epoch 11/20\n",
      "10/10 - 0s - 33ms/step - accuracy: 0.9900 - loss: 0.0308\n",
      "Epoch 12/20\n",
      "10/10 - 0s - 33ms/step - accuracy: 0.9900 - loss: 0.0253\n",
      "Epoch 13/20\n",
      "10/10 - 0s - 33ms/step - accuracy: 0.9900 - loss: 0.0241\n",
      "Epoch 14/20\n",
      "10/10 - 0s - 33ms/step - accuracy: 0.9900 - loss: 0.0190\n",
      "Epoch 15/20\n",
      "10/10 - 0s - 33ms/step - accuracy: 0.9900 - loss: 0.0173\n",
      "Epoch 16/20\n",
      "10/10 - 0s - 33ms/step - accuracy: 0.9900 - loss: 0.0171\n",
      "Epoch 17/20\n",
      "10/10 - 0s - 34ms/step - accuracy: 1.0000 - loss: 0.0134\n",
      "Epoch 18/20\n",
      "10/10 - 0s - 33ms/step - accuracy: 1.0000 - loss: 0.0115\n",
      "Epoch 19/20\n",
      "10/10 - 0s - 33ms/step - accuracy: 1.0000 - loss: 0.0099\n",
      "Epoch 20/20\n",
      "10/10 - 0s - 34ms/step - accuracy: 1.0000 - loss: 0.0081\n"
     ]
    }
   ],
   "source": [
    "# Build simple LSTM model for sanity check\n",
    "sanity_model = Sequential([\n",
    "    Embedding(\n",
    "        input_dim=embedding_matrix.shape[0],\n",
    "        output_dim=embedding_matrix.shape[1],\n",
    "        weights=[embedding_matrix],\n",
    "        trainable=True,\n",
    "        name='embedding_layer'\n",
    "    ),\n",
    "    Bidirectional(LSTM(64), name='bidirectional_lstm'),\n",
    "    Dense(1, activation='sigmoid', name='output_layer')\n",
    "])\n",
    "\n",
    "# Compile the model\n",
    "sanity_model.compile(\n",
    "    loss='binary_crossentropy',\n",
    "    optimizer='adam',\n",
    "    metrics=['accuracy']\n",
    ")\n",
    "\n",
    "print(\"Sanity check model architecture:\")\n",
    "sanity_model.summary()\n",
    "\n",
    "# Train on small subset to verify learning capability\n",
    "print(\"\\\\nTraining sanity check model...\")\n",
    "sanity_history = sanity_model.fit(\n",
    "    X_small, y_small,\n",
    "    epochs=10,\n",
    "    batch_size=10,\n",
    "    verbose=1\n",
    ")\n",
    "\n",
    "# Check if model learned (accuracy should improve)\n",
    "final_acc = sanity_history.history['accuracy'][-1]\n",
    "print(f\"\\\\nSanity check result: Final accuracy = {final_acc:.3f}\")\n",
    "if final_acc > 0.7:\n",
    "    print(\"✅ Model architecture works - proceeding with full training\")\n",
    "else:\n",
    "    print(\"⚠️  Model may have issues - consider debugging before full training\")"
   ]
  },
  {
   "cell_type": "code",
   "execution_count": null,
   "id": "fabbac0f-7326-4dac-af1d-61e59fd8eff5",
   "metadata": {
    "id": "fabbac0f-7326-4dac-af1d-61e59fd8eff5",
    "outputId": "20e62e86-6165-4868-bf15-4866e938d104"
   },
   "outputs": [
    {
     "data": {
      "text/html": [
       "<pre style=\"white-space:pre;overflow-x:auto;line-height:normal;font-family:Menlo,'DejaVu Sans Mono',consolas,'Courier New',monospace\"><span style=\"font-weight: bold\">Model: \"sequential_1\"</span>\n",
       "</pre>\n"
      ],
      "text/plain": [
       "\u001b[1mModel: \"sequential_1\"\u001b[0m\n"
      ]
     },
     "metadata": {},
     "output_type": "display_data"
    },
    {
     "data": {
      "text/html": [
       "<pre style=\"white-space:pre;overflow-x:auto;line-height:normal;font-family:Menlo,'DejaVu Sans Mono',consolas,'Courier New',monospace\">┏━━━━━━━━━━━━━━━━━━━━━━━━━━━━━━━━━┳━━━━━━━━━━━━━━━━━━━━━━━━┳━━━━━━━━━━━━━━━┓\n",
       "┃<span style=\"font-weight: bold\"> Layer (type)                    </span>┃<span style=\"font-weight: bold\"> Output Shape           </span>┃<span style=\"font-weight: bold\">       Param # </span>┃\n",
       "┡━━━━━━━━━━━━━━━━━━━━━━━━━━━━━━━━━╇━━━━━━━━━━━━━━━━━━━━━━━━╇━━━━━━━━━━━━━━━┩\n",
       "│ embedding_1 (<span style=\"color: #0087ff; text-decoration-color: #0087ff\">Embedding</span>)         │ ?                      │     <span style=\"color: #00af00; text-decoration-color: #00af00\">8,201,400</span> │\n",
       "├─────────────────────────────────┼────────────────────────┼───────────────┤\n",
       "│ bidirectional_1 (<span style=\"color: #0087ff; text-decoration-color: #0087ff\">Bidirectional</span>) │ ?                      │   <span style=\"color: #00af00; text-decoration-color: #00af00\">0</span> (unbuilt) │\n",
       "├─────────────────────────────────┼────────────────────────┼───────────────┤\n",
       "│ dropout (<span style=\"color: #0087ff; text-decoration-color: #0087ff\">Dropout</span>)               │ ?                      │             <span style=\"color: #00af00; text-decoration-color: #00af00\">0</span> │\n",
       "├─────────────────────────────────┼────────────────────────┼───────────────┤\n",
       "│ bidirectional_2 (<span style=\"color: #0087ff; text-decoration-color: #0087ff\">Bidirectional</span>) │ ?                      │   <span style=\"color: #00af00; text-decoration-color: #00af00\">0</span> (unbuilt) │\n",
       "├─────────────────────────────────┼────────────────────────┼───────────────┤\n",
       "│ dropout_1 (<span style=\"color: #0087ff; text-decoration-color: #0087ff\">Dropout</span>)             │ ?                      │             <span style=\"color: #00af00; text-decoration-color: #00af00\">0</span> │\n",
       "├─────────────────────────────────┼────────────────────────┼───────────────┤\n",
       "│ dense_1 (<span style=\"color: #0087ff; text-decoration-color: #0087ff\">Dense</span>)                 │ ?                      │   <span style=\"color: #00af00; text-decoration-color: #00af00\">0</span> (unbuilt) │\n",
       "└─────────────────────────────────┴────────────────────────┴───────────────┘\n",
       "</pre>\n"
      ],
      "text/plain": [
       "┏━━━━━━━━━━━━━━━━━━━━━━━━━━━━━━━━━┳━━━━━━━━━━━━━━━━━━━━━━━━┳━━━━━━━━━━━━━━━┓\n",
       "┃\u001b[1m \u001b[0m\u001b[1mLayer (type)                   \u001b[0m\u001b[1m \u001b[0m┃\u001b[1m \u001b[0m\u001b[1mOutput Shape          \u001b[0m\u001b[1m \u001b[0m┃\u001b[1m \u001b[0m\u001b[1m      Param #\u001b[0m\u001b[1m \u001b[0m┃\n",
       "┡━━━━━━━━━━━━━━━━━━━━━━━━━━━━━━━━━╇━━━━━━━━━━━━━━━━━━━━━━━━╇━━━━━━━━━━━━━━━┩\n",
       "│ embedding_1 (\u001b[38;5;33mEmbedding\u001b[0m)         │ ?                      │     \u001b[38;5;34m8,201,400\u001b[0m │\n",
       "├─────────────────────────────────┼────────────────────────┼───────────────┤\n",
       "│ bidirectional_1 (\u001b[38;5;33mBidirectional\u001b[0m) │ ?                      │   \u001b[38;5;34m0\u001b[0m (unbuilt) │\n",
       "├─────────────────────────────────┼────────────────────────┼───────────────┤\n",
       "│ dropout (\u001b[38;5;33mDropout\u001b[0m)               │ ?                      │             \u001b[38;5;34m0\u001b[0m │\n",
       "├─────────────────────────────────┼────────────────────────┼───────────────┤\n",
       "│ bidirectional_2 (\u001b[38;5;33mBidirectional\u001b[0m) │ ?                      │   \u001b[38;5;34m0\u001b[0m (unbuilt) │\n",
       "├─────────────────────────────────┼────────────────────────┼───────────────┤\n",
       "│ dropout_1 (\u001b[38;5;33mDropout\u001b[0m)             │ ?                      │             \u001b[38;5;34m0\u001b[0m │\n",
       "├─────────────────────────────────┼────────────────────────┼───────────────┤\n",
       "│ dense_1 (\u001b[38;5;33mDense\u001b[0m)                 │ ?                      │   \u001b[38;5;34m0\u001b[0m (unbuilt) │\n",
       "└─────────────────────────────────┴────────────────────────┴───────────────┘\n"
      ]
     },
     "metadata": {},
     "output_type": "display_data"
    },
    {
     "data": {
      "text/html": [
       "<pre style=\"white-space:pre;overflow-x:auto;line-height:normal;font-family:Menlo,'DejaVu Sans Mono',consolas,'Courier New',monospace\"><span style=\"font-weight: bold\"> Total params: </span><span style=\"color: #00af00; text-decoration-color: #00af00\">8,201,400</span> (31.29 MB)\n",
       "</pre>\n"
      ],
      "text/plain": [
       "\u001b[1m Total params: \u001b[0m\u001b[38;5;34m8,201,400\u001b[0m (31.29 MB)\n"
      ]
     },
     "metadata": {},
     "output_type": "display_data"
    },
    {
     "data": {
      "text/html": [
       "<pre style=\"white-space:pre;overflow-x:auto;line-height:normal;font-family:Menlo,'DejaVu Sans Mono',consolas,'Courier New',monospace\"><span style=\"font-weight: bold\"> Trainable params: </span><span style=\"color: #00af00; text-decoration-color: #00af00\">0</span> (0.00 B)\n",
       "</pre>\n"
      ],
      "text/plain": [
       "\u001b[1m Trainable params: \u001b[0m\u001b[38;5;34m0\u001b[0m (0.00 B)\n"
      ]
     },
     "metadata": {},
     "output_type": "display_data"
    },
    {
     "data": {
      "text/html": [
       "<pre style=\"white-space:pre;overflow-x:auto;line-height:normal;font-family:Menlo,'DejaVu Sans Mono',consolas,'Courier New',monospace\"><span style=\"font-weight: bold\"> Non-trainable params: </span><span style=\"color: #00af00; text-decoration-color: #00af00\">8,201,400</span> (31.29 MB)\n",
       "</pre>\n"
      ],
      "text/plain": [
       "\u001b[1m Non-trainable params: \u001b[0m\u001b[38;5;34m8,201,400\u001b[0m (31.29 MB)\n"
      ]
     },
     "metadata": {},
     "output_type": "display_data"
    }
   ],
   "source": [
    "### Full-Scale LSTM Model Architecture\n",
    "\n",
    "# Build production LSTM model with deeper architecture\n",
    "lstm_model = Sequential([\n",
    "    # Embedding layer with pre-trained Word2Vec weights\n",
    "    Embedding(\n",
    "        input_dim=embedding_matrix.shape[0],\n",
    "        output_dim=embedding_matrix.shape[1],\n",
    "        weights=[embedding_matrix],\n",
    "        trainable=False,  # Keep Word2Vec weights frozen\n",
    "        name='word2vec_embedding'\n",
    "    ),\n",
    "    \n",
    "    # First bidirectional LSTM layer\n",
    "    Bidirectional(LSTM(128, return_sequences=True), name='lstm_layer_1'),\n",
    "    Dropout(0.3, name='dropout_1'),\n",
    "    \n",
    "    # Second bidirectional LSTM layer\n",
    "    Bidirectional(LSTM(64), name='lstm_layer_2'),\n",
    "    Dropout(0.3, name='dropout_2'),\n",
    "    \n",
    "    # Output layer for binary classification\n",
    "    Dense(1, activation='sigmoid', name='sentiment_output')\n",
    "])\n",
    "\n",
    "# Compile with Nadam optimizer for better convergence\n",
    "lstm_model.compile(\n",
    "    loss='binary_crossentropy',\n",
    "    optimizer=Nadam(learning_rate=0.001),\n",
    "    metrics=['accuracy']\n",
    ")\n",
    "\n",
    "print(\"Production LSTM Model Architecture:\")\n",
    "lstm_model.summary()\n",
    "\n",
    "# Display model parameters\n",
    "total_params = lstm_model.count_params()\n",
    "print(f\"\\\\nTotal trainable parameters: {total_params:,}\")"
   ]
  },
  {
   "cell_type": "code",
   "execution_count": null,
   "id": "34ea73bb-bc43-4933-b1ec-9856ed807ced",
   "metadata": {
    "id": "34ea73bb-bc43-4933-b1ec-9856ed807ced",
    "outputId": "8aa08fa9-b02d-4e22-cdae-07e4057a4320"
   },
   "outputs": [
    {
     "name": "stdout",
     "output_type": "stream",
     "text": [
      "Epoch 1/20\n",
      "\u001b[1m1873/1873\u001b[0m \u001b[32m━━━━━━━━━━━━━━━━━━━━\u001b[0m\u001b[37m\u001b[0m \u001b[1m1077s\u001b[0m 571ms/step - accuracy: 0.7712 - loss: 0.4744 - val_accuracy: 0.7955 - val_loss: 0.4364\n",
      "Epoch 2/20\n",
      "\u001b[1m1873/1873\u001b[0m \u001b[32m━━━━━━━━━━━━━━━━━━━━\u001b[0m\u001b[37m\u001b[0m \u001b[1m1065s\u001b[0m 568ms/step - accuracy: 0.7994 - loss: 0.4315 - val_accuracy: 0.8021 - val_loss: 0.4271\n",
      "Epoch 3/20\n",
      "\u001b[1m1873/1873\u001b[0m \u001b[32m━━━━━━━━━━━━━━━━━━━━\u001b[0m\u001b[37m\u001b[0m \u001b[1m1062s\u001b[0m 567ms/step - accuracy: 0.8059 - loss: 0.4210 - val_accuracy: 0.8069 - val_loss: 0.4185\n",
      "Epoch 4/20\n",
      "\u001b[1m1873/1873\u001b[0m \u001b[32m━━━━━━━━━━━━━━━━━━━━\u001b[0m\u001b[37m\u001b[0m \u001b[1m1062s\u001b[0m 567ms/step - accuracy: 0.8101 - loss: 0.4132 - val_accuracy: 0.8071 - val_loss: 0.4166\n",
      "Epoch 5/20\n",
      "\u001b[1m1873/1873\u001b[0m \u001b[32m━━━━━━━━━━━━━━━━━━━━\u001b[0m\u001b[37m\u001b[0m \u001b[1m1061s\u001b[0m 566ms/step - accuracy: 0.8145 - loss: 0.4050 - val_accuracy: 0.8099 - val_loss: 0.4131\n",
      "Epoch 6/20\n",
      "\u001b[1m1873/1873\u001b[0m \u001b[32m━━━━━━━━━━━━━━━━━━━━\u001b[0m\u001b[37m\u001b[0m \u001b[1m1061s\u001b[0m 566ms/step - accuracy: 0.8184 - loss: 0.3981 - val_accuracy: 0.8117 - val_loss: 0.4098\n",
      "Epoch 7/20\n",
      "\u001b[1m1873/1873\u001b[0m \u001b[32m━━━━━━━━━━━━━━━━━━━━\u001b[0m\u001b[37m\u001b[0m \u001b[1m1061s\u001b[0m 566ms/step - accuracy: 0.8224 - loss: 0.3910 - val_accuracy: 0.8116 - val_loss: 0.4101\n",
      "Epoch 8/20\n",
      "\u001b[1m1873/1873\u001b[0m \u001b[32m━━━━━━━━━━━━━━━━━━━━\u001b[0m\u001b[37m\u001b[0m \u001b[1m1061s\u001b[0m 566ms/step - accuracy: 0.8274 - loss: 0.3823 - val_accuracy: 0.8105 - val_loss: 0.4127\n"
     ]
    },
    {
     "data": {
      "image/png": "[encoded data removed]",
      "text/plain": [
       "<Figure size 640x480 with 1 Axes>"
      ]
     },
     "metadata": {},
     "output_type": "display_data"
    }
   ],
   "source": [
    "### Model Training with Early Stopping\n",
    "\n",
    "# Configure early stopping to prevent overfitting\n",
    "early_stopping = EarlyStopping(\n",
    "    monitor='val_loss',\n",
    "    patience=3,\n",
    "    restore_best_weights=True,\n",
    "    verbose=1\n",
    ")\n",
    "\n",
    "print(\"Starting LSTM model training...\")\n",
    "print(f\"Training samples: {len(X_train_pad):,}\")\n",
    "print(f\"Validation samples: {len(X_val_pad):,}\")\n",
    "\n",
    "# Train the model\n",
    "training_history = lstm_model.fit(\n",
    "    X_train_pad, y_train_binary,\n",
    "    validation_data=(X_val_pad, y_val_binary),\n",
    "    epochs=20,\n",
    "    batch_size=256,  # Reduced batch size for better convergence\n",
    "    callbacks=[early_stopping],\n",
    "    verbose=1\n",
    ")\n",
    "\n",
    "# Save the trained model\n",
    "model_path = f\"{PROJECT_ROOT}/models/lstm_sentiment_model.keras\"\n",
    "lstm_model.save(model_path)\n",
    "print(f\"\\\\nModel saved to: {model_path}\")\n",
    "\n",
    "### Training History Visualization\n",
    "\n",
    "plt.figure(figsize=(12, 4))\n",
    "\n",
    "# Plot accuracy\n",
    "plt.subplot(1, 2, 1)\n",
    "plt.plot(training_history.history['accuracy'], label='Training Accuracy', marker='o')\n",
    "plt.plot(training_history.history['val_accuracy'], label='Validation Accuracy', marker='s')\n",
    "plt.title('Model Accuracy Progress')\n",
    "plt.xlabel('Epoch')\n",
    "plt.ylabel('Accuracy')\n",
    "plt.legend()\n",
    "plt.grid(True, alpha=0.3)\n",
    "\n",
    "# Plot loss\n",
    "plt.subplot(1, 2, 2)\n",
    "plt.plot(training_history.history['loss'], label='Training Loss', marker='o')\n",
    "plt.plot(training_history.history['val_loss'], label='Validation Loss', marker='s')\n",
    "plt.title('Model Loss Progress')\n",
    "plt.xlabel('Epoch')\n",
    "plt.ylabel('Loss')\n",
    "plt.legend()\n",
    "plt.grid(True, alpha=0.3)\n",
    "\n",
    "plt.tight_layout()\n",
    "plt.show()\n",
    "\n",
    "# Training summary\n",
    "final_train_acc = training_history.history['accuracy'][-1]\n",
    "final_val_acc = training_history.history['val_accuracy'][-1]\n",
    "print(f\"\\\\nTraining Summary:\")\n",
    "print(f\"Final training accuracy: {final_train_acc:.4f}\")\n",
    "print(f\"Final validation accuracy: {final_val_acc:.4f}\")\n",
    "print(f\"Total epochs trained: {len(training_history.history['accuracy'])}\")"
   ]
  },
  {
   "cell_type": "code",
   "execution_count": null,
   "id": "GNlc4i-RAIaF",
   "metadata": {
    "id": "GNlc4i-RAIaF",
    "outputId": "59a4fd81-d8c4-42c1-c917-5dfd386d2341"
   },
   "outputs": [
    {
     "name": "stdout",
     "output_type": "stream",
     "text": [
      "\u001b[1m6270/6270\u001b[0m \u001b[32m━━━━━━━━━━━━━━━━━━━━\u001b[0m\u001b[37m\u001b[0m \u001b[1m331s\u001b[0m 53ms/step\n",
      "\n",
      "--- Validation Performance (LSTM) ---\n",
      "Accuracy:  0.8117\n",
      "Precision: 0.8151\n",
      "Recall:    0.8860\n",
      "F1 Score:  0.8491\n"
     ]
    },
    {
     "data": {
      "image/png": "[encoded data removed]",
      "text/plain": [
       "<Figure size 640x480 with 2 Axes>"
      ]
     },
     "metadata": {},
     "output_type": "display_data"
    }
   ],
   "source": [
    "### Model Evaluation and Performance Analysis\n",
    "\n",
    "# Generate predictions on validation set\n",
    "print(\"Generating predictions on validation set...\")\n",
    "y_val_pred_probs = lstm_model.predict(X_val_pad, batch_size=512, verbose=1).ravel()\n",
    "\n",
    "# Convert probabilities to binary predictions (threshold = 0.5)\n",
    "y_val_pred = (y_val_pred_probs >= 0.5).astype(int)\n",
    "\n",
    "# Compute comprehensive evaluation metrics\n",
    "accuracy = accuracy_score(y_val_binary, y_val_pred)\n",
    "precision = precision_score(y_val_binary, y_val_pred, zero_division=0)\n",
    "recall = recall_score(y_val_binary, y_val_pred, zero_division=0)\n",
    "f1 = f1_score(y_val_binary, y_val_pred, zero_division=0)\n",
    "\n",
    "# Display results\n",
    "print(\"\\\\n\" + \"=\"*50)\n",
    "print(\"    LSTM MODEL VALIDATION PERFORMANCE\")\n",
    "print(\"=\"*50)\n",
    "print(f\"Accuracy:  {accuracy:.4f}\")\n",
    "print(f\"Precision: {precision:.4f}\")\n",
    "print(f\"Recall:    {recall:.4f}\")\n",
    "print(f\"F1 Score:  {f1:.4f}\")\n",
    "print(\"=\"*50)\n",
    "\n",
    "### Confusion Matrix Visualization\n",
    "\n",
    "# Generate and display confusion matrix\n",
    "cm = confusion_matrix(y_val_binary, y_val_pred)\n",
    "plt.figure(figsize=(8, 6))\n",
    "ConfusionMatrixDisplay(\n",
    "    confusion_matrix=cm, \n",
    "    display_labels=[\"Negative\", \"Positive\"]\n",
    ").plot(cmap=\"Blues\", values_format='d')\n",
    "plt.title(\"LSTM Model - Validation Confusion Matrix\", fontsize=14, fontweight='bold')\n",
    "plt.grid(False)\n",
    "plt.tight_layout()\n",
    "plt.show()\n",
    "\n",
    "# Performance insights\n",
    "print(\"\\\\nPerformance Insights:\")\n",
    "print(f\"• Total validation samples: {len(y_val_binary):,}\")\n",
    "print(f\"• Correct predictions: {(y_val_binary == y_val_pred).sum():,}\")\n",
    "print(f\"• Incorrect predictions: {(y_val_binary != y_val_pred).sum():,}\")\n",
    "print(f\"• False positives: {cm[0, 1]:,}\")\n",
    "print(f\"• False negatives: {cm[1, 0]:,}\")"
   ]
  },
  {
   "cell_type": "markdown",
   "id": "21ac0732-fabb-4803-81a3-05ed38c2576c",
   "metadata": {},
   "source": [
    "### Error Analysis: Understanding Model Limitations\n",
    "\n",
    "Similar to our baseline analysis, examining the most confidently misclassified tweets reveals patterns in where the LSTM model struggles, providing insights into its limitations and areas for improvement.\n"
   ]
  },
  {
   "cell_type": "code",
   "execution_count": null,
   "id": "c56f38fb",
   "metadata": {},
   "outputs": [],
   "source": [
    "# TODO: Implement error analysis similar to 3a-Logistic-Regression.ipynb\n",
    "# This would include:\n",
    "# 1. Identify most confidently misclassified tweets\n",
    "# 2. Analyze patterns in prediction errors  \n",
    "# 3. Compare error types with baseline model\n",
    "# 4. Examine specific linguistic challenges for LSTM\n",
    "\n",
    "print(\"Error analysis implementation - TO BE ADDED\")\n",
    "print(\"This section will analyze:\")\n",
    "print(\"• Most confident misclassifications\")  \n",
    "print(\"• Comparison with logistic regression errors\")\n",
    "print(\"• LSTM-specific failure modes\")\n",
    "print(\"• Patterns in complex linguistic structures\")\n"
   ]
  },
  {
   "cell_type": "markdown",
   "id": "06a09a22-c2c9-45eb-a385-a0a2744b84c8",
   "metadata": {},
   "source": [
    "## Wrap-Up: Strengths and Limitations of Bidirectional LSTM\n",
    "\n",
    "Our LSTM model with Word2Vec embeddings represents a significant advancement over the TF-IDF baseline, demonstrating the power of sequence modeling and semantic embeddings for sentiment analysis.\n",
    "\n",
    "#### Strengths\n",
    "- **Context Awareness**: Captures sequential relationships and word order, essential for understanding negation and complex sentiment expressions.\n",
    "- **Semantic Understanding**: Word2Vec embeddings enable the model to understand semantic relationships between words, improving generalization.\n",
    "- **Bidirectional Processing**: Processes text in both directions, providing fuller context around each word for better sentiment interpretation.\n",
    "- **Improved Performance**: Achieves higher accuracy and F1-score compared to the logistic regression baseline.\n",
    "- **Robustness**: Less susceptible to individual keyword bias, as it considers entire sequence context.\n",
    "\n",
    "#### Limitations\n",
    "- **Computational Complexity**: Requires significantly more computational resources and training time compared to linear models.\n",
    "- **Embedding Dependence**: Performance heavily relies on the quality of Word2Vec embeddings trained on the specific domain.\n",
    "- **Memory Requirements**: Bidirectional LSTM layers and sequence processing require substantial memory, especially for long sequences.\n",
    "- **Limited Long-Range Dependencies**: While better than baseline, LSTMs can still struggle with very long-range dependencies in complex tweets.\n",
    "- **Interpretability**: More difficult to interpret than linear models - cannot easily identify which words drive specific predictions.\n",
    "\n",
    "#### Comparison with Baseline\n",
    "The LSTM model's ability to understand context and sequence makes it particularly effective for:\n",
    "- Handling negation patterns (\"not bad\" vs \"bad\")\n",
    "- Understanding sentiment modifiers (\"very good\" vs \"good\")  \n",
    "- Processing informal language with non-standard word order\n",
    "- Capturing sentiment in longer, more complex tweets\n",
    "\n",
    "This establishes LSTM as a strong intermediate model between simple baselines and state-of-the-art transformer architectures like BERT.\n"
   ]
  }
 ],
 "metadata": {
  "colab": {
   "include_colab_link": true,
   "provenance": []
  },
  "kernelspec": {
   "display_name": "Python 3 (ipykernel)",
   "language": "python",
   "name": "python3"
  },
  "language_info": {
   "codemirror_mode": {
    "name": "ipython",
    "version": 3
   },
   "file_extension": ".py",
   "mimetype": "text/x-python",
   "name": "python",
   "nbconvert_exporter": "python",
   "pygments_lexer": "ipython3",
   "version": "3.13.5"
  }
 },
 "nbformat": 4,
 "nbformat_minor": 5
}
