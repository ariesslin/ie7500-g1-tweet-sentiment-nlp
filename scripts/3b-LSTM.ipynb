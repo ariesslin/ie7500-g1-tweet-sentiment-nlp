{
 "cells": [
  {
   "cell_type": "markdown",
   "id": "1dd1178c-e6cf-42b0-aae0-ece5e69df049",
   "metadata": {},
   "source": [
    "placeholder to split model training from milestone 2"
   ]
  }
 ],
 "metadata": {
  "kernelspec": {
   "display_name": "Python 3 (ipykernel)",
   "language": "python",
   "name": "python3"
  },
  "language_info": {
   "codemirror_mode": {
    "name": "ipython",
    "version": 3
   },
   "file_extension": ".py",
   "mimetype": "text/x-python",
   "name": "python",
   "nbconvert_exporter": "python",
   "pygments_lexer": "ipython3",
   "version": "3.12.4"
  }
 },
 "nbformat": 4,
 "nbformat_minor": 5
}
