{
  "cells": [
    {
      "cell_type": "markdown",
      "id": "6f6f7be3",
      "metadata": {
        "id": "6f6f7be3"
      },
      "source": [
        "<a href=\"https://colab.research.google.com/github/ariesslin/ie7500-g1-tweet-sentiment-nlp/blob/main/scripts/3.%20Model_Development.ipynb\" target=\"_parent\"><img src=\"https://colab.research.google.com/assets/colab-badge.svg\" alt=\"Open In Colab\"/></a>"
      ]
    },
    {
      "cell_type": "markdown",
      "id": "61b2c984-64e4-49a4-afab-160dfbc2a57a",
      "metadata": {
        "id": "61b2c984-64e4-49a4-afab-160dfbc2a57a"
      },
      "source": [
        "\n",
        "<div style=\"background-color:#e6f2ff; border-left:8px solid #0059b3; padding:20px; margin:20px 0;\">\n",
        "  <h2 style=\"color:#003366;\"><strong>3b. Deep Learning Model – Bidirectional LSTM</strong></h2>\n",
        "  <p style=\"color:#333333;\">Bidirectional LSTM with Word2Vec embeddings for sequence-aware sentiment analysis.</p>\n",
        "</div>"
      ]
    },
    {
      "cell_type": "markdown",
      "id": "0fc6f233-179d-474e-9f69-a9d68f77d6c2",
      "metadata": {
        "id": "0fc6f233-179d-474e-9f69-a9d68f77d6c2"
      },
      "source": [
        "## Deep Learning Sentiment Classifier: Bidirectional LSTM with Word2Vec Embeddings\n",
        "\n",
        "This notebook implements a **deep learning model** for tweet sentiment classification using **Bidirectional LSTM** networks combined with **Word2Vec word embeddings**.\n",
        "\n",
        "### Why Bidirectional LSTM?\n",
        "\n",
        "- **Sequential Understanding**: Unlike the TF-IDF baseline, LSTMs can capture the **sequential nature** of language, understanding how words relate to each other in context.\n",
        "- **Bidirectional Processing**: By processing text both forward and backward, the model gains a more complete understanding of context around each word.\n",
        "- **Long-term Dependencies**: LSTMs excel at capturing relationships between words that are far apart in a sentence, crucial for understanding sentiment in complex tweets.\n",
        "- **Contextual Awareness**: Can handle negation, sarcasm, and other linguistic nuances that bag-of-words models miss.\n",
        "\n",
        "### Why Word2Vec Embeddings?\n",
        "\n",
        "Instead of sparse TF-IDF vectors, we use **dense Word2Vec embeddings** that capture semantic relationships between words. Words with similar meanings are positioned close to each other in the embedding space, allowing the model to generalize better to unseen vocabulary and understand semantic similarity.\n",
        "\n",
        "### What This Notebook Covers\n",
        "\n",
        "- Loads and preprocesses the training and validation datasets\n",
        "- Trains a custom Word2Vec model on the tweet corpus\n",
        "- Builds bidirectional LSTM architecture with embedding layers\n",
        "- Implements proper text tokenization and sequence padding\n",
        "- Trains the model with early stopping and performance monitoring\n",
        "- Evaluates performance using accuracy, precision, recall, F1-score, and confusion matrix\n",
        "- Provides analysis of model strengths and limitations\n",
        "\n",
        "This LSTM model represents a significant step up in complexity from our logistic regression baseline, designed to capture the nuanced, context-dependent nature of sentiment in social media text.\n"
      ]
    },
    {
      "cell_type": "code",
      "execution_count": 1,
      "id": "to08L5gzucYG",
      "metadata": {
        "colab": {
          "base_uri": "https://localhost:8080/"
        },
        "id": "to08L5gzucYG",
        "outputId": "712b7540-5902-4e72-9220-cd7da31dc4d5"
      },
      "outputs": [
        {
          "name": "stdout",
          "output_type": "stream",
          "text": [
            "Drive already mounted at /content/drive; to attempt to forcibly remount, call drive.mount(\"/content/drive\", force_remount=True).\n"
          ]
        }
      ],
      "source": [
        "# Mount Google Drive and Setup Project Environment\n",
        "from google.colab import drive\n",
        "drive.mount('/content/drive')"
      ]
    },
    {
      "cell_type": "code",
      "execution_count": 2,
      "id": "5abbe4a3",
      "metadata": {
        "id": "5abbe4a3"
      },
      "outputs": [],
      "source": [
        "PROJECT_ROOT = \"/content/drive/MyDrive/northeastern/ie7500/ie7500-g1-tweet-sentiment-nlp\""
      ]
    },
    {
      "cell_type": "code",
      "execution_count": 3,
      "id": "6c8ccaee",
      "metadata": {
        "id": "6c8ccaee"
      },
      "outputs": [],
      "source": [
        "train_path = f\"{PROJECT_ROOT}/processed_data/train_dataset.csv\"\n",
        "val_path = f\"{PROJECT_ROOT}/processed_data/val_dataset.csv\""
      ]
    },
    {
      "cell_type": "code",
      "execution_count": 4,
      "id": "db6897fd",
      "metadata": {
        "colab": {
          "base_uri": "https://localhost:8080/"
        },
        "id": "db6897fd",
        "outputId": "9366f705-9f24-4c96-e37f-2db9fc3002d0"
      },
      "outputs": [
        {
          "name": "stdout",
          "output_type": "stream",
          "text": [
            "Collecting en-core-web-lg==3.8.0 (from -r /content/drive/MyDrive/northeastern/ie7500/ie7500-g1-tweet-sentiment-nlp/requirements.txt (line 15))\n",
            "  Using cached https://github.com/explosion/spacy-models/releases/download/en_core_web_lg-3.8.0/en_core_web_lg-3.8.0-py3-none-any.whl (400.7 MB)\n",
            "Requirement already satisfied: gdown in /usr/local/lib/python3.11/dist-packages (from -r /content/drive/MyDrive/northeastern/ie7500/ie7500-g1-tweet-sentiment-nlp/requirements.txt (line 1)) (5.2.0)\n",
            "Requirement already satisfied: gensim in /usr/local/lib/python3.11/dist-packages (from -r /content/drive/MyDrive/northeastern/ie7500/ie7500-g1-tweet-sentiment-nlp/requirements.txt (line 2)) (4.3.3)\n",
            "Requirement already satisfied: ipykernel in /usr/local/lib/python3.11/dist-packages (from -r /content/drive/MyDrive/northeastern/ie7500/ie7500-g1-tweet-sentiment-nlp/requirements.txt (line 3)) (6.17.1)\n",
            "Requirement already satisfied: ipywidgets in /usr/local/lib/python3.11/dist-packages (from -r /content/drive/MyDrive/northeastern/ie7500/ie7500-g1-tweet-sentiment-nlp/requirements.txt (line 4)) (7.7.1)\n",
            "Requirement already satisfied: keras==3.8.0 in /usr/local/lib/python3.11/dist-packages (from -r /content/drive/MyDrive/northeastern/ie7500/ie7500-g1-tweet-sentiment-nlp/requirements.txt (line 5)) (3.8.0)\n",
            "Requirement already satisfied: matplotlib in /usr/local/lib/python3.11/dist-packages (from -r /content/drive/MyDrive/northeastern/ie7500/ie7500-g1-tweet-sentiment-nlp/requirements.txt (line 6)) (3.10.0)\n",
            "Requirement already satisfied: nltk in /usr/local/lib/python3.11/dist-packages (from -r /content/drive/MyDrive/northeastern/ie7500/ie7500-g1-tweet-sentiment-nlp/requirements.txt (line 7)) (3.9.1)\n",
            "Requirement already satisfied: numpy in /usr/local/lib/python3.11/dist-packages (from -r /content/drive/MyDrive/northeastern/ie7500/ie7500-g1-tweet-sentiment-nlp/requirements.txt (line 8)) (1.26.4)\n",
            "Requirement already satisfied: pandas in /usr/local/lib/python3.11/dist-packages (from -r /content/drive/MyDrive/northeastern/ie7500/ie7500-g1-tweet-sentiment-nlp/requirements.txt (line 9)) (2.2.2)\n",
            "Requirement already satisfied: scikit-learn in /usr/local/lib/python3.11/dist-packages (from -r /content/drive/MyDrive/northeastern/ie7500/ie7500-g1-tweet-sentiment-nlp/requirements.txt (line 10)) (1.6.1)\n",
            "Requirement already satisfied: seaborn in /usr/local/lib/python3.11/dist-packages (from -r /content/drive/MyDrive/northeastern/ie7500/ie7500-g1-tweet-sentiment-nlp/requirements.txt (line 11)) (0.13.2)\n",
            "Requirement already satisfied: spacy in /usr/local/lib/python3.11/dist-packages (from -r /content/drive/MyDrive/northeastern/ie7500/ie7500-g1-tweet-sentiment-nlp/requirements.txt (line 12)) (3.8.7)\n",
            "Requirement already satisfied: tensorflow in /usr/local/lib/python3.11/dist-packages (from -r /content/drive/MyDrive/northeastern/ie7500/ie7500-g1-tweet-sentiment-nlp/requirements.txt (line 13)) (2.18.0)\n",
            "Requirement already satisfied: wordcloud in /usr/local/lib/python3.11/dist-packages (from -r /content/drive/MyDrive/northeastern/ie7500/ie7500-g1-tweet-sentiment-nlp/requirements.txt (line 14)) (1.9.4)\n",
            "Requirement already satisfied: absl-py in /usr/local/lib/python3.11/dist-packages (from keras==3.8.0->-r /content/drive/MyDrive/northeastern/ie7500/ie7500-g1-tweet-sentiment-nlp/requirements.txt (line 5)) (1.4.0)\n",
            "Requirement already satisfied: rich in /usr/local/lib/python3.11/dist-packages (from keras==3.8.0->-r /content/drive/MyDrive/northeastern/ie7500/ie7500-g1-tweet-sentiment-nlp/requirements.txt (line 5)) (13.9.4)\n",
            "Requirement already satisfied: namex in /usr/local/lib/python3.11/dist-packages (from keras==3.8.0->-r /content/drive/MyDrive/northeastern/ie7500/ie7500-g1-tweet-sentiment-nlp/requirements.txt (line 5)) (0.1.0)\n",
            "Requirement already satisfied: h5py in /usr/local/lib/python3.11/dist-packages (from keras==3.8.0->-r /content/drive/MyDrive/northeastern/ie7500/ie7500-g1-tweet-sentiment-nlp/requirements.txt (line 5)) (3.14.0)\n",
            "Requirement already satisfied: optree in /usr/local/lib/python3.11/dist-packages (from keras==3.8.0->-r /content/drive/MyDrive/northeastern/ie7500/ie7500-g1-tweet-sentiment-nlp/requirements.txt (line 5)) (0.16.0)\n",
            "Requirement already satisfied: ml-dtypes in /usr/local/lib/python3.11/dist-packages (from keras==3.8.0->-r /content/drive/MyDrive/northeastern/ie7500/ie7500-g1-tweet-sentiment-nlp/requirements.txt (line 5)) (0.4.1)\n",
            "Requirement already satisfied: packaging in /usr/local/lib/python3.11/dist-packages (from keras==3.8.0->-r /content/drive/MyDrive/northeastern/ie7500/ie7500-g1-tweet-sentiment-nlp/requirements.txt (line 5)) (25.0)\n",
            "Requirement already satisfied: beautifulsoup4 in /usr/local/lib/python3.11/dist-packages (from gdown->-r /content/drive/MyDrive/northeastern/ie7500/ie7500-g1-tweet-sentiment-nlp/requirements.txt (line 1)) (4.13.4)\n",
            "Requirement already satisfied: filelock in /usr/local/lib/python3.11/dist-packages (from gdown->-r /content/drive/MyDrive/northeastern/ie7500/ie7500-g1-tweet-sentiment-nlp/requirements.txt (line 1)) (3.18.0)\n",
            "Requirement already satisfied: requests[socks] in /usr/local/lib/python3.11/dist-packages (from gdown->-r /content/drive/MyDrive/northeastern/ie7500/ie7500-g1-tweet-sentiment-nlp/requirements.txt (line 1)) (2.32.3)\n",
            "Requirement already satisfied: tqdm in /usr/local/lib/python3.11/dist-packages (from gdown->-r /content/drive/MyDrive/northeastern/ie7500/ie7500-g1-tweet-sentiment-nlp/requirements.txt (line 1)) (4.67.1)\n",
            "Requirement already satisfied: scipy<1.14.0,>=1.7.0 in /usr/local/lib/python3.11/dist-packages (from gensim->-r /content/drive/MyDrive/northeastern/ie7500/ie7500-g1-tweet-sentiment-nlp/requirements.txt (line 2)) (1.13.1)\n",
            "Requirement already satisfied: smart-open>=1.8.1 in /usr/local/lib/python3.11/dist-packages (from gensim->-r /content/drive/MyDrive/northeastern/ie7500/ie7500-g1-tweet-sentiment-nlp/requirements.txt (line 2)) (7.3.0.post1)\n",
            "Requirement already satisfied: debugpy>=1.0 in /usr/local/lib/python3.11/dist-packages (from ipykernel->-r /content/drive/MyDrive/northeastern/ie7500/ie7500-g1-tweet-sentiment-nlp/requirements.txt (line 3)) (1.8.15)\n",
            "Requirement already satisfied: ipython>=7.23.1 in /usr/local/lib/python3.11/dist-packages (from ipykernel->-r /content/drive/MyDrive/northeastern/ie7500/ie7500-g1-tweet-sentiment-nlp/requirements.txt (line 3)) (7.34.0)\n",
            "Requirement already satisfied: jupyter-client>=6.1.12 in /usr/local/lib/python3.11/dist-packages (from ipykernel->-r /content/drive/MyDrive/northeastern/ie7500/ie7500-g1-tweet-sentiment-nlp/requirements.txt (line 3)) (6.1.12)\n",
            "Requirement already satisfied: matplotlib-inline>=0.1 in /usr/local/lib/python3.11/dist-packages (from ipykernel->-r /content/drive/MyDrive/northeastern/ie7500/ie7500-g1-tweet-sentiment-nlp/requirements.txt (line 3)) (0.1.7)\n",
            "Requirement already satisfied: nest-asyncio in /usr/local/lib/python3.11/dist-packages (from ipykernel->-r /content/drive/MyDrive/northeastern/ie7500/ie7500-g1-tweet-sentiment-nlp/requirements.txt (line 3)) (1.6.0)\n",
            "Requirement already satisfied: psutil in /usr/local/lib/python3.11/dist-packages (from ipykernel->-r /content/drive/MyDrive/northeastern/ie7500/ie7500-g1-tweet-sentiment-nlp/requirements.txt (line 3)) (5.9.5)\n",
            "Requirement already satisfied: pyzmq>=17 in /usr/local/lib/python3.11/dist-packages (from ipykernel->-r /content/drive/MyDrive/northeastern/ie7500/ie7500-g1-tweet-sentiment-nlp/requirements.txt (line 3)) (24.0.1)\n",
            "Requirement already satisfied: tornado>=6.1 in /usr/local/lib/python3.11/dist-packages (from ipykernel->-r /content/drive/MyDrive/northeastern/ie7500/ie7500-g1-tweet-sentiment-nlp/requirements.txt (line 3)) (6.4.2)\n",
            "Requirement already satisfied: traitlets>=5.1.0 in /usr/local/lib/python3.11/dist-packages (from ipykernel->-r /content/drive/MyDrive/northeastern/ie7500/ie7500-g1-tweet-sentiment-nlp/requirements.txt (line 3)) (5.7.1)\n",
            "Requirement already satisfied: ipython-genutils~=0.2.0 in /usr/local/lib/python3.11/dist-packages (from ipywidgets->-r /content/drive/MyDrive/northeastern/ie7500/ie7500-g1-tweet-sentiment-nlp/requirements.txt (line 4)) (0.2.0)\n",
            "Requirement already satisfied: widgetsnbextension~=3.6.0 in /usr/local/lib/python3.11/dist-packages (from ipywidgets->-r /content/drive/MyDrive/northeastern/ie7500/ie7500-g1-tweet-sentiment-nlp/requirements.txt (line 4)) (3.6.10)\n",
            "Requirement already satisfied: jupyterlab-widgets>=1.0.0 in /usr/local/lib/python3.11/dist-packages (from ipywidgets->-r /content/drive/MyDrive/northeastern/ie7500/ie7500-g1-tweet-sentiment-nlp/requirements.txt (line 4)) (3.0.15)\n",
            "Requirement already satisfied: contourpy>=1.0.1 in /usr/local/lib/python3.11/dist-packages (from matplotlib->-r /content/drive/MyDrive/northeastern/ie7500/ie7500-g1-tweet-sentiment-nlp/requirements.txt (line 6)) (1.3.2)\n",
            "Requirement already satisfied: cycler>=0.10 in /usr/local/lib/python3.11/dist-packages (from matplotlib->-r /content/drive/MyDrive/northeastern/ie7500/ie7500-g1-tweet-sentiment-nlp/requirements.txt (line 6)) (0.12.1)\n",
            "Requirement already satisfied: fonttools>=4.22.0 in /usr/local/lib/python3.11/dist-packages (from matplotlib->-r /content/drive/MyDrive/northeastern/ie7500/ie7500-g1-tweet-sentiment-nlp/requirements.txt (line 6)) (4.59.0)\n",
            "Requirement already satisfied: kiwisolver>=1.3.1 in /usr/local/lib/python3.11/dist-packages (from matplotlib->-r /content/drive/MyDrive/northeastern/ie7500/ie7500-g1-tweet-sentiment-nlp/requirements.txt (line 6)) (1.4.8)\n",
            "Requirement already satisfied: pillow>=8 in /usr/local/lib/python3.11/dist-packages (from matplotlib->-r /content/drive/MyDrive/northeastern/ie7500/ie7500-g1-tweet-sentiment-nlp/requirements.txt (line 6)) (11.3.0)\n",
            "Requirement already satisfied: pyparsing>=2.3.1 in /usr/local/lib/python3.11/dist-packages (from matplotlib->-r /content/drive/MyDrive/northeastern/ie7500/ie7500-g1-tweet-sentiment-nlp/requirements.txt (line 6)) (3.2.3)\n",
            "Requirement already satisfied: python-dateutil>=2.7 in /usr/local/lib/python3.11/dist-packages (from matplotlib->-r /content/drive/MyDrive/northeastern/ie7500/ie7500-g1-tweet-sentiment-nlp/requirements.txt (line 6)) (2.9.0.post0)\n",
            "Requirement already satisfied: click in /usr/local/lib/python3.11/dist-packages (from nltk->-r /content/drive/MyDrive/northeastern/ie7500/ie7500-g1-tweet-sentiment-nlp/requirements.txt (line 7)) (8.2.1)\n",
            "Requirement already satisfied: joblib in /usr/local/lib/python3.11/dist-packages (from nltk->-r /content/drive/MyDrive/northeastern/ie7500/ie7500-g1-tweet-sentiment-nlp/requirements.txt (line 7)) (1.5.1)\n",
            "Requirement already satisfied: regex>=2021.8.3 in /usr/local/lib/python3.11/dist-packages (from nltk->-r /content/drive/MyDrive/northeastern/ie7500/ie7500-g1-tweet-sentiment-nlp/requirements.txt (line 7)) (2024.11.6)\n",
            "Requirement already satisfied: pytz>=2020.1 in /usr/local/lib/python3.11/dist-packages (from pandas->-r /content/drive/MyDrive/northeastern/ie7500/ie7500-g1-tweet-sentiment-nlp/requirements.txt (line 9)) (2025.2)\n",
            "Requirement already satisfied: tzdata>=2022.7 in /usr/local/lib/python3.11/dist-packages (from pandas->-r /content/drive/MyDrive/northeastern/ie7500/ie7500-g1-tweet-sentiment-nlp/requirements.txt (line 9)) (2025.2)\n",
            "Requirement already satisfied: threadpoolctl>=3.1.0 in /usr/local/lib/python3.11/dist-packages (from scikit-learn->-r /content/drive/MyDrive/northeastern/ie7500/ie7500-g1-tweet-sentiment-nlp/requirements.txt (line 10)) (3.6.0)\n",
            "Requirement already satisfied: spacy-legacy<3.1.0,>=3.0.11 in /usr/local/lib/python3.11/dist-packages (from spacy->-r /content/drive/MyDrive/northeastern/ie7500/ie7500-g1-tweet-sentiment-nlp/requirements.txt (line 12)) (3.0.12)\n",
            "Requirement already satisfied: spacy-loggers<2.0.0,>=1.0.0 in /usr/local/lib/python3.11/dist-packages (from spacy->-r /content/drive/MyDrive/northeastern/ie7500/ie7500-g1-tweet-sentiment-nlp/requirements.txt (line 12)) (1.0.5)\n",
            "Requirement already satisfied: murmurhash<1.1.0,>=0.28.0 in /usr/local/lib/python3.11/dist-packages (from spacy->-r /content/drive/MyDrive/northeastern/ie7500/ie7500-g1-tweet-sentiment-nlp/requirements.txt (line 12)) (1.0.13)\n",
            "Requirement already satisfied: cymem<2.1.0,>=2.0.2 in /usr/local/lib/python3.11/dist-packages (from spacy->-r /content/drive/MyDrive/northeastern/ie7500/ie7500-g1-tweet-sentiment-nlp/requirements.txt (line 12)) (2.0.11)\n",
            "Requirement already satisfied: preshed<3.1.0,>=3.0.2 in /usr/local/lib/python3.11/dist-packages (from spacy->-r /content/drive/MyDrive/northeastern/ie7500/ie7500-g1-tweet-sentiment-nlp/requirements.txt (line 12)) (3.0.10)\n",
            "Requirement already satisfied: thinc<8.4.0,>=8.3.4 in /usr/local/lib/python3.11/dist-packages (from spacy->-r /content/drive/MyDrive/northeastern/ie7500/ie7500-g1-tweet-sentiment-nlp/requirements.txt (line 12)) (8.3.4)\n",
            "Requirement already satisfied: wasabi<1.2.0,>=0.9.1 in /usr/local/lib/python3.11/dist-packages (from spacy->-r /content/drive/MyDrive/northeastern/ie7500/ie7500-g1-tweet-sentiment-nlp/requirements.txt (line 12)) (1.1.3)\n",
            "Requirement already satisfied: srsly<3.0.0,>=2.4.3 in /usr/local/lib/python3.11/dist-packages (from spacy->-r /content/drive/MyDrive/northeastern/ie7500/ie7500-g1-tweet-sentiment-nlp/requirements.txt (line 12)) (2.5.1)\n",
            "Requirement already satisfied: catalogue<2.1.0,>=2.0.6 in /usr/local/lib/python3.11/dist-packages (from spacy->-r /content/drive/MyDrive/northeastern/ie7500/ie7500-g1-tweet-sentiment-nlp/requirements.txt (line 12)) (2.0.10)\n",
            "Requirement already satisfied: weasel<0.5.0,>=0.1.0 in /usr/local/lib/python3.11/dist-packages (from spacy->-r /content/drive/MyDrive/northeastern/ie7500/ie7500-g1-tweet-sentiment-nlp/requirements.txt (line 12)) (0.4.1)\n",
            "Requirement already satisfied: typer<1.0.0,>=0.3.0 in /usr/local/lib/python3.11/dist-packages (from spacy->-r /content/drive/MyDrive/northeastern/ie7500/ie7500-g1-tweet-sentiment-nlp/requirements.txt (line 12)) (0.16.0)\n",
            "Requirement already satisfied: pydantic!=1.8,!=1.8.1,<3.0.0,>=1.7.4 in /usr/local/lib/python3.11/dist-packages (from spacy->-r /content/drive/MyDrive/northeastern/ie7500/ie7500-g1-tweet-sentiment-nlp/requirements.txt (line 12)) (2.11.7)\n",
            "Requirement already satisfied: jinja2 in /usr/local/lib/python3.11/dist-packages (from spacy->-r /content/drive/MyDrive/northeastern/ie7500/ie7500-g1-tweet-sentiment-nlp/requirements.txt (line 12)) (3.1.6)\n",
            "Requirement already satisfied: setuptools in /usr/local/lib/python3.11/dist-packages (from spacy->-r /content/drive/MyDrive/northeastern/ie7500/ie7500-g1-tweet-sentiment-nlp/requirements.txt (line 12)) (75.2.0)\n",
            "Requirement already satisfied: langcodes<4.0.0,>=3.2.0 in /usr/local/lib/python3.11/dist-packages (from spacy->-r /content/drive/MyDrive/northeastern/ie7500/ie7500-g1-tweet-sentiment-nlp/requirements.txt (line 12)) (3.5.0)\n",
            "Requirement already satisfied: astunparse>=1.6.0 in /usr/local/lib/python3.11/dist-packages (from tensorflow->-r /content/drive/MyDrive/northeastern/ie7500/ie7500-g1-tweet-sentiment-nlp/requirements.txt (line 13)) (1.6.3)\n",
            "Requirement already satisfied: flatbuffers>=24.3.25 in /usr/local/lib/python3.11/dist-packages (from tensorflow->-r /content/drive/MyDrive/northeastern/ie7500/ie7500-g1-tweet-sentiment-nlp/requirements.txt (line 13)) (25.2.10)\n",
            "Requirement already satisfied: gast!=0.5.0,!=0.5.1,!=0.5.2,>=0.2.1 in /usr/local/lib/python3.11/dist-packages (from tensorflow->-r /content/drive/MyDrive/northeastern/ie7500/ie7500-g1-tweet-sentiment-nlp/requirements.txt (line 13)) (0.6.0)\n",
            "Requirement already satisfied: google-pasta>=0.1.1 in /usr/local/lib/python3.11/dist-packages (from tensorflow->-r /content/drive/MyDrive/northeastern/ie7500/ie7500-g1-tweet-sentiment-nlp/requirements.txt (line 13)) (0.2.0)\n",
            "Requirement already satisfied: libclang>=13.0.0 in /usr/local/lib/python3.11/dist-packages (from tensorflow->-r /content/drive/MyDrive/northeastern/ie7500/ie7500-g1-tweet-sentiment-nlp/requirements.txt (line 13)) (18.1.1)\n",
            "Requirement already satisfied: opt-einsum>=2.3.2 in /usr/local/lib/python3.11/dist-packages (from tensorflow->-r /content/drive/MyDrive/northeastern/ie7500/ie7500-g1-tweet-sentiment-nlp/requirements.txt (line 13)) (3.4.0)\n",
            "Requirement already satisfied: protobuf!=4.21.0,!=4.21.1,!=4.21.2,!=4.21.3,!=4.21.4,!=4.21.5,<6.0.0dev,>=3.20.3 in /usr/local/lib/python3.11/dist-packages (from tensorflow->-r /content/drive/MyDrive/northeastern/ie7500/ie7500-g1-tweet-sentiment-nlp/requirements.txt (line 13)) (5.29.5)\n",
            "Requirement already satisfied: six>=1.12.0 in /usr/local/lib/python3.11/dist-packages (from tensorflow->-r /content/drive/MyDrive/northeastern/ie7500/ie7500-g1-tweet-sentiment-nlp/requirements.txt (line 13)) (1.17.0)\n",
            "Requirement already satisfied: termcolor>=1.1.0 in /usr/local/lib/python3.11/dist-packages (from tensorflow->-r /content/drive/MyDrive/northeastern/ie7500/ie7500-g1-tweet-sentiment-nlp/requirements.txt (line 13)) (3.1.0)\n",
            "Requirement already satisfied: typing-extensions>=3.6.6 in /usr/local/lib/python3.11/dist-packages (from tensorflow->-r /content/drive/MyDrive/northeastern/ie7500/ie7500-g1-tweet-sentiment-nlp/requirements.txt (line 13)) (4.14.1)\n",
            "Requirement already satisfied: wrapt>=1.11.0 in /usr/local/lib/python3.11/dist-packages (from tensorflow->-r /content/drive/MyDrive/northeastern/ie7500/ie7500-g1-tweet-sentiment-nlp/requirements.txt (line 13)) (1.17.2)\n",
            "Requirement already satisfied: grpcio<2.0,>=1.24.3 in /usr/local/lib/python3.11/dist-packages (from tensorflow->-r /content/drive/MyDrive/northeastern/ie7500/ie7500-g1-tweet-sentiment-nlp/requirements.txt (line 13)) (1.73.1)\n",
            "Requirement already satisfied: tensorboard<2.19,>=2.18 in /usr/local/lib/python3.11/dist-packages (from tensorflow->-r /content/drive/MyDrive/northeastern/ie7500/ie7500-g1-tweet-sentiment-nlp/requirements.txt (line 13)) (2.18.0)\n",
            "Requirement already satisfied: tensorflow-io-gcs-filesystem>=0.23.1 in /usr/local/lib/python3.11/dist-packages (from tensorflow->-r /content/drive/MyDrive/northeastern/ie7500/ie7500-g1-tweet-sentiment-nlp/requirements.txt (line 13)) (0.37.1)\n",
            "Requirement already satisfied: wheel<1.0,>=0.23.0 in /usr/local/lib/python3.11/dist-packages (from astunparse>=1.6.0->tensorflow->-r /content/drive/MyDrive/northeastern/ie7500/ie7500-g1-tweet-sentiment-nlp/requirements.txt (line 13)) (0.45.1)\n",
            "Requirement already satisfied: jedi>=0.16 in /usr/local/lib/python3.11/dist-packages (from ipython>=7.23.1->ipykernel->-r /content/drive/MyDrive/northeastern/ie7500/ie7500-g1-tweet-sentiment-nlp/requirements.txt (line 3)) (0.19.2)\n",
            "Requirement already satisfied: decorator in /usr/local/lib/python3.11/dist-packages (from ipython>=7.23.1->ipykernel->-r /content/drive/MyDrive/northeastern/ie7500/ie7500-g1-tweet-sentiment-nlp/requirements.txt (line 3)) (4.4.2)\n",
            "Requirement already satisfied: pickleshare in /usr/local/lib/python3.11/dist-packages (from ipython>=7.23.1->ipykernel->-r /content/drive/MyDrive/northeastern/ie7500/ie7500-g1-tweet-sentiment-nlp/requirements.txt (line 3)) (0.7.5)\n",
            "Requirement already satisfied: prompt-toolkit!=3.0.0,!=3.0.1,<3.1.0,>=2.0.0 in /usr/local/lib/python3.11/dist-packages (from ipython>=7.23.1->ipykernel->-r /content/drive/MyDrive/northeastern/ie7500/ie7500-g1-tweet-sentiment-nlp/requirements.txt (line 3)) (3.0.51)\n",
            "Requirement already satisfied: pygments in /usr/local/lib/python3.11/dist-packages (from ipython>=7.23.1->ipykernel->-r /content/drive/MyDrive/northeastern/ie7500/ie7500-g1-tweet-sentiment-nlp/requirements.txt (line 3)) (2.19.2)\n",
            "Requirement already satisfied: backcall in /usr/local/lib/python3.11/dist-packages (from ipython>=7.23.1->ipykernel->-r /content/drive/MyDrive/northeastern/ie7500/ie7500-g1-tweet-sentiment-nlp/requirements.txt (line 3)) (0.2.0)\n",
            "Requirement already satisfied: pexpect>4.3 in /usr/local/lib/python3.11/dist-packages (from ipython>=7.23.1->ipykernel->-r /content/drive/MyDrive/northeastern/ie7500/ie7500-g1-tweet-sentiment-nlp/requirements.txt (line 3)) (4.9.0)\n",
            "Requirement already satisfied: jupyter-core>=4.6.0 in /usr/local/lib/python3.11/dist-packages (from jupyter-client>=6.1.12->ipykernel->-r /content/drive/MyDrive/northeastern/ie7500/ie7500-g1-tweet-sentiment-nlp/requirements.txt (line 3)) (5.8.1)\n",
            "Requirement already satisfied: language-data>=1.2 in /usr/local/lib/python3.11/dist-packages (from langcodes<4.0.0,>=3.2.0->spacy->-r /content/drive/MyDrive/northeastern/ie7500/ie7500-g1-tweet-sentiment-nlp/requirements.txt (line 12)) (1.3.0)\n",
            "Requirement already satisfied: annotated-types>=0.6.0 in /usr/local/lib/python3.11/dist-packages (from pydantic!=1.8,!=1.8.1,<3.0.0,>=1.7.4->spacy->-r /content/drive/MyDrive/northeastern/ie7500/ie7500-g1-tweet-sentiment-nlp/requirements.txt (line 12)) (0.7.0)\n",
            "Requirement already satisfied: pydantic-core==2.33.2 in /usr/local/lib/python3.11/dist-packages (from pydantic!=1.8,!=1.8.1,<3.0.0,>=1.7.4->spacy->-r /content/drive/MyDrive/northeastern/ie7500/ie7500-g1-tweet-sentiment-nlp/requirements.txt (line 12)) (2.33.2)\n",
            "Requirement already satisfied: typing-inspection>=0.4.0 in /usr/local/lib/python3.11/dist-packages (from pydantic!=1.8,!=1.8.1,<3.0.0,>=1.7.4->spacy->-r /content/drive/MyDrive/northeastern/ie7500/ie7500-g1-tweet-sentiment-nlp/requirements.txt (line 12)) (0.4.1)\n",
            "Requirement already satisfied: charset-normalizer<4,>=2 in /usr/local/lib/python3.11/dist-packages (from requests[socks]->gdown->-r /content/drive/MyDrive/northeastern/ie7500/ie7500-g1-tweet-sentiment-nlp/requirements.txt (line 1)) (3.4.2)\n",
            "Requirement already satisfied: idna<4,>=2.5 in /usr/local/lib/python3.11/dist-packages (from requests[socks]->gdown->-r /content/drive/MyDrive/northeastern/ie7500/ie7500-g1-tweet-sentiment-nlp/requirements.txt (line 1)) (3.10)\n",
            "Requirement already satisfied: urllib3<3,>=1.21.1 in /usr/local/lib/python3.11/dist-packages (from requests[socks]->gdown->-r /content/drive/MyDrive/northeastern/ie7500/ie7500-g1-tweet-sentiment-nlp/requirements.txt (line 1)) (2.5.0)\n",
            "Requirement already satisfied: certifi>=2017.4.17 in /usr/local/lib/python3.11/dist-packages (from requests[socks]->gdown->-r /content/drive/MyDrive/northeastern/ie7500/ie7500-g1-tweet-sentiment-nlp/requirements.txt (line 1)) (2025.7.14)\n",
            "Requirement already satisfied: markdown>=2.6.8 in /usr/local/lib/python3.11/dist-packages (from tensorboard<2.19,>=2.18->tensorflow->-r /content/drive/MyDrive/northeastern/ie7500/ie7500-g1-tweet-sentiment-nlp/requirements.txt (line 13)) (3.8.2)\n",
            "Requirement already satisfied: tensorboard-data-server<0.8.0,>=0.7.0 in /usr/local/lib/python3.11/dist-packages (from tensorboard<2.19,>=2.18->tensorflow->-r /content/drive/MyDrive/northeastern/ie7500/ie7500-g1-tweet-sentiment-nlp/requirements.txt (line 13)) (0.7.2)\n",
            "Requirement already satisfied: werkzeug>=1.0.1 in /usr/local/lib/python3.11/dist-packages (from tensorboard<2.19,>=2.18->tensorflow->-r /content/drive/MyDrive/northeastern/ie7500/ie7500-g1-tweet-sentiment-nlp/requirements.txt (line 13)) (3.1.3)\n",
            "Requirement already satisfied: blis<1.3.0,>=1.2.0 in /usr/local/lib/python3.11/dist-packages (from thinc<8.4.0,>=8.3.4->spacy->-r /content/drive/MyDrive/northeastern/ie7500/ie7500-g1-tweet-sentiment-nlp/requirements.txt (line 12)) (1.2.1)\n",
            "Requirement already satisfied: confection<1.0.0,>=0.0.1 in /usr/local/lib/python3.11/dist-packages (from thinc<8.4.0,>=8.3.4->spacy->-r /content/drive/MyDrive/northeastern/ie7500/ie7500-g1-tweet-sentiment-nlp/requirements.txt (line 12)) (0.1.5)\n",
            "Requirement already satisfied: shellingham>=1.3.0 in /usr/local/lib/python3.11/dist-packages (from typer<1.0.0,>=0.3.0->spacy->-r /content/drive/MyDrive/northeastern/ie7500/ie7500-g1-tweet-sentiment-nlp/requirements.txt (line 12)) (1.5.4)\n",
            "Requirement already satisfied: markdown-it-py>=2.2.0 in /usr/local/lib/python3.11/dist-packages (from rich->keras==3.8.0->-r /content/drive/MyDrive/northeastern/ie7500/ie7500-g1-tweet-sentiment-nlp/requirements.txt (line 5)) (3.0.0)\n",
            "Requirement already satisfied: cloudpathlib<1.0.0,>=0.7.0 in /usr/local/lib/python3.11/dist-packages (from weasel<0.5.0,>=0.1.0->spacy->-r /content/drive/MyDrive/northeastern/ie7500/ie7500-g1-tweet-sentiment-nlp/requirements.txt (line 12)) (0.21.1)\n",
            "Requirement already satisfied: notebook>=4.4.1 in /usr/local/lib/python3.11/dist-packages (from widgetsnbextension~=3.6.0->ipywidgets->-r /content/drive/MyDrive/northeastern/ie7500/ie7500-g1-tweet-sentiment-nlp/requirements.txt (line 4)) (6.5.7)\n",
            "Requirement already satisfied: soupsieve>1.2 in /usr/local/lib/python3.11/dist-packages (from beautifulsoup4->gdown->-r /content/drive/MyDrive/northeastern/ie7500/ie7500-g1-tweet-sentiment-nlp/requirements.txt (line 1)) (2.7)\n",
            "Requirement already satisfied: MarkupSafe>=2.0 in /usr/local/lib/python3.11/dist-packages (from jinja2->spacy->-r /content/drive/MyDrive/northeastern/ie7500/ie7500-g1-tweet-sentiment-nlp/requirements.txt (line 12)) (3.0.2)\n",
            "Requirement already satisfied: PySocks!=1.5.7,>=1.5.6 in /usr/local/lib/python3.11/dist-packages (from requests[socks]->gdown->-r /content/drive/MyDrive/northeastern/ie7500/ie7500-g1-tweet-sentiment-nlp/requirements.txt (line 1)) (1.7.1)\n",
            "Requirement already satisfied: parso<0.9.0,>=0.8.4 in /usr/local/lib/python3.11/dist-packages (from jedi>=0.16->ipython>=7.23.1->ipykernel->-r /content/drive/MyDrive/northeastern/ie7500/ie7500-g1-tweet-sentiment-nlp/requirements.txt (line 3)) (0.8.4)\n",
            "Requirement already satisfied: platformdirs>=2.5 in /usr/local/lib/python3.11/dist-packages (from jupyter-core>=4.6.0->jupyter-client>=6.1.12->ipykernel->-r /content/drive/MyDrive/northeastern/ie7500/ie7500-g1-tweet-sentiment-nlp/requirements.txt (line 3)) (4.3.8)\n",
            "Requirement already satisfied: marisa-trie>=1.1.0 in /usr/local/lib/python3.11/dist-packages (from language-data>=1.2->langcodes<4.0.0,>=3.2.0->spacy->-r /content/drive/MyDrive/northeastern/ie7500/ie7500-g1-tweet-sentiment-nlp/requirements.txt (line 12)) (1.2.1)\n",
            "Requirement already satisfied: mdurl~=0.1 in /usr/local/lib/python3.11/dist-packages (from markdown-it-py>=2.2.0->rich->keras==3.8.0->-r /content/drive/MyDrive/northeastern/ie7500/ie7500-g1-tweet-sentiment-nlp/requirements.txt (line 5)) (0.1.2)\n",
            "Requirement already satisfied: argon2-cffi in /usr/local/lib/python3.11/dist-packages (from notebook>=4.4.1->widgetsnbextension~=3.6.0->ipywidgets->-r /content/drive/MyDrive/northeastern/ie7500/ie7500-g1-tweet-sentiment-nlp/requirements.txt (line 4)) (25.1.0)\n",
            "Requirement already satisfied: nbformat in /usr/local/lib/python3.11/dist-packages (from notebook>=4.4.1->widgetsnbextension~=3.6.0->ipywidgets->-r /content/drive/MyDrive/northeastern/ie7500/ie7500-g1-tweet-sentiment-nlp/requirements.txt (line 4)) (5.10.4)\n",
            "Requirement already satisfied: nbconvert>=5 in /usr/local/lib/python3.11/dist-packages (from notebook>=4.4.1->widgetsnbextension~=3.6.0->ipywidgets->-r /content/drive/MyDrive/northeastern/ie7500/ie7500-g1-tweet-sentiment-nlp/requirements.txt (line 4)) (7.16.6)\n",
            "Requirement already satisfied: Send2Trash>=1.8.0 in /usr/local/lib/python3.11/dist-packages (from notebook>=4.4.1->widgetsnbextension~=3.6.0->ipywidgets->-r /content/drive/MyDrive/northeastern/ie7500/ie7500-g1-tweet-sentiment-nlp/requirements.txt (line 4)) (1.8.3)\n",
            "Requirement already satisfied: terminado>=0.8.3 in /usr/local/lib/python3.11/dist-packages (from notebook>=4.4.1->widgetsnbextension~=3.6.0->ipywidgets->-r /content/drive/MyDrive/northeastern/ie7500/ie7500-g1-tweet-sentiment-nlp/requirements.txt (line 4)) (0.18.1)\n",
            "Requirement already satisfied: prometheus-client in /usr/local/lib/python3.11/dist-packages (from notebook>=4.4.1->widgetsnbextension~=3.6.0->ipywidgets->-r /content/drive/MyDrive/northeastern/ie7500/ie7500-g1-tweet-sentiment-nlp/requirements.txt (line 4)) (0.22.1)\n",
            "Requirement already satisfied: nbclassic>=0.4.7 in /usr/local/lib/python3.11/dist-packages (from notebook>=4.4.1->widgetsnbextension~=3.6.0->ipywidgets->-r /content/drive/MyDrive/northeastern/ie7500/ie7500-g1-tweet-sentiment-nlp/requirements.txt (line 4)) (1.3.1)\n",
            "Requirement already satisfied: ptyprocess>=0.5 in /usr/local/lib/python3.11/dist-packages (from pexpect>4.3->ipython>=7.23.1->ipykernel->-r /content/drive/MyDrive/northeastern/ie7500/ie7500-g1-tweet-sentiment-nlp/requirements.txt (line 3)) (0.7.0)\n",
            "Requirement already satisfied: wcwidth in /usr/local/lib/python3.11/dist-packages (from prompt-toolkit!=3.0.0,!=3.0.1,<3.1.0,>=2.0.0->ipython>=7.23.1->ipykernel->-r /content/drive/MyDrive/northeastern/ie7500/ie7500-g1-tweet-sentiment-nlp/requirements.txt (line 3)) (0.2.13)\n",
            "Requirement already satisfied: notebook-shim>=0.2.3 in /usr/local/lib/python3.11/dist-packages (from nbclassic>=0.4.7->notebook>=4.4.1->widgetsnbextension~=3.6.0->ipywidgets->-r /content/drive/MyDrive/northeastern/ie7500/ie7500-g1-tweet-sentiment-nlp/requirements.txt (line 4)) (0.2.4)\n",
            "Requirement already satisfied: bleach!=5.0.0 in /usr/local/lib/python3.11/dist-packages (from bleach[css]!=5.0.0->nbconvert>=5->notebook>=4.4.1->widgetsnbextension~=3.6.0->ipywidgets->-r /content/drive/MyDrive/northeastern/ie7500/ie7500-g1-tweet-sentiment-nlp/requirements.txt (line 4)) (6.2.0)\n",
            "Requirement already satisfied: defusedxml in /usr/local/lib/python3.11/dist-packages (from nbconvert>=5->notebook>=4.4.1->widgetsnbextension~=3.6.0->ipywidgets->-r /content/drive/MyDrive/northeastern/ie7500/ie7500-g1-tweet-sentiment-nlp/requirements.txt (line 4)) (0.7.1)\n",
            "Requirement already satisfied: jupyterlab-pygments in /usr/local/lib/python3.11/dist-packages (from nbconvert>=5->notebook>=4.4.1->widgetsnbextension~=3.6.0->ipywidgets->-r /content/drive/MyDrive/northeastern/ie7500/ie7500-g1-tweet-sentiment-nlp/requirements.txt (line 4)) (0.3.0)\n",
            "Requirement already satisfied: mistune<4,>=2.0.3 in /usr/local/lib/python3.11/dist-packages (from nbconvert>=5->notebook>=4.4.1->widgetsnbextension~=3.6.0->ipywidgets->-r /content/drive/MyDrive/northeastern/ie7500/ie7500-g1-tweet-sentiment-nlp/requirements.txt (line 4)) (3.1.3)\n",
            "Requirement already satisfied: nbclient>=0.5.0 in /usr/local/lib/python3.11/dist-packages (from nbconvert>=5->notebook>=4.4.1->widgetsnbextension~=3.6.0->ipywidgets->-r /content/drive/MyDrive/northeastern/ie7500/ie7500-g1-tweet-sentiment-nlp/requirements.txt (line 4)) (0.10.2)\n",
            "Requirement already satisfied: pandocfilters>=1.4.1 in /usr/local/lib/python3.11/dist-packages (from nbconvert>=5->notebook>=4.4.1->widgetsnbextension~=3.6.0->ipywidgets->-r /content/drive/MyDrive/northeastern/ie7500/ie7500-g1-tweet-sentiment-nlp/requirements.txt (line 4)) (1.5.1)\n",
            "Requirement already satisfied: fastjsonschema>=2.15 in /usr/local/lib/python3.11/dist-packages (from nbformat->notebook>=4.4.1->widgetsnbextension~=3.6.0->ipywidgets->-r /content/drive/MyDrive/northeastern/ie7500/ie7500-g1-tweet-sentiment-nlp/requirements.txt (line 4)) (2.21.1)\n",
            "Requirement already satisfied: jsonschema>=2.6 in /usr/local/lib/python3.11/dist-packages (from nbformat->notebook>=4.4.1->widgetsnbextension~=3.6.0->ipywidgets->-r /content/drive/MyDrive/northeastern/ie7500/ie7500-g1-tweet-sentiment-nlp/requirements.txt (line 4)) (4.25.0)\n",
            "Requirement already satisfied: argon2-cffi-bindings in /usr/local/lib/python3.11/dist-packages (from argon2-cffi->notebook>=4.4.1->widgetsnbextension~=3.6.0->ipywidgets->-r /content/drive/MyDrive/northeastern/ie7500/ie7500-g1-tweet-sentiment-nlp/requirements.txt (line 4)) (21.2.0)\n",
            "Requirement already satisfied: webencodings in /usr/local/lib/python3.11/dist-packages (from bleach!=5.0.0->bleach[css]!=5.0.0->nbconvert>=5->notebook>=4.4.1->widgetsnbextension~=3.6.0->ipywidgets->-r /content/drive/MyDrive/northeastern/ie7500/ie7500-g1-tweet-sentiment-nlp/requirements.txt (line 4)) (0.5.1)\n",
            "Requirement already satisfied: tinycss2<1.5,>=1.1.0 in /usr/local/lib/python3.11/dist-packages (from bleach[css]!=5.0.0->nbconvert>=5->notebook>=4.4.1->widgetsnbextension~=3.6.0->ipywidgets->-r /content/drive/MyDrive/northeastern/ie7500/ie7500-g1-tweet-sentiment-nlp/requirements.txt (line 4)) (1.4.0)\n",
            "Requirement already satisfied: attrs>=22.2.0 in /usr/local/lib/python3.11/dist-packages (from jsonschema>=2.6->nbformat->notebook>=4.4.1->widgetsnbextension~=3.6.0->ipywidgets->-r /content/drive/MyDrive/northeastern/ie7500/ie7500-g1-tweet-sentiment-nlp/requirements.txt (line 4)) (25.3.0)\n",
            "Requirement already satisfied: jsonschema-specifications>=2023.03.6 in /usr/local/lib/python3.11/dist-packages (from jsonschema>=2.6->nbformat->notebook>=4.4.1->widgetsnbextension~=3.6.0->ipywidgets->-r /content/drive/MyDrive/northeastern/ie7500/ie7500-g1-tweet-sentiment-nlp/requirements.txt (line 4)) (2025.4.1)\n",
            "Requirement already satisfied: referencing>=0.28.4 in /usr/local/lib/python3.11/dist-packages (from jsonschema>=2.6->nbformat->notebook>=4.4.1->widgetsnbextension~=3.6.0->ipywidgets->-r /content/drive/MyDrive/northeastern/ie7500/ie7500-g1-tweet-sentiment-nlp/requirements.txt (line 4)) (0.36.2)\n",
            "Requirement already satisfied: rpds-py>=0.7.1 in /usr/local/lib/python3.11/dist-packages (from jsonschema>=2.6->nbformat->notebook>=4.4.1->widgetsnbextension~=3.6.0->ipywidgets->-r /content/drive/MyDrive/northeastern/ie7500/ie7500-g1-tweet-sentiment-nlp/requirements.txt (line 4)) (0.26.0)\n",
            "Requirement already satisfied: jupyter-server<3,>=1.8 in /usr/local/lib/python3.11/dist-packages (from notebook-shim>=0.2.3->nbclassic>=0.4.7->notebook>=4.4.1->widgetsnbextension~=3.6.0->ipywidgets->-r /content/drive/MyDrive/northeastern/ie7500/ie7500-g1-tweet-sentiment-nlp/requirements.txt (line 4)) (1.16.0)\n",
            "Requirement already satisfied: cffi>=1.0.1 in /usr/local/lib/python3.11/dist-packages (from argon2-cffi-bindings->argon2-cffi->notebook>=4.4.1->widgetsnbextension~=3.6.0->ipywidgets->-r /content/drive/MyDrive/northeastern/ie7500/ie7500-g1-tweet-sentiment-nlp/requirements.txt (line 4)) (1.17.1)\n",
            "Requirement already satisfied: pycparser in /usr/local/lib/python3.11/dist-packages (from cffi>=1.0.1->argon2-cffi-bindings->argon2-cffi->notebook>=4.4.1->widgetsnbextension~=3.6.0->ipywidgets->-r /content/drive/MyDrive/northeastern/ie7500/ie7500-g1-tweet-sentiment-nlp/requirements.txt (line 4)) (2.22)\n",
            "Requirement already satisfied: anyio>=3.1.0 in /usr/local/lib/python3.11/dist-packages (from jupyter-server<3,>=1.8->notebook-shim>=0.2.3->nbclassic>=0.4.7->notebook>=4.4.1->widgetsnbextension~=3.6.0->ipywidgets->-r /content/drive/MyDrive/northeastern/ie7500/ie7500-g1-tweet-sentiment-nlp/requirements.txt (line 4)) (4.9.0)\n",
            "Requirement already satisfied: websocket-client in /usr/local/lib/python3.11/dist-packages (from jupyter-server<3,>=1.8->notebook-shim>=0.2.3->nbclassic>=0.4.7->notebook>=4.4.1->widgetsnbextension~=3.6.0->ipywidgets->-r /content/drive/MyDrive/northeastern/ie7500/ie7500-g1-tweet-sentiment-nlp/requirements.txt (line 4)) (1.8.0)\n",
            "Requirement already satisfied: sniffio>=1.1 in /usr/local/lib/python3.11/dist-packages (from anyio>=3.1.0->jupyter-server<3,>=1.8->notebook-shim>=0.2.3->nbclassic>=0.4.7->notebook>=4.4.1->widgetsnbextension~=3.6.0->ipywidgets->-r /content/drive/MyDrive/northeastern/ie7500/ie7500-g1-tweet-sentiment-nlp/requirements.txt (line 4)) (1.3.1)\n"
          ]
        }
      ],
      "source": [
        "import sys\n",
        "!{sys.executable} -m pip install -r \"{PROJECT_ROOT}/requirements.txt\""
      ]
    },
    {
      "cell_type": "code",
      "execution_count": 5,
      "id": "BQDuL0iGzX7x",
      "metadata": {
        "id": "BQDuL0iGzX7x"
      },
      "outputs": [],
      "source": [
        "# Import required libraries for LSTM model development\n",
        "import numpy as np\n",
        "import pandas as pd\n",
        "import matplotlib.pyplot as plt\n",
        "\n",
        "# Gensim for Word2Vec embeddings and text preprocessing\n",
        "from gensim.models import Word2Vec\n",
        "\n",
        "# TensorFlow/Keras for deep learning\n",
        "import tensorflow as tf\n",
        "from tensorflow.keras.preprocessing.text import Tokenizer\n",
        "from tensorflow.keras.preprocessing.sequence import pad_sequences\n",
        "from tensorflow.keras.models import Sequential\n",
        "from tensorflow.keras.layers import Embedding, Bidirectional, LSTM, Dense, Dropout\n",
        "from tensorflow.keras.callbacks import EarlyStopping\n",
        "from tensorflow.keras.optimizers import Nadam\n",
        "\n",
        "# Scikit-learn for evaluation metrics\n",
        "from sklearn.metrics import (\n",
        "    accuracy_score, precision_score, recall_score, f1_score,\n",
        "    confusion_matrix, ConfusionMatrixDisplay\n",
        ")\n",
        "\n",
        "# Project utilities\n",
        "sys.path.append(f\"{PROJECT_ROOT}/utils\")\n",
        "from helper import load_clean_train_val_datasets"
      ]
    },
    {
      "cell_type": "code",
      "execution_count": 6,
      "id": "VszvLfpt5oKo",
      "metadata": {
        "id": "VszvLfpt5oKo"
      },
      "outputs": [],
      "source": [
        "train_df, val_df = load_clean_train_val_datasets(train_path, val_path)"
      ]
    },
    {
      "cell_type": "code",
      "execution_count": 7,
      "id": "338960a2",
      "metadata": {
        "colab": {
          "base_uri": "https://localhost:8080/",
          "height": 206
        },
        "id": "338960a2",
        "outputId": "7d24522b-c04a-4025-f7fa-29a0e4a6d390"
      },
      "outputs": [
        {
          "data": {
            "application/vnd.google.colaboratory.intrinsic+json": {
              "type": "dataframe",
              "variable_name": "train_df"
            },
            "text/html": [
              "\n",
              "  <div id=\"df-9c499842-90a3-4bd6-ab20-d814681b12ed\" class=\"colab-df-container\">\n",
              "    <div>\n",
              "<style scoped>\n",
              "    .dataframe tbody tr th:only-of-type {\n",
              "        vertical-align: middle;\n",
              "    }\n",
              "\n",
              "    .dataframe tbody tr th {\n",
              "        vertical-align: top;\n",
              "    }\n",
              "\n",
              "    .dataframe thead th {\n",
              "        text-align: right;\n",
              "    }\n",
              "</style>\n",
              "<table border=\"1\" class=\"dataframe\">\n",
              "  <thead>\n",
              "    <tr style=\"text-align: right;\">\n",
              "      <th></th>\n",
              "      <th>text</th>\n",
              "      <th>target</th>\n",
              "    </tr>\n",
              "  </thead>\n",
              "  <tbody>\n",
              "    <tr>\n",
              "      <th>0</th>\n",
              "      <td>doesnt know hahahahahaha hi world twitter</td>\n",
              "      <td>4</td>\n",
              "    </tr>\n",
              "    <tr>\n",
              "      <th>1</th>\n",
              "      <td>gahh im hungryy shouldve something teadinner s...</td>\n",
              "      <td>0</td>\n",
              "    </tr>\n",
              "    <tr>\n",
              "      <th>2</th>\n",
              "      <td>last day</td>\n",
              "      <td>0</td>\n",
              "    </tr>\n",
              "    <tr>\n",
              "      <th>3</th>\n",
              "      <td>sunburn forget put sunblock shnatzi</td>\n",
              "      <td>0</td>\n",
              "    </tr>\n",
              "    <tr>\n",
              "      <th>4</th>\n",
              "      <td>usermention want go home contact hurt</td>\n",
              "      <td>0</td>\n",
              "    </tr>\n",
              "  </tbody>\n",
              "</table>\n",
              "</div>\n",
              "    <div class=\"colab-df-buttons\">\n",
              "\n",
              "  <div class=\"colab-df-container\">\n",
              "    <button class=\"colab-df-convert\" onclick=\"convertToInteractive('df-9c499842-90a3-4bd6-ab20-d814681b12ed')\"\n",
              "            title=\"Convert this dataframe to an interactive table.\"\n",
              "            style=\"display:none;\">\n",
              "\n",
              "  <svg xmlns=\"http://www.w3.org/2000/svg\" height=\"24px\" viewBox=\"0 -960 960 960\">\n",
              "    <path d=\"M120-120v-720h720v720H120Zm60-500h600v-160H180v160Zm220 220h160v-160H400v160Zm0 220h160v-160H400v160ZM180-400h160v-160H180v160Zm440 0h160v-160H620v160ZM180-180h160v-160H180v160Zm440 0h160v-160H620v160Z\"/>\n",
              "  </svg>\n",
              "    </button>\n",
              "\n",
              "  <style>\n",
              "    .colab-df-container {\n",
              "      display:flex;\n",
              "      gap: 12px;\n",
              "    }\n",
              "\n",
              "    .colab-df-convert {\n",
              "      background-color: #E8F0FE;\n",
              "      border: none;\n",
              "      border-radius: 50%;\n",
              "      cursor: pointer;\n",
              "      display: none;\n",
              "      fill: #1967D2;\n",
              "      height: 32px;\n",
              "      padding: 0 0 0 0;\n",
              "      width: 32px;\n",
              "    }\n",
              "\n",
              "    .colab-df-convert:hover {\n",
              "      background-color: #E2EBFA;\n",
              "      box-shadow: 0px 1px 2px rgba(60, 64, 67, 0.3), 0px 1px 3px 1px rgba(60, 64, 67, 0.15);\n",
              "      fill: #174EA6;\n",
              "    }\n",
              "\n",
              "    .colab-df-buttons div {\n",
              "      margin-bottom: 4px;\n",
              "    }\n",
              "\n",
              "    [theme=dark] .colab-df-convert {\n",
              "      background-color: #3B4455;\n",
              "      fill: #D2E3FC;\n",
              "    }\n",
              "\n",
              "    [theme=dark] .colab-df-convert:hover {\n",
              "      background-color: #434B5C;\n",
              "      box-shadow: 0px 1px 3px 1px rgba(0, 0, 0, 0.15);\n",
              "      filter: drop-shadow(0px 1px 2px rgba(0, 0, 0, 0.3));\n",
              "      fill: #FFFFFF;\n",
              "    }\n",
              "  </style>\n",
              "\n",
              "    <script>\n",
              "      const buttonEl =\n",
              "        document.querySelector('#df-9c499842-90a3-4bd6-ab20-d814681b12ed button.colab-df-convert');\n",
              "      buttonEl.style.display =\n",
              "        google.colab.kernel.accessAllowed ? 'block' : 'none';\n",
              "\n",
              "      async function convertToInteractive(key) {\n",
              "        const element = document.querySelector('#df-9c499842-90a3-4bd6-ab20-d814681b12ed');\n",
              "        const dataTable =\n",
              "          await google.colab.kernel.invokeFunction('convertToInteractive',\n",
              "                                                    [key], {});\n",
              "        if (!dataTable) return;\n",
              "\n",
              "        const docLinkHtml = 'Like what you see? Visit the ' +\n",
              "          '<a target=\"_blank\" href=https://colab.research.google.com/notebooks/data_table.ipynb>data table notebook</a>'\n",
              "          + ' to learn more about interactive tables.';\n",
              "        element.innerHTML = '';\n",
              "        dataTable['output_type'] = 'display_data';\n",
              "        await google.colab.output.renderOutput(dataTable, element);\n",
              "        const docLink = document.createElement('div');\n",
              "        docLink.innerHTML = docLinkHtml;\n",
              "        element.appendChild(docLink);\n",
              "      }\n",
              "    </script>\n",
              "  </div>\n",
              "\n",
              "\n",
              "    <div id=\"df-201bea97-a6ef-4b9d-874a-f607ccadba1d\">\n",
              "      <button class=\"colab-df-quickchart\" onclick=\"quickchart('df-201bea97-a6ef-4b9d-874a-f607ccadba1d')\"\n",
              "                title=\"Suggest charts\"\n",
              "                style=\"display:none;\">\n",
              "\n",
              "<svg xmlns=\"http://www.w3.org/2000/svg\" height=\"24px\"viewBox=\"0 0 24 24\"\n",
              "     width=\"24px\">\n",
              "    <g>\n",
              "        <path d=\"M19 3H5c-1.1 0-2 .9-2 2v14c0 1.1.9 2 2 2h14c1.1 0 2-.9 2-2V5c0-1.1-.9-2-2-2zM9 17H7v-7h2v7zm4 0h-2V7h2v10zm4 0h-2v-4h2v4z\"/>\n",
              "    </g>\n",
              "</svg>\n",
              "      </button>\n",
              "\n",
              "<style>\n",
              "  .colab-df-quickchart {\n",
              "      --bg-color: #E8F0FE;\n",
              "      --fill-color: #1967D2;\n",
              "      --hover-bg-color: #E2EBFA;\n",
              "      --hover-fill-color: #174EA6;\n",
              "      --disabled-fill-color: #AAA;\n",
              "      --disabled-bg-color: #DDD;\n",
              "  }\n",
              "\n",
              "  [theme=dark] .colab-df-quickchart {\n",
              "      --bg-color: #3B4455;\n",
              "      --fill-color: #D2E3FC;\n",
              "      --hover-bg-color: #434B5C;\n",
              "      --hover-fill-color: #FFFFFF;\n",
              "      --disabled-bg-color: #3B4455;\n",
              "      --disabled-fill-color: #666;\n",
              "  }\n",
              "\n",
              "  .colab-df-quickchart {\n",
              "    background-color: var(--bg-color);\n",
              "    border: none;\n",
              "    border-radius: 50%;\n",
              "    cursor: pointer;\n",
              "    display: none;\n",
              "    fill: var(--fill-color);\n",
              "    height: 32px;\n",
              "    padding: 0;\n",
              "    width: 32px;\n",
              "  }\n",
              "\n",
              "  .colab-df-quickchart:hover {\n",
              "    background-color: var(--hover-bg-color);\n",
              "    box-shadow: 0 1px 2px rgba(60, 64, 67, 0.3), 0 1px 3px 1px rgba(60, 64, 67, 0.15);\n",
              "    fill: var(--button-hover-fill-color);\n",
              "  }\n",
              "\n",
              "  .colab-df-quickchart-complete:disabled,\n",
              "  .colab-df-quickchart-complete:disabled:hover {\n",
              "    background-color: var(--disabled-bg-color);\n",
              "    fill: var(--disabled-fill-color);\n",
              "    box-shadow: none;\n",
              "  }\n",
              "\n",
              "  .colab-df-spinner {\n",
              "    border: 2px solid var(--fill-color);\n",
              "    border-color: transparent;\n",
              "    border-bottom-color: var(--fill-color);\n",
              "    animation:\n",
              "      spin 1s steps(1) infinite;\n",
              "  }\n",
              "\n",
              "  @keyframes spin {\n",
              "    0% {\n",
              "      border-color: transparent;\n",
              "      border-bottom-color: var(--fill-color);\n",
              "      border-left-color: var(--fill-color);\n",
              "    }\n",
              "    20% {\n",
              "      border-color: transparent;\n",
              "      border-left-color: var(--fill-color);\n",
              "      border-top-color: var(--fill-color);\n",
              "    }\n",
              "    30% {\n",
              "      border-color: transparent;\n",
              "      border-left-color: var(--fill-color);\n",
              "      border-top-color: var(--fill-color);\n",
              "      border-right-color: var(--fill-color);\n",
              "    }\n",
              "    40% {\n",
              "      border-color: transparent;\n",
              "      border-right-color: var(--fill-color);\n",
              "      border-top-color: var(--fill-color);\n",
              "    }\n",
              "    60% {\n",
              "      border-color: transparent;\n",
              "      border-right-color: var(--fill-color);\n",
              "    }\n",
              "    80% {\n",
              "      border-color: transparent;\n",
              "      border-right-color: var(--fill-color);\n",
              "      border-bottom-color: var(--fill-color);\n",
              "    }\n",
              "    90% {\n",
              "      border-color: transparent;\n",
              "      border-bottom-color: var(--fill-color);\n",
              "    }\n",
              "  }\n",
              "</style>\n",
              "\n",
              "      <script>\n",
              "        async function quickchart(key) {\n",
              "          const quickchartButtonEl =\n",
              "            document.querySelector('#' + key + ' button');\n",
              "          quickchartButtonEl.disabled = true;  // To prevent multiple clicks.\n",
              "          quickchartButtonEl.classList.add('colab-df-spinner');\n",
              "          try {\n",
              "            const charts = await google.colab.kernel.invokeFunction(\n",
              "                'suggestCharts', [key], {});\n",
              "          } catch (error) {\n",
              "            console.error('Error during call to suggestCharts:', error);\n",
              "          }\n",
              "          quickchartButtonEl.classList.remove('colab-df-spinner');\n",
              "          quickchartButtonEl.classList.add('colab-df-quickchart-complete');\n",
              "        }\n",
              "        (() => {\n",
              "          let quickchartButtonEl =\n",
              "            document.querySelector('#df-201bea97-a6ef-4b9d-874a-f607ccadba1d button');\n",
              "          quickchartButtonEl.style.display =\n",
              "            google.colab.kernel.accessAllowed ? 'block' : 'none';\n",
              "        })();\n",
              "      </script>\n",
              "    </div>\n",
              "\n",
              "    </div>\n",
              "  </div>\n"
            ],
            "text/plain": [
              "                                                text  target\n",
              "0          doesnt know hahahahahaha hi world twitter       4\n",
              "1  gahh im hungryy shouldve something teadinner s...       0\n",
              "2                                           last day       0\n",
              "3                sunburn forget put sunblock shnatzi       0\n",
              "4              usermention want go home contact hurt       0"
            ]
          },
          "execution_count": 7,
          "metadata": {},
          "output_type": "execute_result"
        }
      ],
      "source": [
        "train_df.head()"
      ]
    },
    {
      "cell_type": "code",
      "execution_count": 8,
      "id": "904a3ebd",
      "metadata": {
        "colab": {
          "base_uri": "https://localhost:8080/",
          "height": 206
        },
        "id": "904a3ebd",
        "outputId": "c69ef36e-ad2f-4074-f31d-69ccf4171c44"
      },
      "outputs": [
        {
          "data": {
            "application/vnd.google.colaboratory.intrinsic+json": {
              "type": "dataframe",
              "variable_name": "val_df"
            },
            "text/html": [
              "\n",
              "  <div id=\"df-d359d213-5b6b-451b-8e5c-ec771b22e1f3\" class=\"colab-df-container\">\n",
              "    <div>\n",
              "<style scoped>\n",
              "    .dataframe tbody tr th:only-of-type {\n",
              "        vertical-align: middle;\n",
              "    }\n",
              "\n",
              "    .dataframe tbody tr th {\n",
              "        vertical-align: top;\n",
              "    }\n",
              "\n",
              "    .dataframe thead th {\n",
              "        text-align: right;\n",
              "    }\n",
              "</style>\n",
              "<table border=\"1\" class=\"dataframe\">\n",
              "  <thead>\n",
              "    <tr style=\"text-align: right;\">\n",
              "      <th></th>\n",
              "      <th>text</th>\n",
              "      <th>target</th>\n",
              "    </tr>\n",
              "  </thead>\n",
              "  <tbody>\n",
              "    <tr>\n",
              "      <th>0</th>\n",
              "      <td>lng fn day mah head killin im tire den bih bt ...</td>\n",
              "      <td>0</td>\n",
              "    </tr>\n",
              "    <tr>\n",
              "      <th>1</th>\n",
              "      <td>usermention nah manthat fit lmao run mix oh ma...</td>\n",
              "      <td>4</td>\n",
              "    </tr>\n",
              "    <tr>\n",
              "      <th>2</th>\n",
              "      <td>usermention kno right thermostat war almost al...</td>\n",
              "      <td>0</td>\n",
              "    </tr>\n",
              "    <tr>\n",
              "      <th>3</th>\n",
              "      <td>usermention awww well dont worry youre miss mu...</td>\n",
              "      <td>0</td>\n",
              "    </tr>\n",
              "    <tr>\n",
              "      <th>4</th>\n",
              "      <td>use little girls room soo bad soon leave bos c...</td>\n",
              "      <td>0</td>\n",
              "    </tr>\n",
              "  </tbody>\n",
              "</table>\n",
              "</div>\n",
              "    <div class=\"colab-df-buttons\">\n",
              "\n",
              "  <div class=\"colab-df-container\">\n",
              "    <button class=\"colab-df-convert\" onclick=\"convertToInteractive('df-d359d213-5b6b-451b-8e5c-ec771b22e1f3')\"\n",
              "            title=\"Convert this dataframe to an interactive table.\"\n",
              "            style=\"display:none;\">\n",
              "\n",
              "  <svg xmlns=\"http://www.w3.org/2000/svg\" height=\"24px\" viewBox=\"0 -960 960 960\">\n",
              "    <path d=\"M120-120v-720h720v720H120Zm60-500h600v-160H180v160Zm220 220h160v-160H400v160Zm0 220h160v-160H400v160ZM180-400h160v-160H180v160Zm440 0h160v-160H620v160ZM180-180h160v-160H180v160Zm440 0h160v-160H620v160Z\"/>\n",
              "  </svg>\n",
              "    </button>\n",
              "\n",
              "  <style>\n",
              "    .colab-df-container {\n",
              "      display:flex;\n",
              "      gap: 12px;\n",
              "    }\n",
              "\n",
              "    .colab-df-convert {\n",
              "      background-color: #E8F0FE;\n",
              "      border: none;\n",
              "      border-radius: 50%;\n",
              "      cursor: pointer;\n",
              "      display: none;\n",
              "      fill: #1967D2;\n",
              "      height: 32px;\n",
              "      padding: 0 0 0 0;\n",
              "      width: 32px;\n",
              "    }\n",
              "\n",
              "    .colab-df-convert:hover {\n",
              "      background-color: #E2EBFA;\n",
              "      box-shadow: 0px 1px 2px rgba(60, 64, 67, 0.3), 0px 1px 3px 1px rgba(60, 64, 67, 0.15);\n",
              "      fill: #174EA6;\n",
              "    }\n",
              "\n",
              "    .colab-df-buttons div {\n",
              "      margin-bottom: 4px;\n",
              "    }\n",
              "\n",
              "    [theme=dark] .colab-df-convert {\n",
              "      background-color: #3B4455;\n",
              "      fill: #D2E3FC;\n",
              "    }\n",
              "\n",
              "    [theme=dark] .colab-df-convert:hover {\n",
              "      background-color: #434B5C;\n",
              "      box-shadow: 0px 1px 3px 1px rgba(0, 0, 0, 0.15);\n",
              "      filter: drop-shadow(0px 1px 2px rgba(0, 0, 0, 0.3));\n",
              "      fill: #FFFFFF;\n",
              "    }\n",
              "  </style>\n",
              "\n",
              "    <script>\n",
              "      const buttonEl =\n",
              "        document.querySelector('#df-d359d213-5b6b-451b-8e5c-ec771b22e1f3 button.colab-df-convert');\n",
              "      buttonEl.style.display =\n",
              "        google.colab.kernel.accessAllowed ? 'block' : 'none';\n",
              "\n",
              "      async function convertToInteractive(key) {\n",
              "        const element = document.querySelector('#df-d359d213-5b6b-451b-8e5c-ec771b22e1f3');\n",
              "        const dataTable =\n",
              "          await google.colab.kernel.invokeFunction('convertToInteractive',\n",
              "                                                    [key], {});\n",
              "        if (!dataTable) return;\n",
              "\n",
              "        const docLinkHtml = 'Like what you see? Visit the ' +\n",
              "          '<a target=\"_blank\" href=https://colab.research.google.com/notebooks/data_table.ipynb>data table notebook</a>'\n",
              "          + ' to learn more about interactive tables.';\n",
              "        element.innerHTML = '';\n",
              "        dataTable['output_type'] = 'display_data';\n",
              "        await google.colab.output.renderOutput(dataTable, element);\n",
              "        const docLink = document.createElement('div');\n",
              "        docLink.innerHTML = docLinkHtml;\n",
              "        element.appendChild(docLink);\n",
              "      }\n",
              "    </script>\n",
              "  </div>\n",
              "\n",
              "\n",
              "    <div id=\"df-61fe27fc-83cb-44cf-abfb-84339614b145\">\n",
              "      <button class=\"colab-df-quickchart\" onclick=\"quickchart('df-61fe27fc-83cb-44cf-abfb-84339614b145')\"\n",
              "                title=\"Suggest charts\"\n",
              "                style=\"display:none;\">\n",
              "\n",
              "<svg xmlns=\"http://www.w3.org/2000/svg\" height=\"24px\"viewBox=\"0 0 24 24\"\n",
              "     width=\"24px\">\n",
              "    <g>\n",
              "        <path d=\"M19 3H5c-1.1 0-2 .9-2 2v14c0 1.1.9 2 2 2h14c1.1 0 2-.9 2-2V5c0-1.1-.9-2-2-2zM9 17H7v-7h2v7zm4 0h-2V7h2v10zm4 0h-2v-4h2v4z\"/>\n",
              "    </g>\n",
              "</svg>\n",
              "      </button>\n",
              "\n",
              "<style>\n",
              "  .colab-df-quickchart {\n",
              "      --bg-color: #E8F0FE;\n",
              "      --fill-color: #1967D2;\n",
              "      --hover-bg-color: #E2EBFA;\n",
              "      --hover-fill-color: #174EA6;\n",
              "      --disabled-fill-color: #AAA;\n",
              "      --disabled-bg-color: #DDD;\n",
              "  }\n",
              "\n",
              "  [theme=dark] .colab-df-quickchart {\n",
              "      --bg-color: #3B4455;\n",
              "      --fill-color: #D2E3FC;\n",
              "      --hover-bg-color: #434B5C;\n",
              "      --hover-fill-color: #FFFFFF;\n",
              "      --disabled-bg-color: #3B4455;\n",
              "      --disabled-fill-color: #666;\n",
              "  }\n",
              "\n",
              "  .colab-df-quickchart {\n",
              "    background-color: var(--bg-color);\n",
              "    border: none;\n",
              "    border-radius: 50%;\n",
              "    cursor: pointer;\n",
              "    display: none;\n",
              "    fill: var(--fill-color);\n",
              "    height: 32px;\n",
              "    padding: 0;\n",
              "    width: 32px;\n",
              "  }\n",
              "\n",
              "  .colab-df-quickchart:hover {\n",
              "    background-color: var(--hover-bg-color);\n",
              "    box-shadow: 0 1px 2px rgba(60, 64, 67, 0.3), 0 1px 3px 1px rgba(60, 64, 67, 0.15);\n",
              "    fill: var(--button-hover-fill-color);\n",
              "  }\n",
              "\n",
              "  .colab-df-quickchart-complete:disabled,\n",
              "  .colab-df-quickchart-complete:disabled:hover {\n",
              "    background-color: var(--disabled-bg-color);\n",
              "    fill: var(--disabled-fill-color);\n",
              "    box-shadow: none;\n",
              "  }\n",
              "\n",
              "  .colab-df-spinner {\n",
              "    border: 2px solid var(--fill-color);\n",
              "    border-color: transparent;\n",
              "    border-bottom-color: var(--fill-color);\n",
              "    animation:\n",
              "      spin 1s steps(1) infinite;\n",
              "  }\n",
              "\n",
              "  @keyframes spin {\n",
              "    0% {\n",
              "      border-color: transparent;\n",
              "      border-bottom-color: var(--fill-color);\n",
              "      border-left-color: var(--fill-color);\n",
              "    }\n",
              "    20% {\n",
              "      border-color: transparent;\n",
              "      border-left-color: var(--fill-color);\n",
              "      border-top-color: var(--fill-color);\n",
              "    }\n",
              "    30% {\n",
              "      border-color: transparent;\n",
              "      border-left-color: var(--fill-color);\n",
              "      border-top-color: var(--fill-color);\n",
              "      border-right-color: var(--fill-color);\n",
              "    }\n",
              "    40% {\n",
              "      border-color: transparent;\n",
              "      border-right-color: var(--fill-color);\n",
              "      border-top-color: var(--fill-color);\n",
              "    }\n",
              "    60% {\n",
              "      border-color: transparent;\n",
              "      border-right-color: var(--fill-color);\n",
              "    }\n",
              "    80% {\n",
              "      border-color: transparent;\n",
              "      border-right-color: var(--fill-color);\n",
              "      border-bottom-color: var(--fill-color);\n",
              "    }\n",
              "    90% {\n",
              "      border-color: transparent;\n",
              "      border-bottom-color: var(--fill-color);\n",
              "    }\n",
              "  }\n",
              "</style>\n",
              "\n",
              "      <script>\n",
              "        async function quickchart(key) {\n",
              "          const quickchartButtonEl =\n",
              "            document.querySelector('#' + key + ' button');\n",
              "          quickchartButtonEl.disabled = true;  // To prevent multiple clicks.\n",
              "          quickchartButtonEl.classList.add('colab-df-spinner');\n",
              "          try {\n",
              "            const charts = await google.colab.kernel.invokeFunction(\n",
              "                'suggestCharts', [key], {});\n",
              "          } catch (error) {\n",
              "            console.error('Error during call to suggestCharts:', error);\n",
              "          }\n",
              "          quickchartButtonEl.classList.remove('colab-df-spinner');\n",
              "          quickchartButtonEl.classList.add('colab-df-quickchart-complete');\n",
              "        }\n",
              "        (() => {\n",
              "          let quickchartButtonEl =\n",
              "            document.querySelector('#df-61fe27fc-83cb-44cf-abfb-84339614b145 button');\n",
              "          quickchartButtonEl.style.display =\n",
              "            google.colab.kernel.accessAllowed ? 'block' : 'none';\n",
              "        })();\n",
              "      </script>\n",
              "    </div>\n",
              "\n",
              "    </div>\n",
              "  </div>\n"
            ],
            "text/plain": [
              "                                                text  target\n",
              "0  lng fn day mah head killin im tire den bih bt ...       0\n",
              "1  usermention nah manthat fit lmao run mix oh ma...       4\n",
              "2  usermention kno right thermostat war almost al...       0\n",
              "3  usermention awww well dont worry youre miss mu...       0\n",
              "4  use little girls room soo bad soon leave bos c...       0"
            ]
          },
          "execution_count": 8,
          "metadata": {},
          "output_type": "execute_result"
        }
      ],
      "source": [
        "val_df.head()"
      ]
    },
    {
      "cell_type": "markdown",
      "id": "2f9d1694-829f-4bae-9fd3-56f5bb89f57d",
      "metadata": {
        "id": "2f9d1694-829f-4bae-9fd3-56f5bb89f57d"
      },
      "source": [
        "### Data Preparation for LSTM Model\n",
        "\n",
        "For the LSTM model, we need to prepare the data differently than for the logistic regression baseline:\n",
        "\n",
        "1. **Text Tokenization**: Split preprocessed tweets into token sequences (preprocessing was already done in step 2 notebook)\n",
        "2. **Word2Vec Training**: Train embeddings on our tokenized corpus to capture semantic relationships\n",
        "3. **Sequence Conversion**: Transform text into numerical sequences for neural network input\n",
        "4. **Padding**: Ensure all sequences have the same length for batch processing\n",
        "5. **Target Encoding**: Convert sentiment labels to binary format (0/1) for sigmoid output\n",
        "\n",
        "This preparation enables the LSTM to understand both the sequential nature of text and the semantic meaning of individual words. Since the data has already been preprocessed in `2-Data-Preprocessing.ipynb`, we only need to tokenize by splitting on spaces.\n"
      ]
    },
    {
      "cell_type": "markdown",
      "id": "hZZqxkKvllZt",
      "metadata": {
        "id": "hZZqxkKvllZt"
      },
      "source": [
        "#### Text Tokenization"
      ]
    },
    {
      "cell_type": "code",
      "execution_count": 9,
      "id": "6b7a1077",
      "metadata": {
        "colab": {
          "base_uri": "https://localhost:8080/"
        },
        "id": "6b7a1077",
        "outputId": "6d4793df-bdfd-4e0e-cdd8-86acbf38332d"
      },
      "outputs": [
        {
          "name": "stdout",
          "output_type": "stream",
          "text": [
            "Train shape: (1119609, 2)\n",
            "Validation shape: (239917, 2)\n",
            "X_train shape: (1119609,) | y_train shape: (1119609,)\n",
            "X_val shape: (239917,) | y_val shape: (239917,)\n"
          ]
        }
      ],
      "source": [
        "# Extract features and targets, ensuring proper data types\n",
        "X_train = train_df['text'].astype(str)\n",
        "y_train = train_df['target'].astype(int).replace({4: 1})  # Remap 4 → 1 for binary classification\n",
        "\n",
        "X_val = val_df['text'].astype(str)\n",
        "y_val = val_df['target'].astype(int).replace({4: 1})\n",
        "\n",
        "# Display data shapes\n",
        "print(\"Train shape:\", train_df.shape)\n",
        "print(\"Validation shape:\", val_df.shape)\n",
        "print(\"X_train shape:\", X_train.shape, \"| y_train shape:\", y_train.shape)\n",
        "print(\"X_val shape:\", X_val.shape, \"| y_val shape:\", y_val.shape)"
      ]
    },
    {
      "cell_type": "code",
      "execution_count": 10,
      "id": "31b865d0",
      "metadata": {
        "colab": {
          "base_uri": "https://localhost:8080/"
        },
        "id": "31b865d0",
        "outputId": "c78761ff-f826-4b5a-95bd-62828825e34d"
      },
      "outputs": [
        {
          "name": "stdout",
          "output_type": "stream",
          "text": [
            "Tokenized 1119609 training tweets\n",
            "Tokenized 239917 validation tweets\n",
            "Sample tokenized tweet: ['doesnt', 'know', 'hahahahahaha', 'hi', 'world', 'twitter']...\n"
          ]
        }
      ],
      "source": [
        "# Tokenize tweets by splitting on spaces\n",
        "# Since preprocessing was done in 2-Data-Preprocessing.ipynb, we just need to split the text\n",
        "tokenized_train = X_train.apply(lambda x: x.split()).tolist()\n",
        "tokenized_val = X_val.apply(lambda x: x.split()).tolist()\n",
        "\n",
        "print(f\"Tokenized {len(tokenized_train)} training tweets\")\n",
        "print(f\"Tokenized {len(tokenized_val)} validation tweets\")\n",
        "print(f\"Sample tokenized tweet: {tokenized_train[0][:10]}...\")  # Show first 10 tokens"
      ]
    },
    {
      "cell_type": "markdown",
      "id": "W3zGgTytle4T",
      "metadata": {
        "id": "W3zGgTytle4T"
      },
      "source": [
        "#### Word2Vec Embedding Training\n",
        "\n",
        "Next, we train a Word2Vec model on our tokenized tweet corpus using the `gensim` library. Below is a breakdown of the key parameters used:\n",
        "\n",
        "- `sentences=tokenized_train`: List of tokenized tweets used to train the embeddings.\n",
        "- `vector_size=embedding_dim`: Dimensionality of the word vectors).\n",
        "- `window=10`: Context window size; how many words before/after the target word to consider.\n",
        "- `min_count=2`: Ignores words that appear fewer than 2 times to reduce noise.\n",
        "- `sg=1`: Use Skip-Gram (1) instead of CBOW (0). Skip-Gram performs better for smaller datasets and rare words.\n",
        "- `seed=42`: Ensures reproducibility by fixing random initialization.\n",
        "- `workers=10`: Number of CPU threads used for training.\n",
        "\n",
        "After training, we extract the `KeyedVectors` object for efficient similarity lookup and evaluation.\n"
      ]
    },
    {
      "cell_type": "code",
      "execution_count": 11,
      "id": "46vV4tVC0XcW",
      "metadata": {
        "colab": {
          "base_uri": "https://localhost:8080/"
        },
        "id": "46vV4tVC0XcW",
        "outputId": "9338edbb-4de3-4f7e-e0af-70ec990e29e7"
      },
      "outputs": [
        {
          "name": "stdout",
          "output_type": "stream",
          "text": [
            "Word2Vec model trained with 90488 unique words\n",
            "Embedding dimension: 100\n",
            "Sample similar words to 'good': [('great', 0.8209981918334961), ('goooooood', 0.7989086508750916), ('lolgood', 0.7928287982940674), ('goooood', 0.783364474773407), ('gooooooood', 0.7828888297080994)]\n"
          ]
        }
      ],
      "source": [
        "# Train Word2Vec model on our tokenized tweet corpus\n",
        "embedding_dim = 100  # Dimensionality of word vectors\n",
        "\n",
        "word2vec_model = Word2Vec(\n",
        "    sentences=tokenized_train,\n",
        "    vector_size=embedding_dim,\n",
        "    window=10,           # Maximum distance between current and predicted word\n",
        "    min_count=2,         # Ignore words with frequency less than this\n",
        "    sg=1,                # Use skip-gram algorithm (1) vs CBOW (0)\n",
        "    seed=42,             # For reproducibility\n",
        "    workers=10           # Number of threads for training\n",
        ")\n",
        "\n",
        "# Extract the KeyedVectors for efficient lookup\n",
        "word_vectors = word2vec_model.wv\n",
        "\n",
        "print(f\"Word2Vec model trained with {len(word_vectors)} unique words\")\n",
        "print(f\"Embedding dimension: {embedding_dim}\")\n",
        "print(f\"Sample similar words to 'good': {word_vectors.most_similar('good', topn=5) if 'good' in word_vectors else 'N/A'}\")"
      ]
    },
    {
      "cell_type": "markdown",
      "id": "Xz4vb9MVmyDd",
      "metadata": {
        "id": "Xz4vb9MVmyDd"
      },
      "source": [
        "#### Interpretation of Word2Vec Output\n",
        "\n",
        "The output shows:\n",
        "- **Number of unique words**: This is the vocabulary size learned by Word2Vec from the tweet corpus.\n",
        "- **Embedding dimension**: Confirms the size of each word vector.\n",
        "- **Top 5 similar words to \"good\"**: These are the most semantically similar words to \"good\" in the learned embedding space, along with their cosine similarity scores.\n",
        "\n",
        "For example, words like `'goooood'`, `'great'`, and `'lolgood'` appear close to `'good'`, indicating that the model has successfully captured semantic relationships between sentiment-rich tokens.\n"
      ]
    },
    {
      "cell_type": "markdown",
      "id": "RYDCE_BEn2Vh",
      "metadata": {
        "id": "RYDCE_BEn2Vh"
      },
      "source": [
        "### Keras Tokenizer Setup\n",
        "\n",
        "We now prepare the data for use in a Keras-compatible deep learning model. While our tweets are already tokenized into lists of words, Keras expects sequences of integers.\n",
        "\n",
        "Here's what this step does:\n",
        "- Joins tokens back into space-separated strings (needed for Keras Tokenizer).\n",
        "- Initializes and fits the Keras Tokenizer to the training texts.\n",
        "- Limits vocabulary to the size of the trained Word2Vec model to ensure every word has an embedding.\n",
        "\n",
        "This tokenizer will later convert our text into padded integer sequences that LSTM layers can process."
      ]
    },
    {
      "cell_type": "code",
      "execution_count": 12,
      "id": "m_TXVm061rnJ",
      "metadata": {
        "colab": {
          "base_uri": "https://localhost:8080/"
        },
        "id": "m_TXVm061rnJ",
        "outputId": "1c06e859-7a4c-41c0-def4-8512a181b54d"
      },
      "outputs": [
        {
          "name": "stdout",
          "output_type": "stream",
          "text": [
            "Keras tokenizer vocabulary size: 304331\n",
            "Limited to top 90489 words\n"
          ]
        }
      ],
      "source": [
        "### Keras Tokenizer Setup\n",
        "\n",
        "# Join tokens back into space-separated strings for Keras compatibility\n",
        "tokenized_train_texts = [' '.join(tokens) for tokens in tokenized_train]\n",
        "tokenized_val_texts = [' '.join(tokens) for tokens in tokenized_val]\n",
        "\n",
        "# Initialize and fit Keras tokenizer\n",
        "# Note: We limit vocabulary to match our Word2Vec model to ensure full embedding coverage\n",
        "tokenizer = Tokenizer(num_words=len(word_vectors) + 1)\n",
        "tokenizer.fit_on_texts(tokenized_train_texts)\n",
        "\n",
        "word_index = tokenizer.word_index\n",
        "print(f\"Keras tokenizer vocabulary size: {len(word_index)}\")\n",
        "print(f\"Limited to top {tokenizer.num_words} words\")"
      ]
    },
    {
      "cell_type": "markdown",
      "id": "E2DhOAkYoK70",
      "metadata": {
        "id": "E2DhOAkYoK70"
      },
      "source": [
        "### Embedding Matrix Construction\n",
        "\n",
        "Next, we build the embedding matrix that maps each tokenizer word index to its corresponding Word2Vec embedding.\n",
        "\n",
        "- We initialize a zero matrix of shape `(vocab_size, embedding_dim)`.\n",
        "- For each word in the tokenizer's vocabulary that is also in our Word2Vec model, we copy its vector into the matrix.\n",
        "- This matrix will be loaded into the Keras Embedding layer with `trainable=False` to freeze pretrained embeddings.\n",
        "- We also calculate **embedding coverage** — the percentage of tokenizer words that have embeddings. A low score may affect model quality.\n"
      ]
    },
    {
      "cell_type": "code",
      "execution_count": 13,
      "id": "j_NhEY86-4aI",
      "metadata": {
        "colab": {
          "base_uri": "https://localhost:8080/"
        },
        "id": "j_NhEY86-4aI",
        "outputId": "e94595d6-0a1b-4ef2-ca77-679f991dc623"
      },
      "outputs": [
        {
          "name": "stdout",
          "output_type": "stream",
          "text": [
            "Words matched in Word2Vec: 90488/90489\n",
            "Embedding coverage: 100.00%\n"
          ]
        }
      ],
      "source": [
        "### Building the Embedding Matrix\n",
        "\n",
        "# Create embedding matrix that maps tokenizer indices to Word2Vec vectors\n",
        "embedding_matrix = np.zeros((tokenizer.num_words, embedding_dim))\n",
        "\n",
        "words_found = 0\n",
        "for word, i in word_index.items():\n",
        "    if i >= tokenizer.num_words:\n",
        "        continue\n",
        "    if word in word_vectors:\n",
        "        embedding_matrix[i] = word_vectors[word]\n",
        "        words_found += 1\n",
        "\n",
        "coverage = words_found / tokenizer.num_words\n",
        "print(f\"Words matched in Word2Vec: {words_found}/{tokenizer.num_words}\")\n",
        "print(f\"Embedding coverage: {coverage:.2%}\")\n",
        "\n",
        "if coverage < 0.5:\n",
        "    print(\"Warning: Low embedding coverage detected\")\n",
        "    print(\"This may affect model performance - consider adjusting tokenizer vocabulary\")"
      ]
    },
    {
      "cell_type": "markdown",
      "id": "p2fHNNSspZvI",
      "metadata": {
        "id": "p2fHNNSspZvI"
      },
      "source": [
        "### What does 100% Embedding Coverage Mean?\n",
        "\n",
        "Embedding coverage refers to how many words in the tokenizer's vocabulary have matching vectors in the Word2Vec model.\n",
        "\n",
        "**100% coverage** means:\n",
        "- Every word the model will see during training **has a pre-trained embedding**.\n",
        "- No words are missing from the embedding matrix.\n",
        "\n",
        "**Example**:  \n",
        "If the tokenizer sees the word `\"happy\"` and Word2Vec has a vector for `\"happy\"`, that word is *covered*.  \n",
        "If the tokenizer sees `\"loool\"` but Word2Vec doesn’t — it's *not covered*.\n",
        "\n",
        "With 100% coverage, we can be confident that:\n",
        "- **All words** in the training set are represented in the embedding layer.\n",
        "- The model is not learning from empty or unknown vectors."
      ]
    },
    {
      "cell_type": "markdown",
      "id": "c291349f-e04b-43bc-99b3-fdac71643838",
      "metadata": {
        "id": "c291349f-e04b-43bc-99b3-fdac71643838"
      },
      "source": [
        "### Text Sequence Processing\n",
        "\n",
        "Now we convert our tokenized text into numerical sequences that the LSTM can process, and ensure all sequences have uniform length through padding."
      ]
    },
    {
      "cell_type": "code",
      "execution_count": 14,
      "id": "D4IGCBCnT5nW",
      "metadata": {
        "colab": {
          "base_uri": "https://localhost:8080/"
        },
        "id": "D4IGCBCnT5nW",
        "outputId": "da86f243-29e2-4bad-e9bf-0224724ee5bb"
      },
      "outputs": [
        {
          "name": "stdout",
          "output_type": "stream",
          "text": [
            "Maximum sequence length: 32\n",
            "Training sequences shape: (1119609, 32)\n",
            "Validation sequences shape: (239917, 32)\n"
          ]
        }
      ],
      "source": [
        "# Convert text to numerical sequences\n",
        "X_train_seq = tokenizer.texts_to_sequences(tokenized_train_texts)\n",
        "X_val_seq = tokenizer.texts_to_sequences(tokenized_val_texts)\n",
        "\n",
        "# Determine maximum sequence length for padding\n",
        "max_len = max(len(seq) for seq in X_train_seq)\n",
        "print(f\"Maximum sequence length: {max_len}\")\n",
        "\n",
        "# Pad sequences to ensure uniform length\n",
        "X_train_pad = pad_sequences(X_train_seq, maxlen=max_len, padding='post')\n",
        "X_val_pad = pad_sequences(X_val_seq, maxlen=max_len, padding='post')\n",
        "\n",
        "print(f\"Training sequences shape: {X_train_pad.shape}\")\n",
        "print(f\"Validation sequences shape: {X_val_pad.shape}\")"
      ]
    },
    {
      "cell_type": "code",
      "execution_count": 15,
      "id": "9227fd78-03f5-40a7-95cd-55f0edb67a9d",
      "metadata": {
        "colab": {
          "base_uri": "https://localhost:8080/"
        },
        "id": "9227fd78-03f5-40a7-95cd-55f0edb67a9d",
        "outputId": "73fe5ee3-345b-4ef3-945d-461007323484"
      },
      "outputs": [
        {
          "name": "stdout",
          "output_type": "stream",
          "text": [
            "Target distribution (training): [559810 559799]\n",
            "Target distribution (validation): [119960 119957]\n"
          ]
        }
      ],
      "source": [
        "# Convert targets to binary format for neural network training\n",
        "y_train_binary = y_train.astype(np.float32)\n",
        "y_val_binary = y_val.astype(np.float32)\n",
        "\n",
        "# Display the distribution of the original integer labels (0s and 1s)\n",
        "print(f\"Target distribution (training): {np.bincount(y_train.astype(int))}\")\n",
        "print(f\"Target distribution (validation): {np.bincount(y_val.astype(int))}\")"
      ]
    },
    {
      "cell_type": "markdown",
      "id": "a1346274-b814-470f-80e8-4cc0c2036c94",
      "metadata": {
        "id": "a1346274-b814-470f-80e8-4cc0c2036c94",
        "outputId": "88809c8d-812e-43f6-bdb9-cb1f0f5e2dfe"
      },
      "source": [
        "### Model Architecture Design\n",
        "\n",
        "Now we'll build our Bidirectional LSTM model with the following architecture:\n",
        "- **Embedding Layer**: Uses our pre-trained Word2Vec embeddings\n",
        "- **Bidirectional LSTM Layers**: Process sequences in both directions to capture full context\n",
        "- **Dropout Layers**: Prevent overfitting during training\n",
        "- **Dense Output Layer**: Binary classification with sigmoid activation\n",
        "\n",
        "The bidirectional approach allows the model to consider both past and future context when processing each word, leading to better understanding of sentiment patterns.\n"
      ]
    },
    {
      "cell_type": "markdown",
      "id": "febeffe2-b08e-4192-bf3a-57a952ac39e4",
      "metadata": {
        "id": "febeffe2-b08e-4192-bf3a-57a952ac39e4"
      },
      "source": [
        "### Sanity Check: Small-Scale Model Test\n",
        "\n",
        "Before training on the full dataset, we'll verify our model architecture works correctly by training on a small subset. This helps identify potential issues early and ensures the model can learn from the data.\n"
      ]
    },
    {
      "cell_type": "code",
      "execution_count": 16,
      "id": "2312d2f5-d02f-499c-9b10-e29d860311b2",
      "metadata": {
        "colab": {
          "base_uri": "https://localhost:8080/"
        },
        "id": "2312d2f5-d02f-499c-9b10-e29d860311b2",
        "outputId": "a0afe64a-e28f-4cb2-ebc7-26b1d6ccc30c"
      },
      "outputs": [
        {
          "name": "stdout",
          "output_type": "stream",
          "text": [
            "Sanity check on 100 samples\n",
            "Small dataset shape: (100, 32)\n",
            "Small targets shape: (100,)\n"
          ]
        }
      ],
      "source": [
        "# Create small subset for sanity testing\n",
        "subset_size = 100\n",
        "X_small = X_train_pad[:subset_size]\n",
        "y_small = y_train_binary[:subset_size]\n",
        "\n",
        "print(f\"Sanity check on {subset_size} samples\")\n",
        "print(f\"Small dataset shape: {X_small.shape}\")\n",
        "print(f\"Small targets shape: {y_small.shape}\")\n"
      ]
    },
    {
      "cell_type": "code",
      "execution_count": 17,
      "id": "a8316301-a6a8-47d7-9919-fb7ab68a10b7",
      "metadata": {
        "colab": {
          "base_uri": "https://localhost:8080/",
          "height": 667
        },
        "id": "a8316301-a6a8-47d7-9919-fb7ab68a10b7",
        "outputId": "f7527bc5-9e03-4926-f34b-018fe8c47a3e"
      },
      "outputs": [
        {
          "name": "stdout",
          "output_type": "stream",
          "text": [
            "Sanity check model architecture:\n"
          ]
        },
        {
          "data": {
            "text/html": [
              "<pre style=\"white-space:pre;overflow-x:auto;line-height:normal;font-family:Menlo,'DejaVu Sans Mono',consolas,'Courier New',monospace\"><span style=\"font-weight: bold\">Model: \"sequential\"</span>\n",
              "</pre>\n"
            ],
            "text/plain": [
              "\u001b[1mModel: \"sequential\"\u001b[0m\n"
            ]
          },
          "metadata": {},
          "output_type": "display_data"
        },
        {
          "data": {
            "text/html": [
              "<pre style=\"white-space:pre;overflow-x:auto;line-height:normal;font-family:Menlo,'DejaVu Sans Mono',consolas,'Courier New',monospace\">┏━━━━━━━━━━━━━━━━━━━━━━━━━━━━━━━━━┳━━━━━━━━━━━━━━━━━━━━━━━━┳━━━━━━━━━━━━━━━┓\n",
              "┃<span style=\"font-weight: bold\"> Layer (type)                    </span>┃<span style=\"font-weight: bold\"> Output Shape           </span>┃<span style=\"font-weight: bold\">       Param # </span>┃\n",
              "┡━━━━━━━━━━━━━━━━━━━━━━━━━━━━━━━━━╇━━━━━━━━━━━━━━━━━━━━━━━━╇━━━━━━━━━━━━━━━┩\n",
              "│ embedding_layer (<span style=\"color: #0087ff; text-decoration-color: #0087ff\">Embedding</span>)     │ ?                      │     <span style=\"color: #00af00; text-decoration-color: #00af00\">9,048,900</span> │\n",
              "├─────────────────────────────────┼────────────────────────┼───────────────┤\n",
              "│ bidirectional_lstm              │ ?                      │   <span style=\"color: #00af00; text-decoration-color: #00af00\">0</span> (unbuilt) │\n",
              "│ (<span style=\"color: #0087ff; text-decoration-color: #0087ff\">Bidirectional</span>)                 │                        │               │\n",
              "├─────────────────────────────────┼────────────────────────┼───────────────┤\n",
              "│ output_layer (<span style=\"color: #0087ff; text-decoration-color: #0087ff\">Dense</span>)            │ ?                      │   <span style=\"color: #00af00; text-decoration-color: #00af00\">0</span> (unbuilt) │\n",
              "└─────────────────────────────────┴────────────────────────┴───────────────┘\n",
              "</pre>\n"
            ],
            "text/plain": [
              "┏━━━━━━━━━━━━━━━━━━━━━━━━━━━━━━━━━┳━━━━━━━━━━━━━━━━━━━━━━━━┳━━━━━━━━━━━━━━━┓\n",
              "┃\u001b[1m \u001b[0m\u001b[1mLayer (type)                   \u001b[0m\u001b[1m \u001b[0m┃\u001b[1m \u001b[0m\u001b[1mOutput Shape          \u001b[0m\u001b[1m \u001b[0m┃\u001b[1m \u001b[0m\u001b[1m      Param #\u001b[0m\u001b[1m \u001b[0m┃\n",
              "┡━━━━━━━━━━━━━━━━━━━━━━━━━━━━━━━━━╇━━━━━━━━━━━━━━━━━━━━━━━━╇━━━━━━━━━━━━━━━┩\n",
              "│ embedding_layer (\u001b[38;5;33mEmbedding\u001b[0m)     │ ?                      │     \u001b[38;5;34m9,048,900\u001b[0m │\n",
              "├─────────────────────────────────┼────────────────────────┼───────────────┤\n",
              "│ bidirectional_lstm              │ ?                      │   \u001b[38;5;34m0\u001b[0m (unbuilt) │\n",
              "│ (\u001b[38;5;33mBidirectional\u001b[0m)                 │                        │               │\n",
              "├─────────────────────────────────┼────────────────────────┼───────────────┤\n",
              "│ output_layer (\u001b[38;5;33mDense\u001b[0m)            │ ?                      │   \u001b[38;5;34m0\u001b[0m (unbuilt) │\n",
              "└─────────────────────────────────┴────────────────────────┴───────────────┘\n"
            ]
          },
          "metadata": {},
          "output_type": "display_data"
        },
        {
          "data": {
            "text/html": [
              "<pre style=\"white-space:pre;overflow-x:auto;line-height:normal;font-family:Menlo,'DejaVu Sans Mono',consolas,'Courier New',monospace\"><span style=\"font-weight: bold\"> Total params: </span><span style=\"color: #00af00; text-decoration-color: #00af00\">9,048,900</span> (34.52 MB)\n",
              "</pre>\n"
            ],
            "text/plain": [
              "\u001b[1m Total params: \u001b[0m\u001b[38;5;34m9,048,900\u001b[0m (34.52 MB)\n"
            ]
          },
          "metadata": {},
          "output_type": "display_data"
        },
        {
          "data": {
            "text/html": [
              "<pre style=\"white-space:pre;overflow-x:auto;line-height:normal;font-family:Menlo,'DejaVu Sans Mono',consolas,'Courier New',monospace\"><span style=\"font-weight: bold\"> Trainable params: </span><span style=\"color: #00af00; text-decoration-color: #00af00\">9,048,900</span> (34.52 MB)\n",
              "</pre>\n"
            ],
            "text/plain": [
              "\u001b[1m Trainable params: \u001b[0m\u001b[38;5;34m9,048,900\u001b[0m (34.52 MB)\n"
            ]
          },
          "metadata": {},
          "output_type": "display_data"
        },
        {
          "data": {
            "text/html": [
              "<pre style=\"white-space:pre;overflow-x:auto;line-height:normal;font-family:Menlo,'DejaVu Sans Mono',consolas,'Courier New',monospace\"><span style=\"font-weight: bold\"> Non-trainable params: </span><span style=\"color: #00af00; text-decoration-color: #00af00\">0</span> (0.00 B)\n",
              "</pre>\n"
            ],
            "text/plain": [
              "\u001b[1m Non-trainable params: \u001b[0m\u001b[38;5;34m0\u001b[0m (0.00 B)\n"
            ]
          },
          "metadata": {},
          "output_type": "display_data"
        },
        {
          "name": "stdout",
          "output_type": "stream",
          "text": [
            "\\nTraining sanity check model...\n",
            "Epoch 1/10\n",
            "\u001b[1m10/10\u001b[0m \u001b[32m━━━━━━━━━━━━━━━━━━━━\u001b[0m\u001b[37m\u001b[0m \u001b[1m4s\u001b[0m 10ms/step - accuracy: 0.4985 - loss: 0.6880\n",
            "Epoch 2/10\n",
            "\u001b[1m10/10\u001b[0m \u001b[32m━━━━━━━━━━━━━━━━━━━━\u001b[0m\u001b[37m\u001b[0m \u001b[1m0s\u001b[0m 9ms/step - accuracy: 0.5808 - loss: 0.6509\n",
            "Epoch 3/10\n",
            "\u001b[1m10/10\u001b[0m \u001b[32m━━━━━━━━━━━━━━━━━━━━\u001b[0m\u001b[37m\u001b[0m \u001b[1m0s\u001b[0m 9ms/step - accuracy: 0.8020 - loss: 0.5941\n",
            "Epoch 4/10\n",
            "\u001b[1m10/10\u001b[0m \u001b[32m━━━━━━━━━━━━━━━━━━━━\u001b[0m\u001b[37m\u001b[0m \u001b[1m0s\u001b[0m 9ms/step - accuracy: 0.8423 - loss: 0.5394\n",
            "Epoch 5/10\n",
            "\u001b[1m10/10\u001b[0m \u001b[32m━━━━━━━━━━━━━━━━━━━━\u001b[0m\u001b[37m\u001b[0m \u001b[1m0s\u001b[0m 8ms/step - accuracy: 0.8182 - loss: 0.4295\n",
            "Epoch 6/10\n",
            "\u001b[1m10/10\u001b[0m \u001b[32m━━━━━━━━━━━━━━━━━━━━\u001b[0m\u001b[37m\u001b[0m \u001b[1m0s\u001b[0m 9ms/step - accuracy: 0.9237 - loss: 0.2520\n",
            "Epoch 7/10\n",
            "\u001b[1m10/10\u001b[0m \u001b[32m━━━━━━━━━━━━━━━━━━━━\u001b[0m\u001b[37m\u001b[0m \u001b[1m0s\u001b[0m 9ms/step - accuracy: 0.9257 - loss: 0.2090\n",
            "Epoch 8/10\n",
            "\u001b[1m10/10\u001b[0m \u001b[32m━━━━━━━━━━━━━━━━━━━━\u001b[0m\u001b[37m\u001b[0m \u001b[1m0s\u001b[0m 9ms/step - accuracy: 0.9863 - loss: 0.0731\n",
            "Epoch 9/10\n",
            "\u001b[1m10/10\u001b[0m \u001b[32m━━━━━━━━━━━━━━━━━━━━\u001b[0m\u001b[37m\u001b[0m \u001b[1m0s\u001b[0m 8ms/step - accuracy: 0.9816 - loss: 0.0847\n",
            "Epoch 10/10\n",
            "\u001b[1m10/10\u001b[0m \u001b[32m━━━━━━━━━━━━━━━━━━━━\u001b[0m\u001b[37m\u001b[0m \u001b[1m0s\u001b[0m 9ms/step - accuracy: 0.9861 - loss: 0.0405\n",
            "\\nSanity check result: Final accuracy = 0.990\n",
            "Model architecture works - proceeding with full training\n"
          ]
        }
      ],
      "source": [
        "# Build simple LSTM model for sanity check\n",
        "sanity_model = Sequential([\n",
        "    Embedding(\n",
        "        input_dim=embedding_matrix.shape[0],\n",
        "        output_dim=embedding_matrix.shape[1],\n",
        "        weights=[embedding_matrix],\n",
        "        trainable=True,\n",
        "        name='embedding_layer'\n",
        "    ),\n",
        "    Bidirectional(LSTM(64), name='bidirectional_lstm'),\n",
        "    Dense(1, activation='sigmoid', name='output_layer')\n",
        "])\n",
        "\n",
        "# Compile the model\n",
        "sanity_model.compile(\n",
        "    loss='binary_crossentropy',\n",
        "    optimizer='adam',\n",
        "    metrics=['accuracy']\n",
        ")\n",
        "\n",
        "print(\"Sanity check model architecture:\")\n",
        "sanity_model.summary()\n",
        "\n",
        "# Train on small subset to verify learning capability\n",
        "print(\"\\nTraining sanity check model...\")\n",
        "sanity_history = sanity_model.fit(\n",
        "    X_small, y_small,\n",
        "    epochs=10,\n",
        "    batch_size=10,\n",
        "    verbose=1\n",
        ")\n",
        "\n",
        "# Check if model learned (accuracy should improve)\n",
        "final_acc = sanity_history.history['accuracy'][-1]\n",
        "print(f\"\\nSanity check result: Final accuracy = {final_acc:.3f}\")\n",
        "if final_acc > 0.7:\n",
        "    print(\"Model architecture works - proceeding with full training\")\n",
        "else:\n",
        "    print(\"Model may have issues - consider debugging before full training\")"
      ]
    },
    {
      "cell_type": "code",
      "execution_count": 18,
      "id": "fabbac0f-7326-4dac-af1d-61e59fd8eff5",
      "metadata": {
        "colab": {
          "base_uri": "https://localhost:8080/",
          "height": 386
        },
        "id": "fabbac0f-7326-4dac-af1d-61e59fd8eff5",
        "outputId": "7606d962-271e-494e-eea8-87ae8eb4e0fe"
      },
      "outputs": [
        {
          "name": "stdout",
          "output_type": "stream",
          "text": [
            "Production LSTM Model Architecture:\n"
          ]
        },
        {
          "data": {
            "text/html": [
              "<pre style=\"white-space:pre;overflow-x:auto;line-height:normal;font-family:Menlo,'DejaVu Sans Mono',consolas,'Courier New',monospace\"><span style=\"font-weight: bold\">Model: \"sequential_1\"</span>\n",
              "</pre>\n"
            ],
            "text/plain": [
              "\u001b[1mModel: \"sequential_1\"\u001b[0m\n"
            ]
          },
          "metadata": {},
          "output_type": "display_data"
        },
        {
          "data": {
            "text/html": [
              "<pre style=\"white-space:pre;overflow-x:auto;line-height:normal;font-family:Menlo,'DejaVu Sans Mono',consolas,'Courier New',monospace\">┏━━━━━━━━━━━━━━━━━━━━━━━━━━━━━━━━━┳━━━━━━━━━━━━━━━━━━━━━━━━┳━━━━━━━━━━━━━━━┓\n",
              "┃<span style=\"font-weight: bold\"> Layer (type)                    </span>┃<span style=\"font-weight: bold\"> Output Shape           </span>┃<span style=\"font-weight: bold\">       Param # </span>┃\n",
              "┡━━━━━━━━━━━━━━━━━━━━━━━━━━━━━━━━━╇━━━━━━━━━━━━━━━━━━━━━━━━╇━━━━━━━━━━━━━━━┩\n",
              "│ word2vec_embedding (<span style=\"color: #0087ff; text-decoration-color: #0087ff\">Embedding</span>)  │ (<span style=\"color: #00d7ff; text-decoration-color: #00d7ff\">None</span>, <span style=\"color: #00af00; text-decoration-color: #00af00\">32</span>, <span style=\"color: #00af00; text-decoration-color: #00af00\">100</span>)        │     <span style=\"color: #00af00; text-decoration-color: #00af00\">9,048,900</span> │\n",
              "├─────────────────────────────────┼────────────────────────┼───────────────┤\n",
              "│ lstm_layer_1 (<span style=\"color: #0087ff; text-decoration-color: #0087ff\">Bidirectional</span>)    │ (<span style=\"color: #00d7ff; text-decoration-color: #00d7ff\">None</span>, <span style=\"color: #00af00; text-decoration-color: #00af00\">32</span>, <span style=\"color: #00af00; text-decoration-color: #00af00\">256</span>)        │       <span style=\"color: #00af00; text-decoration-color: #00af00\">234,496</span> │\n",
              "├─────────────────────────────────┼────────────────────────┼───────────────┤\n",
              "│ dropout_1 (<span style=\"color: #0087ff; text-decoration-color: #0087ff\">Dropout</span>)             │ (<span style=\"color: #00d7ff; text-decoration-color: #00d7ff\">None</span>, <span style=\"color: #00af00; text-decoration-color: #00af00\">32</span>, <span style=\"color: #00af00; text-decoration-color: #00af00\">256</span>)        │             <span style=\"color: #00af00; text-decoration-color: #00af00\">0</span> │\n",
              "├─────────────────────────────────┼────────────────────────┼───────────────┤\n",
              "│ lstm_layer_2 (<span style=\"color: #0087ff; text-decoration-color: #0087ff\">Bidirectional</span>)    │ (<span style=\"color: #00d7ff; text-decoration-color: #00d7ff\">None</span>, <span style=\"color: #00af00; text-decoration-color: #00af00\">128</span>)            │       <span style=\"color: #00af00; text-decoration-color: #00af00\">164,352</span> │\n",
              "├─────────────────────────────────┼────────────────────────┼───────────────┤\n",
              "│ dropout_2 (<span style=\"color: #0087ff; text-decoration-color: #0087ff\">Dropout</span>)             │ (<span style=\"color: #00d7ff; text-decoration-color: #00d7ff\">None</span>, <span style=\"color: #00af00; text-decoration-color: #00af00\">128</span>)            │             <span style=\"color: #00af00; text-decoration-color: #00af00\">0</span> │\n",
              "├─────────────────────────────────┼────────────────────────┼───────────────┤\n",
              "│ sentiment_output (<span style=\"color: #0087ff; text-decoration-color: #0087ff\">Dense</span>)        │ (<span style=\"color: #00d7ff; text-decoration-color: #00d7ff\">None</span>, <span style=\"color: #00af00; text-decoration-color: #00af00\">1</span>)              │           <span style=\"color: #00af00; text-decoration-color: #00af00\">129</span> │\n",
              "└─────────────────────────────────┴────────────────────────┴───────────────┘\n",
              "</pre>\n"
            ],
            "text/plain": [
              "┏━━━━━━━━━━━━━━━━━━━━━━━━━━━━━━━━━┳━━━━━━━━━━━━━━━━━━━━━━━━┳━━━━━━━━━━━━━━━┓\n",
              "┃\u001b[1m \u001b[0m\u001b[1mLayer (type)                   \u001b[0m\u001b[1m \u001b[0m┃\u001b[1m \u001b[0m\u001b[1mOutput Shape          \u001b[0m\u001b[1m \u001b[0m┃\u001b[1m \u001b[0m\u001b[1m      Param #\u001b[0m\u001b[1m \u001b[0m┃\n",
              "┡━━━━━━━━━━━━━━━━━━━━━━━━━━━━━━━━━╇━━━━━━━━━━━━━━━━━━━━━━━━╇━━━━━━━━━━━━━━━┩\n",
              "│ word2vec_embedding (\u001b[38;5;33mEmbedding\u001b[0m)  │ (\u001b[38;5;45mNone\u001b[0m, \u001b[38;5;34m32\u001b[0m, \u001b[38;5;34m100\u001b[0m)        │     \u001b[38;5;34m9,048,900\u001b[0m │\n",
              "├─────────────────────────────────┼────────────────────────┼───────────────┤\n",
              "│ lstm_layer_1 (\u001b[38;5;33mBidirectional\u001b[0m)    │ (\u001b[38;5;45mNone\u001b[0m, \u001b[38;5;34m32\u001b[0m, \u001b[38;5;34m256\u001b[0m)        │       \u001b[38;5;34m234,496\u001b[0m │\n",
              "├─────────────────────────────────┼────────────────────────┼───────────────┤\n",
              "│ dropout_1 (\u001b[38;5;33mDropout\u001b[0m)             │ (\u001b[38;5;45mNone\u001b[0m, \u001b[38;5;34m32\u001b[0m, \u001b[38;5;34m256\u001b[0m)        │             \u001b[38;5;34m0\u001b[0m │\n",
              "├─────────────────────────────────┼────────────────────────┼───────────────┤\n",
              "│ lstm_layer_2 (\u001b[38;5;33mBidirectional\u001b[0m)    │ (\u001b[38;5;45mNone\u001b[0m, \u001b[38;5;34m128\u001b[0m)            │       \u001b[38;5;34m164,352\u001b[0m │\n",
              "├─────────────────────────────────┼────────────────────────┼───────────────┤\n",
              "│ dropout_2 (\u001b[38;5;33mDropout\u001b[0m)             │ (\u001b[38;5;45mNone\u001b[0m, \u001b[38;5;34m128\u001b[0m)            │             \u001b[38;5;34m0\u001b[0m │\n",
              "├─────────────────────────────────┼────────────────────────┼───────────────┤\n",
              "│ sentiment_output (\u001b[38;5;33mDense\u001b[0m)        │ (\u001b[38;5;45mNone\u001b[0m, \u001b[38;5;34m1\u001b[0m)              │           \u001b[38;5;34m129\u001b[0m │\n",
              "└─────────────────────────────────┴────────────────────────┴───────────────┘\n"
            ]
          },
          "metadata": {},
          "output_type": "display_data"
        },
        {
          "data": {
            "text/html": [
              "<pre style=\"white-space:pre;overflow-x:auto;line-height:normal;font-family:Menlo,'DejaVu Sans Mono',consolas,'Courier New',monospace\"><span style=\"font-weight: bold\"> Total params: </span><span style=\"color: #00af00; text-decoration-color: #00af00\">9,447,877</span> (36.04 MB)\n",
              "</pre>\n"
            ],
            "text/plain": [
              "\u001b[1m Total params: \u001b[0m\u001b[38;5;34m9,447,877\u001b[0m (36.04 MB)\n"
            ]
          },
          "metadata": {},
          "output_type": "display_data"
        },
        {
          "data": {
            "text/html": [
              "<pre style=\"white-space:pre;overflow-x:auto;line-height:normal;font-family:Menlo,'DejaVu Sans Mono',consolas,'Courier New',monospace\"><span style=\"font-weight: bold\"> Trainable params: </span><span style=\"color: #00af00; text-decoration-color: #00af00\">398,977</span> (1.52 MB)\n",
              "</pre>\n"
            ],
            "text/plain": [
              "\u001b[1m Trainable params: \u001b[0m\u001b[38;5;34m398,977\u001b[0m (1.52 MB)\n"
            ]
          },
          "metadata": {},
          "output_type": "display_data"
        },
        {
          "data": {
            "text/html": [
              "<pre style=\"white-space:pre;overflow-x:auto;line-height:normal;font-family:Menlo,'DejaVu Sans Mono',consolas,'Courier New',monospace\"><span style=\"font-weight: bold\"> Non-trainable params: </span><span style=\"color: #00af00; text-decoration-color: #00af00\">9,048,900</span> (34.52 MB)\n",
              "</pre>\n"
            ],
            "text/plain": [
              "\u001b[1m Non-trainable params: \u001b[0m\u001b[38;5;34m9,048,900\u001b[0m (34.52 MB)\n"
            ]
          },
          "metadata": {},
          "output_type": "display_data"
        },
        {
          "name": "stdout",
          "output_type": "stream",
          "text": [
            "\n",
            "Total parameters: 9,447,877\n"
          ]
        }
      ],
      "source": [
        "### Full-Scale LSTM Model Architecture\n",
        "\n",
        "# Build production LSTM model with deeper architecture\n",
        "lstm_model = Sequential([\n",
        "    # Embedding layer with pre-trained Word2Vec weights\n",
        "    Embedding(\n",
        "        input_dim=embedding_matrix.shape[0],\n",
        "        output_dim=embedding_matrix.shape[1],\n",
        "        weights=[embedding_matrix],\n",
        "        trainable=False,  # Keep Word2Vec weights frozen\n",
        "        name='word2vec_embedding'\n",
        "    ),\n",
        "\n",
        "    # First bidirectional LSTM layer\n",
        "    Bidirectional(LSTM(128, return_sequences=True), name='lstm_layer_1'),\n",
        "    Dropout(0.5, name='dropout_1'),\n",
        "\n",
        "    # Second bidirectional LSTM layer\n",
        "    Bidirectional(LSTM(64), name='lstm_layer_2'),\n",
        "    Dropout(0.3, name='dropout_2'),\n",
        "\n",
        "    # Output layer for binary classification\n",
        "    Dense(1, activation='sigmoid', name='sentiment_output')\n",
        "])\n",
        "\n",
        "# Compile with Nadam optimizer for better convergence\n",
        "lstm_model.compile(\n",
        "    loss='binary_crossentropy',\n",
        "    optimizer=Nadam(learning_rate=0.001),\n",
        "    metrics=['accuracy']\n",
        ")\n",
        "\n",
        "# The input shape is (batch_size, sequence_length), where max_len is 32.\n",
        "lstm_model.build(input_shape=(None, max_len))\n",
        "\n",
        "print(\"Production LSTM Model Architecture:\")\n",
        "lstm_model.summary()\n",
        "\n",
        "# Display model parameters (this will now work correctly)\n",
        "total_params = lstm_model.count_params()\n",
        "print(f\"\\nTotal parameters: {total_params:,}\")"
      ]
    },
    {
      "cell_type": "code",
      "execution_count": 19,
      "id": "34ea73bb-bc43-4933-b1ec-9856ed807ced",
      "metadata": {
        "colab": {
          "base_uri": "https://localhost:8080/",
          "height": 927
        },
        "id": "34ea73bb-bc43-4933-b1ec-9856ed807ced",
        "outputId": "919cd50c-92f1-4125-a905-f6834eb3cbe7"
      },
      "outputs": [
        {
          "name": "stdout",
          "output_type": "stream",
          "text": [
            "Starting LSTM model training...\n",
            "Training samples: 1,119,609\n",
            "Validation samples: 239,917\n",
            "Epoch 1/20\n",
            "\u001b[1m4374/4374\u001b[0m \u001b[32m━━━━━━━━━━━━━━━━━━━━\u001b[0m\u001b[37m\u001b[0m \u001b[1m64s\u001b[0m 14ms/step - accuracy: 0.7632 - loss: 0.4861 - val_accuracy: 0.7830 - val_loss: 0.4529\n",
            "Epoch 2/20\n",
            "\u001b[1m4374/4374\u001b[0m \u001b[32m━━━━━━━━━━━━━━━━━━━━\u001b[0m\u001b[37m\u001b[0m \u001b[1m58s\u001b[0m 13ms/step - accuracy: 0.7873 - loss: 0.4484 - val_accuracy: 0.7922 - val_loss: 0.4410\n",
            "Epoch 3/20\n",
            "\u001b[1m4374/4374\u001b[0m \u001b[32m━━━━━━━━━━━━━━━━━━━━\u001b[0m\u001b[37m\u001b[0m \u001b[1m58s\u001b[0m 13ms/step - accuracy: 0.7947 - loss: 0.4367 - val_accuracy: 0.7963 - val_loss: 0.4329\n",
            "Epoch 4/20\n",
            "\u001b[1m4374/4374\u001b[0m \u001b[32m━━━━━━━━━━━━━━━━━━━━\u001b[0m\u001b[37m\u001b[0m \u001b[1m58s\u001b[0m 13ms/step - accuracy: 0.8003 - loss: 0.4271 - val_accuracy: 0.7981 - val_loss: 0.4308\n",
            "Epoch 5/20\n",
            "\u001b[1m4374/4374\u001b[0m \u001b[32m━━━━━━━━━━━━━━━━━━━━\u001b[0m\u001b[37m\u001b[0m \u001b[1m58s\u001b[0m 13ms/step - accuracy: 0.8039 - loss: 0.4210 - val_accuracy: 0.8003 - val_loss: 0.4282\n",
            "Epoch 6/20\n",
            "\u001b[1m4374/4374\u001b[0m \u001b[32m━━━━━━━━━━━━━━━━━━━━\u001b[0m\u001b[37m\u001b[0m \u001b[1m58s\u001b[0m 13ms/step - accuracy: 0.8064 - loss: 0.4152 - val_accuracy: 0.8000 - val_loss: 0.4273\n",
            "Epoch 7/20\n",
            "\u001b[1m4374/4374\u001b[0m \u001b[32m━━━━━━━━━━━━━━━━━━━━\u001b[0m\u001b[37m\u001b[0m \u001b[1m58s\u001b[0m 13ms/step - accuracy: 0.8100 - loss: 0.4093 - val_accuracy: 0.8014 - val_loss: 0.4255\n",
            "Epoch 8/20\n",
            "\u001b[1m4374/4374\u001b[0m \u001b[32m━━━━━━━━━━━━━━━━━━━━\u001b[0m\u001b[37m\u001b[0m \u001b[1m58s\u001b[0m 13ms/step - accuracy: 0.8135 - loss: 0.4037 - val_accuracy: 0.8017 - val_loss: 0.4258\n",
            "Epoch 9/20\n",
            "\u001b[1m4374/4374\u001b[0m \u001b[32m━━━━━━━━━━━━━━━━━━━━\u001b[0m\u001b[37m\u001b[0m \u001b[1m58s\u001b[0m 13ms/step - accuracy: 0.8170 - loss: 0.3979 - val_accuracy: 0.8010 - val_loss: 0.4274\n",
            "Epoch 10/20\n",
            "\u001b[1m4374/4374\u001b[0m \u001b[32m━━━━━━━━━━━━━━━━━━━━\u001b[0m\u001b[37m\u001b[0m \u001b[1m58s\u001b[0m 13ms/step - accuracy: 0.8198 - loss: 0.3916 - val_accuracy: 0.8013 - val_loss: 0.4277\n",
            "Epoch 10: early stopping\n",
            "Restoring model weights from the end of the best epoch: 7.\n",
            "\\nModel saved to: /content/drive/MyDrive/northeastern/ie7500/ie7500-g1-tweet-sentiment-nlp/models/lstm_sentiment_model.keras\n"
          ]
        },
        {
          "data": {
            "image/png": "[encoded data removed]",
            "text/plain": [
              "<Figure size 1200x400 with 2 Axes>"
            ]
          },
          "metadata": {},
          "output_type": "display_data"
        },
        {
          "name": "stdout",
          "output_type": "stream",
          "text": [
            "\\nTraining Summary:\n",
            "Final training accuracy: 0.8190\n",
            "Final validation accuracy: 0.8013\n",
            "Total epochs trained: 10\n"
          ]
        }
      ],
      "source": [
        "### Model Training with Early Stopping\n",
        "\n",
        "# Configure early stopping to prevent overfitting\n",
        "early_stopping = EarlyStopping(\n",
        "    monitor='val_loss',\n",
        "    patience=3,\n",
        "    restore_best_weights=True,\n",
        "    verbose=1\n",
        ")\n",
        "\n",
        "print(\"Starting LSTM model training...\")\n",
        "print(f\"Training samples: {len(X_train_pad):,}\")\n",
        "print(f\"Validation samples: {len(X_val_pad):,}\")\n",
        "\n",
        "# Train the model\n",
        "training_history = lstm_model.fit(\n",
        "    X_train_pad, y_train_binary,\n",
        "    validation_data=(X_val_pad, y_val_binary),\n",
        "    epochs=20,\n",
        "    batch_size=256,  # Reduced batch size for better convergence\n",
        "    callbacks=[early_stopping],\n",
        "    verbose=1\n",
        ")\n",
        "\n",
        "# Save the trained model\n",
        "model_path = f\"{PROJECT_ROOT}/models/lstm_sentiment_model.keras\"\n",
        "lstm_model.save(model_path)\n",
        "print(f\"\\nModel saved to: {model_path}\")\n",
        "\n",
        "### Training History Visualization\n",
        "\n",
        "plt.figure(figsize=(12, 4))\n",
        "\n",
        "# Plot accuracy\n",
        "plt.subplot(1, 2, 1)\n",
        "plt.plot(training_history.history['accuracy'], label='Training Accuracy', marker='o')\n",
        "plt.plot(training_history.history['val_accuracy'], label='Validation Accuracy', marker='s')\n",
        "plt.title('Model Accuracy Progress')\n",
        "plt.xlabel('Epoch')\n",
        "plt.ylabel('Accuracy')\n",
        "plt.legend()\n",
        "plt.grid(True, alpha=0.3)\n",
        "\n",
        "# Plot loss\n",
        "plt.subplot(1, 2, 2)\n",
        "plt.plot(training_history.history['loss'], label='Training Loss', marker='o')\n",
        "plt.plot(training_history.history['val_loss'], label='Validation Loss', marker='s')\n",
        "plt.title('Model Loss Progress')\n",
        "plt.xlabel('Epoch')\n",
        "plt.ylabel('Loss')\n",
        "plt.legend()\n",
        "plt.grid(True, alpha=0.3)\n",
        "\n",
        "plt.tight_layout()\n",
        "plt.show()\n",
        "\n",
        "# Training summary\n",
        "final_train_acc = training_history.history['accuracy'][-1]\n",
        "final_val_acc = training_history.history['val_accuracy'][-1]\n",
        "print(f\"\\nTraining Summary:\")\n",
        "print(f\"Final training accuracy: {final_train_acc:.4f}\")\n",
        "print(f\"Final validation accuracy: {final_val_acc:.4f}\")\n",
        "print(f\"Total epochs trained: {len(training_history.history['accuracy'])}\")"
      ]
    },
    {
      "cell_type": "code",
      "execution_count": 20,
      "id": "GNlc4i-RAIaF",
      "metadata": {
        "colab": {
          "base_uri": "https://localhost:8080/",
          "height": 781
        },
        "id": "GNlc4i-RAIaF",
        "outputId": "5c191247-6fe4-4d29-e236-61c0e726bb4e"
      },
      "outputs": [
        {
          "name": "stdout",
          "output_type": "stream",
          "text": [
            "Generating predictions on validation set...\n",
            "\u001b[1m469/469\u001b[0m \u001b[32m━━━━━━━━━━━━━━━━━━━━\u001b[0m\u001b[37m\u001b[0m \u001b[1m3s\u001b[0m 5ms/step\n",
            "\\n==================================================\n",
            "    LSTM MODEL VALIDATION PERFORMANCE\n",
            "==================================================\n",
            "Accuracy:  0.8014\n",
            "Precision: 0.8008\n",
            "Recall:    0.8023\n",
            "F1 Score:  0.8015\n",
            "==================================================\n"
          ]
        },
        {
          "data": {
            "text/plain": [
              "<Figure size 800x600 with 0 Axes>"
            ]
          },
          "metadata": {},
          "output_type": "display_data"
        },
        {
          "data": {
            "image/png": "[encoded data removed]",
            "text/plain": [
              "<Figure size 640x480 with 2 Axes>"
            ]
          },
          "metadata": {},
          "output_type": "display_data"
        },
        {
          "name": "stdout",
          "output_type": "stream",
          "text": [
            "\\nPerformance Insights:\n",
            "• Total validation samples: 239,917\n",
            "• Correct predictions: 192,260\n",
            "• Incorrect predictions: 47,657\n",
            "• False positives: 23,940\n",
            "• False negatives: 23,717\n"
          ]
        }
      ],
      "source": [
        "### Model Evaluation and Performance Analysis\n",
        "\n",
        "# Generate predictions on validation set\n",
        "print(\"Generating predictions on validation set...\")\n",
        "y_val_pred_probs = lstm_model.predict(X_val_pad, batch_size=512, verbose=1).ravel()\n",
        "\n",
        "# Convert probabilities to binary predictions (threshold = 0.5)\n",
        "y_val_pred = (y_val_pred_probs >= 0.5).astype(int)\n",
        "\n",
        "# Compute comprehensive evaluation metrics\n",
        "accuracy = accuracy_score(y_val_binary, y_val_pred)\n",
        "precision = precision_score(y_val_binary, y_val_pred, zero_division=0)\n",
        "recall = recall_score(y_val_binary, y_val_pred, zero_division=0)\n",
        "f1 = f1_score(y_val_binary, y_val_pred, zero_division=0)\n",
        "\n",
        "# Display results\n",
        "print(\"\\n\" + \"=\"*50)\n",
        "print(\"    LSTM MODEL VALIDATION PERFORMANCE\")\n",
        "print(\"=\"*50)\n",
        "print(f\"Accuracy:  {accuracy:.4f}\")\n",
        "print(f\"Precision: {precision:.4f}\")\n",
        "print(f\"Recall:    {recall:.4f}\")\n",
        "print(f\"F1 Score:  {f1:.4f}\")\n",
        "print(\"=\"*50)\n",
        "\n",
        "### Confusion Matrix Visualization\n",
        "\n",
        "# Generate and display confusion matrix\n",
        "cm = confusion_matrix(y_val_binary, y_val_pred)\n",
        "plt.figure(figsize=(8, 6))\n",
        "ConfusionMatrixDisplay(\n",
        "    confusion_matrix=cm,\n",
        "    display_labels=[\"Negative\", \"Positive\"]\n",
        ").plot(cmap=\"Blues\", values_format='d')\n",
        "plt.title(\"LSTM Model - Validation Confusion Matrix\", fontsize=14, fontweight='bold')\n",
        "plt.grid(False)\n",
        "plt.tight_layout()\n",
        "plt.show()\n",
        "\n",
        "# Performance insights\n",
        "print(\"\\nPerformance Insights:\")\n",
        "print(f\"• Total validation samples: {len(y_val_binary):,}\")\n",
        "print(f\"• Correct predictions: {(y_val_binary == y_val_pred).sum():,}\")\n",
        "print(f\"• Incorrect predictions: {(y_val_binary != y_val_pred).sum():,}\")\n",
        "print(f\"• False positives: {cm[0, 1]:,}\")\n",
        "print(f\"• False negatives: {cm[1, 0]:,}\")"
      ]
    },
    {
      "cell_type": "markdown",
      "id": "21ac0732-fabb-4803-81a3-05ed38c2576c",
      "metadata": {
        "id": "21ac0732-fabb-4803-81a3-05ed38c2576c"
      },
      "source": [
        "### Error Analysis: Understanding Model Limitations\n",
        "\n",
        "Similar to our baseline analysis, examining the most confidently misclassified tweets reveals patterns in where the LSTM model struggles, providing insights into its limitations and areas for improvement.\n",
        "\n",
        "For the LSTM model, confidence is calculated differently than logistic regression. Since LSTM outputs probabilities via sigmoid, confidence is how far the prediction is from 0.5 (decision boundary). High confidence means the probability is close to 0 or 1\n"
      ]
    },
    {
      "cell_type": "code",
      "execution_count": 21,
      "id": "c56f38fb",
      "metadata": {
        "colab": {
          "base_uri": "https://localhost:8080/"
        },
        "id": "c56f38fb",
        "outputId": "e8cdd7c9-0fbc-4995-b8b7-2126c648fb3b"
      },
      "outputs": [
        {
          "name": "stdout",
          "output_type": "stream",
          "text": [
            "🔍 LSTM Model - Top 10 Most Confident Misclassifications:\n",
            "================================================================================\n",
            "\n",
            "1. Text: 'usermention cut thank thank thank thank thank thank thank thank thank thank thank'\n",
            "   True: Negative | Predicted: Positive\n",
            "   Confidence: 0.997 | Probability: 0.999\n",
            "\n",
            "2. Text: 'usermention haha thanks cute comfy'\n",
            "   True: Negative | Predicted: Positive\n",
            "   Confidence: 0.996 | Probability: 0.998\n",
            "\n",
            "3. Text: 'usermention good news btw great weekend'\n",
            "   True: Negative | Predicted: Positive\n",
            "   Confidence: 0.996 | Probability: 0.998\n",
            "\n",
            "4. Text: 'usermention awsome inspiration good lock god bless'\n",
            "   True: Negative | Predicted: Positive\n",
            "   Confidence: 0.995 | Probability: 0.998\n",
            "\n",
            "5. Text: 'usermention thanks add tweet'\n",
            "   True: Negative | Predicted: Positive\n",
            "   Confidence: 0.995 | Probability: 0.998\n",
            "\n",
            "6. Text: 'happy birthday usermention hope everyone good day'\n",
            "   True: Negative | Predicted: Positive\n",
            "   Confidence: 0.995 | Probability: 0.998\n",
            "\n",
            "7. Text: 'go doctor headache'\n",
            "   True: Positive | Predicted: Negative\n",
            "   Confidence: 0.995 | Probability: 0.003\n",
            "\n",
            "8. Text: 'feel like depress im kind depress'\n",
            "   True: Positive | Predicted: Negative\n",
            "   Confidence: 0.994 | Probability: 0.003\n",
            "\n",
            "9. Text: 'usermention really amazing go retweet digg nice distressful'\n",
            "   True: Negative | Predicted: Positive\n",
            "   Confidence: 0.994 | Probability: 0.997\n",
            "\n",
            "10. Text: 'feeling hurt dred'\n",
            "   True: Positive | Predicted: Negative\n",
            "   Confidence: 0.994 | Probability: 0.003\n",
            "\n",
            "Total misclassifications: 47,657\n",
            "Most confident error rate: 0.2% of errors have >90% confidence\n"
          ]
        }
      ],
      "source": [
        "### Error Analysis: Most Confident Misclassifications\n",
        "\n",
        "# Calculate confidence for each prediction\n",
        "# Confidence = distance from decision boundary (0.5)\n",
        "confidence_scores = np.abs(y_val_pred_probs - 0.5) * 2  # Scale to 0-1 range\n",
        "\n",
        "# Build comprehensive error analysis DataFrame\n",
        "errors_df = pd.DataFrame({\n",
        "    'text': X_val.values,\n",
        "    'true_label': y_val_binary.astype(int),\n",
        "    'predicted_label': y_val_pred,\n",
        "    'predicted_prob': y_val_pred_probs,\n",
        "    'confidence': confidence_scores\n",
        "})\n",
        "\n",
        "# Filter to find only the misclassified tweets\n",
        "misclassified_df = errors_df[errors_df['true_label'] != errors_df['predicted_label']]\n",
        "\n",
        "# Sort by confidence to find the most confident errors\n",
        "most_confident_errors = misclassified_df.sort_values(by='confidence', ascending=False)\n",
        "\n",
        "print(\"LSTM Model - Top 10 Most Confident Misclassifications:\")\n",
        "print(\"=\" * 80)\n",
        "\n",
        "# Set display options for better readability\n",
        "pd.set_option('display.max_colwidth', 150)\n",
        "pd.set_option('display.width', 1000)\n",
        "\n",
        "# Display the analysis\n",
        "for i, (idx, row) in enumerate(most_confident_errors.head(10).iterrows(), 1):\n",
        "    true_sentiment = \"Positive\" if row['true_label'] == 1 else \"Negative\"\n",
        "    pred_sentiment = \"Positive\" if row['predicted_label'] == 1 else \"Negative\"\n",
        "\n",
        "    print(f\"\\n{i}. Text: '{row['text'][:100]}{'...' if len(row['text']) > 100 else ''}'\")\n",
        "    print(f\"   True: {true_sentiment} | Predicted: {pred_sentiment}\")\n",
        "    print(f\"   Confidence: {row['confidence']:.3f} | Probability: {row['predicted_prob']:.3f}\")\n",
        "\n",
        "print(f\"\\nTotal misclassifications: {len(misclassified_df):,}\")\n",
        "print(f\"Most confident error rate: {len(most_confident_errors.head(100))/len(misclassified_df)*100:.1f}% of errors have >90% confidence\")"
      ]
    },
    {
      "cell_type": "code",
      "execution_count": 22,
      "id": "b061048e-e9da-40b6-8cf3-bee30fb15409",
      "metadata": {
        "colab": {
          "base_uri": "https://localhost:8080/"
        },
        "id": "b061048e-e9da-40b6-8cf3-bee30fb15409",
        "outputId": "58b6d2e1-137f-41f7-9c22-952415b29c4c"
      },
      "outputs": [
        {
          "name": "stdout",
          "output_type": "stream",
          "text": [
            "📊 Error Distribution Analysis:\n",
            "==================================================\n",
            "False Positives (Predicted Positive, Actually Negative): 23,940\n",
            "False Negatives (Predicted Negative, Actually Positive): 23,717\n",
            "False Positive Rate: 50.2%\n",
            "False Negative Rate: 49.8%\n",
            "\n",
            "Average Confidence Scores:\n",
            "False Positives: 0.418\n",
            "False Negatives: 0.386\n",
            "\n",
            "Tweet Length Analysis:\n",
            "Average length of misclassified tweets: 48.7 characters\n",
            "Average length of correctly classified tweets: 45.9 characters\n"
          ]
        }
      ],
      "source": [
        "### Pattern Analysis: Error Distribution by Type\n",
        "\n",
        "# Analyze error patterns\n",
        "false_positives = misclassified_df[misclassified_df['predicted_label'] == 1]  # Predicted positive, actually negative\n",
        "false_negatives = misclassified_df[misclassified_df['predicted_label'] == 0]  # Predicted negative, actually positive\n",
        "\n",
        "print(\"Error Distribution Analysis:\")\n",
        "print(\"=\" * 50)\n",
        "print(f\"False Positives (Predicted Positive, Actually Negative): {len(false_positives):,}\")\n",
        "print(f\"False Negatives (Predicted Negative, Actually Positive): {len(false_negatives):,}\")\n",
        "print(f\"False Positive Rate: {len(false_positives)/len(misclassified_df)*100:.1f}%\")\n",
        "print(f\"False Negative Rate: {len(false_negatives)/len(misclassified_df)*100:.1f}%\")\n",
        "\n",
        "# Average confidence for each error type\n",
        "print(f\"\\nAverage Confidence Scores:\")\n",
        "print(f\"False Positives: {false_positives['confidence'].mean():.3f}\")\n",
        "print(f\"False Negatives: {false_negatives['confidence'].mean():.3f}\")\n",
        "\n",
        "# Length analysis\n",
        "print(f\"\\nTweet Length Analysis:\")\n",
        "print(f\"Average length of misclassified tweets: {misclassified_df['text'].str.len().mean():.1f} characters\")\n",
        "print(f\"Average length of correctly classified tweets: {errors_df[errors_df['true_label'] == errors_df['predicted_label']]['text'].str.len().mean():.1f} characters\")"
      ]
    },
    {
      "cell_type": "code",
      "execution_count": 23,
      "id": "450be7f2-3d4e-4942-96d2-80735b5a07fd",
      "metadata": {
        "colab": {
          "base_uri": "https://localhost:8080/"
        },
        "id": "450be7f2-3d4e-4942-96d2-80735b5a07fd",
        "outputId": "143dca94-8e07-4cb5-9bbc-b6bcc8e9b64d"
      },
      "outputs": [
        {
          "name": "stdout",
          "output_type": "stream",
          "text": [
            "🔤 Linguistic Pattern Analysis:\n",
            "==================================================\n",
            "Most Confident False Positives (Predicted Positive, Actually Negative):\n",
            "----------------------------------------------------------------------\n",
            "1. 'usermention cut thank thank thank thank thank thank thank thank thank thank than...'\n",
            "   Confidence: 0.997\n",
            "2. 'usermention haha thanks cute comfy'\n",
            "   Confidence: 0.996\n",
            "3. 'usermention good news btw great weekend'\n",
            "   Confidence: 0.996\n",
            "4. 'usermention awsome inspiration good lock god bless'\n",
            "   Confidence: 0.995\n",
            "5. 'usermention thanks add tweet'\n",
            "   Confidence: 0.995\n",
            "\n",
            "Most Confident False Negatives (Predicted Negative, Actually Positive):\n",
            "----------------------------------------------------------------------\n",
            "1. 'go doctor headache'\n",
            "   Confidence: 0.995\n",
            "2. 'feel like depress im kind depress'\n",
            "   Confidence: 0.994\n",
            "3. 'feeling hurt dred'\n",
            "   Confidence: 0.994\n",
            "4. 'im work try hard succumb poor mentality due severe allergy boo'\n",
            "   Confidence: 0.993\n",
            "5. 'baby runpoor poor momma'\n",
            "   Confidence: 0.993\n",
            "\n",
            "Most frequent words in top 50 confident errors:\n",
            "  'usermention': 26 times\n",
            "  'thank': 14 times\n",
            "  'thanks': 9 times\n",
            "  'good': 5 times\n",
            "  'go': 5 times\n",
            "  'today': 5 times\n",
            "  'sad': 5 times\n",
            "  'time': 4 times\n",
            "  'morning': 4 times\n",
            "  'great': 3 times\n"
          ]
        }
      ],
      "source": [
        "### Linguistic Pattern Analysis in Errors\n",
        "\n",
        "# Analyze common patterns in the most confident errors\n",
        "print(\"Linguistic Pattern Analysis:\")\n",
        "print(\"=\" * 50)\n",
        "\n",
        "# Look for common words in false positives vs false negatives\n",
        "from collections import Counter\n",
        "\n",
        "# Get most confident false positives and negatives for detailed analysis\n",
        "top_false_positives = false_positives.nlargest(20, 'confidence')\n",
        "top_false_negatives = false_negatives.nlargest(20, 'confidence')\n",
        "\n",
        "print(\"Most Confident False Positives (Predicted Positive, Actually Negative):\")\n",
        "print(\"-\" * 70)\n",
        "for i, (_, row) in enumerate(top_false_positives.head(5).iterrows(), 1):\n",
        "    print(f\"{i}. '{row['text'][:80]}{'...' if len(row['text']) > 80 else ''}'\")\n",
        "    print(f\"   Confidence: {row['confidence']:.3f}\")\n",
        "\n",
        "print(\"\\nMost Confident False Negatives (Predicted Negative, Actually Positive):\")\n",
        "print(\"-\" * 70)\n",
        "for i, (_, row) in enumerate(top_false_negatives.head(5).iterrows(), 1):\n",
        "    print(f\"{i}. '{row['text'][:80]}{'...' if len(row['text']) > 80 else ''}'\")\n",
        "    print(f\"   Confidence: {row['confidence']:.3f}\")\n",
        "\n",
        "# Word frequency analysis in errors\n",
        "all_error_words = ' '.join(most_confident_errors.head(50)['text']).split()\n",
        "common_error_words = Counter(all_error_words).most_common(10)\n",
        "\n",
        "print(f\"\\nMost frequent words in top 50 confident errors:\")\n",
        "for word, count in common_error_words:\n",
        "    print(f\"  '{word}': {count} times\")"
      ]
    },
    {
      "cell_type": "markdown",
      "id": "c3b1606a-bf5a-4b7a-8648-c470f371e840",
      "metadata": {
        "id": "c3b1606a-bf5a-4b7a-8648-c470f371e840"
      },
      "source": [
        "### Error Analysis: Key Insights and LSTM-Specific Behavior\n",
        "\n",
        "The error analysis reveals several important insights into how the Bidirectional LSTM model processes sentiment. By examining the most confidently misclassified tweets from our model output, we can pinpoint specific strengths and weaknesses.\n",
        "\n",
        "#### 1. Over-reliance on Strong Sentiment Keywords\n",
        "\n",
        "While the LSTM considers sequence, it can still be misled by the overwhelming presence of strong sentiment words, especially when context is ambiguous. This is evident in the top false positives.\n",
        "\n",
        "* **Example (False Positive):** A tweet like `'usermention cut thank thank thank thank thank thank thank thank thank thank thank'` was incorrectly classified as **Positive** with 0.999 confidence.\n",
        "* **Insight:** The repeated use of \"thank\" created a strong positive signal that the model over-weighted, missing any potentially neutral or negative context from the word \"cut\" or the overall repetitive structure, which can sometimes indicate spam or sarcasm.\n",
        "\n",
        "---\n",
        "\n",
        "#### 2. Struggles with Mixed or Contradictory Sentiment\n",
        "\n",
        "The model finds it challenging to determine the overall sentiment when a tweet contains both positive and negative keywords. The bidirectional context helps, but the model can still get confused, as seen in this false positive:\n",
        "\n",
        "* **Example (False Positive):** The tweet `'usermention really amazing go retweet digg nice distressful'` was predicted as **Positive** with 0.997 confidence, but was actually **Negative**.\n",
        "* **Insight:** The model correctly identified strong positive words like \"amazing\" and \"nice.\" However, it failed to give enough weight to the concluding negative word, \"distressful,\" which ultimately defined the tweet's true sentiment. This highlights a limitation in handling sequences where the sentiment shifts at the very end.\n",
        "\n",
        "---\n",
        "\n",
        "#### 3. Potential Data Labeling Issues vs. Nuanced Context\n",
        "\n",
        "The most confident false negatives (predicted Negative, but actually Positive) are particularly revealing. They contain powerful negative keywords, suggesting the model is making a logical prediction based on the text.\n",
        "\n",
        "* **Examples (False Negatives):**\n",
        "    * `'go doctor headache'` (Confidence: 0.995)\n",
        "    * `'feel like depress im kind depress'` (Confidence: 0.994)\n",
        "    * `'feeling hurt dred'` (Confidence: 0.994)\n",
        "* **Insight:** These errors strongly suggest one of two things:\n",
        "    1.  **Labeling Errors:** The ground truth labels for these tweets may be incorrect. It's counter-intuitive for a tweet containing \"headache,\" \"depress,\" or \"hurt\" to be labeled as positive.\n",
        "    2.  **Extreme Sarcasm/Context:** If the labels are correct, these tweets represent a level of sarcasm or implicit context (e.g., expressing relief about seeing a doctor for a headache) that is too complex for the current architecture to understand. The model is behaving as expected, but the data's complexity exceeds its capability.\n",
        "\n",
        "---\n",
        "\n",
        "#### 4. Minor Sensitivity to Tweet Length\n",
        "\n",
        "Our output shows a slight tendency for misclassified tweets to be longer than correctly classified ones, which supports the hypothesis that sequence length affects performance.\n",
        "\n",
        "* **Data Point:** The average length of misclassified tweets was **48.7 characters**, while correctly classified tweets averaged **45.9 characters**.\n",
        "* **Insight:** Though the difference is minor, it aligns with the idea that longer sequences can sometimes dilute the sentiment signal, making it harder for the LSTM to maintain focus on the most critical parts of the tweet.\n",
        "\n",
        "---\n",
        "\n",
        "#### 5. Word Embedding Dependencies\n",
        "\n",
        "Errors often involve words that may be poorly represented in the Word2Vec embeddings, particularly domain-specific social media language.\n",
        "\n",
        "* **Observation:** Despite 100% embedding coverage in our model, some words may have learned poor representations due to limited context in the training corpus.\n",
        "* **Impact:** The model's performance is inherently tied to the quality of domain-specific embeddings, suggesting that better Twitter-specific embeddings could reduce certain error types.\n",
        "\n",
        "---\n",
        "\n",
        "#### Comparison with Baseline Model:\n",
        "\n",
        "**Improvements over TF-IDF:**\n",
        "- Better handling of word order and basic negation patterns\n",
        "- Reduced sensitivity to individual high-frequency negative words  \n",
        "- More nuanced understanding of context in longer tweets\n",
        "- Bidirectional processing provides fuller context around each word\n",
        "\n",
        "**Persistent Challenges:**\n",
        "- Still struggles with sarcasm and implicit sentiment\n",
        "- Complex linguistic constructions and mixed sentiment can confuse the model\n",
        "- Extremely confident misclassifications suggest systematic blind spots\n",
        "\n",
        "---\n",
        "\n",
        "#### Recommendations\n",
        "\n",
        "Based on these specific findings:\n",
        "\n",
        "1. **Attention Mechanisms**: The patterns suggest that attention-based models (like BERT) might better handle the context-dependent errors we observe, particularly for mixed sentiment and end-of-sequence importance.\n",
        "2. **Domain-Specific Embeddings**: Training Word2Vec on larger Twitter-specific corpora could reduce embedding-related errors.\n",
        "3. **Data Quality Review**: The most confident false negatives warrant investigation of potential labeling errors in the original dataset.\n",
        "4. **Ensemble Approaches**: Combining LSTM with other models might help address its specific blind spots while maintaining its sequential understanding strengths.\n",
        "\n",
        "This evidence-based error analysis demonstrates that while the LSTM model represents a significant improvement over the baseline, the specific examples reveal clear opportunities for enhancement through more sophisticated architectures and training techniques.\n"
      ]
    },
    {
      "cell_type": "markdown",
      "id": "06a09a22-c2c9-45eb-a385-a0a2744b84c8",
      "metadata": {
        "id": "06a09a22-c2c9-45eb-a385-a0a2744b84c8"
      },
      "source": [
        "## Wrap-Up: Strengths and Limitations of Bidirectional LSTM\n",
        "\n",
        "Our LSTM model with Word2Vec embeddings represents a significant advancement over the TF-IDF baseline, demonstrating the power of sequence modeling and semantic embeddings for sentiment analysis.\n",
        "\n",
        "#### Strengths\n",
        "- **Context Awareness**: Captures sequential relationships and word order, essential for understanding negation and complex sentiment expressions.\n",
        "- **Semantic Understanding**: Word2Vec embeddings enable the model to understand semantic relationships between words, improving generalization.\n",
        "- **Bidirectional Processing**: Processes text in both directions, providing fuller context around each word for better sentiment interpretation.\n",
        "- **Improved Performance**: Achieves higher accuracy and F1-score compared to the logistic regression baseline.\n",
        "- **Robustness**: Less susceptible to individual keyword bias, as it considers entire sequence context.\n",
        "\n",
        "#### Limitations\n",
        "- **Computational Complexity**: Requires significantly more computational resources and training time compared to linear models.\n",
        "- **Embedding Dependence**: Performance heavily relies on the quality of Word2Vec embeddings trained on the specific domain.\n",
        "- **Memory Requirements**: Bidirectional LSTM layers and sequence processing require substantial memory, especially for long sequences.\n",
        "- **Limited Long-Range Dependencies**: While better than baseline, LSTMs can still struggle with very long-range dependencies in complex tweets.\n",
        "- **Interpretability**: More difficult to interpret than linear models - cannot easily identify which words drive specific predictions.\n",
        "\n",
        "#### Comparison with Baseline\n",
        "The LSTM model's ability to understand context and sequence makes it particularly effective for:\n",
        "- Handling negation patterns (\"not bad\" vs \"bad\")\n",
        "- Understanding sentiment modifiers (\"very good\" vs \"good\")  \n",
        "- Processing informal language with non-standard word order\n",
        "- Capturing sentiment in longer, more complex tweets\n",
        "\n",
        "This establishes LSTM as a strong intermediate model between simple baselines and state-of-the-art transformer architectures like BERT.\n"
      ]
    }
  ],
  "metadata": {
    "accelerator": "GPU",
    "colab": {
      "gpuType": "A100",
      "machine_shape": "hm",
      "provenance": []
    },
    "kernelspec": {
      "display_name": "Python 3 (ipykernel)",
      "language": "python",
      "name": "python3"
    },
    "language_info": {
      "codemirror_mode": {
        "name": "ipython",
        "version": 3
      },
      "file_extension": ".py",
      "mimetype": "text/x-python",
      "name": "python",
      "nbconvert_exporter": "python",
      "pygments_lexer": "ipython3",
      "version": "3.13.5"
    }
  },
  "nbformat": 4,
  "nbformat_minor": 5
}
