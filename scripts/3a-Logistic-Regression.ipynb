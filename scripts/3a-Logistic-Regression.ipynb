{
  "cells": [
    {
      "cell_type": "markdown",
      "id": "6f6f7be3",
      "metadata": {
        "id": "6f6f7be3"
      },
      "source": [
        "<a href=\"https://colab.research.google.com/github/ariesslin/ie7500-g1-tweet-sentiment-nlp/blob/main/scripts/3.%20Model_Development.ipynb\" target=\"_parent\"><img src=\"https://colab.research.google.com/assets/colab-badge.svg\" alt=\"Open In Colab\"/></a>"
      ]
    },
    {
      "cell_type": "markdown",
      "id": "82172ce7-5869-4448-8c89-3e9450c1e426",
      "metadata": {
        "id": "82172ce7-5869-4448-8c89-3e9450c1e426"
      },
      "source": [
        "\n",
        "<div style=\"background-color:#e6f2ff; border-left:8px solid #0059b3; padding:20px; margin:20px 0;\">\n",
        "  <h2 style=\"color:#003366;\"><strong>3a. Baseline Model – TF-IDF + Logistic Regression</strong></h2>\n",
        "  <p style=\"color:#333333;\">TF-IDF vectorization + logistic regression as a benchmark.</p>\n",
        "</div>\n"
      ]
    },
    {
      "cell_type": "markdown",
      "id": "d2bc63ac-c9a7-4741-8af0-ef929d8920d4",
      "metadata": {
        "id": "d2bc63ac-c9a7-4741-8af0-ef929d8920d4"
      },
      "source": [
        "## Baseline Sentiment Classifier: TF-IDF + Logistic Regression\n",
        "\n",
        "This notebook implements the **baseline model** for our tweet sentiment classification project, using a combination of **TF-IDF vectorization** and **Logistic Regression**.\n",
        "\n",
        "### Why TF-IDF + Logistic Regression?\n",
        "\n",
        "- **TF-IDF** transforms raw tweet text into numerical feature vectors by measuring the importance of words relative to the entire corpus.\n",
        "- **Logistic Regression** is a simple yet effective linear classifier that provides strong performance with fast training time and easy interpretability.\n",
        "\n",
        "TF-IDF is ideal for linear models but sensitive to document length. To prevent longer tweets from biasing the model, we apply **L2 normalization**, ensuring each tweet contributes equally regardless of length.\n",
        "\n",
        "### What This Notebook Covers\n",
        "\n",
        "- Loads preprocessed training and validation data\n",
        "- Tokenizes and normalizes text using Gensim and TF-IDF\n",
        "- Tunes hyperparameters using `GridSearchCV`\n",
        "- Trains a logistic regression model on vectorized tweets\n",
        "- Evaluates performance on the validation set using accuracy, precision, recall, F1 score, and a confusion matrix\n",
        "- Saves the trained pipeline for reuse in evaluation\n",
        "\n",
        "This baseline serves as a reference point for evaluating deeper models like LSTM and BERT, helping us assess whether the added complexity improves sentiment classification."
      ]
    },
    {
      "cell_type": "code",
      "execution_count": 1,
      "id": "St1MSYmmenYN",
      "metadata": {
        "colab": {
          "base_uri": "https://localhost:8080/"
        },
        "id": "St1MSYmmenYN",
        "outputId": "1a099b82-56eb-4de9-fec1-81867aa701c0"
      },
      "outputs": [
        {
          "output_type": "stream",
          "name": "stdout",
          "text": [
            "Drive already mounted at /content/drive; to attempt to forcibly remount, call drive.mount(\"/content/drive\", force_remount=True).\n"
          ]
        }
      ],
      "source": [
        "# Mount Google Drive\n",
        "from google.colab import drive\n",
        "drive.mount('/content/drive')"
      ]
    },
    {
      "cell_type": "code",
      "execution_count": 2,
      "id": "Tlw0cAZke_F1",
      "metadata": {
        "id": "Tlw0cAZke_F1"
      },
      "outputs": [],
      "source": [
        "PROJECT_ROOT = \"/content/drive/MyDrive/northeastern/ie7500/ie7500-g1-tweet-sentiment-nlp\""
      ]
    },
    {
      "cell_type": "code",
      "execution_count": 3,
      "id": "PGrg3XAffQkc",
      "metadata": {
        "id": "PGrg3XAffQkc"
      },
      "outputs": [],
      "source": [
        "train_path = f\"{PROJECT_ROOT}/processed_data/train_dataset.csv\"\n",
        "val_path = f\"{PROJECT_ROOT}/processed_data/val_dataset.csv\""
      ]
    },
    {
      "cell_type": "code",
      "execution_count": 4,
      "id": "VKbXIgXjhR6y",
      "metadata": {
        "colab": {
          "base_uri": "https://localhost:8080/"
        },
        "id": "VKbXIgXjhR6y",
        "outputId": "63f84d03-ea82-4449-c7ef-50e387d24185"
      },
      "outputs": [
        {
          "output_type": "stream",
          "name": "stdout",
          "text": [
            "Collecting en-core-web-lg==3.8.0 (from -r /content/drive/MyDrive/northeastern/ie7500/ie7500-g1-tweet-sentiment-nlp/requirements.txt (line 15))\n",
            "  Downloading https://github.com/explosion/spacy-models/releases/download/en_core_web_lg-3.8.0/en_core_web_lg-3.8.0-py3-none-any.whl (400.7 MB)\n",
            "\u001b[2K     \u001b[90m━━━━━━━━━━━━━━━━━━━━━━━━━━━━━━━━━━━━━━━\u001b[0m \u001b[32m400.7/400.7 MB\u001b[0m \u001b[31m2.7 MB/s\u001b[0m eta \u001b[36m0:00:00\u001b[0m\n",
            "\u001b[?25hRequirement already satisfied: gdown in /usr/local/lib/python3.11/dist-packages (from -r /content/drive/MyDrive/northeastern/ie7500/ie7500-g1-tweet-sentiment-nlp/requirements.txt (line 1)) (5.2.0)\n",
            "Requirement already satisfied: gensim in /usr/local/lib/python3.11/dist-packages (from -r /content/drive/MyDrive/northeastern/ie7500/ie7500-g1-tweet-sentiment-nlp/requirements.txt (line 2)) (4.3.3)\n",
            "Requirement already satisfied: ipykernel in /usr/local/lib/python3.11/dist-packages (from -r /content/drive/MyDrive/northeastern/ie7500/ie7500-g1-tweet-sentiment-nlp/requirements.txt (line 3)) (6.17.1)\n",
            "Requirement already satisfied: ipywidgets in /usr/local/lib/python3.11/dist-packages (from -r /content/drive/MyDrive/northeastern/ie7500/ie7500-g1-tweet-sentiment-nlp/requirements.txt (line 4)) (7.7.1)\n",
            "Requirement already satisfied: keras==3.8.0 in /usr/local/lib/python3.11/dist-packages (from -r /content/drive/MyDrive/northeastern/ie7500/ie7500-g1-tweet-sentiment-nlp/requirements.txt (line 5)) (3.8.0)\n",
            "Requirement already satisfied: matplotlib in /usr/local/lib/python3.11/dist-packages (from -r /content/drive/MyDrive/northeastern/ie7500/ie7500-g1-tweet-sentiment-nlp/requirements.txt (line 6)) (3.10.0)\n",
            "Requirement already satisfied: nltk in /usr/local/lib/python3.11/dist-packages (from -r /content/drive/MyDrive/northeastern/ie7500/ie7500-g1-tweet-sentiment-nlp/requirements.txt (line 7)) (3.9.1)\n",
            "Requirement already satisfied: numpy in /usr/local/lib/python3.11/dist-packages (from -r /content/drive/MyDrive/northeastern/ie7500/ie7500-g1-tweet-sentiment-nlp/requirements.txt (line 8)) (1.26.4)\n",
            "Requirement already satisfied: pandas in /usr/local/lib/python3.11/dist-packages (from -r /content/drive/MyDrive/northeastern/ie7500/ie7500-g1-tweet-sentiment-nlp/requirements.txt (line 9)) (2.2.2)\n",
            "Requirement already satisfied: scikit-learn in /usr/local/lib/python3.11/dist-packages (from -r /content/drive/MyDrive/northeastern/ie7500/ie7500-g1-tweet-sentiment-nlp/requirements.txt (line 10)) (1.6.1)\n",
            "Requirement already satisfied: seaborn in /usr/local/lib/python3.11/dist-packages (from -r /content/drive/MyDrive/northeastern/ie7500/ie7500-g1-tweet-sentiment-nlp/requirements.txt (line 11)) (0.13.2)\n",
            "Requirement already satisfied: spacy in /usr/local/lib/python3.11/dist-packages (from -r /content/drive/MyDrive/northeastern/ie7500/ie7500-g1-tweet-sentiment-nlp/requirements.txt (line 12)) (3.8.7)\n",
            "Requirement already satisfied: tensorflow in /usr/local/lib/python3.11/dist-packages (from -r /content/drive/MyDrive/northeastern/ie7500/ie7500-g1-tweet-sentiment-nlp/requirements.txt (line 13)) (2.18.0)\n",
            "Requirement already satisfied: wordcloud in /usr/local/lib/python3.11/dist-packages (from -r /content/drive/MyDrive/northeastern/ie7500/ie7500-g1-tweet-sentiment-nlp/requirements.txt (line 14)) (1.9.4)\n",
            "Requirement already satisfied: absl-py in /usr/local/lib/python3.11/dist-packages (from keras==3.8.0->-r /content/drive/MyDrive/northeastern/ie7500/ie7500-g1-tweet-sentiment-nlp/requirements.txt (line 5)) (1.4.0)\n",
            "Requirement already satisfied: rich in /usr/local/lib/python3.11/dist-packages (from keras==3.8.0->-r /content/drive/MyDrive/northeastern/ie7500/ie7500-g1-tweet-sentiment-nlp/requirements.txt (line 5)) (13.9.4)\n",
            "Requirement already satisfied: namex in /usr/local/lib/python3.11/dist-packages (from keras==3.8.0->-r /content/drive/MyDrive/northeastern/ie7500/ie7500-g1-tweet-sentiment-nlp/requirements.txt (line 5)) (0.1.0)\n",
            "Requirement already satisfied: h5py in /usr/local/lib/python3.11/dist-packages (from keras==3.8.0->-r /content/drive/MyDrive/northeastern/ie7500/ie7500-g1-tweet-sentiment-nlp/requirements.txt (line 5)) (3.14.0)\n",
            "Requirement already satisfied: optree in /usr/local/lib/python3.11/dist-packages (from keras==3.8.0->-r /content/drive/MyDrive/northeastern/ie7500/ie7500-g1-tweet-sentiment-nlp/requirements.txt (line 5)) (0.16.0)\n",
            "Requirement already satisfied: ml-dtypes in /usr/local/lib/python3.11/dist-packages (from keras==3.8.0->-r /content/drive/MyDrive/northeastern/ie7500/ie7500-g1-tweet-sentiment-nlp/requirements.txt (line 5)) (0.4.1)\n",
            "Requirement already satisfied: packaging in /usr/local/lib/python3.11/dist-packages (from keras==3.8.0->-r /content/drive/MyDrive/northeastern/ie7500/ie7500-g1-tweet-sentiment-nlp/requirements.txt (line 5)) (25.0)\n",
            "Requirement already satisfied: beautifulsoup4 in /usr/local/lib/python3.11/dist-packages (from gdown->-r /content/drive/MyDrive/northeastern/ie7500/ie7500-g1-tweet-sentiment-nlp/requirements.txt (line 1)) (4.13.4)\n",
            "Requirement already satisfied: filelock in /usr/local/lib/python3.11/dist-packages (from gdown->-r /content/drive/MyDrive/northeastern/ie7500/ie7500-g1-tweet-sentiment-nlp/requirements.txt (line 1)) (3.18.0)\n",
            "Requirement already satisfied: requests[socks] in /usr/local/lib/python3.11/dist-packages (from gdown->-r /content/drive/MyDrive/northeastern/ie7500/ie7500-g1-tweet-sentiment-nlp/requirements.txt (line 1)) (2.32.3)\n",
            "Requirement already satisfied: tqdm in /usr/local/lib/python3.11/dist-packages (from gdown->-r /content/drive/MyDrive/northeastern/ie7500/ie7500-g1-tweet-sentiment-nlp/requirements.txt (line 1)) (4.67.1)\n",
            "Requirement already satisfied: scipy<1.14.0,>=1.7.0 in /usr/local/lib/python3.11/dist-packages (from gensim->-r /content/drive/MyDrive/northeastern/ie7500/ie7500-g1-tweet-sentiment-nlp/requirements.txt (line 2)) (1.13.1)\n",
            "Requirement already satisfied: smart-open>=1.8.1 in /usr/local/lib/python3.11/dist-packages (from gensim->-r /content/drive/MyDrive/northeastern/ie7500/ie7500-g1-tweet-sentiment-nlp/requirements.txt (line 2)) (7.3.0.post1)\n",
            "Requirement already satisfied: debugpy>=1.0 in /usr/local/lib/python3.11/dist-packages (from ipykernel->-r /content/drive/MyDrive/northeastern/ie7500/ie7500-g1-tweet-sentiment-nlp/requirements.txt (line 3)) (1.8.15)\n",
            "Requirement already satisfied: ipython>=7.23.1 in /usr/local/lib/python3.11/dist-packages (from ipykernel->-r /content/drive/MyDrive/northeastern/ie7500/ie7500-g1-tweet-sentiment-nlp/requirements.txt (line 3)) (7.34.0)\n",
            "Requirement already satisfied: jupyter-client>=6.1.12 in /usr/local/lib/python3.11/dist-packages (from ipykernel->-r /content/drive/MyDrive/northeastern/ie7500/ie7500-g1-tweet-sentiment-nlp/requirements.txt (line 3)) (6.1.12)\n",
            "Requirement already satisfied: matplotlib-inline>=0.1 in /usr/local/lib/python3.11/dist-packages (from ipykernel->-r /content/drive/MyDrive/northeastern/ie7500/ie7500-g1-tweet-sentiment-nlp/requirements.txt (line 3)) (0.1.7)\n",
            "Requirement already satisfied: nest-asyncio in /usr/local/lib/python3.11/dist-packages (from ipykernel->-r /content/drive/MyDrive/northeastern/ie7500/ie7500-g1-tweet-sentiment-nlp/requirements.txt (line 3)) (1.6.0)\n",
            "Requirement already satisfied: psutil in /usr/local/lib/python3.11/dist-packages (from ipykernel->-r /content/drive/MyDrive/northeastern/ie7500/ie7500-g1-tweet-sentiment-nlp/requirements.txt (line 3)) (5.9.5)\n",
            "Requirement already satisfied: pyzmq>=17 in /usr/local/lib/python3.11/dist-packages (from ipykernel->-r /content/drive/MyDrive/northeastern/ie7500/ie7500-g1-tweet-sentiment-nlp/requirements.txt (line 3)) (24.0.1)\n",
            "Requirement already satisfied: tornado>=6.1 in /usr/local/lib/python3.11/dist-packages (from ipykernel->-r /content/drive/MyDrive/northeastern/ie7500/ie7500-g1-tweet-sentiment-nlp/requirements.txt (line 3)) (6.4.2)\n",
            "Requirement already satisfied: traitlets>=5.1.0 in /usr/local/lib/python3.11/dist-packages (from ipykernel->-r /content/drive/MyDrive/northeastern/ie7500/ie7500-g1-tweet-sentiment-nlp/requirements.txt (line 3)) (5.7.1)\n",
            "Requirement already satisfied: ipython-genutils~=0.2.0 in /usr/local/lib/python3.11/dist-packages (from ipywidgets->-r /content/drive/MyDrive/northeastern/ie7500/ie7500-g1-tweet-sentiment-nlp/requirements.txt (line 4)) (0.2.0)\n",
            "Requirement already satisfied: widgetsnbextension~=3.6.0 in /usr/local/lib/python3.11/dist-packages (from ipywidgets->-r /content/drive/MyDrive/northeastern/ie7500/ie7500-g1-tweet-sentiment-nlp/requirements.txt (line 4)) (3.6.10)\n",
            "Requirement already satisfied: jupyterlab-widgets>=1.0.0 in /usr/local/lib/python3.11/dist-packages (from ipywidgets->-r /content/drive/MyDrive/northeastern/ie7500/ie7500-g1-tweet-sentiment-nlp/requirements.txt (line 4)) (3.0.15)\n",
            "Requirement already satisfied: contourpy>=1.0.1 in /usr/local/lib/python3.11/dist-packages (from matplotlib->-r /content/drive/MyDrive/northeastern/ie7500/ie7500-g1-tweet-sentiment-nlp/requirements.txt (line 6)) (1.3.2)\n",
            "Requirement already satisfied: cycler>=0.10 in /usr/local/lib/python3.11/dist-packages (from matplotlib->-r /content/drive/MyDrive/northeastern/ie7500/ie7500-g1-tweet-sentiment-nlp/requirements.txt (line 6)) (0.12.1)\n",
            "Requirement already satisfied: fonttools>=4.22.0 in /usr/local/lib/python3.11/dist-packages (from matplotlib->-r /content/drive/MyDrive/northeastern/ie7500/ie7500-g1-tweet-sentiment-nlp/requirements.txt (line 6)) (4.59.0)\n",
            "Requirement already satisfied: kiwisolver>=1.3.1 in /usr/local/lib/python3.11/dist-packages (from matplotlib->-r /content/drive/MyDrive/northeastern/ie7500/ie7500-g1-tweet-sentiment-nlp/requirements.txt (line 6)) (1.4.8)\n",
            "Requirement already satisfied: pillow>=8 in /usr/local/lib/python3.11/dist-packages (from matplotlib->-r /content/drive/MyDrive/northeastern/ie7500/ie7500-g1-tweet-sentiment-nlp/requirements.txt (line 6)) (11.3.0)\n",
            "Requirement already satisfied: pyparsing>=2.3.1 in /usr/local/lib/python3.11/dist-packages (from matplotlib->-r /content/drive/MyDrive/northeastern/ie7500/ie7500-g1-tweet-sentiment-nlp/requirements.txt (line 6)) (3.2.3)\n",
            "Requirement already satisfied: python-dateutil>=2.7 in /usr/local/lib/python3.11/dist-packages (from matplotlib->-r /content/drive/MyDrive/northeastern/ie7500/ie7500-g1-tweet-sentiment-nlp/requirements.txt (line 6)) (2.9.0.post0)\n",
            "Requirement already satisfied: click in /usr/local/lib/python3.11/dist-packages (from nltk->-r /content/drive/MyDrive/northeastern/ie7500/ie7500-g1-tweet-sentiment-nlp/requirements.txt (line 7)) (8.2.1)\n",
            "Requirement already satisfied: joblib in /usr/local/lib/python3.11/dist-packages (from nltk->-r /content/drive/MyDrive/northeastern/ie7500/ie7500-g1-tweet-sentiment-nlp/requirements.txt (line 7)) (1.5.1)\n",
            "Requirement already satisfied: regex>=2021.8.3 in /usr/local/lib/python3.11/dist-packages (from nltk->-r /content/drive/MyDrive/northeastern/ie7500/ie7500-g1-tweet-sentiment-nlp/requirements.txt (line 7)) (2024.11.6)\n",
            "Requirement already satisfied: pytz>=2020.1 in /usr/local/lib/python3.11/dist-packages (from pandas->-r /content/drive/MyDrive/northeastern/ie7500/ie7500-g1-tweet-sentiment-nlp/requirements.txt (line 9)) (2025.2)\n",
            "Requirement already satisfied: tzdata>=2022.7 in /usr/local/lib/python3.11/dist-packages (from pandas->-r /content/drive/MyDrive/northeastern/ie7500/ie7500-g1-tweet-sentiment-nlp/requirements.txt (line 9)) (2025.2)\n",
            "Requirement already satisfied: threadpoolctl>=3.1.0 in /usr/local/lib/python3.11/dist-packages (from scikit-learn->-r /content/drive/MyDrive/northeastern/ie7500/ie7500-g1-tweet-sentiment-nlp/requirements.txt (line 10)) (3.6.0)\n",
            "Requirement already satisfied: spacy-legacy<3.1.0,>=3.0.11 in /usr/local/lib/python3.11/dist-packages (from spacy->-r /content/drive/MyDrive/northeastern/ie7500/ie7500-g1-tweet-sentiment-nlp/requirements.txt (line 12)) (3.0.12)\n",
            "Requirement already satisfied: spacy-loggers<2.0.0,>=1.0.0 in /usr/local/lib/python3.11/dist-packages (from spacy->-r /content/drive/MyDrive/northeastern/ie7500/ie7500-g1-tweet-sentiment-nlp/requirements.txt (line 12)) (1.0.5)\n",
            "Requirement already satisfied: murmurhash<1.1.0,>=0.28.0 in /usr/local/lib/python3.11/dist-packages (from spacy->-r /content/drive/MyDrive/northeastern/ie7500/ie7500-g1-tweet-sentiment-nlp/requirements.txt (line 12)) (1.0.13)\n",
            "Requirement already satisfied: cymem<2.1.0,>=2.0.2 in /usr/local/lib/python3.11/dist-packages (from spacy->-r /content/drive/MyDrive/northeastern/ie7500/ie7500-g1-tweet-sentiment-nlp/requirements.txt (line 12)) (2.0.11)\n",
            "Requirement already satisfied: preshed<3.1.0,>=3.0.2 in /usr/local/lib/python3.11/dist-packages (from spacy->-r /content/drive/MyDrive/northeastern/ie7500/ie7500-g1-tweet-sentiment-nlp/requirements.txt (line 12)) (3.0.10)\n",
            "Requirement already satisfied: thinc<8.4.0,>=8.3.4 in /usr/local/lib/python3.11/dist-packages (from spacy->-r /content/drive/MyDrive/northeastern/ie7500/ie7500-g1-tweet-sentiment-nlp/requirements.txt (line 12)) (8.3.4)\n",
            "Requirement already satisfied: wasabi<1.2.0,>=0.9.1 in /usr/local/lib/python3.11/dist-packages (from spacy->-r /content/drive/MyDrive/northeastern/ie7500/ie7500-g1-tweet-sentiment-nlp/requirements.txt (line 12)) (1.1.3)\n",
            "Requirement already satisfied: srsly<3.0.0,>=2.4.3 in /usr/local/lib/python3.11/dist-packages (from spacy->-r /content/drive/MyDrive/northeastern/ie7500/ie7500-g1-tweet-sentiment-nlp/requirements.txt (line 12)) (2.5.1)\n",
            "Requirement already satisfied: catalogue<2.1.0,>=2.0.6 in /usr/local/lib/python3.11/dist-packages (from spacy->-r /content/drive/MyDrive/northeastern/ie7500/ie7500-g1-tweet-sentiment-nlp/requirements.txt (line 12)) (2.0.10)\n",
            "Requirement already satisfied: weasel<0.5.0,>=0.1.0 in /usr/local/lib/python3.11/dist-packages (from spacy->-r /content/drive/MyDrive/northeastern/ie7500/ie7500-g1-tweet-sentiment-nlp/requirements.txt (line 12)) (0.4.1)\n",
            "Requirement already satisfied: typer<1.0.0,>=0.3.0 in /usr/local/lib/python3.11/dist-packages (from spacy->-r /content/drive/MyDrive/northeastern/ie7500/ie7500-g1-tweet-sentiment-nlp/requirements.txt (line 12)) (0.16.0)\n",
            "Requirement already satisfied: pydantic!=1.8,!=1.8.1,<3.0.0,>=1.7.4 in /usr/local/lib/python3.11/dist-packages (from spacy->-r /content/drive/MyDrive/northeastern/ie7500/ie7500-g1-tweet-sentiment-nlp/requirements.txt (line 12)) (2.11.7)\n",
            "Requirement already satisfied: jinja2 in /usr/local/lib/python3.11/dist-packages (from spacy->-r /content/drive/MyDrive/northeastern/ie7500/ie7500-g1-tweet-sentiment-nlp/requirements.txt (line 12)) (3.1.6)\n",
            "Requirement already satisfied: setuptools in /usr/local/lib/python3.11/dist-packages (from spacy->-r /content/drive/MyDrive/northeastern/ie7500/ie7500-g1-tweet-sentiment-nlp/requirements.txt (line 12)) (75.2.0)\n",
            "Requirement already satisfied: langcodes<4.0.0,>=3.2.0 in /usr/local/lib/python3.11/dist-packages (from spacy->-r /content/drive/MyDrive/northeastern/ie7500/ie7500-g1-tweet-sentiment-nlp/requirements.txt (line 12)) (3.5.0)\n",
            "Requirement already satisfied: astunparse>=1.6.0 in /usr/local/lib/python3.11/dist-packages (from tensorflow->-r /content/drive/MyDrive/northeastern/ie7500/ie7500-g1-tweet-sentiment-nlp/requirements.txt (line 13)) (1.6.3)\n",
            "Requirement already satisfied: flatbuffers>=24.3.25 in /usr/local/lib/python3.11/dist-packages (from tensorflow->-r /content/drive/MyDrive/northeastern/ie7500/ie7500-g1-tweet-sentiment-nlp/requirements.txt (line 13)) (25.2.10)\n",
            "Requirement already satisfied: gast!=0.5.0,!=0.5.1,!=0.5.2,>=0.2.1 in /usr/local/lib/python3.11/dist-packages (from tensorflow->-r /content/drive/MyDrive/northeastern/ie7500/ie7500-g1-tweet-sentiment-nlp/requirements.txt (line 13)) (0.6.0)\n",
            "Requirement already satisfied: google-pasta>=0.1.1 in /usr/local/lib/python3.11/dist-packages (from tensorflow->-r /content/drive/MyDrive/northeastern/ie7500/ie7500-g1-tweet-sentiment-nlp/requirements.txt (line 13)) (0.2.0)\n",
            "Requirement already satisfied: libclang>=13.0.0 in /usr/local/lib/python3.11/dist-packages (from tensorflow->-r /content/drive/MyDrive/northeastern/ie7500/ie7500-g1-tweet-sentiment-nlp/requirements.txt (line 13)) (18.1.1)\n",
            "Requirement already satisfied: opt-einsum>=2.3.2 in /usr/local/lib/python3.11/dist-packages (from tensorflow->-r /content/drive/MyDrive/northeastern/ie7500/ie7500-g1-tweet-sentiment-nlp/requirements.txt (line 13)) (3.4.0)\n",
            "Requirement already satisfied: protobuf!=4.21.0,!=4.21.1,!=4.21.2,!=4.21.3,!=4.21.4,!=4.21.5,<6.0.0dev,>=3.20.3 in /usr/local/lib/python3.11/dist-packages (from tensorflow->-r /content/drive/MyDrive/northeastern/ie7500/ie7500-g1-tweet-sentiment-nlp/requirements.txt (line 13)) (5.29.5)\n",
            "Requirement already satisfied: six>=1.12.0 in /usr/local/lib/python3.11/dist-packages (from tensorflow->-r /content/drive/MyDrive/northeastern/ie7500/ie7500-g1-tweet-sentiment-nlp/requirements.txt (line 13)) (1.17.0)\n",
            "Requirement already satisfied: termcolor>=1.1.0 in /usr/local/lib/python3.11/dist-packages (from tensorflow->-r /content/drive/MyDrive/northeastern/ie7500/ie7500-g1-tweet-sentiment-nlp/requirements.txt (line 13)) (3.1.0)\n",
            "Requirement already satisfied: typing-extensions>=3.6.6 in /usr/local/lib/python3.11/dist-packages (from tensorflow->-r /content/drive/MyDrive/northeastern/ie7500/ie7500-g1-tweet-sentiment-nlp/requirements.txt (line 13)) (4.14.1)\n",
            "Requirement already satisfied: wrapt>=1.11.0 in /usr/local/lib/python3.11/dist-packages (from tensorflow->-r /content/drive/MyDrive/northeastern/ie7500/ie7500-g1-tweet-sentiment-nlp/requirements.txt (line 13)) (1.17.2)\n",
            "Requirement already satisfied: grpcio<2.0,>=1.24.3 in /usr/local/lib/python3.11/dist-packages (from tensorflow->-r /content/drive/MyDrive/northeastern/ie7500/ie7500-g1-tweet-sentiment-nlp/requirements.txt (line 13)) (1.73.1)\n",
            "Requirement already satisfied: tensorboard<2.19,>=2.18 in /usr/local/lib/python3.11/dist-packages (from tensorflow->-r /content/drive/MyDrive/northeastern/ie7500/ie7500-g1-tweet-sentiment-nlp/requirements.txt (line 13)) (2.18.0)\n",
            "Requirement already satisfied: tensorflow-io-gcs-filesystem>=0.23.1 in /usr/local/lib/python3.11/dist-packages (from tensorflow->-r /content/drive/MyDrive/northeastern/ie7500/ie7500-g1-tweet-sentiment-nlp/requirements.txt (line 13)) (0.37.1)\n",
            "Requirement already satisfied: wheel<1.0,>=0.23.0 in /usr/local/lib/python3.11/dist-packages (from astunparse>=1.6.0->tensorflow->-r /content/drive/MyDrive/northeastern/ie7500/ie7500-g1-tweet-sentiment-nlp/requirements.txt (line 13)) (0.45.1)\n",
            "Requirement already satisfied: jedi>=0.16 in /usr/local/lib/python3.11/dist-packages (from ipython>=7.23.1->ipykernel->-r /content/drive/MyDrive/northeastern/ie7500/ie7500-g1-tweet-sentiment-nlp/requirements.txt (line 3)) (0.19.2)\n",
            "Requirement already satisfied: decorator in /usr/local/lib/python3.11/dist-packages (from ipython>=7.23.1->ipykernel->-r /content/drive/MyDrive/northeastern/ie7500/ie7500-g1-tweet-sentiment-nlp/requirements.txt (line 3)) (4.4.2)\n",
            "Requirement already satisfied: pickleshare in /usr/local/lib/python3.11/dist-packages (from ipython>=7.23.1->ipykernel->-r /content/drive/MyDrive/northeastern/ie7500/ie7500-g1-tweet-sentiment-nlp/requirements.txt (line 3)) (0.7.5)\n",
            "Requirement already satisfied: prompt-toolkit!=3.0.0,!=3.0.1,<3.1.0,>=2.0.0 in /usr/local/lib/python3.11/dist-packages (from ipython>=7.23.1->ipykernel->-r /content/drive/MyDrive/northeastern/ie7500/ie7500-g1-tweet-sentiment-nlp/requirements.txt (line 3)) (3.0.51)\n",
            "Requirement already satisfied: pygments in /usr/local/lib/python3.11/dist-packages (from ipython>=7.23.1->ipykernel->-r /content/drive/MyDrive/northeastern/ie7500/ie7500-g1-tweet-sentiment-nlp/requirements.txt (line 3)) (2.19.2)\n",
            "Requirement already satisfied: backcall in /usr/local/lib/python3.11/dist-packages (from ipython>=7.23.1->ipykernel->-r /content/drive/MyDrive/northeastern/ie7500/ie7500-g1-tweet-sentiment-nlp/requirements.txt (line 3)) (0.2.0)\n",
            "Requirement already satisfied: pexpect>4.3 in /usr/local/lib/python3.11/dist-packages (from ipython>=7.23.1->ipykernel->-r /content/drive/MyDrive/northeastern/ie7500/ie7500-g1-tweet-sentiment-nlp/requirements.txt (line 3)) (4.9.0)\n",
            "Requirement already satisfied: jupyter-core>=4.6.0 in /usr/local/lib/python3.11/dist-packages (from jupyter-client>=6.1.12->ipykernel->-r /content/drive/MyDrive/northeastern/ie7500/ie7500-g1-tweet-sentiment-nlp/requirements.txt (line 3)) (5.8.1)\n",
            "Requirement already satisfied: language-data>=1.2 in /usr/local/lib/python3.11/dist-packages (from langcodes<4.0.0,>=3.2.0->spacy->-r /content/drive/MyDrive/northeastern/ie7500/ie7500-g1-tweet-sentiment-nlp/requirements.txt (line 12)) (1.3.0)\n",
            "Requirement already satisfied: annotated-types>=0.6.0 in /usr/local/lib/python3.11/dist-packages (from pydantic!=1.8,!=1.8.1,<3.0.0,>=1.7.4->spacy->-r /content/drive/MyDrive/northeastern/ie7500/ie7500-g1-tweet-sentiment-nlp/requirements.txt (line 12)) (0.7.0)\n",
            "Requirement already satisfied: pydantic-core==2.33.2 in /usr/local/lib/python3.11/dist-packages (from pydantic!=1.8,!=1.8.1,<3.0.0,>=1.7.4->spacy->-r /content/drive/MyDrive/northeastern/ie7500/ie7500-g1-tweet-sentiment-nlp/requirements.txt (line 12)) (2.33.2)\n",
            "Requirement already satisfied: typing-inspection>=0.4.0 in /usr/local/lib/python3.11/dist-packages (from pydantic!=1.8,!=1.8.1,<3.0.0,>=1.7.4->spacy->-r /content/drive/MyDrive/northeastern/ie7500/ie7500-g1-tweet-sentiment-nlp/requirements.txt (line 12)) (0.4.1)\n",
            "Requirement already satisfied: charset-normalizer<4,>=2 in /usr/local/lib/python3.11/dist-packages (from requests[socks]->gdown->-r /content/drive/MyDrive/northeastern/ie7500/ie7500-g1-tweet-sentiment-nlp/requirements.txt (line 1)) (3.4.2)\n",
            "Requirement already satisfied: idna<4,>=2.5 in /usr/local/lib/python3.11/dist-packages (from requests[socks]->gdown->-r /content/drive/MyDrive/northeastern/ie7500/ie7500-g1-tweet-sentiment-nlp/requirements.txt (line 1)) (3.10)\n",
            "Requirement already satisfied: urllib3<3,>=1.21.1 in /usr/local/lib/python3.11/dist-packages (from requests[socks]->gdown->-r /content/drive/MyDrive/northeastern/ie7500/ie7500-g1-tweet-sentiment-nlp/requirements.txt (line 1)) (2.5.0)\n",
            "Requirement already satisfied: certifi>=2017.4.17 in /usr/local/lib/python3.11/dist-packages (from requests[socks]->gdown->-r /content/drive/MyDrive/northeastern/ie7500/ie7500-g1-tweet-sentiment-nlp/requirements.txt (line 1)) (2025.7.14)\n",
            "Requirement already satisfied: markdown>=2.6.8 in /usr/local/lib/python3.11/dist-packages (from tensorboard<2.19,>=2.18->tensorflow->-r /content/drive/MyDrive/northeastern/ie7500/ie7500-g1-tweet-sentiment-nlp/requirements.txt (line 13)) (3.8.2)\n",
            "Requirement already satisfied: tensorboard-data-server<0.8.0,>=0.7.0 in /usr/local/lib/python3.11/dist-packages (from tensorboard<2.19,>=2.18->tensorflow->-r /content/drive/MyDrive/northeastern/ie7500/ie7500-g1-tweet-sentiment-nlp/requirements.txt (line 13)) (0.7.2)\n",
            "Requirement already satisfied: werkzeug>=1.0.1 in /usr/local/lib/python3.11/dist-packages (from tensorboard<2.19,>=2.18->tensorflow->-r /content/drive/MyDrive/northeastern/ie7500/ie7500-g1-tweet-sentiment-nlp/requirements.txt (line 13)) (3.1.3)\n",
            "Requirement already satisfied: blis<1.3.0,>=1.2.0 in /usr/local/lib/python3.11/dist-packages (from thinc<8.4.0,>=8.3.4->spacy->-r /content/drive/MyDrive/northeastern/ie7500/ie7500-g1-tweet-sentiment-nlp/requirements.txt (line 12)) (1.2.1)\n",
            "Requirement already satisfied: confection<1.0.0,>=0.0.1 in /usr/local/lib/python3.11/dist-packages (from thinc<8.4.0,>=8.3.4->spacy->-r /content/drive/MyDrive/northeastern/ie7500/ie7500-g1-tweet-sentiment-nlp/requirements.txt (line 12)) (0.1.5)\n",
            "Requirement already satisfied: shellingham>=1.3.0 in /usr/local/lib/python3.11/dist-packages (from typer<1.0.0,>=0.3.0->spacy->-r /content/drive/MyDrive/northeastern/ie7500/ie7500-g1-tweet-sentiment-nlp/requirements.txt (line 12)) (1.5.4)\n",
            "Requirement already satisfied: markdown-it-py>=2.2.0 in /usr/local/lib/python3.11/dist-packages (from rich->keras==3.8.0->-r /content/drive/MyDrive/northeastern/ie7500/ie7500-g1-tweet-sentiment-nlp/requirements.txt (line 5)) (3.0.0)\n",
            "Requirement already satisfied: cloudpathlib<1.0.0,>=0.7.0 in /usr/local/lib/python3.11/dist-packages (from weasel<0.5.0,>=0.1.0->spacy->-r /content/drive/MyDrive/northeastern/ie7500/ie7500-g1-tweet-sentiment-nlp/requirements.txt (line 12)) (0.21.1)\n",
            "Requirement already satisfied: notebook>=4.4.1 in /usr/local/lib/python3.11/dist-packages (from widgetsnbextension~=3.6.0->ipywidgets->-r /content/drive/MyDrive/northeastern/ie7500/ie7500-g1-tweet-sentiment-nlp/requirements.txt (line 4)) (6.5.7)\n",
            "Requirement already satisfied: soupsieve>1.2 in /usr/local/lib/python3.11/dist-packages (from beautifulsoup4->gdown->-r /content/drive/MyDrive/northeastern/ie7500/ie7500-g1-tweet-sentiment-nlp/requirements.txt (line 1)) (2.7)\n",
            "Requirement already satisfied: MarkupSafe>=2.0 in /usr/local/lib/python3.11/dist-packages (from jinja2->spacy->-r /content/drive/MyDrive/northeastern/ie7500/ie7500-g1-tweet-sentiment-nlp/requirements.txt (line 12)) (3.0.2)\n",
            "Requirement already satisfied: PySocks!=1.5.7,>=1.5.6 in /usr/local/lib/python3.11/dist-packages (from requests[socks]->gdown->-r /content/drive/MyDrive/northeastern/ie7500/ie7500-g1-tweet-sentiment-nlp/requirements.txt (line 1)) (1.7.1)\n",
            "Requirement already satisfied: parso<0.9.0,>=0.8.4 in /usr/local/lib/python3.11/dist-packages (from jedi>=0.16->ipython>=7.23.1->ipykernel->-r /content/drive/MyDrive/northeastern/ie7500/ie7500-g1-tweet-sentiment-nlp/requirements.txt (line 3)) (0.8.4)\n",
            "Requirement already satisfied: platformdirs>=2.5 in /usr/local/lib/python3.11/dist-packages (from jupyter-core>=4.6.0->jupyter-client>=6.1.12->ipykernel->-r /content/drive/MyDrive/northeastern/ie7500/ie7500-g1-tweet-sentiment-nlp/requirements.txt (line 3)) (4.3.8)\n",
            "Requirement already satisfied: marisa-trie>=1.1.0 in /usr/local/lib/python3.11/dist-packages (from language-data>=1.2->langcodes<4.0.0,>=3.2.0->spacy->-r /content/drive/MyDrive/northeastern/ie7500/ie7500-g1-tweet-sentiment-nlp/requirements.txt (line 12)) (1.2.1)\n",
            "Requirement already satisfied: mdurl~=0.1 in /usr/local/lib/python3.11/dist-packages (from markdown-it-py>=2.2.0->rich->keras==3.8.0->-r /content/drive/MyDrive/northeastern/ie7500/ie7500-g1-tweet-sentiment-nlp/requirements.txt (line 5)) (0.1.2)\n",
            "Requirement already satisfied: argon2-cffi in /usr/local/lib/python3.11/dist-packages (from notebook>=4.4.1->widgetsnbextension~=3.6.0->ipywidgets->-r /content/drive/MyDrive/northeastern/ie7500/ie7500-g1-tweet-sentiment-nlp/requirements.txt (line 4)) (25.1.0)\n",
            "Requirement already satisfied: nbformat in /usr/local/lib/python3.11/dist-packages (from notebook>=4.4.1->widgetsnbextension~=3.6.0->ipywidgets->-r /content/drive/MyDrive/northeastern/ie7500/ie7500-g1-tweet-sentiment-nlp/requirements.txt (line 4)) (5.10.4)\n",
            "Requirement already satisfied: nbconvert>=5 in /usr/local/lib/python3.11/dist-packages (from notebook>=4.4.1->widgetsnbextension~=3.6.0->ipywidgets->-r /content/drive/MyDrive/northeastern/ie7500/ie7500-g1-tweet-sentiment-nlp/requirements.txt (line 4)) (7.16.6)\n",
            "Requirement already satisfied: Send2Trash>=1.8.0 in /usr/local/lib/python3.11/dist-packages (from notebook>=4.4.1->widgetsnbextension~=3.6.0->ipywidgets->-r /content/drive/MyDrive/northeastern/ie7500/ie7500-g1-tweet-sentiment-nlp/requirements.txt (line 4)) (1.8.3)\n",
            "Requirement already satisfied: terminado>=0.8.3 in /usr/local/lib/python3.11/dist-packages (from notebook>=4.4.1->widgetsnbextension~=3.6.0->ipywidgets->-r /content/drive/MyDrive/northeastern/ie7500/ie7500-g1-tweet-sentiment-nlp/requirements.txt (line 4)) (0.18.1)\n",
            "Requirement already satisfied: prometheus-client in /usr/local/lib/python3.11/dist-packages (from notebook>=4.4.1->widgetsnbextension~=3.6.0->ipywidgets->-r /content/drive/MyDrive/northeastern/ie7500/ie7500-g1-tweet-sentiment-nlp/requirements.txt (line 4)) (0.22.1)\n",
            "Requirement already satisfied: nbclassic>=0.4.7 in /usr/local/lib/python3.11/dist-packages (from notebook>=4.4.1->widgetsnbextension~=3.6.0->ipywidgets->-r /content/drive/MyDrive/northeastern/ie7500/ie7500-g1-tweet-sentiment-nlp/requirements.txt (line 4)) (1.3.1)\n",
            "Requirement already satisfied: ptyprocess>=0.5 in /usr/local/lib/python3.11/dist-packages (from pexpect>4.3->ipython>=7.23.1->ipykernel->-r /content/drive/MyDrive/northeastern/ie7500/ie7500-g1-tweet-sentiment-nlp/requirements.txt (line 3)) (0.7.0)\n",
            "Requirement already satisfied: wcwidth in /usr/local/lib/python3.11/dist-packages (from prompt-toolkit!=3.0.0,!=3.0.1,<3.1.0,>=2.0.0->ipython>=7.23.1->ipykernel->-r /content/drive/MyDrive/northeastern/ie7500/ie7500-g1-tweet-sentiment-nlp/requirements.txt (line 3)) (0.2.13)\n",
            "Requirement already satisfied: notebook-shim>=0.2.3 in /usr/local/lib/python3.11/dist-packages (from nbclassic>=0.4.7->notebook>=4.4.1->widgetsnbextension~=3.6.0->ipywidgets->-r /content/drive/MyDrive/northeastern/ie7500/ie7500-g1-tweet-sentiment-nlp/requirements.txt (line 4)) (0.2.4)\n",
            "Requirement already satisfied: bleach!=5.0.0 in /usr/local/lib/python3.11/dist-packages (from bleach[css]!=5.0.0->nbconvert>=5->notebook>=4.4.1->widgetsnbextension~=3.6.0->ipywidgets->-r /content/drive/MyDrive/northeastern/ie7500/ie7500-g1-tweet-sentiment-nlp/requirements.txt (line 4)) (6.2.0)\n",
            "Requirement already satisfied: defusedxml in /usr/local/lib/python3.11/dist-packages (from nbconvert>=5->notebook>=4.4.1->widgetsnbextension~=3.6.0->ipywidgets->-r /content/drive/MyDrive/northeastern/ie7500/ie7500-g1-tweet-sentiment-nlp/requirements.txt (line 4)) (0.7.1)\n",
            "Requirement already satisfied: jupyterlab-pygments in /usr/local/lib/python3.11/dist-packages (from nbconvert>=5->notebook>=4.4.1->widgetsnbextension~=3.6.0->ipywidgets->-r /content/drive/MyDrive/northeastern/ie7500/ie7500-g1-tweet-sentiment-nlp/requirements.txt (line 4)) (0.3.0)\n",
            "Requirement already satisfied: mistune<4,>=2.0.3 in /usr/local/lib/python3.11/dist-packages (from nbconvert>=5->notebook>=4.4.1->widgetsnbextension~=3.6.0->ipywidgets->-r /content/drive/MyDrive/northeastern/ie7500/ie7500-g1-tweet-sentiment-nlp/requirements.txt (line 4)) (3.1.3)\n",
            "Requirement already satisfied: nbclient>=0.5.0 in /usr/local/lib/python3.11/dist-packages (from nbconvert>=5->notebook>=4.4.1->widgetsnbextension~=3.6.0->ipywidgets->-r /content/drive/MyDrive/northeastern/ie7500/ie7500-g1-tweet-sentiment-nlp/requirements.txt (line 4)) (0.10.2)\n",
            "Requirement already satisfied: pandocfilters>=1.4.1 in /usr/local/lib/python3.11/dist-packages (from nbconvert>=5->notebook>=4.4.1->widgetsnbextension~=3.6.0->ipywidgets->-r /content/drive/MyDrive/northeastern/ie7500/ie7500-g1-tweet-sentiment-nlp/requirements.txt (line 4)) (1.5.1)\n",
            "Requirement already satisfied: fastjsonschema>=2.15 in /usr/local/lib/python3.11/dist-packages (from nbformat->notebook>=4.4.1->widgetsnbextension~=3.6.0->ipywidgets->-r /content/drive/MyDrive/northeastern/ie7500/ie7500-g1-tweet-sentiment-nlp/requirements.txt (line 4)) (2.21.1)\n",
            "Requirement already satisfied: jsonschema>=2.6 in /usr/local/lib/python3.11/dist-packages (from nbformat->notebook>=4.4.1->widgetsnbextension~=3.6.0->ipywidgets->-r /content/drive/MyDrive/northeastern/ie7500/ie7500-g1-tweet-sentiment-nlp/requirements.txt (line 4)) (4.25.0)\n",
            "Requirement already satisfied: argon2-cffi-bindings in /usr/local/lib/python3.11/dist-packages (from argon2-cffi->notebook>=4.4.1->widgetsnbextension~=3.6.0->ipywidgets->-r /content/drive/MyDrive/northeastern/ie7500/ie7500-g1-tweet-sentiment-nlp/requirements.txt (line 4)) (21.2.0)\n",
            "Requirement already satisfied: webencodings in /usr/local/lib/python3.11/dist-packages (from bleach!=5.0.0->bleach[css]!=5.0.0->nbconvert>=5->notebook>=4.4.1->widgetsnbextension~=3.6.0->ipywidgets->-r /content/drive/MyDrive/northeastern/ie7500/ie7500-g1-tweet-sentiment-nlp/requirements.txt (line 4)) (0.5.1)\n",
            "Requirement already satisfied: tinycss2<1.5,>=1.1.0 in /usr/local/lib/python3.11/dist-packages (from bleach[css]!=5.0.0->nbconvert>=5->notebook>=4.4.1->widgetsnbextension~=3.6.0->ipywidgets->-r /content/drive/MyDrive/northeastern/ie7500/ie7500-g1-tweet-sentiment-nlp/requirements.txt (line 4)) (1.4.0)\n",
            "Requirement already satisfied: attrs>=22.2.0 in /usr/local/lib/python3.11/dist-packages (from jsonschema>=2.6->nbformat->notebook>=4.4.1->widgetsnbextension~=3.6.0->ipywidgets->-r /content/drive/MyDrive/northeastern/ie7500/ie7500-g1-tweet-sentiment-nlp/requirements.txt (line 4)) (25.3.0)\n",
            "Requirement already satisfied: jsonschema-specifications>=2023.03.6 in /usr/local/lib/python3.11/dist-packages (from jsonschema>=2.6->nbformat->notebook>=4.4.1->widgetsnbextension~=3.6.0->ipywidgets->-r /content/drive/MyDrive/northeastern/ie7500/ie7500-g1-tweet-sentiment-nlp/requirements.txt (line 4)) (2025.4.1)\n",
            "Requirement already satisfied: referencing>=0.28.4 in /usr/local/lib/python3.11/dist-packages (from jsonschema>=2.6->nbformat->notebook>=4.4.1->widgetsnbextension~=3.6.0->ipywidgets->-r /content/drive/MyDrive/northeastern/ie7500/ie7500-g1-tweet-sentiment-nlp/requirements.txt (line 4)) (0.36.2)\n",
            "Requirement already satisfied: rpds-py>=0.7.1 in /usr/local/lib/python3.11/dist-packages (from jsonschema>=2.6->nbformat->notebook>=4.4.1->widgetsnbextension~=3.6.0->ipywidgets->-r /content/drive/MyDrive/northeastern/ie7500/ie7500-g1-tweet-sentiment-nlp/requirements.txt (line 4)) (0.26.0)\n",
            "Requirement already satisfied: jupyter-server<3,>=1.8 in /usr/local/lib/python3.11/dist-packages (from notebook-shim>=0.2.3->nbclassic>=0.4.7->notebook>=4.4.1->widgetsnbextension~=3.6.0->ipywidgets->-r /content/drive/MyDrive/northeastern/ie7500/ie7500-g1-tweet-sentiment-nlp/requirements.txt (line 4)) (1.16.0)\n",
            "Requirement already satisfied: cffi>=1.0.1 in /usr/local/lib/python3.11/dist-packages (from argon2-cffi-bindings->argon2-cffi->notebook>=4.4.1->widgetsnbextension~=3.6.0->ipywidgets->-r /content/drive/MyDrive/northeastern/ie7500/ie7500-g1-tweet-sentiment-nlp/requirements.txt (line 4)) (1.17.1)\n",
            "Requirement already satisfied: pycparser in /usr/local/lib/python3.11/dist-packages (from cffi>=1.0.1->argon2-cffi-bindings->argon2-cffi->notebook>=4.4.1->widgetsnbextension~=3.6.0->ipywidgets->-r /content/drive/MyDrive/northeastern/ie7500/ie7500-g1-tweet-sentiment-nlp/requirements.txt (line 4)) (2.22)\n",
            "Requirement already satisfied: anyio>=3.1.0 in /usr/local/lib/python3.11/dist-packages (from jupyter-server<3,>=1.8->notebook-shim>=0.2.3->nbclassic>=0.4.7->notebook>=4.4.1->widgetsnbextension~=3.6.0->ipywidgets->-r /content/drive/MyDrive/northeastern/ie7500/ie7500-g1-tweet-sentiment-nlp/requirements.txt (line 4)) (4.9.0)\n",
            "Requirement already satisfied: websocket-client in /usr/local/lib/python3.11/dist-packages (from jupyter-server<3,>=1.8->notebook-shim>=0.2.3->nbclassic>=0.4.7->notebook>=4.4.1->widgetsnbextension~=3.6.0->ipywidgets->-r /content/drive/MyDrive/northeastern/ie7500/ie7500-g1-tweet-sentiment-nlp/requirements.txt (line 4)) (1.8.0)\n",
            "Requirement already satisfied: sniffio>=1.1 in /usr/local/lib/python3.11/dist-packages (from anyio>=3.1.0->jupyter-server<3,>=1.8->notebook-shim>=0.2.3->nbclassic>=0.4.7->notebook>=4.4.1->widgetsnbextension~=3.6.0->ipywidgets->-r /content/drive/MyDrive/northeastern/ie7500/ie7500-g1-tweet-sentiment-nlp/requirements.txt (line 4)) (1.3.1)\n"
          ]
        }
      ],
      "source": [
        "import sys\n",
        "!{sys.executable} -m pip install -r \"{PROJECT_ROOT}/requirements.txt\""
      ]
    },
    {
      "cell_type": "code",
      "execution_count": 5,
      "id": "07efb030-35ad-4e70-9186-b72e6bd676ec",
      "metadata": {
        "id": "07efb030-35ad-4e70-9186-b72e6bd676ec"
      },
      "outputs": [],
      "source": [
        "from gensim.utils import simple_preprocess\n",
        "from sklearn.feature_extraction.text import TfidfVectorizer\n",
        "from sklearn.linear_model import LogisticRegression\n",
        "from sklearn.metrics import (\n",
        "    accuracy_score, precision_score, recall_score, f1_score,\n",
        "    confusion_matrix, ConfusionMatrixDisplay, classification_report\n",
        ")\n",
        "from sklearn.model_selection import GridSearchCV\n",
        "from sklearn.pipeline import Pipeline\n",
        "import joblib\n",
        "import matplotlib.pyplot as plt\n",
        "import numpy as np\n",
        "import pandas as pd\n",
        "import sys"
      ]
    },
    {
      "cell_type": "code",
      "execution_count": 6,
      "id": "d2f2ef18-6c95-4e5d-97f1-6f6159447e4a",
      "metadata": {
        "id": "d2f2ef18-6c95-4e5d-97f1-6f6159447e4a"
      },
      "outputs": [],
      "source": [
        "# Import helper functions\n",
        "sys.path.append(f\"{PROJECT_ROOT}/utils\")\n",
        "from helper import load_clean_train_val_datasets"
      ]
    },
    {
      "cell_type": "code",
      "execution_count": 7,
      "id": "1ad32143-2dd6-47cf-b515-6d5e1dc6f352",
      "metadata": {
        "id": "1ad32143-2dd6-47cf-b515-6d5e1dc6f352"
      },
      "outputs": [],
      "source": [
        "train_df, val_df = load_clean_train_val_datasets(train_path, val_path)"
      ]
    },
    {
      "cell_type": "code",
      "execution_count": 8,
      "id": "0677ad14-6a04-4b0a-847a-e7b1d078a718",
      "metadata": {
        "colab": {
          "base_uri": "https://localhost:8080/",
          "height": 206
        },
        "id": "0677ad14-6a04-4b0a-847a-e7b1d078a718",
        "outputId": "e17f17ba-fbef-488f-9386-73d3c56e0053"
      },
      "outputs": [
        {
          "output_type": "execute_result",
          "data": {
            "text/plain": [
              "                                                text  target\n",
              "0          doesnt know hahahahahaha hi world twitter       4\n",
              "1  gahh im hungryy shouldve something teadinner s...       0\n",
              "2                                           last day       0\n",
              "3                sunburn forget put sunblock shnatzi       0\n",
              "4              usermention want go home contact hurt       0"
            ],
            "text/html": [
              "\n",
              "  <div id=\"df-b42eeedb-5c9b-45ef-98f1-2e8e8e42bc85\" class=\"colab-df-container\">\n",
              "    <div>\n",
              "<style scoped>\n",
              "    .dataframe tbody tr th:only-of-type {\n",
              "        vertical-align: middle;\n",
              "    }\n",
              "\n",
              "    .dataframe tbody tr th {\n",
              "        vertical-align: top;\n",
              "    }\n",
              "\n",
              "    .dataframe thead th {\n",
              "        text-align: right;\n",
              "    }\n",
              "</style>\n",
              "<table border=\"1\" class=\"dataframe\">\n",
              "  <thead>\n",
              "    <tr style=\"text-align: right;\">\n",
              "      <th></th>\n",
              "      <th>text</th>\n",
              "      <th>target</th>\n",
              "    </tr>\n",
              "  </thead>\n",
              "  <tbody>\n",
              "    <tr>\n",
              "      <th>0</th>\n",
              "      <td>doesnt know hahahahahaha hi world twitter</td>\n",
              "      <td>4</td>\n",
              "    </tr>\n",
              "    <tr>\n",
              "      <th>1</th>\n",
              "      <td>gahh im hungryy shouldve something teadinner s...</td>\n",
              "      <td>0</td>\n",
              "    </tr>\n",
              "    <tr>\n",
              "      <th>2</th>\n",
              "      <td>last day</td>\n",
              "      <td>0</td>\n",
              "    </tr>\n",
              "    <tr>\n",
              "      <th>3</th>\n",
              "      <td>sunburn forget put sunblock shnatzi</td>\n",
              "      <td>0</td>\n",
              "    </tr>\n",
              "    <tr>\n",
              "      <th>4</th>\n",
              "      <td>usermention want go home contact hurt</td>\n",
              "      <td>0</td>\n",
              "    </tr>\n",
              "  </tbody>\n",
              "</table>\n",
              "</div>\n",
              "    <div class=\"colab-df-buttons\">\n",
              "\n",
              "  <div class=\"colab-df-container\">\n",
              "    <button class=\"colab-df-convert\" onclick=\"convertToInteractive('df-b42eeedb-5c9b-45ef-98f1-2e8e8e42bc85')\"\n",
              "            title=\"Convert this dataframe to an interactive table.\"\n",
              "            style=\"display:none;\">\n",
              "\n",
              "  <svg xmlns=\"http://www.w3.org/2000/svg\" height=\"24px\" viewBox=\"0 -960 960 960\">\n",
              "    <path d=\"M120-120v-720h720v720H120Zm60-500h600v-160H180v160Zm220 220h160v-160H400v160Zm0 220h160v-160H400v160ZM180-400h160v-160H180v160Zm440 0h160v-160H620v160ZM180-180h160v-160H180v160Zm440 0h160v-160H620v160Z\"/>\n",
              "  </svg>\n",
              "    </button>\n",
              "\n",
              "  <style>\n",
              "    .colab-df-container {\n",
              "      display:flex;\n",
              "      gap: 12px;\n",
              "    }\n",
              "\n",
              "    .colab-df-convert {\n",
              "      background-color: #E8F0FE;\n",
              "      border: none;\n",
              "      border-radius: 50%;\n",
              "      cursor: pointer;\n",
              "      display: none;\n",
              "      fill: #1967D2;\n",
              "      height: 32px;\n",
              "      padding: 0 0 0 0;\n",
              "      width: 32px;\n",
              "    }\n",
              "\n",
              "    .colab-df-convert:hover {\n",
              "      background-color: #E2EBFA;\n",
              "      box-shadow: 0px 1px 2px rgba(60, 64, 67, 0.3), 0px 1px 3px 1px rgba(60, 64, 67, 0.15);\n",
              "      fill: #174EA6;\n",
              "    }\n",
              "\n",
              "    .colab-df-buttons div {\n",
              "      margin-bottom: 4px;\n",
              "    }\n",
              "\n",
              "    [theme=dark] .colab-df-convert {\n",
              "      background-color: #3B4455;\n",
              "      fill: #D2E3FC;\n",
              "    }\n",
              "\n",
              "    [theme=dark] .colab-df-convert:hover {\n",
              "      background-color: #434B5C;\n",
              "      box-shadow: 0px 1px 3px 1px rgba(0, 0, 0, 0.15);\n",
              "      filter: drop-shadow(0px 1px 2px rgba(0, 0, 0, 0.3));\n",
              "      fill: #FFFFFF;\n",
              "    }\n",
              "  </style>\n",
              "\n",
              "    <script>\n",
              "      const buttonEl =\n",
              "        document.querySelector('#df-b42eeedb-5c9b-45ef-98f1-2e8e8e42bc85 button.colab-df-convert');\n",
              "      buttonEl.style.display =\n",
              "        google.colab.kernel.accessAllowed ? 'block' : 'none';\n",
              "\n",
              "      async function convertToInteractive(key) {\n",
              "        const element = document.querySelector('#df-b42eeedb-5c9b-45ef-98f1-2e8e8e42bc85');\n",
              "        const dataTable =\n",
              "          await google.colab.kernel.invokeFunction('convertToInteractive',\n",
              "                                                    [key], {});\n",
              "        if (!dataTable) return;\n",
              "\n",
              "        const docLinkHtml = 'Like what you see? Visit the ' +\n",
              "          '<a target=\"_blank\" href=https://colab.research.google.com/notebooks/data_table.ipynb>data table notebook</a>'\n",
              "          + ' to learn more about interactive tables.';\n",
              "        element.innerHTML = '';\n",
              "        dataTable['output_type'] = 'display_data';\n",
              "        await google.colab.output.renderOutput(dataTable, element);\n",
              "        const docLink = document.createElement('div');\n",
              "        docLink.innerHTML = docLinkHtml;\n",
              "        element.appendChild(docLink);\n",
              "      }\n",
              "    </script>\n",
              "  </div>\n",
              "\n",
              "\n",
              "    <div id=\"df-04bd13ca-fbf5-4473-ae8f-76bf14140d31\">\n",
              "      <button class=\"colab-df-quickchart\" onclick=\"quickchart('df-04bd13ca-fbf5-4473-ae8f-76bf14140d31')\"\n",
              "                title=\"Suggest charts\"\n",
              "                style=\"display:none;\">\n",
              "\n",
              "<svg xmlns=\"http://www.w3.org/2000/svg\" height=\"24px\"viewBox=\"0 0 24 24\"\n",
              "     width=\"24px\">\n",
              "    <g>\n",
              "        <path d=\"M19 3H5c-1.1 0-2 .9-2 2v14c0 1.1.9 2 2 2h14c1.1 0 2-.9 2-2V5c0-1.1-.9-2-2-2zM9 17H7v-7h2v7zm4 0h-2V7h2v10zm4 0h-2v-4h2v4z\"/>\n",
              "    </g>\n",
              "</svg>\n",
              "      </button>\n",
              "\n",
              "<style>\n",
              "  .colab-df-quickchart {\n",
              "      --bg-color: #E8F0FE;\n",
              "      --fill-color: #1967D2;\n",
              "      --hover-bg-color: #E2EBFA;\n",
              "      --hover-fill-color: #174EA6;\n",
              "      --disabled-fill-color: #AAA;\n",
              "      --disabled-bg-color: #DDD;\n",
              "  }\n",
              "\n",
              "  [theme=dark] .colab-df-quickchart {\n",
              "      --bg-color: #3B4455;\n",
              "      --fill-color: #D2E3FC;\n",
              "      --hover-bg-color: #434B5C;\n",
              "      --hover-fill-color: #FFFFFF;\n",
              "      --disabled-bg-color: #3B4455;\n",
              "      --disabled-fill-color: #666;\n",
              "  }\n",
              "\n",
              "  .colab-df-quickchart {\n",
              "    background-color: var(--bg-color);\n",
              "    border: none;\n",
              "    border-radius: 50%;\n",
              "    cursor: pointer;\n",
              "    display: none;\n",
              "    fill: var(--fill-color);\n",
              "    height: 32px;\n",
              "    padding: 0;\n",
              "    width: 32px;\n",
              "  }\n",
              "\n",
              "  .colab-df-quickchart:hover {\n",
              "    background-color: var(--hover-bg-color);\n",
              "    box-shadow: 0 1px 2px rgba(60, 64, 67, 0.3), 0 1px 3px 1px rgba(60, 64, 67, 0.15);\n",
              "    fill: var(--button-hover-fill-color);\n",
              "  }\n",
              "\n",
              "  .colab-df-quickchart-complete:disabled,\n",
              "  .colab-df-quickchart-complete:disabled:hover {\n",
              "    background-color: var(--disabled-bg-color);\n",
              "    fill: var(--disabled-fill-color);\n",
              "    box-shadow: none;\n",
              "  }\n",
              "\n",
              "  .colab-df-spinner {\n",
              "    border: 2px solid var(--fill-color);\n",
              "    border-color: transparent;\n",
              "    border-bottom-color: var(--fill-color);\n",
              "    animation:\n",
              "      spin 1s steps(1) infinite;\n",
              "  }\n",
              "\n",
              "  @keyframes spin {\n",
              "    0% {\n",
              "      border-color: transparent;\n",
              "      border-bottom-color: var(--fill-color);\n",
              "      border-left-color: var(--fill-color);\n",
              "    }\n",
              "    20% {\n",
              "      border-color: transparent;\n",
              "      border-left-color: var(--fill-color);\n",
              "      border-top-color: var(--fill-color);\n",
              "    }\n",
              "    30% {\n",
              "      border-color: transparent;\n",
              "      border-left-color: var(--fill-color);\n",
              "      border-top-color: var(--fill-color);\n",
              "      border-right-color: var(--fill-color);\n",
              "    }\n",
              "    40% {\n",
              "      border-color: transparent;\n",
              "      border-right-color: var(--fill-color);\n",
              "      border-top-color: var(--fill-color);\n",
              "    }\n",
              "    60% {\n",
              "      border-color: transparent;\n",
              "      border-right-color: var(--fill-color);\n",
              "    }\n",
              "    80% {\n",
              "      border-color: transparent;\n",
              "      border-right-color: var(--fill-color);\n",
              "      border-bottom-color: var(--fill-color);\n",
              "    }\n",
              "    90% {\n",
              "      border-color: transparent;\n",
              "      border-bottom-color: var(--fill-color);\n",
              "    }\n",
              "  }\n",
              "</style>\n",
              "\n",
              "      <script>\n",
              "        async function quickchart(key) {\n",
              "          const quickchartButtonEl =\n",
              "            document.querySelector('#' + key + ' button');\n",
              "          quickchartButtonEl.disabled = true;  // To prevent multiple clicks.\n",
              "          quickchartButtonEl.classList.add('colab-df-spinner');\n",
              "          try {\n",
              "            const charts = await google.colab.kernel.invokeFunction(\n",
              "                'suggestCharts', [key], {});\n",
              "          } catch (error) {\n",
              "            console.error('Error during call to suggestCharts:', error);\n",
              "          }\n",
              "          quickchartButtonEl.classList.remove('colab-df-spinner');\n",
              "          quickchartButtonEl.classList.add('colab-df-quickchart-complete');\n",
              "        }\n",
              "        (() => {\n",
              "          let quickchartButtonEl =\n",
              "            document.querySelector('#df-04bd13ca-fbf5-4473-ae8f-76bf14140d31 button');\n",
              "          quickchartButtonEl.style.display =\n",
              "            google.colab.kernel.accessAllowed ? 'block' : 'none';\n",
              "        })();\n",
              "      </script>\n",
              "    </div>\n",
              "\n",
              "    </div>\n",
              "  </div>\n"
            ],
            "application/vnd.google.colaboratory.intrinsic+json": {
              "type": "dataframe",
              "variable_name": "train_df"
            }
          },
          "metadata": {},
          "execution_count": 8
        }
      ],
      "source": [
        "train_df.head()"
      ]
    },
    {
      "cell_type": "code",
      "execution_count": 9,
      "id": "43ddf923-a47e-4736-8933-916407b8284e",
      "metadata": {
        "colab": {
          "base_uri": "https://localhost:8080/",
          "height": 206
        },
        "id": "43ddf923-a47e-4736-8933-916407b8284e",
        "outputId": "4a6146b9-41d6-493e-e6ec-10d4cb3c80c9"
      },
      "outputs": [
        {
          "output_type": "execute_result",
          "data": {
            "text/plain": [
              "                                                text  target\n",
              "0  lng fn day mah head killin im tire den bih bt ...       0\n",
              "1  usermention nah manthat fit lmao run mix oh ma...       4\n",
              "2  usermention kno right thermostat war almost al...       0\n",
              "3  usermention awww well dont worry youre miss mu...       0\n",
              "4  use little girls room soo bad soon leave bos c...       0"
            ],
            "text/html": [
              "\n",
              "  <div id=\"df-38a0ccb6-9efd-41ba-960f-0b783728be72\" class=\"colab-df-container\">\n",
              "    <div>\n",
              "<style scoped>\n",
              "    .dataframe tbody tr th:only-of-type {\n",
              "        vertical-align: middle;\n",
              "    }\n",
              "\n",
              "    .dataframe tbody tr th {\n",
              "        vertical-align: top;\n",
              "    }\n",
              "\n",
              "    .dataframe thead th {\n",
              "        text-align: right;\n",
              "    }\n",
              "</style>\n",
              "<table border=\"1\" class=\"dataframe\">\n",
              "  <thead>\n",
              "    <tr style=\"text-align: right;\">\n",
              "      <th></th>\n",
              "      <th>text</th>\n",
              "      <th>target</th>\n",
              "    </tr>\n",
              "  </thead>\n",
              "  <tbody>\n",
              "    <tr>\n",
              "      <th>0</th>\n",
              "      <td>lng fn day mah head killin im tire den bih bt ...</td>\n",
              "      <td>0</td>\n",
              "    </tr>\n",
              "    <tr>\n",
              "      <th>1</th>\n",
              "      <td>usermention nah manthat fit lmao run mix oh ma...</td>\n",
              "      <td>4</td>\n",
              "    </tr>\n",
              "    <tr>\n",
              "      <th>2</th>\n",
              "      <td>usermention kno right thermostat war almost al...</td>\n",
              "      <td>0</td>\n",
              "    </tr>\n",
              "    <tr>\n",
              "      <th>3</th>\n",
              "      <td>usermention awww well dont worry youre miss mu...</td>\n",
              "      <td>0</td>\n",
              "    </tr>\n",
              "    <tr>\n",
              "      <th>4</th>\n",
              "      <td>use little girls room soo bad soon leave bos c...</td>\n",
              "      <td>0</td>\n",
              "    </tr>\n",
              "  </tbody>\n",
              "</table>\n",
              "</div>\n",
              "    <div class=\"colab-df-buttons\">\n",
              "\n",
              "  <div class=\"colab-df-container\">\n",
              "    <button class=\"colab-df-convert\" onclick=\"convertToInteractive('df-38a0ccb6-9efd-41ba-960f-0b783728be72')\"\n",
              "            title=\"Convert this dataframe to an interactive table.\"\n",
              "            style=\"display:none;\">\n",
              "\n",
              "  <svg xmlns=\"http://www.w3.org/2000/svg\" height=\"24px\" viewBox=\"0 -960 960 960\">\n",
              "    <path d=\"M120-120v-720h720v720H120Zm60-500h600v-160H180v160Zm220 220h160v-160H400v160Zm0 220h160v-160H400v160ZM180-400h160v-160H180v160Zm440 0h160v-160H620v160ZM180-180h160v-160H180v160Zm440 0h160v-160H620v160Z\"/>\n",
              "  </svg>\n",
              "    </button>\n",
              "\n",
              "  <style>\n",
              "    .colab-df-container {\n",
              "      display:flex;\n",
              "      gap: 12px;\n",
              "    }\n",
              "\n",
              "    .colab-df-convert {\n",
              "      background-color: #E8F0FE;\n",
              "      border: none;\n",
              "      border-radius: 50%;\n",
              "      cursor: pointer;\n",
              "      display: none;\n",
              "      fill: #1967D2;\n",
              "      height: 32px;\n",
              "      padding: 0 0 0 0;\n",
              "      width: 32px;\n",
              "    }\n",
              "\n",
              "    .colab-df-convert:hover {\n",
              "      background-color: #E2EBFA;\n",
              "      box-shadow: 0px 1px 2px rgba(60, 64, 67, 0.3), 0px 1px 3px 1px rgba(60, 64, 67, 0.15);\n",
              "      fill: #174EA6;\n",
              "    }\n",
              "\n",
              "    .colab-df-buttons div {\n",
              "      margin-bottom: 4px;\n",
              "    }\n",
              "\n",
              "    [theme=dark] .colab-df-convert {\n",
              "      background-color: #3B4455;\n",
              "      fill: #D2E3FC;\n",
              "    }\n",
              "\n",
              "    [theme=dark] .colab-df-convert:hover {\n",
              "      background-color: #434B5C;\n",
              "      box-shadow: 0px 1px 3px 1px rgba(0, 0, 0, 0.15);\n",
              "      filter: drop-shadow(0px 1px 2px rgba(0, 0, 0, 0.3));\n",
              "      fill: #FFFFFF;\n",
              "    }\n",
              "  </style>\n",
              "\n",
              "    <script>\n",
              "      const buttonEl =\n",
              "        document.querySelector('#df-38a0ccb6-9efd-41ba-960f-0b783728be72 button.colab-df-convert');\n",
              "      buttonEl.style.display =\n",
              "        google.colab.kernel.accessAllowed ? 'block' : 'none';\n",
              "\n",
              "      async function convertToInteractive(key) {\n",
              "        const element = document.querySelector('#df-38a0ccb6-9efd-41ba-960f-0b783728be72');\n",
              "        const dataTable =\n",
              "          await google.colab.kernel.invokeFunction('convertToInteractive',\n",
              "                                                    [key], {});\n",
              "        if (!dataTable) return;\n",
              "\n",
              "        const docLinkHtml = 'Like what you see? Visit the ' +\n",
              "          '<a target=\"_blank\" href=https://colab.research.google.com/notebooks/data_table.ipynb>data table notebook</a>'\n",
              "          + ' to learn more about interactive tables.';\n",
              "        element.innerHTML = '';\n",
              "        dataTable['output_type'] = 'display_data';\n",
              "        await google.colab.output.renderOutput(dataTable, element);\n",
              "        const docLink = document.createElement('div');\n",
              "        docLink.innerHTML = docLinkHtml;\n",
              "        element.appendChild(docLink);\n",
              "      }\n",
              "    </script>\n",
              "  </div>\n",
              "\n",
              "\n",
              "    <div id=\"df-4717f8e4-74d1-49a4-8905-7aa37a1c034f\">\n",
              "      <button class=\"colab-df-quickchart\" onclick=\"quickchart('df-4717f8e4-74d1-49a4-8905-7aa37a1c034f')\"\n",
              "                title=\"Suggest charts\"\n",
              "                style=\"display:none;\">\n",
              "\n",
              "<svg xmlns=\"http://www.w3.org/2000/svg\" height=\"24px\"viewBox=\"0 0 24 24\"\n",
              "     width=\"24px\">\n",
              "    <g>\n",
              "        <path d=\"M19 3H5c-1.1 0-2 .9-2 2v14c0 1.1.9 2 2 2h14c1.1 0 2-.9 2-2V5c0-1.1-.9-2-2-2zM9 17H7v-7h2v7zm4 0h-2V7h2v10zm4 0h-2v-4h2v4z\"/>\n",
              "    </g>\n",
              "</svg>\n",
              "      </button>\n",
              "\n",
              "<style>\n",
              "  .colab-df-quickchart {\n",
              "      --bg-color: #E8F0FE;\n",
              "      --fill-color: #1967D2;\n",
              "      --hover-bg-color: #E2EBFA;\n",
              "      --hover-fill-color: #174EA6;\n",
              "      --disabled-fill-color: #AAA;\n",
              "      --disabled-bg-color: #DDD;\n",
              "  }\n",
              "\n",
              "  [theme=dark] .colab-df-quickchart {\n",
              "      --bg-color: #3B4455;\n",
              "      --fill-color: #D2E3FC;\n",
              "      --hover-bg-color: #434B5C;\n",
              "      --hover-fill-color: #FFFFFF;\n",
              "      --disabled-bg-color: #3B4455;\n",
              "      --disabled-fill-color: #666;\n",
              "  }\n",
              "\n",
              "  .colab-df-quickchart {\n",
              "    background-color: var(--bg-color);\n",
              "    border: none;\n",
              "    border-radius: 50%;\n",
              "    cursor: pointer;\n",
              "    display: none;\n",
              "    fill: var(--fill-color);\n",
              "    height: 32px;\n",
              "    padding: 0;\n",
              "    width: 32px;\n",
              "  }\n",
              "\n",
              "  .colab-df-quickchart:hover {\n",
              "    background-color: var(--hover-bg-color);\n",
              "    box-shadow: 0 1px 2px rgba(60, 64, 67, 0.3), 0 1px 3px 1px rgba(60, 64, 67, 0.15);\n",
              "    fill: var(--button-hover-fill-color);\n",
              "  }\n",
              "\n",
              "  .colab-df-quickchart-complete:disabled,\n",
              "  .colab-df-quickchart-complete:disabled:hover {\n",
              "    background-color: var(--disabled-bg-color);\n",
              "    fill: var(--disabled-fill-color);\n",
              "    box-shadow: none;\n",
              "  }\n",
              "\n",
              "  .colab-df-spinner {\n",
              "    border: 2px solid var(--fill-color);\n",
              "    border-color: transparent;\n",
              "    border-bottom-color: var(--fill-color);\n",
              "    animation:\n",
              "      spin 1s steps(1) infinite;\n",
              "  }\n",
              "\n",
              "  @keyframes spin {\n",
              "    0% {\n",
              "      border-color: transparent;\n",
              "      border-bottom-color: var(--fill-color);\n",
              "      border-left-color: var(--fill-color);\n",
              "    }\n",
              "    20% {\n",
              "      border-color: transparent;\n",
              "      border-left-color: var(--fill-color);\n",
              "      border-top-color: var(--fill-color);\n",
              "    }\n",
              "    30% {\n",
              "      border-color: transparent;\n",
              "      border-left-color: var(--fill-color);\n",
              "      border-top-color: var(--fill-color);\n",
              "      border-right-color: var(--fill-color);\n",
              "    }\n",
              "    40% {\n",
              "      border-color: transparent;\n",
              "      border-right-color: var(--fill-color);\n",
              "      border-top-color: var(--fill-color);\n",
              "    }\n",
              "    60% {\n",
              "      border-color: transparent;\n",
              "      border-right-color: var(--fill-color);\n",
              "    }\n",
              "    80% {\n",
              "      border-color: transparent;\n",
              "      border-right-color: var(--fill-color);\n",
              "      border-bottom-color: var(--fill-color);\n",
              "    }\n",
              "    90% {\n",
              "      border-color: transparent;\n",
              "      border-bottom-color: var(--fill-color);\n",
              "    }\n",
              "  }\n",
              "</style>\n",
              "\n",
              "      <script>\n",
              "        async function quickchart(key) {\n",
              "          const quickchartButtonEl =\n",
              "            document.querySelector('#' + key + ' button');\n",
              "          quickchartButtonEl.disabled = true;  // To prevent multiple clicks.\n",
              "          quickchartButtonEl.classList.add('colab-df-spinner');\n",
              "          try {\n",
              "            const charts = await google.colab.kernel.invokeFunction(\n",
              "                'suggestCharts', [key], {});\n",
              "          } catch (error) {\n",
              "            console.error('Error during call to suggestCharts:', error);\n",
              "          }\n",
              "          quickchartButtonEl.classList.remove('colab-df-spinner');\n",
              "          quickchartButtonEl.classList.add('colab-df-quickchart-complete');\n",
              "        }\n",
              "        (() => {\n",
              "          let quickchartButtonEl =\n",
              "            document.querySelector('#df-4717f8e4-74d1-49a4-8905-7aa37a1c034f button');\n",
              "          quickchartButtonEl.style.display =\n",
              "            google.colab.kernel.accessAllowed ? 'block' : 'none';\n",
              "        })();\n",
              "      </script>\n",
              "    </div>\n",
              "\n",
              "    </div>\n",
              "  </div>\n"
            ],
            "application/vnd.google.colaboratory.intrinsic+json": {
              "type": "dataframe",
              "variable_name": "val_df"
            }
          },
          "metadata": {},
          "execution_count": 9
        }
      ],
      "source": [
        "val_df.head()"
      ]
    },
    {
      "cell_type": "markdown",
      "id": "5aab98bb-6544-4c79-b8b2-15a8f56cdd9b",
      "metadata": {
        "id": "5aab98bb-6544-4c79-b8b2-15a8f56cdd9b"
      },
      "source": [
        "#### Observation: Dataset Inspection and Language Quality\n",
        "\n",
        "After loading the dataset, we inspect the first few rows using `head()`. The `text` column contains raw tweets, which often include:\n",
        "\n",
        "* Informal language and slang (e.g., \"lmao\", \"bt\", \"nah manthat\")\n",
        "* Typos, abbreviations, and creative spellings\n",
        "* Phonetic spellings or dialect-specific phrasing\n",
        "* Hashtags, emojis, or special characters\n",
        "* Occasionally, non-English or mixed-language content\n",
        "\n",
        "This is **expected behavior** for the Sentiment140 dataset, which was collected from Twitter and reflects real-world, noisy text data.\n",
        "\n",
        "While most tweets are in English or English-based internet slang, it's possible that some non-English tweets are present. For now, we retain this noise to maintain the dataset's realism, which helps models generalize to real-world social media inputs."
      ]
    },
    {
      "cell_type": "code",
      "execution_count": 10,
      "id": "b09528bb-85e2-4ec6-a1dd-a95859f961de",
      "metadata": {
        "colab": {
          "base_uri": "https://localhost:8080/"
        },
        "id": "b09528bb-85e2-4ec6-a1dd-a95859f961de",
        "outputId": "6e1c2585-3883-4164-ea88-3275252b1af2"
      },
      "outputs": [
        {
          "output_type": "stream",
          "name": "stdout",
          "text": [
            "Train shape: (1119609, 2)\n",
            "Validation shape: (239917, 2)\n",
            "X_train shape: (1119609,) | y_train shape: (1119609,)\n",
            "X_val shape: (239917,) | y_val shape: (239917,)\n"
          ]
        }
      ],
      "source": [
        "# next, we extract targets\n",
        "\n",
        "# Ensure 'target' is int and remap 4 → 1\n",
        "X_train = train_df['text'].astype(str)\n",
        "y_train = train_df['target'].astype(int).replace({4: 1})\n",
        "\n",
        "X_val = val_df['text'].astype(str)\n",
        "y_val = val_df['target'].astype(int).replace({4: 1})\n",
        "\n",
        "\n",
        "# Final check\n",
        "print(\"Train shape:\", train_df.shape)\n",
        "print(\"Validation shape:\", val_df.shape)\n",
        "print(\"X_train shape:\", X_train.shape, \"| y_train shape:\", y_train.shape)\n",
        "print(\"X_val shape:\", X_val.shape, \"| y_val shape:\", y_val.shape)"
      ]
    },
    {
      "cell_type": "markdown",
      "id": "9c9a828c-6355-4bd6-a1d2-d8b2cd70ed42",
      "metadata": {
        "id": "9c9a828c-6355-4bd6-a1d2-d8b2cd70ed42"
      },
      "source": [
        "### Why Use TF-IDF Instead of Word Embeddings?\n",
        "\n",
        "Here, we use **TF-IDF vectorization** in combination with **Logistic Regression** to build a baseline sentiment classifier. A natural question is: _Why not use word embeddings like Word2Vec, GloVe, or BERT instead of TF-IDF?_ Here's why:\n",
        "\n",
        "#### TF-IDF is Simple and Effective for Linear Models\n",
        "TF-IDF (Term Frequency–Inverse Document Frequency) transforms text into sparse vectors that indicate the relative importance of each word in the tweet. This is ideal for traditional linear models like Logistic Regression, which rely on **high-dimensional but interpretable** feature inputs.\n",
        "\n",
        "#### Embeddings Require Context-Aware Models\n",
        "Word embeddings (like Word2Vec or BERT) encode semantic similarity — which is powerful — but they are designed to be used with **neural network models** like LSTMs or Transformers. These models can learn complex patterns in dense embeddings, while Logistic Regression cannot exploit such structure effectively.\n",
        "\n",
        "#### Interpretable and Lightweight\n",
        "TF-IDF allows us to inspect which words are influential for predictions by analyzing model coefficients. This interpretability is important in early stages and baselines. Additionally, it's **faster to compute** and doesn't rely on external pretrained models."
      ]
    },
    {
      "cell_type": "markdown",
      "id": "66d43a15-edc4-4585-8097-5bb59103151e",
      "metadata": {
        "id": "66d43a15-edc4-4585-8097-5bb59103151e"
      },
      "source": [
        "### Logistic Regression with TF-IDF: Why Normalization is Essential\n",
        "\n",
        "In this notebook, we use `TfidfVectorizer` to transform tweets into numerical vectors before training a Logistic Regression classifier for sentiment prediction.\n",
        "\n",
        "However, tweets can vary widely in length — some are just a few words, while others are long sentences. If we don't normalize the TF-IDF vectors, longer tweets may end up with higher total values simply because they contain more words. This can unintentionally bias the classifier to favor longer inputs.\n",
        "\n",
        "To address this, we apply **L2 normalization** to all TF-IDF vectors. This ensures that every tweet, regardless of length, contributes equally to the model — and the prediction depends more on the **pattern of word importance** rather than the **number of words**.\n",
        "\n",
        "By default, `TfidfVectorizer(norm='l2')` handles this for us, making our input vectors have unit length and preventing length-based skew in model training."
      ]
    },
    {
      "cell_type": "code",
      "execution_count": 11,
      "id": "57f44946-ced5-4aba-a33b-3c920624b4cf",
      "metadata": {
        "id": "57f44946-ced5-4aba-a33b-3c920624b4cf"
      },
      "outputs": [],
      "source": [
        "# Then, we define pipeline combining TF-IDF and Logistic Regression\n",
        "pipeline = Pipeline([\n",
        "    ('tfidf', TfidfVectorizer(\n",
        "        max_features=10000,\n",
        "        ngram_range=(1, 2),\n",
        "        norm='l2'\n",
        "    )),\n",
        "    ('clf', LogisticRegression(\n",
        "        max_iter=1000,\n",
        "        random_state=42,\n",
        "        class_weight='balanced'\n",
        "    ))\n",
        "])"
      ]
    },
    {
      "cell_type": "markdown",
      "id": "a4afebd0-3a9b-4bc1-9673-79d9ab0d32fe",
      "metadata": {
        "id": "a4afebd0-3a9b-4bc1-9673-79d9ab0d32fe"
      },
      "source": [
        "### Hyperparameter Tuning\n",
        "\n",
        "Here, we apply **GridSearchCV** to optimize the hyperparameters of our TF-IDF + Logistic Regression pipeline.\n",
        "\n",
        "#### What is GridSearchCV?\n",
        "\n",
        "`GridSearchCV` is a tool in scikit-learn that automates hyperparameter tuning. Instead of manually guessing the best values for model settings (like regularization strength or n-gram range), GridSearchCV systematically tries out all combinations of parameters in a defined grid and evaluates them using cross-validation.\n",
        "\n",
        "#### Why It Matters:\n",
        "\n",
        "Different parameter settings can dramatically affect model performance. For example:\n",
        "- A **high regularization (C)** might underfit the data\n",
        "- A **broad n-gram range** might capture more context, or lead to overfitting\n",
        "- Filtering out common/rare words using **`max_df`** and **`min_df`** can improve generalization\n",
        "\n",
        "By evaluating each configuration using **3-fold cross-validation**, we get a reliable estimate of how each setting performs across the data.\n",
        "\n",
        "#### What We Tuned:\n",
        "- **TF-IDF vectorizer**:\n",
        "  - `max_features`, `ngram_range`, `min_df`, `max_df`\n",
        "- **Logistic Regression**:\n",
        "  - `C` (regularization), `penalty`, `class_weight`\n",
        "\n",
        "The best combination is selected based on **weighted F1 score**, which balances precision and recall in the presence of class imbalance."
      ]
    },
    {
      "cell_type": "code",
      "execution_count": 12,
      "id": "db4493c4-d30a-4ece-a995-0df30b5f9341",
      "metadata": {
        "colab": {
          "base_uri": "https://localhost:8080/"
        },
        "id": "db4493c4-d30a-4ece-a995-0df30b5f9341",
        "outputId": "39a0e985-7add-437f-c954-b0765dc30b91"
      },
      "outputs": [
        {
          "output_type": "stream",
          "name": "stdout",
          "text": [
            "Starting hyperparameter tuning...\n",
            "Fitting 3 folds for each of 96 candidates, totalling 288 fits\n",
            "\n",
            "Best Parameters Found:\n",
            "{'clf__C': 1, 'clf__class_weight': None, 'clf__penalty': 'l2', 'tfidf__max_df': 0.7, 'tfidf__max_features': 10000, 'tfidf__min_df': 1, 'tfidf__ngram_range': (1, 2)}\n"
          ]
        }
      ],
      "source": [
        "# Then, we define parameter grid for GridSearch\n",
        "param_grid = {\n",
        "    'tfidf__max_features': [5000, 10000],\n",
        "    'tfidf__ngram_range': [(1, 1), (1, 2)],\n",
        "    'tfidf__min_df': [1, 5],\n",
        "    'tfidf__max_df': [0.7, 0.9],\n",
        "    'clf__C': [0.1, 1, 10],\n",
        "    'clf__penalty': ['l2'],  # 'l1' requires solver='liblinear'\n",
        "    'clf__class_weight': [None, 'balanced']\n",
        "}\n",
        "\n",
        "# Setup GridSearchCV with 3-fold CV and weighted F1\n",
        "grid_search = GridSearchCV(\n",
        "    pipeline,\n",
        "    param_grid,\n",
        "    cv=3,\n",
        "    scoring='f1_weighted',\n",
        "    verbose=1,\n",
        "    n_jobs=-1\n",
        ")\n",
        "\n",
        "# Perform grid search\n",
        "print(\"Starting hyperparameter tuning...\")\n",
        "grid_search.fit(X_train, y_train)\n",
        "\n",
        "# Extract best model from grid search\n",
        "best_model = grid_search.best_estimator_\n",
        "\n",
        "# Show best parameters\n",
        "print(\"\\nBest Parameters Found:\")\n",
        "print(grid_search.best_params_)"
      ]
    },
    {
      "cell_type": "markdown",
      "source": [
        "### Best Hyperparameters Summary\n",
        "\n",
        "After performing GridSearchCV with 3-fold cross-validation across 96 parameter combinations, the following configuration achieved the best weighted F1-score on the validation data:\n",
        "\n",
        "```python\n",
        "Best Parameters Found:\n",
        "{\n",
        "    'clf__C': 1,\n",
        "    'clf__class_weight': None,\n",
        "    'clf__penalty': 'l2',\n",
        "    'tfidf__max_df': 0.7,\n",
        "    'tfidf__max_features': 10000,\n",
        "    'tfidf__min_df': 1,\n",
        "    'tfidf__ngram_range': (1, 2)\n",
        "}\n",
        "````\n",
        "\n",
        "#### What These Mean:\n",
        "\n",
        "* **`clf__C=1`**: This is the inverse of regularization strength. A value of 1 means moderate regularization — not too strict, not too loose.\n",
        "* **`clf__class_weight=None`**: No adjustment for class imbalance was needed — consistent with the class distribution being fairly balanced in our dataset.\n",
        "* **`clf__penalty='l2'`**: L2 regularization (ridge-style) was used, which penalizes large coefficients and helps reduce overfitting.\n",
        "* **`tfidf__max_df=0.7`**: Words appearing in more than 70% of tweets were excluded. This removes very common words that do not help differentiate sentiment.\n",
        "* **`tfidf__max_features=10000`**: The feature space is limited to the 10,000 most important terms based on TF-IDF scores. This balances performance and memory efficiency.\n",
        "* **`tfidf__min_df=1`**: Very rare words (appearing in just one tweet) were included. In this dataset, such rare terms may carry meaningful sentiment signals (e.g., slang, hashtags).\n",
        "* **`tfidf__ngram_range=(1, 2)`**: Both unigrams (single words) and bigrams (pairs of consecutive words) were used. This captures more contextual meaning than unigrams alone.\n",
        "\n",
        "This configuration balances expressiveness (via bigrams and rare words) with robustness (via regularization and feature limits). It serves as our final optimized model for TF-IDF + Logistic Regression."
      ],
      "metadata": {
        "id": "2jgDBKfB24Xj"
      },
      "id": "2jgDBKfB24Xj"
    },
    {
      "cell_type": "code",
      "execution_count": 13,
      "id": "bfb6fb0d-ad27-444f-b2e6-d174b50140e5",
      "metadata": {
        "colab": {
          "base_uri": "https://localhost:8080/"
        },
        "id": "bfb6fb0d-ad27-444f-b2e6-d174b50140e5",
        "outputId": "f1397ec6-b086-4b67-8859-c3930529e688"
      },
      "outputs": [
        {
          "output_type": "stream",
          "name": "stdout",
          "text": [
            "Model saved to tfidf_logreg_pipeline.joblib\n"
          ]
        }
      ],
      "source": [
        "# Then, we train our Logistic Regression Model\n",
        "\n",
        "# The best model from GridSearchCV is already trained\n",
        "TFIDF_LogReg_model = best_model\n",
        "\n",
        "# Save the trained pipeline (TF-IDF + Logistic Regression)\n",
        "joblib.dump(TFIDF_LogReg_model, f\"{PROJECT_ROOT}/models/tfidf_logreg_pipeline.joblib\")\n",
        "print(\"Model saved to tfidf_logreg_pipeline.joblib\")"
      ]
    },
    {
      "cell_type": "markdown",
      "source": [
        "### Interpreting Model Coefficients — Most Influential Words\n",
        "\n",
        "One of the key advantages of using a linear model like Logistic Regression is interpretability. Each word (or n-gram) in the TF-IDF feature space is assigned a coefficient that reflects its contribution to the model's prediction.\n",
        "\n",
        "- A **positive coefficient** indicates that the word pushes the model toward predicting **positive sentiment**.\n",
        "- A **negative coefficient** suggests that the word is associated with **negative sentiment**.\n",
        "\n",
        "By examining the most strongly weighted words, we can better understand the linguistic patterns the model has learned.\n",
        "\n",
        "In the plots below, we visualize the **top 10 positive and negative sentiment words** based on their model weights. This helps validate the model's behavior and provides intuitive insight into how different words influence predictions.\n"
      ],
      "metadata": {
        "id": "no_1D6bk5mFF"
      },
      "id": "no_1D6bk5mFF"
    },
    {
      "cell_type": "code",
      "source": [
        "# Get the vectorizer and classifier from the pipeline\n",
        "vectorizer = TFIDF_LogReg_model.named_steps['tfidf']\n",
        "classifier = TFIDF_LogReg_model.named_steps['clf']\n",
        "\n",
        "# Get feature names and coefficients\n",
        "feature_names = np.array(vectorizer.get_feature_names_out())\n",
        "coefficients = classifier.coef_[0]\n",
        "\n",
        "# Top positive and negative words\n",
        "top_pos_indices = np.argsort(coefficients)[-10:]\n",
        "top_neg_indices = np.argsort(coefficients)[:10]\n",
        "\n",
        "top_pos_words = feature_names[top_pos_indices]\n",
        "top_neg_words = feature_names[top_neg_indices]\n",
        "\n",
        "# Plot\n",
        "plt.figure(figsize=(10, 6))\n",
        "plt.barh(top_pos_words, coefficients[top_pos_indices], color='green')\n",
        "plt.title(\"Top Positive Sentiment Words\")\n",
        "plt.show()\n",
        "\n",
        "plt.figure(figsize=(10, 6))\n",
        "plt.barh(top_neg_words, coefficients[top_neg_indices], color='red')\n",
        "plt.title(\"Top Negative Sentiment Words\")\n",
        "plt.show()"
      ],
      "metadata": {
        "colab": {
          "base_uri": "https://localhost:8080/",
          "height": 1000
        },
        "id": "5ISHU6Sh5N2y",
        "outputId": "6a8755ac-d2af-4d1f-fc9b-8a4e30d77680"
      },
      "id": "5ISHU6Sh5N2y",
      "execution_count": 14,
      "outputs": [
        {
          "output_type": "display_data",
          "data": {
            "text/plain": [
              "<Figure size 1000x600 with 1 Axes>"
            ],
            "image/png": "[encoded data removed]"
          },
          "metadata": {}
        },
        {
          "output_type": "display_data",
          "data": {
            "text/plain": [
              "<Figure size 1000x600 with 1 Axes>"
            ],
            "image/png": "[encoded data removed]"
          },
          "metadata": {}
        }
      ]
    },
    {
      "cell_type": "markdown",
      "source": [
        "### Confusion Matrix\n",
        "\n",
        "The confusion matrix below summarizes the model’s performance on the test set by showing the count of correct and incorrect predictions across sentiment classes.\n",
        "\n",
        "This serves as a baseline reference for evaluating future models. We will revisit this matrix when comparing results from deep learning approaches in other notebooks."
      ],
      "metadata": {
        "id": "QEjbO3uK6tqw"
      },
      "id": "QEjbO3uK6tqw"
    },
    {
      "cell_type": "code",
      "execution_count": 15,
      "id": "45eb6f03-4d26-4168-8b66-66ea3a970fe6",
      "metadata": {
        "colab": {
          "base_uri": "https://localhost:8080/"
        },
        "id": "45eb6f03-4d26-4168-8b66-66ea3a970fe6",
        "outputId": "c790905d-e27a-4544-f63a-411911a4acc6"
      },
      "outputs": [
        {
          "output_type": "stream",
          "name": "stdout",
          "text": [
            "\n",
            "--- Validation Performance (Logistic Regression) ---\n",
            "Accuracy:  0.7816\n",
            "Precision: 0.7700\n",
            "Recall:    0.8032\n",
            "F1 Score:  0.7862\n"
          ]
        }
      ],
      "source": [
        "# Then we evaluate the Model\n",
        "\n",
        "# Predict on validation set\n",
        "y_val_pred = TFIDF_LogReg_model.predict(X_val)\n",
        "\n",
        "# Compute metrics\n",
        "acc = accuracy_score(y_val, y_val_pred)\n",
        "prec = precision_score(y_val, y_val_pred, zero_division=0)\n",
        "rec = recall_score(y_val, y_val_pred, zero_division=0)\n",
        "f1 = f1_score(y_val, y_val_pred, zero_division=0)\n",
        "\n",
        "# Print summary\n",
        "print(\"\\n--- Validation Performance (Logistic Regression) ---\")\n",
        "print(f\"Accuracy:  {acc:.4f}\")\n",
        "print(f\"Precision: {prec:.4f}\")\n",
        "print(f\"Recall:    {rec:.4f}\")\n",
        "print(f\"F1 Score:  {f1:.4f}\")"
      ]
    },
    {
      "cell_type": "code",
      "execution_count": 16,
      "id": "1c62a1e3-2fd1-43fa-b390-21778bd92d44",
      "metadata": {
        "colab": {
          "base_uri": "https://localhost:8080/",
          "height": 472
        },
        "id": "1c62a1e3-2fd1-43fa-b390-21778bd92d44",
        "outputId": "e9f2b1b4-b1d9-4283-a354-28f31702ab0c"
      },
      "outputs": [
        {
          "output_type": "display_data",
          "data": {
            "text/plain": [
              "<Figure size 640x480 with 2 Axes>"
            ],
            "image/png": "[encoded data removed]"
          },
          "metadata": {}
        }
      ],
      "source": [
        "# Next, we view the confusion matrix\n",
        "\n",
        "cm = confusion_matrix(y_val, y_val_pred)\n",
        "ConfusionMatrixDisplay(cm, display_labels=[\"Negative\", \"Positive\"]).plot(cmap=\"Blues\")\n",
        "plt.title(\"Validation Confusion Matrix (Logistic Regression)\")\n",
        "plt.grid(False)\n",
        "plt.show()"
      ]
    },
    {
      "cell_type": "markdown",
      "source": [
        "### Understanding Where the Model Fails\n",
        "\n",
        "While the baseline model achieves a respectable F1-score of near 0.8, aggregate metrics alone can mask important patterns. Not all errors are equal — some reflect deeper issues in how the model interprets language.\n",
        "\n",
        "To uncover these issues, we take a closer look at the tweets that were misclassified with high confidence. These examples help surface specific linguistic challenges the model struggles with, providing insights that metrics like accuracy or F1 cannot reveal.\n"
      ],
      "metadata": {
        "id": "cSmGbO8iBuAB"
      },
      "id": "cSmGbO8iBuAB"
    },
    {
      "cell_type": "code",
      "source": [
        "# --- Error Analysis ---\n",
        "\n",
        "# Get prediction probabilities for the validation set\n",
        "# The probability for the predicted class is the confidence score.\n",
        "y_proba = TFIDF_LogReg_model.predict_proba(X_val)\n",
        "\n",
        "# Build the error analysis DataFrame\n",
        "# This combines the original text, true labels, predictions, and confidence.\n",
        "errors_df = pd.DataFrame({\n",
        "    'text': X_val,\n",
        "    'true_label': y_val,\n",
        "    'predicted_label': y_val_pred,\n",
        "    'confidence': y_proba.max(axis=1) # Get the highest probability as the confidence score\n",
        "})\n",
        "\n",
        "# Filter to find only the misclassified tweets\n",
        "misclassified_df = errors_df[errors_df['true_label'] != errors_df['predicted_label']]\n",
        "\n",
        "# Sort the misclassified tweets by confidence in descending order\n",
        "# This shows the errors the model was \"most confident\" about, which are often the most insightful.\n",
        "most_confident_errors = misclassified_df.sort_values(by='confidence', ascending=False)\n",
        "\n",
        "# Display the top 10 most confident errors\n",
        "print(\"Top 10 Most Confident Misclassifications:\")\n",
        "# Set display options to prevent wrapping\n",
        "pd.set_option('display.max_colwidth', 200) # To see the full tweet text\n",
        "pd.set_option('display.width', 1000) # Increase display width to prevent line breaks\n",
        "print(most_confident_errors.head(10))"
      ],
      "metadata": {
        "colab": {
          "base_uri": "https://localhost:8080/"
        },
        "id": "8pPQ2Z3h79Zd",
        "outputId": "cf0eef08-94ba-4245-9da1-3cfbd91243b4"
      },
      "id": "8pPQ2Z3h79Zd",
      "execution_count": 17,
      "outputs": [
        {
          "output_type": "stream",
          "name": "stdout",
          "text": [
            "Top 10 Most Confident Misclassifications:\n",
            "                                                         text  true_label  predicted_label  confidence\n",
            "228304                   usermention dont sad doesnt make sad           1                0    0.999687\n",
            "184485                   usermention filthy mcnasty cant hate           1                0    0.999338\n",
            "187310  usermention yeah flu suck hate fever couldnt anything           1                0    0.999263\n",
            "73838                                                miss opc           1                0    0.999261\n",
            "129775                                               miss beb           1                0    0.999261\n",
            "236381                                                   miss           1                0    0.999261\n",
            "100159                           cb miss puthars hifi biryani           1                0    0.999261\n",
            "211943                                                   miss           1                0    0.999261\n",
            "216924                                                   miss           1                0    0.999261\n",
            "83637                                                    miss           1                0    0.999261\n"
          ]
        }
      ]
    },
    {
      "cell_type": "markdown",
      "source": [
        "### Error Analysis: Insights from Misclassified Tweets\n",
        "\n",
        "While the baseline F1-score is respectable, near 0.8, error analysis on the most confidently misclassified tweets reveals systemic weaknesses that aggregate metrics hide. The error analysis shows a clear pattern of positive tweets being misclassified as negative, leading to several key observations.\n",
        "\n",
        "#### Key Observations:\n",
        "\n",
        "- **Context and Negation Blindness**:  \n",
        "  The model is easily swayed by words with strong negative associations (\"sad,\" \"hate\"), failing to interpret surrounding context like negation (\"cant hate\"). This is a classic limitation of TF-IDF's \"bag-of-words\" approach, which ignores word order.\n",
        "\n",
        "- **Misinterpreting Ambiguous Words**:  \n",
        "  The model systematically misclassifies the word \"miss.\" Having learned it as a strong negative indicator, it incorrectly flags any tweet containing the word, unable to differentiate its contextual meaning. Note that these are unique tweets, not duplicates, highlighting a significant model flaw.\n",
        "\n",
        "These findings underscore the baseline model's limitations in understanding linguistic nuance. Its inability to handle sarcasm, negation, and context provides a strong justification for using more sophisticated, context-aware architectures like LSTMs and Transformers.\n"
      ],
      "metadata": {
        "id": "NCN27Fo8-1T2"
      },
      "id": "NCN27Fo8-1T2"
    },
    {
      "cell_type": "markdown",
      "source": [
        "> **Note:** One might consider deduplicating tweets that contain repeated patterns like the word *“miss”* to reduce bias in error analysis. However, in this case, these are **distinct tweets** from different users or contexts that happen to share the same word. Removing them would obscure a real modeling issue: the model is overfitting to surface-level word cues without understanding context. Keeping these examples highlights a consistent failure mode and strengthens the case for using context-aware models."
      ],
      "metadata": {
        "id": "_9f5rWWWH7qK"
      },
      "id": "_9f5rWWWH7qK"
    },
    {
      "cell_type": "markdown",
      "source": [
        "## Wrap-Up: Strengths and Limitations of Logistic Regression\n",
        "\n",
        "In our baseline notebook, we identify that Logistic Regression paired with TF-IDF provides a solid and interpretable baseline for sentiment classification. It has strengths and limitations:\n",
        "\n",
        "#### Strengths\n",
        "- **Fast and efficient**: Trains quickly and scales well to large datasets.\n",
        "- **Interpretable**: Coefficients reveal which words drive sentiment predictions.\n",
        "- **Simple to implement**: Easy to set up and tune with standard tools like scikit-learn.\n",
        "- **Lightweight**: Requires minimal computational resources.\n",
        "- **Strong baseline**: Performs surprisingly well given its simplicity.\n",
        "\n",
        "#### Limitations\n",
        "- **Context-insensitive**: Ignores word order, making it blind to negation or sarcasm.\n",
        "- **Bag-of-words rigidity**: Cannot capture deep semantic relationships between words.\n",
        "- **Over-reliance on keywords**: Heavily influenced by individual terms without understanding their context.\n",
        "- **Struggles with nuance**: Misclassifies tweets containing ambiguous or sentiment-shifting phrases (e.g., \"miss\", \"can't hate\").\n",
        "\n",
        "These limitations highlight the need for more context-aware architectures — such as LSTMs and Transformers — which can better capture the complexity and nuance of natural language."
      ],
      "metadata": {
        "id": "wg-HbfWE_9Yb"
      },
      "id": "wg-HbfWE_9Yb"
    }
  ],
  "metadata": {
    "accelerator": "GPU",
    "colab": {
      "gpuType": "A100",
      "machine_shape": "hm",
      "provenance": []
    },
    "kernelspec": {
      "display_name": "Python 3 (ipykernel)",
      "language": "python",
      "name": "python3"
    },
    "language_info": {
      "codemirror_mode": {
        "name": "ipython",
        "version": 3
      },
      "file_extension": ".py",
      "mimetype": "text/x-python",
      "name": "python",
      "nbconvert_exporter": "python",
      "pygments_lexer": "ipython3",
      "version": "3.13.5"
    }
  },
  "nbformat": 4,
  "nbformat_minor": 5
}