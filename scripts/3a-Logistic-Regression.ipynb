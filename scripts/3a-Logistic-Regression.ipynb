{
 "cells": [
  {
   "cell_type": "markdown",
   "id": "a792f332-6130-4efa-9314-8226952a08dd",
   "metadata": {},
   "source": [
    "placeholder to split model training from milestone 2"
   ]
  }
 ],
 "metadata": {
  "kernelspec": {
   "display_name": "Python 3 (ipykernel)",
   "language": "python",
   "name": "python3"
  },
  "language_info": {
   "codemirror_mode": {
    "name": "ipython",
    "version": 3
   },
   "file_extension": ".py",
   "mimetype": "text/x-python",
   "name": "python",
   "nbconvert_exporter": "python",
   "pygments_lexer": "ipython3",
   "version": "3.12.4"
  }
 },
 "nbformat": 4,
 "nbformat_minor": 5
}
