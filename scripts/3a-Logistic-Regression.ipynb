{
 "cells": [
  {
   "cell_type": "markdown",
   "id": "6f6f7be3",
   "metadata": {
    "colab_type": "text",
    "id": "view-in-github"
   },
   "source": [
    "<a href=\"https://colab.research.google.com/github/ariesslin/ie7500-g1-tweet-sentiment-nlp/blob/main/scripts/3.%20Model_Development.ipynb\" target=\"_parent\"><img src=\"https://colab.research.google.com/assets/colab-badge.svg\" alt=\"Open In Colab\"/></a>"
   ]
  },
  {
   "cell_type": "markdown",
   "id": "82172ce7-5869-4448-8c89-3e9450c1e426",
   "metadata": {
    "id": "82172ce7-5869-4448-8c89-3e9450c1e426"
   },
   "source": [
    "\n",
    "<div style=\"background-color:#e6f2ff; border-left:8px solid #0059b3; padding:20px; margin:20px 0;\">\n",
    "  <h2 style=\"color:#003366;\"><strong>3a. Baseline Model – TF-IDF + Logistic Regression</strong></h2>\n",
    "  <p style=\"color:#333333;\">TF-IDF vectorization + logistic regression as a benchmark.</p>\n",
    "</div>\n"
   ]
  },
  {
   "cell_type": "markdown",
   "id": "d2bc63ac-c9a7-4741-8af0-ef929d8920d4",
   "metadata": {},
   "source": [
    "## Baseline Sentiment Classifier: TF-IDF + Logistic Regression\n",
    "\n",
    "This notebook implements the **baseline model** for our tweet sentiment classification project, using a combination of **TF-IDF vectorization** and **Logistic Regression**.\n",
    "\n",
    "### Why TF-IDF + Logistic Regression?\n",
    "\n",
    "- **TF-IDF** transforms raw tweet text into numerical feature vectors by measuring the importance of words relative to the entire corpus.\n",
    "- **Logistic Regression** is a simple yet effective linear classifier that provides strong performance with fast training time and easy interpretability.\n",
    "\n",
    "TF-IDF is ideal for linear models but sensitive to document length. To prevent longer tweets from biasing the model, we apply **L2 normalization**, ensuring each tweet contributes equally regardless of length.\n",
    "\n",
    "### What This Notebook Covers\n",
    "\n",
    "- Loads preprocessed training and validation data\n",
    "- Tokenizes and normalizes text using Gensim and TF-IDF\n",
    "- Tunes hyperparameters using `GridSearchCV`\n",
    "- Trains a logistic regression model on vectorized tweets\n",
    "- Evaluates performance on the validation set using accuracy, precision, recall, F1 score, and a confusion matrix\n",
    "- Saves the trained pipeline for reuse in evaluation\n",
    "\n",
    "This baseline serves as a reference point for evaluating deeper models like LSTM and BERT, helping us assess whether the added complexity improves sentiment classification."
   ]
  },
  {
   "cell_type": "code",
   "execution_count": 1,
   "id": "07efb030-35ad-4e70-9186-b72e6bd676ec",
   "metadata": {
    "id": "07efb030-35ad-4e70-9186-b72e6bd676ec"
   },
   "outputs": [],
   "source": [
    "from gensim.utils import simple_preprocess\n",
    "from sklearn.feature_extraction.text import TfidfVectorizer\n",
    "from sklearn.linear_model import LogisticRegression\n",
    "from sklearn.metrics import (\n",
    "    accuracy_score, precision_score, recall_score, f1_score,\n",
    "    confusion_matrix, ConfusionMatrixDisplay, classification_report\n",
    ")\n",
    "from sklearn.model_selection import GridSearchCV\n",
    "from sklearn.pipeline import Pipeline\n",
    "import joblib\n",
    "import matplotlib.pyplot as plt\n",
    "import numpy as np\n",
    "import pandas as pd\n",
    "import sys"
   ]
  },
  {
   "cell_type": "code",
   "execution_count": 2,
   "id": "d2f2ef18-6c95-4e5d-97f1-6f6159447e4a",
   "metadata": {},
   "outputs": [],
   "source": [
    "# Import helper functions\n",
    "sys.path.append(\"../utils\")\n",
    "from helper import load_clean_train_val_datasets"
   ]
  },
  {
   "cell_type": "code",
   "execution_count": 3,
   "id": "1ad32143-2dd6-47cf-b515-6d5e1dc6f352",
   "metadata": {},
   "outputs": [],
   "source": [
    "train_df, val_df = load_clean_train_val_datasets()"
   ]
  },
  {
   "cell_type": "code",
   "execution_count": 4,
   "id": "0677ad14-6a04-4b0a-847a-e7b1d078a718",
   "metadata": {
    "id": "0677ad14-6a04-4b0a-847a-e7b1d078a718",
    "outputId": "c24842fb-a019-4e25-8977-70740c84e8d2"
   },
   "outputs": [
    {
     "data": {
      "text/html": [
       "<div>\n",
       "<style scoped>\n",
       "    .dataframe tbody tr th:only-of-type {\n",
       "        vertical-align: middle;\n",
       "    }\n",
       "\n",
       "    .dataframe tbody tr th {\n",
       "        vertical-align: top;\n",
       "    }\n",
       "\n",
       "    .dataframe thead th {\n",
       "        text-align: right;\n",
       "    }\n",
       "</style>\n",
       "<table border=\"1\" class=\"dataframe\">\n",
       "  <thead>\n",
       "    <tr style=\"text-align: right;\">\n",
       "      <th></th>\n",
       "      <th>text</th>\n",
       "      <th>target</th>\n",
       "    </tr>\n",
       "  </thead>\n",
       "  <tbody>\n",
       "    <tr>\n",
       "      <th>0</th>\n",
       "      <td>doesnt know hahahahahaha hi world twitter</td>\n",
       "      <td>4</td>\n",
       "    </tr>\n",
       "    <tr>\n",
       "      <th>1</th>\n",
       "      <td>gahh im hungryy shouldve something teadinner s...</td>\n",
       "      <td>0</td>\n",
       "    </tr>\n",
       "    <tr>\n",
       "      <th>2</th>\n",
       "      <td>last day</td>\n",
       "      <td>0</td>\n",
       "    </tr>\n",
       "    <tr>\n",
       "      <th>3</th>\n",
       "      <td>sunburn forget put sunblock shnatzi</td>\n",
       "      <td>0</td>\n",
       "    </tr>\n",
       "    <tr>\n",
       "      <th>4</th>\n",
       "      <td>usermention want go home contact hurt</td>\n",
       "      <td>0</td>\n",
       "    </tr>\n",
       "  </tbody>\n",
       "</table>\n",
       "</div>"
      ],
      "text/plain": [
       "                                                text  target\n",
       "0          doesnt know hahahahahaha hi world twitter       4\n",
       "1  gahh im hungryy shouldve something teadinner s...       0\n",
       "2                                           last day       0\n",
       "3                sunburn forget put sunblock shnatzi       0\n",
       "4              usermention want go home contact hurt       0"
      ]
     },
     "execution_count": 4,
     "metadata": {},
     "output_type": "execute_result"
    }
   ],
   "source": [
    "train_df.head()"
   ]
  },
  {
   "cell_type": "code",
   "execution_count": 5,
   "id": "43ddf923-a47e-4736-8933-916407b8284e",
   "metadata": {
    "id": "43ddf923-a47e-4736-8933-916407b8284e",
    "outputId": "26c93d5a-5dfb-4a0f-fd0b-db3ff0d3c2e3"
   },
   "outputs": [
    {
     "data": {
      "text/html": [
       "<div>\n",
       "<style scoped>\n",
       "    .dataframe tbody tr th:only-of-type {\n",
       "        vertical-align: middle;\n",
       "    }\n",
       "\n",
       "    .dataframe tbody tr th {\n",
       "        vertical-align: top;\n",
       "    }\n",
       "\n",
       "    .dataframe thead th {\n",
       "        text-align: right;\n",
       "    }\n",
       "</style>\n",
       "<table border=\"1\" class=\"dataframe\">\n",
       "  <thead>\n",
       "    <tr style=\"text-align: right;\">\n",
       "      <th></th>\n",
       "      <th>text</th>\n",
       "      <th>target</th>\n",
       "    </tr>\n",
       "  </thead>\n",
       "  <tbody>\n",
       "    <tr>\n",
       "      <th>0</th>\n",
       "      <td>lng fn day mah head killin im tire den bih bt ...</td>\n",
       "      <td>0</td>\n",
       "    </tr>\n",
       "    <tr>\n",
       "      <th>1</th>\n",
       "      <td>usermention nah manthat fit lmao run mix oh ma...</td>\n",
       "      <td>4</td>\n",
       "    </tr>\n",
       "    <tr>\n",
       "      <th>2</th>\n",
       "      <td>usermention kno right thermostat war almost al...</td>\n",
       "      <td>0</td>\n",
       "    </tr>\n",
       "    <tr>\n",
       "      <th>3</th>\n",
       "      <td>usermention awww well dont worry youre miss mu...</td>\n",
       "      <td>0</td>\n",
       "    </tr>\n",
       "    <tr>\n",
       "      <th>4</th>\n",
       "      <td>use little girls room soo bad soon leave bos c...</td>\n",
       "      <td>0</td>\n",
       "    </tr>\n",
       "  </tbody>\n",
       "</table>\n",
       "</div>"
      ],
      "text/plain": [
       "                                                text  target\n",
       "0  lng fn day mah head killin im tire den bih bt ...       0\n",
       "1  usermention nah manthat fit lmao run mix oh ma...       4\n",
       "2  usermention kno right thermostat war almost al...       0\n",
       "3  usermention awww well dont worry youre miss mu...       0\n",
       "4  use little girls room soo bad soon leave bos c...       0"
      ]
     },
     "execution_count": 5,
     "metadata": {},
     "output_type": "execute_result"
    }
   ],
   "source": [
    "val_df.head()"
   ]
  },
  {
   "cell_type": "markdown",
   "id": "5aab98bb-6544-4c79-b8b2-15a8f56cdd9b",
   "metadata": {},
   "source": [
    "#### Observation: Dataset Inspection and Language Quality\n",
    "\n",
    "After loading the dataset, we inspect the first few rows using `head()`. The `text` column contains raw tweets, which often include:\n",
    "\n",
    "* Informal language and slang (e.g., \"lmao\", \"bt\", \"nah manthat\")\n",
    "* Typos, abbreviations, and creative spellings\n",
    "* Phonetic spellings or dialect-specific phrasing\n",
    "* Hashtags, emojis, or special characters\n",
    "* Occasionally, non-English or mixed-language content\n",
    "\n",
    "This is **expected behavior** for the Sentiment140 dataset, which was collected from Twitter and reflects real-world, noisy text data.\n",
    "\n",
    "While most tweets are in English or English-based internet slang, it's possible that some non-English tweets are present. For now, we retain this noise to maintain the dataset's realism, which helps models generalize to real-world social media inputs."
   ]
  },
  {
   "cell_type": "code",
   "execution_count": 6,
   "id": "b09528bb-85e2-4ec6-a1dd-a95859f961de",
   "metadata": {
    "id": "b09528bb-85e2-4ec6-a1dd-a95859f961de"
   },
   "outputs": [
    {
     "name": "stdout",
     "output_type": "stream",
     "text": [
      "Train shape: (1119609, 2)\n",
      "Validation shape: (239917, 2)\n",
      "X_train shape: (1119609,) | y_train shape: (1119609,)\n",
      "X_val shape: (239917,) | y_val shape: (239917,)\n"
     ]
    }
   ],
   "source": [
    "# next, we extract targets\n",
    "\n",
    "# Ensure 'target' is int and remap 4 → 1\n",
    "\n",
    "X_train = train_df['text'].astype(str)\n",
    "y_train = train_df['target'].astype(int).replace({4: 1})\n",
    "\n",
    "X_val = val_df['text'].astype(str)\n",
    "y_val = val_df['target'].astype(int).replace({4: 1})\n",
    "\n",
    "\n",
    "# Final check\n",
    "print(\"Train shape:\", train_df.shape)\n",
    "print(\"Validation shape:\", val_df.shape)\n",
    "print(\"X_train shape:\", X_train.shape, \"| y_train shape:\", y_train.shape)\n",
    "print(\"X_val shape:\", X_val.shape, \"| y_val shape:\", y_val.shape)"
   ]
  },
  {
   "cell_type": "code",
   "execution_count": 7,
   "id": "57f44946-ced5-4aba-a33b-3c920624b4cf",
   "metadata": {
    "id": "57f44946-ced5-4aba-a33b-3c920624b4cf"
   },
   "outputs": [],
   "source": [
    "# Then, we define pipeline combining TF-IDF and Logistic Regression\n",
    "pipeline = Pipeline([\n",
    "    ('tfidf', TfidfVectorizer(\n",
    "        max_features=10000,\n",
    "        ngram_range=(1, 2)\n",
    "    )),\n",
    "    ('clf', LogisticRegression(\n",
    "        max_iter=1000,\n",
    "        random_state=42,\n",
    "        class_weight='balanced'\n",
    "    ))\n",
    "])"
   ]
  },
  {
   "cell_type": "code",
   "execution_count": 8,
   "id": "db4493c4-d30a-4ece-a995-0df30b5f9341",
   "metadata": {
    "id": "db4493c4-d30a-4ece-a995-0df30b5f9341",
    "outputId": "34040e4f-c94c-4566-808f-83dad5a27f69"
   },
   "outputs": [
    {
     "name": "stdout",
     "output_type": "stream",
     "text": [
      "Starting hyperparameter tuning...\n",
      "Fitting 3 folds for each of 96 candidates, totalling 288 fits\n",
      "\n",
      "Best Parameters Found:\n",
      "{'clf__C': 1, 'clf__class_weight': 'balanced', 'clf__penalty': 'l2', 'tfidf__max_df': 0.7, 'tfidf__max_features': 10000, 'tfidf__min_df': 1, 'tfidf__ngram_range': (1, 2)}\n"
     ]
    }
   ],
   "source": [
    "# Then, we define parameter grid for GridSearch\n",
    "param_grid = {\n",
    "    'tfidf__max_features': [5000, 10000],\n",
    "    'tfidf__ngram_range': [(1, 1), (1, 2)],\n",
    "    'tfidf__min_df': [1, 5],\n",
    "    'tfidf__max_df': [0.7, 0.9],\n",
    "    'clf__C': [0.1, 1, 10],\n",
    "    'clf__penalty': ['l2'],  # 'l1' requires solver='liblinear'\n",
    "    'clf__class_weight': [None, 'balanced']\n",
    "}\n",
    "\n",
    "# Setup GridSearchCV with 3-fold CV and weighted F1\n",
    "grid_search = GridSearchCV(\n",
    "    pipeline,\n",
    "    param_grid,\n",
    "    cv=3,\n",
    "    scoring='f1_weighted',\n",
    "    verbose=1,\n",
    "    n_jobs=-1\n",
    ")\n",
    "\n",
    "# Perform grid search\n",
    "print(\"Starting hyperparameter tuning...\")\n",
    "grid_search.fit(X_train, y_train)\n",
    "\n",
    "# Extract best model from grid search\n",
    "best_model = grid_search.best_estimator_\n",
    "\n",
    "# Show best parameters\n",
    "print(\"\\nBest Parameters Found:\")\n",
    "print(grid_search.best_params_)\n"
   ]
  },
  {
   "cell_type": "code",
   "execution_count": 9,
   "id": "bfb6fb0d-ad27-444f-b2e6-d174b50140e5",
   "metadata": {
    "id": "bfb6fb0d-ad27-444f-b2e6-d174b50140e5",
    "outputId": "98d0d365-63be-4d86-8ffe-fedf5514a950"
   },
   "outputs": [
    {
     "name": "stdout",
     "output_type": "stream",
     "text": [
      "Model saved to tfidf_logreg_pipeline.joblib\n"
     ]
    }
   ],
   "source": [
    "# Then, we train our Logistic Regression Model\n",
    "\n",
    "TFIDF_LogReg_model = best_model\n",
    "\n",
    "TFIDF_LogReg_model.fit(X_train, y_train)\n",
    "\n",
    "# Save the trained pipeline (TF-IDF + Logistic Regression)\n",
    "joblib.dump(TFIDF_LogReg_model, '../models/tfidf_logreg_pipeline.joblib')\n",
    "print(\"Model saved to tfidf_logreg_pipeline.joblib\")"
   ]
  },
  {
   "cell_type": "code",
   "execution_count": 10,
   "id": "45eb6f03-4d26-4168-8b66-66ea3a970fe6",
   "metadata": {
    "id": "45eb6f03-4d26-4168-8b66-66ea3a970fe6",
    "outputId": "d9c6a403-9c9c-4c5d-faec-3ff4e5f80955"
   },
   "outputs": [
    {
     "name": "stdout",
     "output_type": "stream",
     "text": [
      "\n",
      "--- Validation Performance (Logistic Regression) ---\n",
      "Accuracy:  0.7813\n",
      "Precision: 0.7698\n",
      "Recall:    0.8026\n",
      "F1 Score:  0.7858\n"
     ]
    }
   ],
   "source": [
    "# Then we evaluate the Model\n",
    "\n",
    "# Predict on validation set\n",
    "y_val_pred = TFIDF_LogReg_model.predict(X_val)\n",
    "\n",
    "# Compute metrics\n",
    "acc = accuracy_score(y_val, y_val_pred)\n",
    "prec = precision_score(y_val, y_val_pred, zero_division=0)\n",
    "rec = recall_score(y_val, y_val_pred, zero_division=0)\n",
    "f1 = f1_score(y_val, y_val_pred, zero_division=0)\n",
    "\n",
    "# Print summary\n",
    "print(\"\\n--- Validation Performance (Logistic Regression) ---\")\n",
    "print(f\"Accuracy:  {acc:.4f}\")\n",
    "print(f\"Precision: {prec:.4f}\")\n",
    "print(f\"Recall:    {rec:.4f}\")\n",
    "print(f\"F1 Score:  {f1:.4f}\")"
   ]
  },
  {
   "cell_type": "code",
   "execution_count": 11,
   "id": "1c62a1e3-2fd1-43fa-b390-21778bd92d44",
   "metadata": {
    "id": "1c62a1e3-2fd1-43fa-b390-21778bd92d44",
    "outputId": "1cfa0502-aaf4-4abb-ecbd-e6093e10be1f"
   },
   "outputs": [
    {
     "data": {
      "image/png": "[encoded data removed]",
      "text/plain": [
       "<Figure size 640x480 with 2 Axes>"
      ]
     },
     "metadata": {},
     "output_type": "display_data"
    }
   ],
   "source": [
    "# Next, we view the confusion matrix\n",
    "\n",
    "cm = confusion_matrix(y_val, y_val_pred)\n",
    "ConfusionMatrixDisplay(cm, display_labels=[\"Negative\", \"Positive\"]).plot(cmap=\"Blues\")\n",
    "plt.title(\"Validation Confusion Matrix (Logistic Regression)\")\n",
    "plt.grid(False)\n",
    "plt.show()"
   ]
  }
 ],
 "metadata": {
  "colab": {
   "include_colab_link": true,
   "provenance": []
  },
  "kernelspec": {
   "display_name": "Python 3 (ipykernel)",
   "language": "python",
   "name": "python3"
  },
  "language_info": {
   "codemirror_mode": {
    "name": "ipython",
    "version": 3
   },
   "file_extension": ".py",
   "mimetype": "text/x-python",
   "name": "python",
   "nbconvert_exporter": "python",
   "pygments_lexer": "ipython3",
   "version": "3.12.4"
  }
 },
 "nbformat": 4,
 "nbformat_minor": 5
}
