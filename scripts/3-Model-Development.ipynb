{
  "cells": [
    {
      "cell_type": "markdown",
      "metadata": {
        "id": "view-in-github",
        "colab_type": "text"
      },
      "source": [
        "<a href=\"https://colab.research.google.com/github/ariesslin/ie7500-g1-tweet-sentiment-nlp/blob/main/scripts/3.%20Model_Development.ipynb\" target=\"_parent\"><img src=\"https://colab.research.google.com/assets/colab-badge.svg\" alt=\"Open In Colab\"/></a>"
      ]
    },
    {
      "cell_type": "markdown",
      "id": "10d67c03-2ae7-41f6-81d0-56fe632ece80",
      "metadata": {
        "id": "10d67c03-2ae7-41f6-81d0-56fe632ece80"
      },
      "source": [
        "<div style=\"background-color:#e6f2ff; border-left:8px solid #0059b3; padding:20px; margin:20px 0;\">\n",
        "  <h2 style=\"color:#003366;\"><strong>3. Model Development</strong></h2>\n",
        "  <p style=\"color:#333333;\">Model Selection and Preliminary Performance Testing</p>\n",
        "</div>"
      ]
    },
    {
      "cell_type": "markdown",
      "id": "bOElrufQWr4t",
      "metadata": {
        "id": "bOElrufQWr4t"
      },
      "source": [
        "The selection of TF-IDF + Logistic Regression, LSTM, and BERT for sentiment analysis of tweets is grounded in both established research and best practices in natural language processing. TF-IDF combined with Logistic Regression provides a strong and interpretable baseline, particularly effective for sparse and high-dimensional text data like tweets (Ramos, 2003; Wang & Manning, 2012). It has been widely used in sentiment analysis tasks due to its simplicity and effectiveness in capturing word importance without sequence modeling. LSTM (Long Short-Term Memory) networks, introduced by Hochreiter & Schmidhuber (1997), are well-suited for handling the sequential nature of text and capturing long-term dependencies, which enhances performance on informal and context-sensitive content such as tweets (Zhou et al., 2016). BERT (Bidirectional Encoder Representations from Transformers) by Devlin et al. (2019) represents the state-of-the-art in many NLP tasks, including sentiment analysis, due to its deep contextual understanding and bidirectional attention mechanism, making it particularly effective for nuanced sentiment interpretation in short texts. This multi-model evaluation approach allows us to compare performance across lexical, sequential, and contextual modeling strategies. Only after testing all three will we select the best-performing model based on predefined evaluation metrics, followed by full-scale training and final evaluation, as recommended in model selection best practices (Sammut & Webb, 2017; Zhang et al., 2021). This ensures robustness, fairness, and optimal utilization of resources.\n",
        "\n",
        "**References:**\n",
        "\n",
        "* Ramos, J. (2003). Using TF-IDF to determine word relevance in document queries.\n",
        "* Wang, S., & Manning, C. D. (2012). Baselines and Bigrams: Simple, Good Sentiment and Topic Classification.\n",
        "* Hochreiter, S., & Schmidhuber, J. (1997). Long short-term memory. Neural Computation.\n",
        "* Zhou, P., et al. (2016). Attention-Based Bidirectional LSTM Networks for Relation Classification.\n",
        "* Devlin, J., et al. (2019). BERT: Pre-training of Deep Bidirectional Transformers for Language Understanding.\n",
        "* Sammut, C., & Webb, G. I. (2017). Encyclopedia of Machine Learning and Data Mining.\n",
        "* Zhang, Y., et al. (2021). A Comprehensive Review on Deep Learning for Text Classification.\n"
      ]
    },
    {
      "cell_type": "markdown",
      "id": "5ad9fdb6-b723-469c-a345-f2bbed6055a6",
      "metadata": {
        "id": "5ad9fdb6-b723-469c-a345-f2bbed6055a6"
      },
      "source": [
        "## Model Development\n",
        "\n",
        "Following thorough exploratory data analysis and data preprocessing, we now move into the model development phase. The objective is to evaluate different machine learning and deep learning architectures to classify tweet sentiment effectively using the Sentiment140 dataset.\n",
        "\n",
        "Given the informal and brief nature of tweets, sentiment classification presents unique challenges: sparse context, slang, emojis, abbreviations, and inconsistent punctuation. To address these, we explore a spectrum of model complexities — from classical linear models to deep language models — to assess their performance, interpretability, and scalability.\n",
        "\n",
        "The following models will be implemented and compared:\n",
        "\n",
        "- **TF-IDF + Logistic Regression**: A classical baseline that leverages term frequency and inverse document frequency to convert text into numeric features before applying a simple, interpretable classifier.\n",
        "- **Bidirectional LSTM**: A recurrent neural network capable of capturing long-term dependencies and understanding contextual flow in short, noisy texts.\n",
        "- **DistilBERT**: A distilled transformer model pretrained on large corpora, providing state-of-the-art performance in many NLP tasks, including sentiment analysis.\n",
        "\n",
        "Each model will be trained using the preprocessed dataset, and evaluated on the validation and test sets. Evaluation metrics include:\n",
        "\n",
        "- **Accuracy**  \n",
        "- **Precision, Recall, F1-Score**  \n",
        "- **Confusion Matrix**  \n",
        "- **Training time and resource cost**\n",
        "\n",
        "This multi-model comparison aims to answer:\n",
        "\n",
        "- Which model best captures sentiment from tweets?\n",
        "- What are the trade-offs between speed, complexity, and accuracy?\n",
        "- Which model generalizes best to unseen real-world tweet data?\n",
        "\n",
        "The results will guide practical model selection for sentiment-sensitive applications in finance, customer experience monitoring, and public policy analysis.\n"
      ]
    },
    {
      "cell_type": "code",
      "execution_count": null,
      "id": "iYXzu-fYlmTw",
      "metadata": {
        "id": "iYXzu-fYlmTw",
        "outputId": "6e07bc59-5815-438e-cd7a-e3074b1a1882"
      },
      "outputs": [
        {
          "name": "stderr",
          "output_type": "stream",
          "text": [
            "/courses/IE7500.202550/shared/conda_env_1/lib/python3.12/site-packages/requests/__init__.py:86: RequestsDependencyWarning: Unable to find acceptable character detection dependency (chardet or charset_normalizer).\n",
            "  warnings.warn(\n",
            "2025-06-25 06:22:01.589101: E external/local_xla/xla/stream_executor/cuda/cuda_fft.cc:467] Unable to register cuFFT factory: Attempting to register factory for plugin cuFFT when one has already been registered\n",
            "WARNING: All log messages before absl::InitializeLog() is called are written to STDERR\n",
            "E0000 00:00:1750846921.609873  421387 cuda_dnn.cc:8579] Unable to register cuDNN factory: Attempting to register factory for plugin cuDNN when one has already been registered\n",
            "E0000 00:00:1750846921.616255  421387 cuda_blas.cc:1407] Unable to register cuBLAS factory: Attempting to register factory for plugin cuBLAS when one has already been registered\n",
            "W0000 00:00:1750846921.633074  421387 computation_placer.cc:177] computation placer already registered. Please check linkage and avoid linking the same target more than once.\n",
            "W0000 00:00:1750846921.633091  421387 computation_placer.cc:177] computation placer already registered. Please check linkage and avoid linking the same target more than once.\n",
            "W0000 00:00:1750846921.633093  421387 computation_placer.cc:177] computation placer already registered. Please check linkage and avoid linking the same target more than once.\n",
            "W0000 00:00:1750846921.633095  421387 computation_placer.cc:177] computation placer already registered. Please check linkage and avoid linking the same target more than once.\n",
            "2025-06-25 06:22:01.638646: I tensorflow/core/platform/cpu_feature_guard.cc:210] This TensorFlow binary is optimized to use available CPU instructions in performance-critical operations.\n",
            "To enable the following instructions: AVX2 FMA, in other operations, rebuild TensorFlow with the appropriate compiler flags.\n"
          ]
        }
      ],
      "source": [
        "# importing all libraries here\n",
        "\n",
        "import pandas as pd\n",
        "import seaborn as sns\n",
        "import matplotlib.pyplot as plt\n",
        "from sklearn.model_selection import train_test_split\n",
        "from sklearn.feature_extraction.text import TfidfVectorizer\n",
        "from sklearn.linear_model import LogisticRegression\n",
        "from sklearn.metrics import accuracy_score, precision_score, recall_score, f1_score, confusion_matrix, roc_curve, auc\n",
        "import gdown\n",
        "import os\n",
        "from tensorflow.keras.callbacks import ReduceLROnPlateau\n",
        "import zipfile\n",
        "import requests\n",
        "import io"
      ]
    },
    {
      "cell_type": "code",
      "execution_count": null,
      "id": "2bd848f3-e91b-4f76-b584-335cb114ad1f",
      "metadata": {
        "id": "2bd848f3-e91b-4f76-b584-335cb114ad1f",
        "outputId": "06c6b329-7fc7-4cea-86f5-7d7ed60a5b8d"
      },
      "outputs": [
        {
          "name": "stdout",
          "output_type": "stream",
          "text": [
            "ZIP contents: ['train_dataset.csv']\n",
            "Loaded train_dataset.csv with shape: (936194, 3)\n"
          ]
        }
      ],
      "source": [
        "# Here, we begin by loading the processed dataset\n",
        "\n",
        "# Step 1: Set the correct local path\n",
        "zip_path = \"train_dataset_comp.zip\"\n",
        "\n",
        "# Step 2: Extract only 'train_dataset.csv'\n",
        "with zipfile.ZipFile(zip_path, 'r') as zip_ref:\n",
        "    # Check contents (optional debug)\n",
        "    print(\"ZIP contents:\", zip_ref.namelist())\n",
        "\n",
        "    # Extract only train dataset\n",
        "    zip_ref.extract(\"train_dataset.csv\")\n",
        "\n",
        "# Step 3: Load the extracted CSV\n",
        "train_df = pd.read_csv(\"train_dataset.csv\")\n",
        "print(f\"Loaded train_dataset.csv with shape: {train_df.shape}\")\n"
      ]
    },
    {
      "cell_type": "code",
      "execution_count": null,
      "id": "6e060696-733c-42a0-a2a5-99df83302694",
      "metadata": {
        "id": "6e060696-733c-42a0-a2a5-99df83302694",
        "outputId": "b6d940c0-35c0-4d0c-d796-925de08836bb"
      },
      "outputs": [
        {
          "name": "stdout",
          "output_type": "stream",
          "text": [
            "Loaded validation dataset with shape: (200614, 3)\n"
          ]
        }
      ],
      "source": [
        "# We load the validation dataset\n",
        "\n",
        "val_df = pd.read_csv(\"val_dataset.csv\")\n",
        "\n",
        "print(f\"Loaded validation dataset with shape: {val_df.shape}\")"
      ]
    },
    {
      "cell_type": "code",
      "execution_count": null,
      "id": "2ba8da74-abb8-45b1-a637-e57386b02a33",
      "metadata": {
        "id": "2ba8da74-abb8-45b1-a637-e57386b02a33"
      },
      "outputs": [],
      "source": [
        "# Drop any rows where 'text' or 'target' is null\n",
        "train_df = train_df.dropna(subset=[\"text\", \"target\"])\n",
        "val_df = val_df.dropna(subset=[\"text\", \"target\"])\n",
        "\n",
        "# Replace 'MENTION' with 'mentionuser' in the 'text' column\n",
        "train_df['text'] = train_df['text'].str.replace('MENTION', 'mentionuser', regex=False)\n",
        "val_df['text'] = val_df['text'].str.replace('MENTION', 'mentionuser', regex=False)\n",
        "\n",
        "# Keep only text and target columns\n",
        "train_df=train_df[['text', 'target']]\n",
        "val_df=val_df[['text', 'target']]"
      ]
    },
    {
      "cell_type": "code",
      "execution_count": null,
      "id": "0677ad14-6a04-4b0a-847a-e7b1d078a718",
      "metadata": {
        "id": "0677ad14-6a04-4b0a-847a-e7b1d078a718",
        "outputId": "c24842fb-a019-4e25-8977-70740c84e8d2"
      },
      "outputs": [
        {
          "data": {
            "text/html": [
              "<div>\n",
              "<style scoped>\n",
              "    .dataframe tbody tr th:only-of-type {\n",
              "        vertical-align: middle;\n",
              "    }\n",
              "\n",
              "    .dataframe tbody tr th {\n",
              "        vertical-align: top;\n",
              "    }\n",
              "\n",
              "    .dataframe thead th {\n",
              "        text-align: right;\n",
              "    }\n",
              "</style>\n",
              "<table border=\"1\" class=\"dataframe\">\n",
              "  <thead>\n",
              "    <tr style=\"text-align: right;\">\n",
              "      <th></th>\n",
              "      <th>text</th>\n",
              "      <th>target</th>\n",
              "    </tr>\n",
              "  </thead>\n",
              "  <tbody>\n",
              "    <tr>\n",
              "      <th>0</th>\n",
              "      <td>mentionuser good u great band yes think daught...</td>\n",
              "      <td>4</td>\n",
              "    </tr>\n",
              "    <tr>\n",
              "      <th>1</th>\n",
              "      <td>work glummy wednesday</td>\n",
              "      <td>0</td>\n",
              "    </tr>\n",
              "    <tr>\n",
              "      <th>2</th>\n",
              "      <td>getting lost signpostfree road kildareoffaly w...</td>\n",
              "      <td>0</td>\n",
              "    </tr>\n",
              "    <tr>\n",
              "      <th>3</th>\n",
              "      <td>good morning everyone</td>\n",
              "      <td>4</td>\n",
              "    </tr>\n",
              "    <tr>\n",
              "      <th>4</th>\n",
              "      <td>kidding coursethough wish could part late nigh...</td>\n",
              "      <td>0</td>\n",
              "    </tr>\n",
              "  </tbody>\n",
              "</table>\n",
              "</div>"
            ],
            "text/plain": [
              "                                                text  target\n",
              "0  mentionuser good u great band yes think daught...       4\n",
              "1                              work glummy wednesday       0\n",
              "2  getting lost signpostfree road kildareoffaly w...       0\n",
              "3                              good morning everyone       4\n",
              "4  kidding coursethough wish could part late nigh...       0"
            ]
          },
          "execution_count": 5,
          "metadata": {},
          "output_type": "execute_result"
        }
      ],
      "source": [
        "train_df.head()"
      ]
    },
    {
      "cell_type": "code",
      "execution_count": null,
      "id": "43ddf923-a47e-4736-8933-916407b8284e",
      "metadata": {
        "id": "43ddf923-a47e-4736-8933-916407b8284e",
        "outputId": "26c93d5a-5dfb-4a0f-fd0b-db3ff0d3c2e3"
      },
      "outputs": [
        {
          "data": {
            "text/html": [
              "<div>\n",
              "<style scoped>\n",
              "    .dataframe tbody tr th:only-of-type {\n",
              "        vertical-align: middle;\n",
              "    }\n",
              "\n",
              "    .dataframe tbody tr th {\n",
              "        vertical-align: top;\n",
              "    }\n",
              "\n",
              "    .dataframe thead th {\n",
              "        text-align: right;\n",
              "    }\n",
              "</style>\n",
              "<table border=\"1\" class=\"dataframe\">\n",
              "  <thead>\n",
              "    <tr style=\"text-align: right;\">\n",
              "      <th></th>\n",
              "      <th>text</th>\n",
              "      <th>target</th>\n",
              "    </tr>\n",
              "  </thead>\n",
              "  <tbody>\n",
              "    <tr>\n",
              "      <th>0</th>\n",
              "      <td>mentionuser life lie</td>\n",
              "      <td>0</td>\n",
              "    </tr>\n",
              "    <tr>\n",
              "      <th>1</th>\n",
              "      <td>mentionuser airbender except stunning lack asi...</td>\n",
              "      <td>0</td>\n",
              "    </tr>\n",
              "    <tr>\n",
              "      <th>2</th>\n",
              "      <td>loving god fullest</td>\n",
              "      <td>4</td>\n",
              "    </tr>\n",
              "    <tr>\n",
              "      <th>3</th>\n",
              "      <td>kind sort awaketrying wake melissa go oral sur...</td>\n",
              "      <td>0</td>\n",
              "    </tr>\n",
              "    <tr>\n",
              "      <th>4</th>\n",
              "      <td>mentionuser bienvenue à montreal canada great ...</td>\n",
              "      <td>0</td>\n",
              "    </tr>\n",
              "  </tbody>\n",
              "</table>\n",
              "</div>"
            ],
            "text/plain": [
              "                                                text  target\n",
              "0                               mentionuser life lie       0\n",
              "1  mentionuser airbender except stunning lack asi...       0\n",
              "2                                 loving god fullest       4\n",
              "3  kind sort awaketrying wake melissa go oral sur...       0\n",
              "4  mentionuser bienvenue à montreal canada great ...       0"
            ]
          },
          "execution_count": 6,
          "metadata": {},
          "output_type": "execute_result"
        }
      ],
      "source": [
        "val_df.head()"
      ]
    },
    {
      "cell_type": "code",
      "execution_count": null,
      "id": "fXfKl95mkCwK",
      "metadata": {
        "colab": {
          "base_uri": "https://localhost:8080/"
        },
        "id": "fXfKl95mkCwK",
        "outputId": "32004fc9-51e0-4fdb-da8a-c5d9259aaac9"
      },
      "outputs": [
        {
          "name": "stdout",
          "output_type": "stream",
          "text": [
            "Train shape: (936194, 2)\n",
            "Validation shape: (200614, 2)\n",
            "X_train shape: (936194,) | y_train shape: (936194,)\n",
            "X_val shape: (200614,) | y_val shape: (200614,)\n"
          ]
        }
      ],
      "source": [
        "# Now, we extract input and labels\n",
        "X_train = train_df['text']\n",
        "y_train = train_df['target']\n",
        "X_val = val_df['text']\n",
        "y_val = val_df['target']\n",
        "\n",
        "# Final check\n",
        "print(\"Train shape:\", train_df.shape)\n",
        "print(\"Validation shape:\", val_df.shape)\n",
        "print(\"X_train shape:\", X_train.shape, \"| y_train shape:\", y_train.shape)\n",
        "print(\"X_val shape:\", X_val.shape, \"| y_val shape:\", y_val.shape)"
      ]
    },
    {
      "cell_type": "markdown",
      "id": "82172ce7-5869-4448-8c89-3e9450c1e426",
      "metadata": {
        "id": "82172ce7-5869-4448-8c89-3e9450c1e426"
      },
      "source": [
        "\n",
        "<div style=\"background-color:#e6f2ff; border-left:8px solid #0059b3; padding:20px; margin:20px 0;\">\n",
        "  <h2 style=\"color:#003366;\"><strong>4.1 Baseline Model – TF-IDF + Logistic Regression</strong></h2>\n",
        "  <p style=\"color:#333333;\">TF-IDF vectorization + logistic regression as a benchmark.</p>\n",
        "</div>\n"
      ]
    },
    {
      "cell_type": "code",
      "execution_count": null,
      "id": "07efb030-35ad-4e70-9186-b72e6bd676ec",
      "metadata": {
        "id": "07efb030-35ad-4e70-9186-b72e6bd676ec"
      },
      "outputs": [],
      "source": [
        "import numpy as np\n",
        "import pandas as pd\n",
        "from sklearn.pipeline import Pipeline\n",
        "from sklearn.feature_extraction.text import TfidfVectorizer\n",
        "from sklearn.linear_model import LogisticRegression\n",
        "from sklearn.model_selection import GridSearchCV\n",
        "from sklearn.metrics import (\n",
        "    accuracy_score, precision_score, recall_score, f1_score,\n",
        "    confusion_matrix, ConfusionMatrixDisplay, classification_report\n",
        ")\n",
        "import matplotlib.pyplot as plt\n",
        "import joblib"
      ]
    },
    {
      "cell_type": "code",
      "execution_count": null,
      "id": "dee4a820-2a30-4cf8-a9c2-21ca3d8337c7",
      "metadata": {
        "id": "dee4a820-2a30-4cf8-a9c2-21ca3d8337c7"
      },
      "outputs": [],
      "source": [
        "# first, we process and tokenize the text\n",
        "\n",
        "# create a cope of columns\n",
        "training_df = train_df[['text', 'target']].copy()\n",
        "val_df = val_df[['text', 'target']].copy()\n",
        "\n",
        "# Ensure 'target' is int and remap 4 → 1\n",
        "training_df['target'] = training_df['target'].astype(int).replace({4: 1})\n",
        "val_df['target'] = val_df['target'].astype(int).replace({4: 1})\n",
        "\n",
        "# Ensure 'text' is string\n",
        "training_df['text'] = training_df['text'].astype(str)\n",
        "val_df['text'] = val_df['text'].astype(str)\n",
        "\n",
        "# Use Gensim's simple_preprocess to tokenize tweets (preserves segmentation)\n",
        "training_df['clean_text'] = training_df['text'].dropna().astype(str).apply(lambda x: ' '.join(simple_preprocess(x)))\n",
        "val_df['clean_text'] = val_df['text'].dropna().astype(str).apply(lambda x: ' '.join(simple_preprocess(x)))"
      ]
    },
    {
      "cell_type": "code",
      "execution_count": null,
      "id": "b09528bb-85e2-4ec6-a1dd-a95859f961de",
      "metadata": {
        "id": "b09528bb-85e2-4ec6-a1dd-a95859f961de"
      },
      "outputs": [],
      "source": [
        "# next, we extract targets\n",
        "\n",
        "y_train = training_df['target']\n",
        "y_val = val_df['target']"
      ]
    },
    {
      "cell_type": "code",
      "execution_count": null,
      "id": "57f44946-ced5-4aba-a33b-3c920624b4cf",
      "metadata": {
        "id": "57f44946-ced5-4aba-a33b-3c920624b4cf"
      },
      "outputs": [],
      "source": [
        "# Then, we define pipeline combining TF-IDF and Logistic Regression\n",
        "pipeline = Pipeline([\n",
        "    ('tfidf', TfidfVectorizer(\n",
        "        max_features=10000,\n",
        "        ngram_range=(1, 2)\n",
        "    )),\n",
        "    ('clf', LogisticRegression(\n",
        "        max_iter=1000,\n",
        "        random_state=42,\n",
        "        class_weight='balanced'\n",
        "    ))\n",
        "])"
      ]
    },
    {
      "cell_type": "code",
      "execution_count": null,
      "id": "db4493c4-d30a-4ece-a995-0df30b5f9341",
      "metadata": {
        "id": "db4493c4-d30a-4ece-a995-0df30b5f9341",
        "outputId": "34040e4f-c94c-4566-808f-83dad5a27f69"
      },
      "outputs": [
        {
          "name": "stdout",
          "output_type": "stream",
          "text": [
            "Starting hyperparameter tuning...\n",
            "Fitting 3 folds for each of 96 candidates, totalling 288 fits\n",
            "\n",
            "Best Parameters Found:\n",
            "{'clf__C': 1, 'clf__class_weight': None, 'clf__penalty': 'l2', 'tfidf__max_df': 0.7, 'tfidf__max_features': 10000, 'tfidf__min_df': 5, 'tfidf__ngram_range': (1, 2)}\n"
          ]
        }
      ],
      "source": [
        "# Then, we define parameter grid for GridSearch\n",
        "param_grid = {\n",
        "    'tfidf__max_features': [5000, 10000],\n",
        "    'tfidf__ngram_range': [(1, 1), (1, 2)],\n",
        "    'tfidf__min_df': [1, 5],\n",
        "    'tfidf__max_df': [0.7, 0.9],\n",
        "    'clf__C': [0.1, 1, 10],\n",
        "    'clf__penalty': ['l2'],  # 'l1' requires solver='liblinear'\n",
        "    'clf__class_weight': [None, 'balanced']\n",
        "}\n",
        "\n",
        "# Setup GridSearchCV with 3-fold CV and weighted F1\n",
        "grid_search = GridSearchCV(\n",
        "    pipeline,\n",
        "    param_grid,\n",
        "    cv=3,\n",
        "    scoring='f1_weighted',\n",
        "    verbose=1,\n",
        "    n_jobs=-1\n",
        ")\n",
        "\n",
        "# Perform grid search\n",
        "print(\"Starting hyperparameter tuning...\")\n",
        "grid_search.fit(X_train, y_train)\n",
        "\n",
        "# Extract best model from grid search\n",
        "best_model = grid_search.best_estimator_\n",
        "\n",
        "# Show best parameters\n",
        "print(\"\\nBest Parameters Found:\")\n",
        "print(grid_search.best_params_)\n"
      ]
    },
    {
      "cell_type": "code",
      "execution_count": null,
      "id": "bfb6fb0d-ad27-444f-b2e6-d174b50140e5",
      "metadata": {
        "id": "bfb6fb0d-ad27-444f-b2e6-d174b50140e5",
        "outputId": "98d0d365-63be-4d86-8ffe-fedf5514a950"
      },
      "outputs": [
        {
          "name": "stdout",
          "output_type": "stream",
          "text": [
            "Model saved to tfidf_logreg_pipeline.joblib\n"
          ]
        }
      ],
      "source": [
        "# Then, we train our Logistic Regression Model\n",
        "\n",
        "TFIDF_LogReg_model = best_model\n",
        "\n",
        "TFIDF_LogReg_model.fit(X_train, y_train)\n",
        "\n",
        "# Save the trained pipeline (TF-IDF + Logistic Regression)\n",
        "joblib.dump(TFIDF_LogReg_model, 'tfidf_logreg_pipeline.joblib')\n",
        "print(\"Model saved to tfidf_logreg_pipeline.joblib\")"
      ]
    },
    {
      "cell_type": "code",
      "execution_count": null,
      "id": "45eb6f03-4d26-4168-8b66-66ea3a970fe6",
      "metadata": {
        "id": "45eb6f03-4d26-4168-8b66-66ea3a970fe6",
        "outputId": "d9c6a403-9c9c-4c5d-faec-3ff4e5f80955"
      },
      "outputs": [
        {
          "name": "stdout",
          "output_type": "stream",
          "text": [
            "\n",
            "--- Validation Performance (Logistic Regression) ---\n",
            "Accuracy:  0.7922\n",
            "Precision: 0.8004\n",
            "Recall:    0.8693\n",
            "F1 Score:  0.8334\n"
          ]
        }
      ],
      "source": [
        "# Then we evaluate the Model\n",
        "\n",
        "# Predict on validation set\n",
        "y_val_pred = TFIDF_LogReg_model.predict(X_val)\n",
        "\n",
        "# Compute metrics\n",
        "acc = accuracy_score(y_val, y_val_pred)\n",
        "prec = precision_score(y_val, y_val_pred, zero_division=0)\n",
        "rec = recall_score(y_val, y_val_pred, zero_division=0)\n",
        "f1 = f1_score(y_val, y_val_pred, zero_division=0)\n",
        "\n",
        "# Print summary\n",
        "print(\"\\n--- Validation Performance (Logistic Regression) ---\")\n",
        "print(f\"Accuracy:  {acc:.4f}\")\n",
        "print(f\"Precision: {prec:.4f}\")\n",
        "print(f\"Recall:    {rec:.4f}\")\n",
        "print(f\"F1 Score:  {f1:.4f}\")"
      ]
    },
    {
      "cell_type": "code",
      "execution_count": null,
      "id": "1c62a1e3-2fd1-43fa-b390-21778bd92d44",
      "metadata": {
        "id": "1c62a1e3-2fd1-43fa-b390-21778bd92d44",
        "outputId": "1cfa0502-aaf4-4abb-ecbd-e6093e10be1f"
      },
      "outputs": [
        {
          "data": {
            "image/png": "[encoded data removed]",
            "text/plain": [
              "<Figure size 640x480 with 2 Axes>"
            ]
          },
          "metadata": {},
          "output_type": "display_data"
        }
      ],
      "source": [
        "# Next, we view the confusion matrix\n",
        "\n",
        "cm = confusion_matrix(y_val, y_val_pred)\n",
        "ConfusionMatrixDisplay(cm, display_labels=[\"Negative\", \"Positive\"]).plot(cmap=\"Blues\")\n",
        "plt.title(\"Validation Confusion Matrix (Logistic Regression)\")\n",
        "plt.grid(False)\n",
        "plt.show()"
      ]
    },
    {
      "cell_type": "markdown",
      "id": "1349a346-bb78-47a2-946d-db62e2c0f38b",
      "metadata": {
        "id": "1349a346-bb78-47a2-946d-db62e2c0f38b"
      },
      "source": [
        "---"
      ]
    },
    {
      "cell_type": "markdown",
      "id": "61b2c984-64e4-49a4-afab-160dfbc2a57a",
      "metadata": {
        "id": "61b2c984-64e4-49a4-afab-160dfbc2a57a"
      },
      "source": [
        "\n",
        "<div style=\"background-color:#e6f2ff; border-left:8px solid #0059b3; padding:20px; margin:20px 0;\">\n",
        "  <h2 style=\"color:#003366;\"><strong>4.2 LSTM Model</strong></h2>\n",
        "  <p style=\"color:#333333;\">Bidirectional LSTM with pre-trained embeddings (e.g., Wrod2Vec).</p>\n",
        "</div>"
      ]
    },
    {
      "cell_type": "code",
      "execution_count": null,
      "id": "to08L5gzucYG",
      "metadata": {
        "id": "to08L5gzucYG"
      },
      "outputs": [],
      "source": [
        "# Step 1: Reinstall compatible keras\n",
        "#!pip uninstall -y keras\n",
        "#!pip install -q keras==3.8.0\n",
        "\n",
        "### Use !pip install -r \"../requirements.txt\" at the beginning of the notebook instead"
      ]
    },
    {
      "cell_type": "markdown",
      "id": "ae47580d-af49-48d2-a0f7-b25394f1fed5",
      "metadata": {
        "id": "ae47580d-af49-48d2-a0f7-b25394f1fed5"
      },
      "source": [
        "GPU was turned off here due to compatibility issue of the environment with CuDNN"
      ]
    },
    {
      "cell_type": "code",
      "execution_count": null,
      "id": "d9b59e83-dd9a-4339-9628-65f74a372e6a",
      "metadata": {
        "id": "d9b59e83-dd9a-4339-9628-65f74a372e6a",
        "outputId": "20abcae9-dfbb-42e8-bc36-d279f06d4243"
      },
      "outputs": [
        {
          "name": "stdout",
          "output_type": "stream",
          "text": [
            "After disabling: [PhysicalDevice(name='/physical_device:CPU:0', device_type='CPU')]\n"
          ]
        }
      ],
      "source": [
        "import tensorflow as tf\n",
        "\n",
        "# Hide all GPUs at runtime (must be done before anything else in TensorFlow)\n",
        "tf.config.set_visible_devices([], 'GPU')\n",
        "\n",
        "print(\"After disabling:\", tf.config.get_visible_devices())\n"
      ]
    },
    {
      "cell_type": "code",
      "execution_count": null,
      "id": "BQDuL0iGzX7x",
      "metadata": {
        "id": "BQDuL0iGzX7x",
        "outputId": "ad730618-0a8c-47ee-80bf-555aa927e277"
      },
      "outputs": [
        {
          "name": "stderr",
          "output_type": "stream",
          "text": [
            "/courses/IE7500.202550/shared/conda_env_1/lib/python3.12/site-packages/tqdm/auto.py:21: TqdmWarning: IProgress not found. Please update jupyter and ipywidgets. See https://ipywidgets.readthedocs.io/en/stable/user_install.html\n",
            "  from .autonotebook import tqdm as notebook_tqdm\n"
          ]
        }
      ],
      "source": [
        "# loading all libraries here\n",
        "import numpy as np\n",
        "import pandas as pd\n",
        "import gensim\n",
        "from gensim.utils import simple_preprocess\n",
        "from gensim.models import Word2Vec\n",
        "import nltk\n",
        "from nltk.tokenize import word_tokenize\n",
        "import re\n",
        "from tensorflow.keras.preprocessing.text import Tokenizer\n",
        "from tensorflow.keras.preprocessing.sequence import pad_sequences\n",
        "from tensorflow.keras.models import Sequential\n",
        "from keras.layers import Embedding, Bidirectional, LSTM, Dense, Dropout\n",
        "from keras.callbacks import EarlyStopping\n",
        "from tensorflow.keras.optimizers import Adam\n",
        "from tensorflow.keras.optimizers import Nadam\n",
        "from tensorflow.keras.optimizers import SGD\n",
        "from tensorflow.keras.layers import BatchNormalization\n",
        "from transformers import EarlyStoppingCallback, TrainingArguments, Trainer\n",
        "from sklearn.metrics import ConfusionMatrixDisplay"
      ]
    },
    {
      "cell_type": "code",
      "execution_count": null,
      "id": "VszvLfpt5oKo",
      "metadata": {
        "id": "VszvLfpt5oKo"
      },
      "outputs": [],
      "source": [
        "# we tokenize each tweet for training and testing data\n",
        "\n",
        "training_df = train_df[['text','target']].copy()\n",
        "val_df = val_df[['text','target']].copy()\n",
        "\n",
        "# Apply gensim's tokenizer\n",
        "tokenized_train = training_df['text'].dropna().astype(str).apply(simple_preprocess).tolist()\n",
        "tokenized_val = val_df['text'].dropna().astype(str).apply(simple_preprocess).tolist()"
      ]
    },
    {
      "cell_type": "code",
      "execution_count": null,
      "id": "46vV4tVC0XcW",
      "metadata": {
        "id": "46vV4tVC0XcW"
      },
      "outputs": [],
      "source": [
        "# first train our Word2Vec on the Tokenized Data\n",
        "\n",
        "embedding_dim = 100\n",
        "\n",
        "model_LSTM = Word2Vec(\n",
        "    sentences=tokenized_train,\n",
        "    vector_size=embedding_dim,\n",
        "    window=10,\n",
        "    min_count=2,\n",
        "    sg=1,  # Skip-gram\n",
        "    seed=42,\n",
        "    workers=10\n",
        ")\n",
        "\n",
        "word2vec_model = model_LSTM.wv  # Use KeyedVectors for embedding lookup"
      ]
    },
    {
      "cell_type": "code",
      "execution_count": null,
      "id": "m_TXVm061rnJ",
      "metadata": {
        "id": "m_TXVm061rnJ"
      },
      "outputs": [],
      "source": [
        "# Prepare for Keras Tokenizer\n",
        "\n",
        "# Join tokens back into space-separated strings\n",
        "#tokenized_train_texts = [' '.join(tokens) for tokens in tokenized_train]\n",
        "#tokenized_val_texts = [' '.join(tokens) for tokens in tokenized_val]\n",
        "\n",
        "# Fit tokenizer on training texts\n",
        "#tokenizer = Tokenizer()\n",
        "#tokenizer.fit_on_texts(tokenized_train_texts)\n",
        "\n",
        "#word_index = tokenizer.word_index"
      ]
    },
    {
      "cell_type": "code",
      "execution_count": null,
      "id": "j_NhEY86-4aI",
      "metadata": {
        "id": "j_NhEY86-4aI"
      },
      "outputs": [],
      "source": [
        "# Next, we Build the Embedding Matrix\n",
        "\n",
        "#embedding_matrix = np.zeros((len(word_index) + 1, embedding_dim))\n",
        "#found = 0\n",
        "\n",
        "#for word, i in word_index.items():\n",
        " #   if word in word2vec_model:\n",
        "  #      embedding_matrix[i] = word2vec_model[word]\n",
        "   #     found += 1\n",
        "\n",
        "#print(f\"Words matched: {found}/{len(word_index)}\")"
      ]
    },
    {
      "cell_type": "markdown",
      "id": "c291349f-e04b-43bc-99b3-fdac71643838",
      "metadata": {
        "id": "c291349f-e04b-43bc-99b3-fdac71643838"
      },
      "source": [
        "#### quick debugging insights\n",
        "\n",
        "That means ~74% of tokens in a tweet have no embeddings, the model is learning from almost nothing.\n",
        "\n",
        "Why?\n",
        "Because those tokens likely correspond to words not found in Word2Vec vocabulary. This means our embedding matrix isn't covering the actual tokens used in training."
      ]
    },
    {
      "cell_type": "markdown",
      "id": "164b2d45-8f4b-40cb-8728-2a50a2b8f18b",
      "metadata": {
        "id": "164b2d45-8f4b-40cb-8728-2a50a2b8f18b"
      },
      "source": [
        "This will cause some major issues as we train the model, in fact by several experiments, the model never actually really learned, i could not even make it overfit.\n",
        "This means that likely our Word2Vec trained on clean tokens but Tokenizer worked on noisy ones (e.g., lollll, omggg)\n"
      ]
    },
    {
      "cell_type": "code",
      "execution_count": null,
      "id": "9227fd78-03f5-40a7-95cd-55f0edb67a9d",
      "metadata": {
        "id": "9227fd78-03f5-40a7-95cd-55f0edb67a9d"
      },
      "outputs": [],
      "source": [
        "# for now, i will only limit tokenisation on trained words\n",
        "\n",
        "# Prepare for Keras Tokenizer\n",
        "\n",
        "# Join tokens back into space-separated strings\n",
        "tokenized_train_texts = [' '.join(tokens) for tokens in tokenized_train]\n",
        "tokenized_val_texts = [' '.join(tokens) for tokens in tokenized_val]\n",
        "\n",
        "# Fit tokenizer on training texts\n",
        "tokenizer = Tokenizer(num_words=82014)\n",
        "tokenizer.fit_on_texts(tokenized_train_texts)\n",
        "\n",
        "word_index = tokenizer.word_index"
      ]
    },
    {
      "cell_type": "code",
      "execution_count": null,
      "id": "-7ThBHaM_Pju",
      "metadata": {
        "id": "-7ThBHaM_Pju",
        "outputId": "88809c8d-812e-43f6-bdb9-cb1f0f5e2dfe"
      },
      "outputs": [
        {
          "name": "stdout",
          "output_type": "stream",
          "text": [
            "Words matched: 82013/82014\n"
          ]
        }
      ],
      "source": [
        "# Next, we Build the Embedding Matrix\n",
        "\n",
        "embedding_matrix = np.zeros((tokenizer.num_words, embedding_dim))\n",
        "\n",
        "found = 0\n",
        "for word, i in tokenizer.word_index.items():\n",
        "    if i >= tokenizer.num_words:\n",
        "        continue\n",
        "    if word in word2vec_model:\n",
        "        embedding_matrix[i] = word2vec_model[word]\n",
        "        found += 1\n",
        "print(f\"Words matched: {found}/{tokenizer.num_words}\")\n"
      ]
    },
    {
      "cell_type": "code",
      "execution_count": null,
      "id": "162cd974-7132-47d9-875e-3a9190660154",
      "metadata": {
        "id": "162cd974-7132-47d9-875e-3a9190660154"
      },
      "outputs": [],
      "source": [
        "# Next, Convert Texts to Sequences and Pad\n",
        "\n",
        "# Convert text to sequences\n",
        "X_train_seq = tokenizer.texts_to_sequences(tokenized_train_texts)\n",
        "X_val_seq = tokenizer.texts_to_sequences(tokenized_val_texts)\n",
        "\n",
        "# Define max sequence length\n",
        "max_len = max(len(seq) for seq in X_train_seq)\n",
        "\n",
        "# Pad sequences to same length\n",
        "X_train_pad = pad_sequences(X_train_seq, maxlen=max_len, padding='post')\n",
        "X_val_pad = pad_sequences(X_val_seq, maxlen=max_len, padding='post')\n"
      ]
    },
    {
      "cell_type": "code",
      "execution_count": null,
      "id": "2312d2f5-d02f-499c-9b10-e29d860311b2",
      "metadata": {
        "id": "2312d2f5-d02f-499c-9b10-e29d860311b2"
      },
      "outputs": [],
      "source": [
        "# We convert the target to float, and encode 0 and 1 to accommodate for sigmoid:\n",
        "\n",
        "y_train = np.where(y_train == 4, 1.0, 0.0).astype(np.float32)\n",
        "y_val = np.where(y_val == 4, 1.0, 0.0).astype(np.float32)\n"
      ]
    },
    {
      "cell_type": "code",
      "execution_count": null,
      "id": "a8316301-a6a8-47d7-9919-fb7ab68a10b7",
      "metadata": {
        "id": "a8316301-a6a8-47d7-9919-fb7ab68a10b7",
        "outputId": "677145a4-0b73-4324-e4f9-744449981419"
      },
      "outputs": [
        {
          "name": "stdout",
          "output_type": "stream",
          "text": [
            "Epoch 1/20\n"
          ]
        },
        {
          "name": "stderr",
          "output_type": "stream",
          "text": [
            "/courses/IE7500.202550/shared/conda_env_1/lib/python3.12/site-packages/keras/src/layers/core/embedding.py:90: UserWarning: Argument `input_length` is deprecated. Just remove it.\n",
            "  warnings.warn(\n",
            "WARNING: All log messages before absl::InitializeLog() is called are written to STDERR\n",
            "I0000 00:00:1750847147.521196  421565 service.cc:152] XLA service 0x14e7f000d0b0 initialized for platform Host (this does not guarantee that XLA will be used). Devices:\n",
            "I0000 00:00:1750847147.521239  421565 service.cc:160]   StreamExecutor device (0): Host, Default Version\n",
            "2025-06-25 06:25:47.587631: I tensorflow/compiler/mlir/tensorflow/utils/dump_mlir_util.cc:269] disabling MLIR crash reproducer, set env var `MLIR_CRASH_REPRODUCER_DIRECTORY` to enable.\n",
            "I0000 00:00:1750847148.461437  421565 device_compiler.h:188] Compiled cluster using XLA!  This line is logged at most once for the lifetime of the process.\n"
          ]
        },
        {
          "name": "stdout",
          "output_type": "stream",
          "text": [
            "10/10 - 4s - 361ms/step - accuracy: 0.5600 - loss: 0.6938\n",
            "Epoch 2/20\n",
            "10/10 - 0s - 33ms/step - accuracy: 0.6900 - loss: 0.6432\n",
            "Epoch 3/20\n",
            "10/10 - 0s - 33ms/step - accuracy: 0.7700 - loss: 0.5872\n",
            "Epoch 4/20\n",
            "10/10 - 0s - 33ms/step - accuracy: 0.7900 - loss: 0.4878\n",
            "Epoch 5/20\n",
            "10/10 - 0s - 33ms/step - accuracy: 0.8600 - loss: 0.3572\n",
            "Epoch 6/20\n",
            "10/10 - 0s - 33ms/step - accuracy: 0.9000 - loss: 0.2679\n",
            "Epoch 7/20\n",
            "10/10 - 0s - 33ms/step - accuracy: 0.9400 - loss: 0.1936\n",
            "Epoch 8/20\n",
            "10/10 - 0s - 33ms/step - accuracy: 0.9700 - loss: 0.1019\n",
            "Epoch 9/20\n",
            "10/10 - 0s - 33ms/step - accuracy: 0.9900 - loss: 0.0595\n",
            "Epoch 10/20\n",
            "10/10 - 0s - 33ms/step - accuracy: 0.9900 - loss: 0.0391\n",
            "Epoch 11/20\n",
            "10/10 - 0s - 33ms/step - accuracy: 0.9900 - loss: 0.0308\n",
            "Epoch 12/20\n",
            "10/10 - 0s - 33ms/step - accuracy: 0.9900 - loss: 0.0253\n",
            "Epoch 13/20\n",
            "10/10 - 0s - 33ms/step - accuracy: 0.9900 - loss: 0.0241\n",
            "Epoch 14/20\n",
            "10/10 - 0s - 33ms/step - accuracy: 0.9900 - loss: 0.0190\n",
            "Epoch 15/20\n",
            "10/10 - 0s - 33ms/step - accuracy: 0.9900 - loss: 0.0173\n",
            "Epoch 16/20\n",
            "10/10 - 0s - 33ms/step - accuracy: 0.9900 - loss: 0.0171\n",
            "Epoch 17/20\n",
            "10/10 - 0s - 34ms/step - accuracy: 1.0000 - loss: 0.0134\n",
            "Epoch 18/20\n",
            "10/10 - 0s - 33ms/step - accuracy: 1.0000 - loss: 0.0115\n",
            "Epoch 19/20\n",
            "10/10 - 0s - 33ms/step - accuracy: 1.0000 - loss: 0.0099\n",
            "Epoch 20/20\n",
            "10/10 - 0s - 34ms/step - accuracy: 1.0000 - loss: 0.0081\n"
          ]
        }
      ],
      "source": [
        "# First, we reduce our model to a small Sanity Test\n",
        "\n",
        "# Use a very small subset to test if model can overfit\n",
        "X_small = X_train_pad[:100]\n",
        "y_small = y_train[:100]\n",
        "\n",
        "# Sanity check: Create a simple model\n",
        "model = Sequential()\n",
        "model.add(Embedding(\n",
        "    input_dim=embedding_matrix.shape[0],\n",
        "    output_dim=embedding_matrix.shape[1],\n",
        "    weights=[embedding_matrix],\n",
        "    input_length=X_small.shape[1],\n",
        "    trainable=True\n",
        "))\n",
        "model.add(Bidirectional(LSTM(64)))\n",
        "model.add(Dense(1, activation='sigmoid'))\n",
        "\n",
        "# Compile\n",
        "model.compile(loss='binary_crossentropy', optimizer=Adam(learning_rate=0.001), metrics=['accuracy'])\n",
        "\n",
        "# Fit to a small subset to test if it can overfit\n",
        "history = model.fit(X_small, y_small, epochs=20, batch_size=10, verbose=2)"
      ]
    },
    {
      "cell_type": "code",
      "execution_count": null,
      "id": "fabbac0f-7326-4dac-af1d-61e59fd8eff5",
      "metadata": {
        "id": "fabbac0f-7326-4dac-af1d-61e59fd8eff5",
        "outputId": "20e62e86-6165-4868-bf15-4866e938d104"
      },
      "outputs": [
        {
          "data": {
            "text/html": [
              "<pre style=\"white-space:pre;overflow-x:auto;line-height:normal;font-family:Menlo,'DejaVu Sans Mono',consolas,'Courier New',monospace\"><span style=\"font-weight: bold\">Model: \"sequential_1\"</span>\n",
              "</pre>\n"
            ],
            "text/plain": [
              "\u001b[1mModel: \"sequential_1\"\u001b[0m\n"
            ]
          },
          "metadata": {},
          "output_type": "display_data"
        },
        {
          "data": {
            "text/html": [
              "<pre style=\"white-space:pre;overflow-x:auto;line-height:normal;font-family:Menlo,'DejaVu Sans Mono',consolas,'Courier New',monospace\">┏━━━━━━━━━━━━━━━━━━━━━━━━━━━━━━━━━┳━━━━━━━━━━━━━━━━━━━━━━━━┳━━━━━━━━━━━━━━━┓\n",
              "┃<span style=\"font-weight: bold\"> Layer (type)                    </span>┃<span style=\"font-weight: bold\"> Output Shape           </span>┃<span style=\"font-weight: bold\">       Param # </span>┃\n",
              "┡━━━━━━━━━━━━━━━━━━━━━━━━━━━━━━━━━╇━━━━━━━━━━━━━━━━━━━━━━━━╇━━━━━━━━━━━━━━━┩\n",
              "│ embedding_1 (<span style=\"color: #0087ff; text-decoration-color: #0087ff\">Embedding</span>)         │ ?                      │     <span style=\"color: #00af00; text-decoration-color: #00af00\">8,201,400</span> │\n",
              "├─────────────────────────────────┼────────────────────────┼───────────────┤\n",
              "│ bidirectional_1 (<span style=\"color: #0087ff; text-decoration-color: #0087ff\">Bidirectional</span>) │ ?                      │   <span style=\"color: #00af00; text-decoration-color: #00af00\">0</span> (unbuilt) │\n",
              "├─────────────────────────────────┼────────────────────────┼───────────────┤\n",
              "│ dropout (<span style=\"color: #0087ff; text-decoration-color: #0087ff\">Dropout</span>)               │ ?                      │             <span style=\"color: #00af00; text-decoration-color: #00af00\">0</span> │\n",
              "├─────────────────────────────────┼────────────────────────┼───────────────┤\n",
              "│ bidirectional_2 (<span style=\"color: #0087ff; text-decoration-color: #0087ff\">Bidirectional</span>) │ ?                      │   <span style=\"color: #00af00; text-decoration-color: #00af00\">0</span> (unbuilt) │\n",
              "├─────────────────────────────────┼────────────────────────┼───────────────┤\n",
              "│ dropout_1 (<span style=\"color: #0087ff; text-decoration-color: #0087ff\">Dropout</span>)             │ ?                      │             <span style=\"color: #00af00; text-decoration-color: #00af00\">0</span> │\n",
              "├─────────────────────────────────┼────────────────────────┼───────────────┤\n",
              "│ dense_1 (<span style=\"color: #0087ff; text-decoration-color: #0087ff\">Dense</span>)                 │ ?                      │   <span style=\"color: #00af00; text-decoration-color: #00af00\">0</span> (unbuilt) │\n",
              "└─────────────────────────────────┴────────────────────────┴───────────────┘\n",
              "</pre>\n"
            ],
            "text/plain": [
              "┏━━━━━━━━━━━━━━━━━━━━━━━━━━━━━━━━━┳━━━━━━━━━━━━━━━━━━━━━━━━┳━━━━━━━━━━━━━━━┓\n",
              "┃\u001b[1m \u001b[0m\u001b[1mLayer (type)                   \u001b[0m\u001b[1m \u001b[0m┃\u001b[1m \u001b[0m\u001b[1mOutput Shape          \u001b[0m\u001b[1m \u001b[0m┃\u001b[1m \u001b[0m\u001b[1m      Param #\u001b[0m\u001b[1m \u001b[0m┃\n",
              "┡━━━━━━━━━━━━━━━━━━━━━━━━━━━━━━━━━╇━━━━━━━━━━━━━━━━━━━━━━━━╇━━━━━━━━━━━━━━━┩\n",
              "│ embedding_1 (\u001b[38;5;33mEmbedding\u001b[0m)         │ ?                      │     \u001b[38;5;34m8,201,400\u001b[0m │\n",
              "├─────────────────────────────────┼────────────────────────┼───────────────┤\n",
              "│ bidirectional_1 (\u001b[38;5;33mBidirectional\u001b[0m) │ ?                      │   \u001b[38;5;34m0\u001b[0m (unbuilt) │\n",
              "├─────────────────────────────────┼────────────────────────┼───────────────┤\n",
              "│ dropout (\u001b[38;5;33mDropout\u001b[0m)               │ ?                      │             \u001b[38;5;34m0\u001b[0m │\n",
              "├─────────────────────────────────┼────────────────────────┼───────────────┤\n",
              "│ bidirectional_2 (\u001b[38;5;33mBidirectional\u001b[0m) │ ?                      │   \u001b[38;5;34m0\u001b[0m (unbuilt) │\n",
              "├─────────────────────────────────┼────────────────────────┼───────────────┤\n",
              "│ dropout_1 (\u001b[38;5;33mDropout\u001b[0m)             │ ?                      │             \u001b[38;5;34m0\u001b[0m │\n",
              "├─────────────────────────────────┼────────────────────────┼───────────────┤\n",
              "│ dense_1 (\u001b[38;5;33mDense\u001b[0m)                 │ ?                      │   \u001b[38;5;34m0\u001b[0m (unbuilt) │\n",
              "└─────────────────────────────────┴────────────────────────┴───────────────┘\n"
            ]
          },
          "metadata": {},
          "output_type": "display_data"
        },
        {
          "data": {
            "text/html": [
              "<pre style=\"white-space:pre;overflow-x:auto;line-height:normal;font-family:Menlo,'DejaVu Sans Mono',consolas,'Courier New',monospace\"><span style=\"font-weight: bold\"> Total params: </span><span style=\"color: #00af00; text-decoration-color: #00af00\">8,201,400</span> (31.29 MB)\n",
              "</pre>\n"
            ],
            "text/plain": [
              "\u001b[1m Total params: \u001b[0m\u001b[38;5;34m8,201,400\u001b[0m (31.29 MB)\n"
            ]
          },
          "metadata": {},
          "output_type": "display_data"
        },
        {
          "data": {
            "text/html": [
              "<pre style=\"white-space:pre;overflow-x:auto;line-height:normal;font-family:Menlo,'DejaVu Sans Mono',consolas,'Courier New',monospace\"><span style=\"font-weight: bold\"> Trainable params: </span><span style=\"color: #00af00; text-decoration-color: #00af00\">0</span> (0.00 B)\n",
              "</pre>\n"
            ],
            "text/plain": [
              "\u001b[1m Trainable params: \u001b[0m\u001b[38;5;34m0\u001b[0m (0.00 B)\n"
            ]
          },
          "metadata": {},
          "output_type": "display_data"
        },
        {
          "data": {
            "text/html": [
              "<pre style=\"white-space:pre;overflow-x:auto;line-height:normal;font-family:Menlo,'DejaVu Sans Mono',consolas,'Courier New',monospace\"><span style=\"font-weight: bold\"> Non-trainable params: </span><span style=\"color: #00af00; text-decoration-color: #00af00\">8,201,400</span> (31.29 MB)\n",
              "</pre>\n"
            ],
            "text/plain": [
              "\u001b[1m Non-trainable params: \u001b[0m\u001b[38;5;34m8,201,400\u001b[0m (31.29 MB)\n"
            ]
          },
          "metadata": {},
          "output_type": "display_data"
        }
      ],
      "source": [
        "# Now, we build our model\n",
        "\n",
        "# Define model\n",
        "LSTMmodel = Sequential()\n",
        "\n",
        "# 1. Embedding layer\n",
        "LSTMmodel.add(Embedding(\n",
        "    input_dim=embedding_matrix.shape[0],\n",
        "    output_dim=embedding_matrix.shape[1],\n",
        "    weights=[embedding_matrix],\n",
        "    input_length=max_len,\n",
        "    trainable=False\n",
        "))\n",
        "\n",
        "# 2. First LSTM\n",
        "LSTMmodel.add(Bidirectional(LSTM(265, return_sequences=True)))\n",
        "\n",
        "LSTMmodel.add(Dropout(0.5))\n",
        "\n",
        "# 3. Second LSTM\n",
        "LSTMmodel.add(Bidirectional(LSTM(128)))\n",
        "\n",
        "# 4. Dropout\n",
        "LSTMmodel.add(Dropout(0.3))\n",
        "\n",
        "# 5. Output\n",
        "LSTMmodel.add(Dense(1, activation='sigmoid'))\n",
        "\n",
        "# Compile\n",
        "optimizer = Nadam(learning_rate=0.001)\n",
        "LSTMmodel.compile(loss='binary_crossentropy', optimizer=optimizer, metrics=['accuracy'])\n",
        "\n",
        "# Show summary\n",
        "LSTMmodel.summary()"
      ]
    },
    {
      "cell_type": "code",
      "execution_count": null,
      "id": "34ea73bb-bc43-4933-b1ec-9856ed807ced",
      "metadata": {
        "id": "34ea73bb-bc43-4933-b1ec-9856ed807ced",
        "outputId": "8aa08fa9-b02d-4e22-cdae-07e4057a4320"
      },
      "outputs": [
        {
          "name": "stdout",
          "output_type": "stream",
          "text": [
            "Epoch 1/20\n",
            "\u001b[1m1873/1873\u001b[0m \u001b[32m━━━━━━━━━━━━━━━━━━━━\u001b[0m\u001b[37m\u001b[0m \u001b[1m1077s\u001b[0m 571ms/step - accuracy: 0.7712 - loss: 0.4744 - val_accuracy: 0.7955 - val_loss: 0.4364\n",
            "Epoch 2/20\n",
            "\u001b[1m1873/1873\u001b[0m \u001b[32m━━━━━━━━━━━━━━━━━━━━\u001b[0m\u001b[37m\u001b[0m \u001b[1m1065s\u001b[0m 568ms/step - accuracy: 0.7994 - loss: 0.4315 - val_accuracy: 0.8021 - val_loss: 0.4271\n",
            "Epoch 3/20\n",
            "\u001b[1m1873/1873\u001b[0m \u001b[32m━━━━━━━━━━━━━━━━━━━━\u001b[0m\u001b[37m\u001b[0m \u001b[1m1062s\u001b[0m 567ms/step - accuracy: 0.8059 - loss: 0.4210 - val_accuracy: 0.8069 - val_loss: 0.4185\n",
            "Epoch 4/20\n",
            "\u001b[1m1873/1873\u001b[0m \u001b[32m━━━━━━━━━━━━━━━━━━━━\u001b[0m\u001b[37m\u001b[0m \u001b[1m1062s\u001b[0m 567ms/step - accuracy: 0.8101 - loss: 0.4132 - val_accuracy: 0.8071 - val_loss: 0.4166\n",
            "Epoch 5/20\n",
            "\u001b[1m1873/1873\u001b[0m \u001b[32m━━━━━━━━━━━━━━━━━━━━\u001b[0m\u001b[37m\u001b[0m \u001b[1m1061s\u001b[0m 566ms/step - accuracy: 0.8145 - loss: 0.4050 - val_accuracy: 0.8099 - val_loss: 0.4131\n",
            "Epoch 6/20\n",
            "\u001b[1m1873/1873\u001b[0m \u001b[32m━━━━━━━━━━━━━━━━━━━━\u001b[0m\u001b[37m\u001b[0m \u001b[1m1061s\u001b[0m 566ms/step - accuracy: 0.8184 - loss: 0.3981 - val_accuracy: 0.8117 - val_loss: 0.4098\n",
            "Epoch 7/20\n",
            "\u001b[1m1873/1873\u001b[0m \u001b[32m━━━━━━━━━━━━━━━━━━━━\u001b[0m\u001b[37m\u001b[0m \u001b[1m1061s\u001b[0m 566ms/step - accuracy: 0.8224 - loss: 0.3910 - val_accuracy: 0.8116 - val_loss: 0.4101\n",
            "Epoch 8/20\n",
            "\u001b[1m1873/1873\u001b[0m \u001b[32m━━━━━━━━━━━━━━━━━━━━\u001b[0m\u001b[37m\u001b[0m \u001b[1m1061s\u001b[0m 566ms/step - accuracy: 0.8274 - loss: 0.3823 - val_accuracy: 0.8105 - val_loss: 0.4127\n"
          ]
        },
        {
          "data": {
            "image/png": "[encoded data removed]",
            "text/plain": [
              "<Figure size 640x480 with 1 Axes>"
            ]
          },
          "metadata": {},
          "output_type": "display_data"
        }
      ],
      "source": [
        "# Next we train our model, and then visualize performance\n",
        "\n",
        "early_stop = EarlyStopping(monitor='val_loss', patience=2, restore_best_weights=True)\n",
        "\n",
        "history = LSTMmodel.fit(\n",
        "    X_train_pad, y_train,\n",
        "    validation_data=(X_val_pad, y_val),\n",
        "    epochs=20,\n",
        "    batch_size=500,\n",
        "    callbacks=[early_stop]\n",
        ")\n",
        "\n",
        "# Save the model and download\n",
        "LSTMmodel.save(\"sentiment_lstm_model.keras\")\n",
        "\n",
        "# Plot training history\n",
        "plt.plot(history.history['accuracy'], label='Train Accuracy')\n",
        "plt.plot(history.history['val_accuracy'], label='Validation Accuracy')\n",
        "plt.plot(history.history['loss'], label='Train Loss')\n",
        "plt.plot(history.history['val_loss'], label='Validation Loss')\n",
        "plt.xlabel('Epoch')\n",
        "plt.ylabel('Value')\n",
        "plt.title('Training History')\n",
        "plt.legend()\n",
        "plt.grid(True)\n",
        "plt.show()"
      ]
    },
    {
      "cell_type": "code",
      "execution_count": null,
      "id": "GNlc4i-RAIaF",
      "metadata": {
        "id": "GNlc4i-RAIaF",
        "outputId": "59a4fd81-d8c4-42c1-c917-5dfd386d2341"
      },
      "outputs": [
        {
          "name": "stdout",
          "output_type": "stream",
          "text": [
            "\u001b[1m6270/6270\u001b[0m \u001b[32m━━━━━━━━━━━━━━━━━━━━\u001b[0m\u001b[37m\u001b[0m \u001b[1m331s\u001b[0m 53ms/step\n",
            "\n",
            "--- Validation Performance (LSTM) ---\n",
            "Accuracy:  0.8117\n",
            "Precision: 0.8151\n",
            "Recall:    0.8860\n",
            "F1 Score:  0.8491\n"
          ]
        },
        {
          "data": {
            "image/png": "[encoded data removed]",
            "text/plain": [
              "<Figure size 640x480 with 2 Axes>"
            ]
          },
          "metadata": {},
          "output_type": "display_data"
        }
      ],
      "source": [
        "# Predict probabilities using the trained LSTM model\n",
        "# Since it's binary classification, the output is a single sigmoid value per instance\n",
        "y_val_pred_probs = LSTMmodel.predict(X_val_pad).ravel()\n",
        "\n",
        "# Convert predicted probabilities to class labels using a threshold of 0.5\n",
        "# Values >= 0.5 are mapped to class 1 (positive), else class 0 (negative)\n",
        "y_val_pred = (y_val_pred_probs >= 0.5).astype(int)\n",
        "\n",
        "# Compute evaluation metrics\n",
        "# Use zero_division=0 to handle cases where there may be no predicted positives\n",
        "acc = accuracy_score(y_val, y_val_pred)\n",
        "prec = precision_score(y_val, y_val_pred, zero_division=0)\n",
        "rec = recall_score(y_val, y_val_pred, zero_division=0)\n",
        "f1 = f1_score(y_val, y_val_pred, zero_division=0)\n",
        "\n",
        "# Print metric results in a formatted summary\n",
        "print(\"\\n--- Validation Performance (LSTM) ---\")\n",
        "print(f\"Accuracy:  {acc:.4f}\")\n",
        "print(f\"Precision: {prec:.4f}\")\n",
        "print(f\"Recall:    {rec:.4f}\")\n",
        "print(f\"F1 Score:  {f1:.4f}\")\n",
        "\n",
        "# Generate and display the confusion matrix\n",
        "cm = confusion_matrix(y_val, y_val_pred)\n",
        "ConfusionMatrixDisplay(confusion_matrix=cm, display_labels=[\"Negative\", \"Positive\"]).plot(cmap=\"Blues\")\n",
        "plt.title(\"Validation Confusion Matrix\")\n",
        "plt.grid(False)\n",
        "plt.show()"
      ]
    },
    {
      "cell_type": "markdown",
      "id": "42a09612-3089-468d-99a3-c4a97b9b3fa9",
      "metadata": {
        "id": "42a09612-3089-468d-99a3-c4a97b9b3fa9"
      },
      "source": [
        "______________________________________________________________________________________________________________________________"
      ]
    },
    {
      "cell_type": "markdown",
      "id": "aabdf2dd-b6d2-4007-923c-f7825eba8057",
      "metadata": {
        "id": "aabdf2dd-b6d2-4007-923c-f7825eba8057"
      },
      "source": [
        "\n",
        "<div style=\"background-color:#e6f2ff; border-left:8px solid #0059b3; padding:20px; margin:20px 0;\">\n",
        "  <h2 style=\"color:#003366;\"><strong>4.3 BERT Model</strong></h2>\n",
        "  <p style=\"color:#333333;\">Fine-tuning DistilBERT or similar transformer model (if feasible).</p>\n",
        "</div>\n"
      ]
    },
    {
      "cell_type": "code",
      "execution_count": null,
      "id": "f6c94bb9-609c-486b-8f8b-65b4639e6aa1",
      "metadata": {
        "id": "f6c94bb9-609c-486b-8f8b-65b4639e6aa1"
      },
      "outputs": [],
      "source": [
        "# Install Hugging Face Transformers\n",
        "!pip install transformers datasets -q"
      ]
    },
    {
      "cell_type": "code",
      "execution_count": null,
      "id": "8a93539e-953f-4fc9-815e-d1fed9a40a59",
      "metadata": {
        "id": "8a93539e-953f-4fc9-815e-d1fed9a40a59",
        "outputId": "b0168bdf-4dde-417c-b0f7-8de4ef649a2a"
      },
      "outputs": [
        {
          "name": "stdout",
          "output_type": "stream",
          "text": [
            "Defaulting to user installation because normal site-packages is not writeable\n",
            "Requirement already satisfied: transformers in /home/albahri.m/.local/lib/python3.12/site-packages (4.52.4)\n",
            "Requirement already satisfied: filelock in /courses/IE7500.202550/shared/conda_env_1/lib/python3.12/site-packages (from transformers) (3.18.0)\n",
            "Requirement already satisfied: huggingface-hub<1.0,>=0.30.0 in /courses/IE7500.202550/shared/conda_env_1/lib/python3.12/site-packages (from transformers) (0.32.2)\n",
            "Requirement already satisfied: numpy>=1.17 in /courses/IE7500.202550/shared/conda_env_1/lib/python3.12/site-packages (from transformers) (1.26.4)\n",
            "Requirement already satisfied: packaging>=20.0 in /courses/IE7500.202550/shared/conda_env_1/lib/python3.12/site-packages (from transformers) (24.2)\n",
            "Requirement already satisfied: pyyaml>=5.1 in /courses/IE7500.202550/shared/conda_env_1/lib/python3.12/site-packages (from transformers) (6.0.2)\n",
            "Requirement already satisfied: regex!=2019.12.17 in /courses/IE7500.202550/shared/conda_env_1/lib/python3.12/site-packages (from transformers) (2024.11.6)\n",
            "Requirement already satisfied: requests in /courses/IE7500.202550/shared/conda_env_1/lib/python3.12/site-packages (from transformers) (2.32.3)\n",
            "Requirement already satisfied: tokenizers<0.22,>=0.21 in /courses/IE7500.202550/shared/conda_env_1/lib/python3.12/site-packages (from transformers) (0.21.1)\n",
            "Requirement already satisfied: safetensors>=0.4.3 in /courses/IE7500.202550/shared/conda_env_1/lib/python3.12/site-packages (from transformers) (0.5.3)\n",
            "Requirement already satisfied: tqdm>=4.27 in /courses/IE7500.202550/shared/conda_env_1/lib/python3.12/site-packages (from transformers) (4.67.1)\n",
            "Requirement already satisfied: fsspec>=2023.5.0 in /courses/IE7500.202550/shared/conda_env_1/lib/python3.12/site-packages (from huggingface-hub<1.0,>=0.30.0->transformers) (2025.3.0)\n",
            "Requirement already satisfied: typing-extensions>=3.7.4.3 in /courses/IE7500.202550/shared/conda_env_1/lib/python3.12/site-packages (from huggingface-hub<1.0,>=0.30.0->transformers) (4.13.2)\n",
            "Requirement already satisfied: hf-xet<2.0.0,>=1.1.2 in /courses/IE7500.202550/shared/conda_env_1/lib/python3.12/site-packages (from huggingface-hub<1.0,>=0.30.0->transformers) (1.1.2)\n",
            "Requirement already satisfied: charset-normalizer<4,>=2 in /courses/IE7500.202550/shared/conda_env_1/lib/python3.12/site-packages (from requests->transformers) (3.3.2)\n",
            "Requirement already satisfied: idna<4,>=2.5 in /courses/IE7500.202550/shared/conda_env_1/lib/python3.12/site-packages (from requests->transformers) (3.10)\n",
            "Requirement already satisfied: urllib3<3,>=1.21.1 in /courses/IE7500.202550/shared/conda_env_1/lib/python3.12/site-packages (from requests->transformers) (2.3.0)\n",
            "Requirement already satisfied: certifi>=2017.4.17 in /courses/IE7500.202550/shared/conda_env_1/lib/python3.12/site-packages (from requests->transformers) (2025.4.26)\n"
          ]
        }
      ],
      "source": [
        "!pip install --upgrade transformers"
      ]
    },
    {
      "cell_type": "code",
      "execution_count": null,
      "id": "ca01e50d-51a1-4ba5-bd56-13275178ee60",
      "metadata": {
        "id": "ca01e50d-51a1-4ba5-bd56-13275178ee60",
        "outputId": "f5774c8d-80af-4869-d369-7a6e6eaa18fb"
      },
      "outputs": [
        {
          "name": "stdout",
          "output_type": "stream",
          "text": [
            "Defaulting to user installation because normal site-packages is not writeable\n",
            "Requirement already satisfied: accelerate in /home/albahri.m/.local/lib/python3.12/site-packages (1.8.1)\n",
            "Requirement already satisfied: numpy<3.0.0,>=1.17 in /courses/IE7500.202550/shared/conda_env_1/lib/python3.12/site-packages (from accelerate) (1.26.4)\n",
            "Requirement already satisfied: packaging>=20.0 in /courses/IE7500.202550/shared/conda_env_1/lib/python3.12/site-packages (from accelerate) (24.2)\n",
            "Requirement already satisfied: psutil in /courses/IE7500.202550/shared/conda_env_1/lib/python3.12/site-packages (from accelerate) (5.9.0)\n",
            "Requirement already satisfied: pyyaml in /courses/IE7500.202550/shared/conda_env_1/lib/python3.12/site-packages (from accelerate) (6.0.2)\n",
            "Requirement already satisfied: torch>=2.0.0 in /courses/IE7500.202550/shared/conda_env_1/lib/python3.12/site-packages (from accelerate) (2.5.1)\n",
            "Requirement already satisfied: huggingface_hub>=0.21.0 in /courses/IE7500.202550/shared/conda_env_1/lib/python3.12/site-packages (from accelerate) (0.32.2)\n",
            "Requirement already satisfied: safetensors>=0.4.3 in /courses/IE7500.202550/shared/conda_env_1/lib/python3.12/site-packages (from accelerate) (0.5.3)\n",
            "Requirement already satisfied: filelock in /courses/IE7500.202550/shared/conda_env_1/lib/python3.12/site-packages (from huggingface_hub>=0.21.0->accelerate) (3.18.0)\n",
            "Requirement already satisfied: fsspec>=2023.5.0 in /courses/IE7500.202550/shared/conda_env_1/lib/python3.12/site-packages (from huggingface_hub>=0.21.0->accelerate) (2025.3.0)\n",
            "Requirement already satisfied: requests in /courses/IE7500.202550/shared/conda_env_1/lib/python3.12/site-packages (from huggingface_hub>=0.21.0->accelerate) (2.32.3)\n",
            "Requirement already satisfied: tqdm>=4.42.1 in /courses/IE7500.202550/shared/conda_env_1/lib/python3.12/site-packages (from huggingface_hub>=0.21.0->accelerate) (4.67.1)\n",
            "Requirement already satisfied: typing-extensions>=3.7.4.3 in /courses/IE7500.202550/shared/conda_env_1/lib/python3.12/site-packages (from huggingface_hub>=0.21.0->accelerate) (4.13.2)\n",
            "Requirement already satisfied: hf-xet<2.0.0,>=1.1.2 in /courses/IE7500.202550/shared/conda_env_1/lib/python3.12/site-packages (from huggingface_hub>=0.21.0->accelerate) (1.1.2)\n",
            "Requirement already satisfied: setuptools in /courses/IE7500.202550/shared/conda_env_1/lib/python3.12/site-packages (from torch>=2.0.0->accelerate) (75.6.0)\n",
            "Requirement already satisfied: sympy==1.13.1 in /home/albahri.m/.local/lib/python3.12/site-packages (from torch>=2.0.0->accelerate) (1.13.1)\n",
            "Requirement already satisfied: networkx in /courses/IE7500.202550/shared/conda_env_1/lib/python3.12/site-packages (from torch>=2.0.0->accelerate) (3.4.2)\n",
            "Requirement already satisfied: jinja2 in /courses/IE7500.202550/shared/conda_env_1/lib/python3.12/site-packages (from torch>=2.0.0->accelerate) (3.1.6)\n",
            "Requirement already satisfied: mpmath<1.4,>=1.1.0 in /courses/IE7500.202550/shared/conda_env_1/lib/python3.12/site-packages (from sympy==1.13.1->torch>=2.0.0->accelerate) (1.3.0)\n",
            "Requirement already satisfied: MarkupSafe>=2.0 in /courses/IE7500.202550/shared/conda_env_1/lib/python3.12/site-packages (from jinja2->torch>=2.0.0->accelerate) (3.0.2)\n",
            "Requirement already satisfied: charset-normalizer<4,>=2 in /courses/IE7500.202550/shared/conda_env_1/lib/python3.12/site-packages (from requests->huggingface_hub>=0.21.0->accelerate) (3.3.2)\n",
            "Requirement already satisfied: idna<4,>=2.5 in /courses/IE7500.202550/shared/conda_env_1/lib/python3.12/site-packages (from requests->huggingface_hub>=0.21.0->accelerate) (3.10)\n",
            "Requirement already satisfied: urllib3<3,>=1.21.1 in /courses/IE7500.202550/shared/conda_env_1/lib/python3.12/site-packages (from requests->huggingface_hub>=0.21.0->accelerate) (2.3.0)\n",
            "Requirement already satisfied: certifi>=2017.4.17 in /courses/IE7500.202550/shared/conda_env_1/lib/python3.12/site-packages (from requests->huggingface_hub>=0.21.0->accelerate) (2025.4.26)\n"
          ]
        }
      ],
      "source": [
        "!pip install -U accelerate"
      ]
    },
    {
      "cell_type": "code",
      "execution_count": null,
      "id": "a2f01477-bebd-446a-97ac-a759719d5407",
      "metadata": {
        "id": "a2f01477-bebd-446a-97ac-a759719d5407",
        "outputId": "79d2d450-1e61-4ea0-db66-a2cfb54238de"
      },
      "outputs": [
        {
          "name": "stdout",
          "output_type": "stream",
          "text": [
            "Defaulting to user installation because normal site-packages is not writeable\n",
            "Requirement already satisfied: transformers in /home/albahri.m/.local/lib/python3.12/site-packages (4.52.4)\n",
            "Requirement already satisfied: accelerate in /home/albahri.m/.local/lib/python3.12/site-packages (1.8.1)\n",
            "Requirement already satisfied: filelock in /courses/IE7500.202550/shared/conda_env_1/lib/python3.12/site-packages (from transformers) (3.18.0)\n",
            "Requirement already satisfied: huggingface-hub<1.0,>=0.30.0 in /courses/IE7500.202550/shared/conda_env_1/lib/python3.12/site-packages (from transformers) (0.32.2)\n",
            "Requirement already satisfied: numpy>=1.17 in /courses/IE7500.202550/shared/conda_env_1/lib/python3.12/site-packages (from transformers) (1.26.4)\n",
            "Requirement already satisfied: packaging>=20.0 in /courses/IE7500.202550/shared/conda_env_1/lib/python3.12/site-packages (from transformers) (24.2)\n",
            "Requirement already satisfied: pyyaml>=5.1 in /courses/IE7500.202550/shared/conda_env_1/lib/python3.12/site-packages (from transformers) (6.0.2)\n",
            "Requirement already satisfied: regex!=2019.12.17 in /courses/IE7500.202550/shared/conda_env_1/lib/python3.12/site-packages (from transformers) (2024.11.6)\n",
            "Requirement already satisfied: requests in /courses/IE7500.202550/shared/conda_env_1/lib/python3.12/site-packages (from transformers) (2.32.3)\n",
            "Requirement already satisfied: tokenizers<0.22,>=0.21 in /courses/IE7500.202550/shared/conda_env_1/lib/python3.12/site-packages (from transformers) (0.21.1)\n",
            "Requirement already satisfied: safetensors>=0.4.3 in /courses/IE7500.202550/shared/conda_env_1/lib/python3.12/site-packages (from transformers) (0.5.3)\n",
            "Requirement already satisfied: tqdm>=4.27 in /courses/IE7500.202550/shared/conda_env_1/lib/python3.12/site-packages (from transformers) (4.67.1)\n",
            "Requirement already satisfied: psutil in /courses/IE7500.202550/shared/conda_env_1/lib/python3.12/site-packages (from accelerate) (5.9.0)\n",
            "Requirement already satisfied: torch>=2.0.0 in /courses/IE7500.202550/shared/conda_env_1/lib/python3.12/site-packages (from accelerate) (2.5.1)\n",
            "Requirement already satisfied: fsspec>=2023.5.0 in /courses/IE7500.202550/shared/conda_env_1/lib/python3.12/site-packages (from huggingface-hub<1.0,>=0.30.0->transformers) (2025.3.0)\n",
            "Requirement already satisfied: typing-extensions>=3.7.4.3 in /courses/IE7500.202550/shared/conda_env_1/lib/python3.12/site-packages (from huggingface-hub<1.0,>=0.30.0->transformers) (4.13.2)\n",
            "Requirement already satisfied: hf-xet<2.0.0,>=1.1.2 in /courses/IE7500.202550/shared/conda_env_1/lib/python3.12/site-packages (from huggingface-hub<1.0,>=0.30.0->transformers) (1.1.2)\n",
            "Requirement already satisfied: setuptools in /courses/IE7500.202550/shared/conda_env_1/lib/python3.12/site-packages (from torch>=2.0.0->accelerate) (75.6.0)\n",
            "Requirement already satisfied: sympy==1.13.1 in /home/albahri.m/.local/lib/python3.12/site-packages (from torch>=2.0.0->accelerate) (1.13.1)\n",
            "Requirement already satisfied: networkx in /courses/IE7500.202550/shared/conda_env_1/lib/python3.12/site-packages (from torch>=2.0.0->accelerate) (3.4.2)\n",
            "Requirement already satisfied: jinja2 in /courses/IE7500.202550/shared/conda_env_1/lib/python3.12/site-packages (from torch>=2.0.0->accelerate) (3.1.6)\n",
            "Requirement already satisfied: mpmath<1.4,>=1.1.0 in /courses/IE7500.202550/shared/conda_env_1/lib/python3.12/site-packages (from sympy==1.13.1->torch>=2.0.0->accelerate) (1.3.0)\n",
            "Requirement already satisfied: charset-normalizer<4,>=2 in /courses/IE7500.202550/shared/conda_env_1/lib/python3.12/site-packages (from requests->transformers) (3.3.2)\n",
            "Requirement already satisfied: idna<4,>=2.5 in /courses/IE7500.202550/shared/conda_env_1/lib/python3.12/site-packages (from requests->transformers) (3.10)\n",
            "Requirement already satisfied: urllib3<3,>=1.21.1 in /courses/IE7500.202550/shared/conda_env_1/lib/python3.12/site-packages (from requests->transformers) (2.3.0)\n",
            "Requirement already satisfied: certifi>=2017.4.17 in /courses/IE7500.202550/shared/conda_env_1/lib/python3.12/site-packages (from requests->transformers) (2025.4.26)\n",
            "Requirement already satisfied: MarkupSafe>=2.0 in /courses/IE7500.202550/shared/conda_env_1/lib/python3.12/site-packages (from jinja2->torch>=2.0.0->accelerate) (3.0.2)\n"
          ]
        }
      ],
      "source": [
        "!pip install -U transformers accelerate"
      ]
    },
    {
      "cell_type": "code",
      "execution_count": null,
      "id": "893cda30-0da5-4b57-8675-a679b57907f9",
      "metadata": {
        "id": "893cda30-0da5-4b57-8675-a679b57907f9"
      },
      "outputs": [],
      "source": [
        "import os\n",
        "os._exit(0)"
      ]
    },
    {
      "cell_type": "code",
      "execution_count": null,
      "id": "81be92b4-234e-49c5-b7f8-fc66abd14b12",
      "metadata": {
        "id": "81be92b4-234e-49c5-b7f8-fc66abd14b12"
      },
      "outputs": [],
      "source": [
        "import sys\n",
        "sys.path.insert(0, \"/home/albahri.m/.local/lib/python3.12/site-packages\")"
      ]
    },
    {
      "cell_type": "code",
      "execution_count": null,
      "id": "1d771b6f-3e77-4422-8b84-51458303d962",
      "metadata": {
        "id": "1d771b6f-3e77-4422-8b84-51458303d962"
      },
      "outputs": [],
      "source": [
        "# Importing all libraries here\n",
        "\n",
        "import torch\n",
        "from transformers import DistilBertTokenizerFast, DistilBertForSequenceClassification\n",
        "from transformers import Trainer, TrainingArguments\n",
        "from datasets import Dataset\n",
        "import numpy as np\n",
        "from sklearn.metrics import accuracy_score, precision_recall_fscore_support\n",
        "import numpy as np\n",
        "import matplotlib.pyplot as plt\n",
        "import seaborn as sns\n",
        "import pandas as pd\n",
        "from sklearn.metrics import (\n",
        "    accuracy_score, precision_score, recall_score, f1_score,\n",
        "    confusion_matrix, ConfusionMatrixDisplay, roc_curve, auc )\n",
        "from datasets import Dataset\n",
        "from transformers import EarlyStoppingCallback\n",
        "import os\n",
        "os.environ[\"TOKENIZERS_PARALLELISM\"] = \"false\""
      ]
    },
    {
      "cell_type": "code",
      "execution_count": null,
      "id": "e512ac60-c2e4-4a18-a851-4a2eba716567",
      "metadata": {
        "id": "e512ac60-c2e4-4a18-a851-4a2eba716567"
      },
      "outputs": [],
      "source": [
        "# We fix the data type\n",
        "\n",
        "# Ensure 'target' is int and remap 4 → 1\n",
        "train_df['labels'] = train_df['target'].astype(int).replace({4: 1})\n",
        "val_df['labels'] = val_df['target'].astype(int).replace({4: 1})\n",
        "\n",
        "# Ensure text is string\n",
        "train_df['text'] = train_df['text'].astype(str)\n",
        "val_df['text'] = val_df['text'].astype(str)"
      ]
    },
    {
      "cell_type": "code",
      "execution_count": null,
      "id": "73b65adc-42d7-4a92-875e-ab9ca693e38a",
      "metadata": {
        "id": "73b65adc-42d7-4a92-875e-ab9ca693e38a"
      },
      "outputs": [],
      "source": [
        "# Next, we convert to Hugging Face Datasets format\n",
        "\n",
        "train_dataset = Dataset.from_pandas(train_df[['text', 'labels']])\n",
        "val_dataset = Dataset.from_pandas(val_df[['text', 'labels']])"
      ]
    },
    {
      "cell_type": "code",
      "execution_count": null,
      "id": "e064f575-7564-4f1e-90c2-275f74778413",
      "metadata": {
        "id": "e064f575-7564-4f1e-90c2-275f74778413",
        "outputId": "53763b18-82d0-40a9-88eb-9fced89dca98"
      },
      "outputs": [
        {
          "name": "stderr",
          "output_type": "stream",
          "text": [
            "Map: 100%|██████████| 936194/936194 [00:58<00:00, 15991.18 examples/s]\n",
            "Map: 100%|██████████| 200614/200614 [00:12<00:00, 16153.99 examples/s]\n"
          ]
        }
      ],
      "source": [
        "# Next, we perform tokenization with DistilBERT\n",
        "\n",
        "# Load pretrained tokenizer\n",
        "tokenizer = DistilBertTokenizerFast.from_pretrained('distilbert-base-uncased')\n",
        "\n",
        "# Tokenize datasets\n",
        "def tokenize_function(tokens):\n",
        "    return tokenizer(tokens[\"text\"], truncation=True, padding=\"max_length\", max_length=140) # this number is intentional because we already showed tweets max length\n",
        "\n",
        "train_tokenized = train_dataset.map(tokenize_function, batched=True)\n",
        "val_tokenized = val_dataset.map(tokenize_function, batched=True)"
      ]
    },
    {
      "cell_type": "code",
      "execution_count": null,
      "id": "a5bd8c27-e8ba-48ab-a0a0-e9a460cd9380",
      "metadata": {
        "id": "a5bd8c27-e8ba-48ab-a0a0-e9a460cd9380",
        "outputId": "dbb3d093-d798-4109-ee0f-a04215e5efc3"
      },
      "outputs": [
        {
          "name": "stderr",
          "output_type": "stream",
          "text": [
            "Some weights of DistilBertForSequenceClassification were not initialized from the model checkpoint at distilbert-base-uncased and are newly initialized: ['classifier.bias', 'classifier.weight', 'pre_classifier.bias', 'pre_classifier.weight']\n",
            "You should probably TRAIN this model on a down-stream task to be able to use it for predictions and inference.\n"
          ]
        }
      ],
      "source": [
        "# Next, we load DistilBERT with classification head\n",
        "BERTmodel = DistilBertForSequenceClassification.from_pretrained('distilbert-base-uncased', num_labels=2)"
      ]
    },
    {
      "cell_type": "code",
      "execution_count": null,
      "id": "f3dee63a-5863-40fa-8cb4-283c21c93158",
      "metadata": {
        "id": "f3dee63a-5863-40fa-8cb4-283c21c93158"
      },
      "outputs": [],
      "source": [
        "# After that, we define evaluation metrics\n",
        "\n",
        "def compute_metrics(eval_pred):\n",
        "    logits, labels = eval_pred\n",
        "    predictions = np.argmax(logits, axis=-1)\n",
        "    precision, recall, f1, _ = precision_recall_fscore_support(labels, predictions, average='binary')\n",
        "    acc = accuracy_score(labels, predictions)\n",
        "    return {\"accuracy\": acc, \"f1\": f1, \"precision\": precision, \"recall\": recall}"
      ]
    },
    {
      "cell_type": "code",
      "execution_count": null,
      "id": "7ad6fe20-d14d-4f80-8e55-0d8a24b04451",
      "metadata": {
        "id": "7ad6fe20-d14d-4f80-8e55-0d8a24b04451",
        "outputId": "2ce535f8-67af-423f-f28f-22e0299026a8"
      },
      "outputs": [
        {
          "name": "stderr",
          "output_type": "stream",
          "text": [
            "/tmp/ipykernel_1349124/403454765.py:18: FutureWarning: `tokenizer` is deprecated and will be removed in version 5.0.0 for `Trainer.__init__`. Use `processing_class` instead.\n",
            "  BERTtrainer = Trainer(\n"
          ]
        }
      ],
      "source": [
        "# Next, we define training configuration\n",
        "\n",
        "training_args = TrainingArguments(\n",
        "    output_dir=\"./distilbert_fast_dev\",   # Model output directory\n",
        "    do_train=True,\n",
        "    do_eval=False,                        # Skip evaluation for speed\n",
        "    per_device_train_batch_size=32,       # Speed up with larger batch size\n",
        "    num_train_epochs=2,\n",
        "    learning_rate=1e-4,                   # Increased LR for faster convergence\n",
        "    weight_decay=0.01,\n",
        "    logging_steps=5000,                   # Less logging = less overhead\n",
        "    save_steps=1_000_000,                 # Effectively disables mid-training saves\n",
        "    save_total_limit=1,\n",
        "    report_to=[]                          # Disable logging integrations\n",
        ")\n",
        "\n",
        "# Setup Trainer\n",
        "BERTtrainer = Trainer(\n",
        "    model=BERTmodel,\n",
        "    args=training_args,\n",
        "    train_dataset=train_tokenized,        # You can use a subset to test faster\n",
        "    tokenizer=tokenizer\n",
        ")"
      ]
    },
    {
      "cell_type": "code",
      "execution_count": null,
      "id": "35b615b9-d430-4985-8481-12e197415347",
      "metadata": {
        "id": "35b615b9-d430-4985-8481-12e197415347",
        "outputId": "6c7b4694-0edc-49b3-ddcd-42463740ddc9"
      },
      "outputs": [
        {
          "data": {
            "text/html": [
              "\n",
              "    <div>\n",
              "      \n",
              "      <progress value='58514' max='58514' style='width:300px; height:20px; vertical-align: middle;'></progress>\n",
              "      [58514/58514 3:42:55, Epoch 2/2]\n",
              "    </div>\n",
              "    <table border=\"1\" class=\"dataframe\">\n",
              "  <thead>\n",
              " <tr style=\"text-align: left;\">\n",
              "      <th>Step</th>\n",
              "      <th>Training Loss</th>\n",
              "    </tr>\n",
              "  </thead>\n",
              "  <tbody>\n",
              "    <tr>\n",
              "      <td>5000</td>\n",
              "      <td>0.455700</td>\n",
              "    </tr>\n",
              "    <tr>\n",
              "      <td>10000</td>\n",
              "      <td>0.455600</td>\n",
              "    </tr>\n",
              "    <tr>\n",
              "      <td>15000</td>\n",
              "      <td>0.454200</td>\n",
              "    </tr>\n",
              "    <tr>\n",
              "      <td>20000</td>\n",
              "      <td>0.444500</td>\n",
              "    </tr>\n",
              "    <tr>\n",
              "      <td>25000</td>\n",
              "      <td>0.444600</td>\n",
              "    </tr>\n",
              "    <tr>\n",
              "      <td>30000</td>\n",
              "      <td>0.434700</td>\n",
              "    </tr>\n",
              "    <tr>\n",
              "      <td>35000</td>\n",
              "      <td>0.414200</td>\n",
              "    </tr>\n",
              "    <tr>\n",
              "      <td>40000</td>\n",
              "      <td>0.406400</td>\n",
              "    </tr>\n",
              "    <tr>\n",
              "      <td>45000</td>\n",
              "      <td>0.400600</td>\n",
              "    </tr>\n",
              "    <tr>\n",
              "      <td>50000</td>\n",
              "      <td>0.396500</td>\n",
              "    </tr>\n",
              "    <tr>\n",
              "      <td>55000</td>\n",
              "      <td>0.396000</td>\n",
              "    </tr>\n",
              "  </tbody>\n",
              "</table><p>"
            ],
            "text/plain": [
              "<IPython.core.display.HTML object>"
            ]
          },
          "metadata": {},
          "output_type": "display_data"
        },
        {
          "data": {
            "text/html": [],
            "text/plain": [
              "<IPython.core.display.HTML object>"
            ]
          },
          "metadata": {},
          "output_type": "display_data"
        },
        {
          "name": "stdout",
          "output_type": "stream",
          "text": [
            "\n",
            "--- Validation Performance ---\n",
            "Accuracy:  0.8149\n",
            "Precision: 0.8318\n",
            "Recall:    0.8654\n",
            "F1 Score:  0.8483\n"
          ]
        },
        {
          "data": {
            "image/png": "[encoded data removed]",
            "text/plain": [
              "<Figure size 640x480 with 2 Axes>"
            ]
          },
          "metadata": {},
          "output_type": "display_data"
        },
        {
          "name": "stdout",
          "output_type": "stream",
          "text": [
            "Final model weights saved to: final_distilbert_sentiment_model.pt\n"
          ]
        }
      ],
      "source": [
        "# Now, we train our model\n",
        "\n",
        "# 1. Train the model (1 epoch, no eval during training for speed)\n",
        "history = BERTtrainer.train()\n",
        "\n",
        "# 2. Evaluate on validation set\n",
        "predictions = BERTtrainer.predict(val_tokenized)\n",
        "y_true = predictions.label_ids\n",
        "y_logits = predictions.predictions\n",
        "y_pred = np.argmax(y_logits, axis=1)\n",
        "y_probs = y_logits[:, 1]  # For ROC curve\n",
        "\n",
        "# 3. Print validation metrics\n",
        "acc = accuracy_score(y_true, y_pred)\n",
        "prec = precision_score(y_true, y_pred)\n",
        "rec = recall_score(y_true, y_pred)\n",
        "f1 = f1_score(y_true, y_pred)\n",
        "\n",
        "print(\"\\n--- Validation Performance ---\")\n",
        "print(f\"Accuracy:  {acc:.4f}\")\n",
        "print(f\"Precision: {prec:.4f}\")\n",
        "print(f\"Recall:    {rec:.4f}\")\n",
        "print(f\"F1 Score:  {f1:.4f}\")\n",
        "\n",
        "# 4. Confusion Matrix (only plot retained for speed)\n",
        "cm = confusion_matrix(y_true, y_pred)\n",
        "ConfusionMatrixDisplay(cm, display_labels=[\"Negative\", \"Positive\"]).plot(cmap=\"Blues\")\n",
        "plt.title(\"Validation Confusion Matrix\")\n",
        "plt.grid(False)\n",
        "plt.show()\n",
        "\n",
        "# 5. Save final model weights only\n",
        "final_model_path = \"final_distilbert_sentiment_model.pt\"\n",
        "torch.save(BERTmodel.state_dict(), final_model_path)\n",
        "print(f\"Final model weights saved to: {final_model_path}\")\n"
      ]
    },
    {
      "cell_type": "code",
      "execution_count": null,
      "id": "21827938-c09d-4fc9-ab90-118c407f2b75",
      "metadata": {
        "id": "21827938-c09d-4fc9-ab90-118c407f2b75"
      },
      "outputs": [],
      "source": []
    },
    {
      "cell_type": "code",
      "execution_count": null,
      "id": "93628e70-834a-4b86-ba5f-cc2e1aec2415",
      "metadata": {
        "id": "93628e70-834a-4b86-ba5f-cc2e1aec2415"
      },
      "outputs": [],
      "source": []
    },
    {
      "cell_type": "code",
      "execution_count": null,
      "id": "1eb100ba-e4cc-4834-80cb-16975a646912",
      "metadata": {
        "id": "1eb100ba-e4cc-4834-80cb-16975a646912"
      },
      "outputs": [],
      "source": []
    },
    {
      "cell_type": "markdown",
      "id": "a8a4741c-4ee7-4cdc-896c-1cde34dd2576",
      "metadata": {
        "id": "a8a4741c-4ee7-4cdc-896c-1cde34dd2576"
      },
      "source": [
        "\n",
        "<div style=\"background-color:#e6f2ff; border-left:8px solid #0059b3; padding:20px; margin:20px 0;\">\n",
        "  <h2 style=\"color:#003366;\"><strong>4.4 Model Comparison and Results Analysis </strong></h2>\n",
        "  <p style=\"color:#333333;\"></p>\n",
        "</div>\n"
      ]
    },
    {
      "cell_type": "markdown",
      "source": [
        "## Model Validation Results and Comparative Analysis for Tweet Sentiment Classification\n",
        "\n",
        "This section presents a detailed evaluation of three models **Logistic Regression**, **LSTM**, and **BERT** trained to classify tweet sentiments as **Negative** or **Positive**. Evaluation is based on confusion matrices, performance metrics, training dynamics, and comparative strengths and weaknesses in the context of tweet sentiment analysis.\n",
        "\n",
        "---\n",
        "\n",
        "### 1. Logistic Regression — Validation Results\n",
        "\n",
        "**Performance Metrics:**\n",
        "- **Accuracy**: 79.22%\n",
        "- **Precision**: 80.04%\n",
        "- **Recall**: 86.93%\n",
        "- **F1 Score**: 83.34%\n",
        "\n",
        "**Confusion Matrix:**\n",
        "\n",
        "|                   | **Predicted Negative** | **Predicted Positive** |\n",
        "|-------------------|------------------------|-------------------------|\n",
        "| **Actual Negative** | 54,639                 | 26,013                  |\n",
        "| **Actual Positive** | 15,678                 | 100,000+                |\n",
        "\n",
        "**Sentiment Analysis Insights:**\n",
        "- Logistic Regression shows solid baseline performance and favors **recall**, which means it's highly sensitive to detecting **positive sentiments** in tweets.\n",
        "- However, the high number of **false positives (26,013)** suggests it struggles to distinguish **genuinely negative tweets**, often misclassifying them as positive.\n",
        "- This behavior may be due to:\n",
        "  - Over-simplification of tweet content and lack of contextual understanding.\n",
        "  - Tweets containing mixed signals (e.g., sarcasm or slang) being interpreted incorrectly.\n",
        "\n",
        "- **Use Case Suitability**:\n",
        "  - Adequate for large-scale monitoring where missing positive sentiment is riskier than mistakenly flagging negative ones (e.g., brand loyalty tracking).\n",
        "  - Not ideal where negative sentiment needs precise monitoring (e.g., social crisis detection).\n",
        "\n",
        "---\n",
        "\n",
        "### 2. LSTM — Validation and Training Results\n",
        "\n",
        "**Performance Metrics:**\n",
        "- **Accuracy**: 81.17%\n",
        "- **Precision**: 81.51%\n",
        "- **Recall**: 88.60%\n",
        "- **F1 Score**: 84.91%\n",
        "\n",
        "**Confusion Matrix:**\n",
        "\n",
        "|                   | **Predicted Negative** | **Predicted Positive** |\n",
        "|-------------------|------------------------|-------------------------|\n",
        "| **Actual Negative** | 56,546                 | 24,106                  |\n",
        "| **Actual Positive** | 13,672                 | 106,290                 |\n",
        "\n",
        "**Training Summary:**\n",
        "- Validation accuracy and loss stabilized around epoch 6, suggesting that’s the best point to stop training.\n",
        "- Model learned rapidly early on, but overfitting started appearing after epoch 6.\n",
        "\n",
        "**Sentiment Analysis Insights:**\n",
        "- The LSTM model is especially well-suited for sentiment classification on tweets due to its ability to model **sequence dependencies**.\n",
        "- Tweets often contain **non-standard grammar**, **emojis**, and **elongations** (e.g., \"soooo goood\"), which LSTM handles more effectively than a linear model.\n",
        "- Strong performance in **both recall and precision** implies it can:\n",
        "  - Accurately detect **positive** sentiments.\n",
        "  - Avoid incorrectly labeling **negative tweets** as positive.\n",
        "\n",
        "- **Use Case Suitability**:\n",
        "  - Ideal for real-time sentiment dashboards and public opinion tracking tools.\n",
        "  - Offers a strong balance between catching enthusiastic sentiment and minimizing false optimism.\n",
        "\n",
        "---\n",
        "\n",
        "### 3. BERT — Validation and Training Results\n",
        "\n",
        "**Performance Metrics:**\n",
        "- **Accuracy**: 81.49%\n",
        "- **Precision**: 83.18%\n",
        "- **Recall**: 86.54%\n",
        "- **F1 Score**: 84.83%\n",
        "\n",
        "**Confusion Matrix:**\n",
        "\n",
        "|                   | **Predicted Negative** | **Predicted Positive** |\n",
        "|-------------------|------------------------|-------------------------|\n",
        "| **Actual Negative** | ~60,000                | 20,991                  |\n",
        "| **Actual Positive** | 16,150                 | 100,000+                |\n",
        "\n",
        "**Training Summary:**\n",
        "- Training loss dropped smoothly from 0.4557 → 0.3960 over 55,000 steps.\n",
        "- Stable and consistent learning curve, reflecting effective pretraining and fine-tuning.\n",
        "\n",
        "**Sentiment Analysis Insights:**\n",
        "- BERT outperforms all models in **precision**, meaning it is highly accurate in identifying **positive sentiment** when it makes that prediction.\n",
        "- This is crucial for tweets where subtle context (e.g., sarcasm, negation, idioms) makes sentiment ambiguous.\n",
        "- The slightly lower recall (compared to LSTM) indicates BERT may miss some **less explicit** positive tweets, possibly those that use slang or non-standard formatting unseen during fine-tuning.\n",
        "\n",
        "- **Use Case Suitability**:\n",
        "  - Excellent for **automated sentiment scoring**, content moderation, or **flagging key influencer reactions**.\n",
        "  - Especially beneficial when **false positives** (mistakenly labeling negativity as positivity) are more damaging (e.g., in reputation management or crisis alerts).\n",
        "\n",
        "---\n",
        "\n",
        "### 4. Comparative Model Analysis and Recommendations\n",
        "\n",
        "| **Metric**          | **Logistic Regression** | **LSTM**           | **BERT**           |\n",
        "|---------------------|--------------------------|--------------------|--------------------|\n",
        "| Accuracy            | 79.22%                   | 81.17%             | **81.49%**         |\n",
        "| Precision (Positive)| 80.04%                   | 81.51%             | **83.18%**         |\n",
        "| Recall (Positive)   | 86.93%                   | **88.60%**         | 86.54%             |\n",
        "| F1 Score            | 83.34%                   | **84.91%**         | 84.83%             |\n",
        "| False Positives     | 26,013                   | 24,106             | **20,991**         |\n",
        "| False Negatives     | 15,678                   | **13,672**         | 16,150             |\n",
        "\n",
        "**Overall Insights:**\n",
        "- **Logistic Regression** remains a decent choice for high-volume, low-compute environments, where identifying most of the **positive sentiments** is more critical than precision.\n",
        "- **LSTM** is the most **balanced** model, particularly effective at picking up **positive sentiment** while minimizing false detections. Its sequential modeling helps handle emotive expressions common in tweets.\n",
        "- **BERT** offers the best **precision**, indicating it’s the most confident and contextually aware when assigning **positive sentiment**, but it may miss tweets that use creative or ambiguous language."
      ],
      "metadata": {
        "id": "FOTd56MrOLlh"
      },
      "id": "FOTd56MrOLlh"
    },
    {
      "cell_type": "markdown",
      "source": [
        "\n",
        "<div style=\"background-color:#e6f2ff; border-left:8px solid #0059b3; padding:20px; margin:20px 0;\">\n",
        "  <h2 style=\"color:#003366;\"><strong>4.5 Next Steps for Model Evaluation and Selection </strong></h2>\n",
        "  <p style=\"color:#333333;\"></p>\n",
        "</div>\n"
      ],
      "metadata": {
        "id": "ZukGRi5gXirg"
      },
      "id": "ZukGRi5gXirg"
    },
    {
      "cell_type": "markdown",
      "source": [
        "## Next Steps: Model Evaluation and Selection Plan\n",
        "\n",
        "To ensure a rigorous and unbiased model selection process for tweet sentiment classification, we will follow a structured approach that distinctly separates **model selection**, **training**, and **testing** phases. This separation ensures that each decision is grounded in fair comparison and sound generalization principles.\n",
        "\n",
        "---\n",
        "\n",
        "### 1. **Evaluate All Models Using ROC-AUC**\n",
        "- For each of the three models (Logistic Regression, LSTM, BERT), compute the **ROC-AUC score** on the validation set.\n",
        "- ROC-AUC is selected because it provides a balanced view of model discrimination capability between positive and negative tweet sentiments.\n",
        "\n",
        "---\n",
        "\n",
        "### 2. **Perform Manual Inference Checks**\n",
        "- Each model will be tested on two simple handcrafted examples:\n",
        "  - **Positive Sentiment**: `\"Wow this is amazing\"`\n",
        "  - **Negative Sentiment**: `\"This is bad\"`\n",
        "- These checks offer qualitative insights into whether the models capture basic sentiment signals and respond logically to inputs.\n",
        "\n",
        "---\n",
        "\n",
        "### 3. **Select the Best Performing Model**\n",
        "- The model achieving the **highest ROC-AUC** on the validation set and passing the manual inference check will be selected as the **final candidate model**.\n",
        "- This process constitutes **hypothesis class selection**, where validation data is used to evaluate which model architecture generalizes best.\n",
        "\n",
        "---\n",
        "\n",
        "### 4. **Retrain the Final Model on Full Training + Validation Data**\n",
        "- Once the best model architecture is selected, we **retrain the model from scratch** on a combined dataset consisting of both the original **training** and **validation** sets.\n",
        "- This step maximizes the data available for learning while **preserving the independence of the test set**.\n",
        "\n",
        "---\n",
        "\n",
        "### 5. **Final Evaluation on Test Set**\n",
        "- Evaluate the retrained final model on the **held-out test set**, using:\n",
        "  - Accuracy\n",
        "  - Precision\n",
        "  - Recall\n",
        "  - F1 Score\n",
        "  - ROC-AUC\n",
        "  - Confusion Matrix\n",
        "- This test set has **never been used in training or validation**, making it a **clean estimate** of real-world generalization.\n",
        "\n",
        "---\n",
        "\n",
        "### Rationale: Bias Mitigation Through Proper Data Segmentation\n",
        "\n",
        "- **Bias is mitigated** by using the **validation set for model/hypothesis selection**, and **excluding the test set** from any decision-making or parameter tuning.\n",
        "- **Data leakage is avoided** because the final test set remains untouched until the very end, and no information from it influences model architecture or hyperparameters.\n",
        "- This separation ensures the **final test performance is an honest estimate** of how the selected model would perform in production or on unseen tweet sentiment data.\n",
        "\n",
        "---\n",
        "\n",
        "*By following this plan, we preserve the scientific integrity of model evaluation, reduce selection bias, and establish a fair, reproducible framework for comparing and deploying tweet sentiment classifiers.*\n"
      ],
      "metadata": {
        "id": "fLpTsYW6YgSg"
      },
      "id": "fLpTsYW6YgSg"
    },
    {
      "cell_type": "code",
      "execution_count": null,
      "id": "2aebebeb-b375-444f-819d-8533ddab8b94",
      "metadata": {
        "id": "2aebebeb-b375-444f-819d-8533ddab8b94"
      },
      "outputs": [],
      "source": []
    },
    {
      "cell_type": "code",
      "execution_count": null,
      "id": "4b3f91c4-a95f-4f73-bcb6-90cf39f812ac",
      "metadata": {
        "id": "4b3f91c4-a95f-4f73-bcb6-90cf39f812ac",
        "jupyter": {
          "source_hidden": true
        }
      },
      "outputs": [],
      "source": []
    },
    {
      "cell_type": "code",
      "execution_count": null,
      "id": "298bcfc6-2aca-42a1-9c0c-3ed858a9dfd3",
      "metadata": {
        "id": "298bcfc6-2aca-42a1-9c0c-3ed858a9dfd3"
      },
      "outputs": [],
      "source": []
    }
  ],
  "metadata": {
    "colab": {
      "provenance": [],
      "include_colab_link": true
    },
    "kernelspec": {
      "display_name": "Python 3 (ipykernel)",
      "language": "python",
      "name": "python3"
    },
    "language_info": {
      "codemirror_mode": {
        "name": "ipython",
        "version": 3
      },
      "file_extension": ".py",
      "mimetype": "text/x-python",
      "name": "python",
      "nbconvert_exporter": "python",
      "pygments_lexer": "ipython3",
      "version": "3.12.4"
    }
  },
  "nbformat": 4,
  "nbformat_minor": 5
}